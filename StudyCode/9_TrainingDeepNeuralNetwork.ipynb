{
 "cells": [
  {
   "cell_type": "code",
   "execution_count": 1,
   "id": "cec588b0-d23c-4ec3-8662-a0f5eaa54dab",
   "metadata": {},
   "outputs": [],
   "source": [
    "import warnings\n",
    "warnings.filterwarnings(action='ignore')"
   ]
  },
  {
   "cell_type": "code",
   "execution_count": 2,
   "id": "ec03af0a-fd9f-4e33-a963-f11c89d64d1f",
   "metadata": {},
   "outputs": [],
   "source": [
    "import sklearn\n",
    "\n",
    "import tensorflow as tf\n",
    "from tensorflow import keras\n",
    "\n",
    "import numpy as np\n",
    "import os\n",
    "\n",
    "np.random.seed(42)\n",
    "\n",
    "%matplotlib inline\n",
    "import matplotlib as mpl\n",
    "import matplotlib.pyplot as plt\n",
    "mpl.rc('axes', labelsize=14)\n",
    "mpl.rc('xtick', labelsize=12)\n",
    "mpl.rc('ytick', labelsize=12)"
   ]
  },
  {
   "cell_type": "markdown",
   "id": "5ef8a066-eed7-4f8a-b441-61d30ec766ff",
   "metadata": {},
   "source": [
    "# 핸즈온 머신러닝 2판 - Chapter 11 심층 신경망 훈련하기"
   ]
  },
  {
   "cell_type": "markdown",
   "id": "bbd4af18-d02c-4865-94e4-5c29bb282bf9",
   "metadata": {},
   "source": [
    "## 11.1 그레이디언트 소실과 폭주 문제"
   ]
  },
  {
   "cell_type": "markdown",
   "id": "b0d8d899-75a9-4319-b14d-6dfd79597820",
   "metadata": {},
   "source": [
    "### 11.1.1 글러럿과 He초기화"
   ]
  },
  {
   "cell_type": "code",
   "execution_count": 3,
   "id": "f2223078-5084-4af1-9558-d4f2e2371bd6",
   "metadata": {},
   "outputs": [
    {
     "data": {
      "text/plain": [
       "<tensorflow.python.keras.layers.core.Dense at 0x1b9ce9e4190>"
      ]
     },
     "execution_count": 3,
     "metadata": {},
     "output_type": "execute_result"
    }
   ],
   "source": [
    "#케라스는 기본적으로 균등분포의 글로럿 초기화 사용\n",
    "#kernel_initializer = \"he_uniform\" / kernel_initializer = \"he_normal\"로 바꾸어 He 초기호 사용\n",
    "keras.layers.Dense(10, activation=\"relu\", kernel_initializer = \"he_normal\")"
   ]
  },
  {
   "cell_type": "code",
   "execution_count": 4,
   "id": "206adf1f-c7dd-467d-a828-8e953d6e43d6",
   "metadata": {},
   "outputs": [
    {
     "data": {
      "text/plain": [
       "<tensorflow.python.keras.layers.core.Dense at 0x1b9b8bda490>"
      ]
     },
     "execution_count": 4,
     "metadata": {},
     "output_type": "execute_result"
    }
   ],
   "source": [
    "#fan_in 대신 fan_out 기반의 균등분포 He 초기화\n",
    "he_avg_init = keras.initializers.VarianceScaling(scale = 2., mode = 'fan_avg', distribution = 'uniform')\n",
    "keras.layers.Dense(10, activation = \"sigmoid\", kernel_initializer = he_avg_init)"
   ]
  },
  {
   "cell_type": "markdown",
   "id": "5f231fe1-8beb-4dd2-be37-c3f644101884",
   "metadata": {},
   "source": [
    "### 11.1.2 수렴하지 않는 활성화 함수"
   ]
  },
  {
   "cell_type": "markdown",
   "id": "7a433aca-9e9f-4d56-932c-b402f57b1ec2",
   "metadata": {},
   "source": [
    "LeakyReLU 사용하기"
   ]
  },
  {
   "cell_type": "code",
   "execution_count": 5,
   "id": "93302fdb-d320-44e4-a5d6-0eb2127514eb",
   "metadata": {},
   "outputs": [],
   "source": [
    "def leaky_relu(z, alpha = 0.01):\n",
    "    return np.maximum(alpha * z, z)"
   ]
  },
  {
   "cell_type": "code",
   "execution_count": 6,
   "id": "750f0e45-a210-41a0-9970-140d54fc7c8e",
   "metadata": {},
   "outputs": [
    {
     "name": "stdout",
     "output_type": "stream",
     "text": [
      "Downloading data from https://storage.googleapis.com/tensorflow/tf-keras-datasets/t10k-labels-idx1-ubyte.gz\n",
      "8192/5148 [===============================================] - 0s 0us/step\n",
      "Downloading data from https://storage.googleapis.com/tensorflow/tf-keras-datasets/t10k-images-idx3-ubyte.gz\n",
      "4423680/4422102 [==============================] - 0s 0us/step\n"
     ]
    }
   ],
   "source": [
    "#LeakyReLU를 사용해 패션MNIST에서 신경망 훈련\n",
    "(X_train_full, y_train_full), (X_test, y_test) = keras.datasets.fashion_mnist.load_data()\n",
    "X_train_full = X_train_full / 255.0\n",
    "X_test = X_test / 255.0\n",
    "X_valid, X_train = X_train_full[:5000], X_train_full[5000:]\n",
    "y_valid, y_train = y_train_full[:5000], y_train_full[5000:]"
   ]
  },
  {
   "cell_type": "code",
   "execution_count": 7,
   "id": "fd2a0697-bd02-4d50-b20c-01828ae3a78e",
   "metadata": {},
   "outputs": [],
   "source": [
    "tf.random.set_seed(42)\n",
    "np.random.seed(42)\n",
    "\n",
    "model = keras.models.Sequential([\n",
    "    keras.layers.Flatten(input_shape=[28, 28]),\n",
    "    keras.layers.Dense(300, kernel_initializer=\"he_normal\"),\n",
    "    keras.layers.LeakyReLU(),\n",
    "    keras.layers.Dense(100, kernel_initializer=\"he_normal\"),\n",
    "    keras.layers.LeakyReLU(),\n",
    "    keras.layers.Dense(10, activation=\"softmax\")\n",
    "])"
   ]
  },
  {
   "cell_type": "code",
   "execution_count": 8,
   "id": "e2ae08f8-0f96-4bfc-8cb1-85ea4b3b4e93",
   "metadata": {},
   "outputs": [
    {
     "name": "stdout",
     "output_type": "stream",
     "text": [
      "Epoch 1/10\n",
      "1719/1719 [==============================] - 4s 2ms/step - loss: 1.2819 - accuracy: 0.6229 - val_loss: 0.8886 - val_accuracy: 0.7158\n",
      "Epoch 2/10\n",
      "1719/1719 [==============================] - 3s 2ms/step - loss: 0.7955 - accuracy: 0.7362 - val_loss: 0.7130 - val_accuracy: 0.7658\n",
      "Epoch 3/10\n",
      "1719/1719 [==============================] - 3s 2ms/step - loss: 0.6816 - accuracy: 0.7720 - val_loss: 0.6427 - val_accuracy: 0.7894\n",
      "Epoch 4/10\n",
      "1719/1719 [==============================] - 3s 2ms/step - loss: 0.6217 - accuracy: 0.7944 - val_loss: 0.5900 - val_accuracy: 0.8064\n",
      "Epoch 5/10\n",
      "1719/1719 [==============================] - 3s 2ms/step - loss: 0.5832 - accuracy: 0.8074 - val_loss: 0.5582 - val_accuracy: 0.8202\n",
      "Epoch 6/10\n",
      "1719/1719 [==============================] - 3s 2ms/step - loss: 0.5553 - accuracy: 0.8157 - val_loss: 0.5350 - val_accuracy: 0.8238\n",
      "Epoch 7/10\n",
      "1719/1719 [==============================] - 3s 2ms/step - loss: 0.5338 - accuracy: 0.8224 - val_loss: 0.5157 - val_accuracy: 0.8304\n",
      "Epoch 8/10\n",
      "1719/1719 [==============================] - 3s 2ms/step - loss: 0.5172 - accuracy: 0.8272 - val_loss: 0.5078 - val_accuracy: 0.8284\n",
      "Epoch 9/10\n",
      "1719/1719 [==============================] - 3s 2ms/step - loss: 0.5040 - accuracy: 0.8289 - val_loss: 0.4895 - val_accuracy: 0.8386\n",
      "Epoch 10/10\n",
      "1719/1719 [==============================] - 3s 2ms/step - loss: 0.4924 - accuracy: 0.8321 - val_loss: 0.4817 - val_accuracy: 0.8398\n"
     ]
    }
   ],
   "source": [
    "model.compile(loss=\"sparse_categorical_crossentropy\",\n",
    "              optimizer=keras.optimizers.SGD(lr=1e-3),\n",
    "              metrics=[\"accuracy\"])\n",
    "\n",
    "history = model.fit(X_train, y_train, epochs=10,\n",
    "                    validation_data=(X_valid, y_valid))"
   ]
  },
  {
   "cell_type": "markdown",
   "id": "2a319829-2183-4333-9880-63f2327ec5cf",
   "metadata": {},
   "source": [
    "PReLU 사용하기"
   ]
  },
  {
   "cell_type": "code",
   "execution_count": 9,
   "id": "58b60afe-ccb5-4190-8f77-9adf6d019f0a",
   "metadata": {},
   "outputs": [],
   "source": [
    "model = keras.models.Sequential([\n",
    "    keras.layers.Flatten(input_shape=[28, 28]),\n",
    "    keras.layers.Dense(300, kernel_initializer=\"he_normal\"),\n",
    "    keras.layers.PReLU(),\n",
    "    keras.layers.Dense(100, kernel_initializer=\"he_normal\"),\n",
    "    keras.layers.PReLU(),\n",
    "    keras.layers.Dense(10, activation=\"softmax\")\n",
    "])"
   ]
  },
  {
   "cell_type": "code",
   "execution_count": 10,
   "id": "5d8b71cf-ff20-4892-bce2-5684e244f956",
   "metadata": {},
   "outputs": [
    {
     "name": "stdout",
     "output_type": "stream",
     "text": [
      "Epoch 1/10\n",
      "1719/1719 [==============================] - 5s 2ms/step - loss: 1.3337 - accuracy: 0.6140 - val_loss: 0.8952 - val_accuracy: 0.7192\n",
      "Epoch 2/10\n",
      "1719/1719 [==============================] - 4s 2ms/step - loss: 0.8048 - accuracy: 0.7414 - val_loss: 0.7103 - val_accuracy: 0.7742\n",
      "Epoch 3/10\n",
      "1719/1719 [==============================] - 4s 2ms/step - loss: 0.6849 - accuracy: 0.7771 - val_loss: 0.6404 - val_accuracy: 0.7962\n",
      "Epoch 4/10\n",
      "1719/1719 [==============================] - 4s 2ms/step - loss: 0.6237 - accuracy: 0.7941 - val_loss: 0.5859 - val_accuracy: 0.8126\n",
      "Epoch 5/10\n",
      "1719/1719 [==============================] - 4s 2ms/step - loss: 0.5846 - accuracy: 0.8073 - val_loss: 0.5542 - val_accuracy: 0.8192\n",
      "Epoch 6/10\n",
      "1719/1719 [==============================] - 4s 2ms/step - loss: 0.5566 - accuracy: 0.8147 - val_loss: 0.5315 - val_accuracy: 0.8248\n",
      "Epoch 7/10\n",
      "1719/1719 [==============================] - 4s 2ms/step - loss: 0.5352 - accuracy: 0.8205 - val_loss: 0.5122 - val_accuracy: 0.8318\n",
      "Epoch 8/10\n",
      "1719/1719 [==============================] - 4s 2ms/step - loss: 0.5185 - accuracy: 0.8246 - val_loss: 0.5043 - val_accuracy: 0.8346\n",
      "Epoch 9/10\n",
      "1719/1719 [==============================] - 4s 2ms/step - loss: 0.5051 - accuracy: 0.8283 - val_loss: 0.4869 - val_accuracy: 0.8400\n",
      "Epoch 10/10\n",
      "1719/1719 [==============================] - 4s 2ms/step - loss: 0.4934 - accuracy: 0.8315 - val_loss: 0.4791 - val_accuracy: 0.8408\n"
     ]
    }
   ],
   "source": [
    "\n",
    "model.compile(loss=\"sparse_categorical_crossentropy\",\n",
    "              optimizer=keras.optimizers.SGD(lr=1e-3),\n",
    "              metrics=[\"accuracy\"])\n",
    "\n",
    "history = model.fit(X_train, y_train, epochs=10,\n",
    "                    validation_data=(X_valid, y_valid))"
   ]
  },
  {
   "cell_type": "markdown",
   "id": "639b1098-dfe3-4704-8c7a-f36d929a3692",
   "metadata": {},
   "source": [
    "SELU 사용하기"
   ]
  },
  {
   "cell_type": "code",
   "execution_count": 11,
   "id": "107ef1dd-21d3-4fbe-8b0c-baaf4a4321aa",
   "metadata": {},
   "outputs": [],
   "source": [
    "model = keras.models.Sequential()\n",
    "model.add(keras.layers.Flatten(input_shape=[28, 28]))\n",
    "model.add(keras.layers.Dense(300, activation=\"selu\",\n",
    "                             kernel_initializer=\"lecun_normal\"))\n",
    "for layer in range(99):\n",
    "    model.add(keras.layers.Dense(100, activation=\"selu\",\n",
    "                                 kernel_initializer=\"lecun_normal\"))\n",
    "model.add(keras.layers.Dense(10, activation=\"softmax\"))"
   ]
  },
  {
   "cell_type": "code",
   "execution_count": 12,
   "id": "94dc36eb-6f07-42f0-a8be-939eb123d77e",
   "metadata": {},
   "outputs": [],
   "source": [
    "model.compile(loss=\"sparse_categorical_crossentropy\",\n",
    "              optimizer=keras.optimizers.SGD(lr=1e-3),\n",
    "              metrics=[\"accuracy\"])"
   ]
  },
  {
   "cell_type": "code",
   "execution_count": 13,
   "id": "f113c6dd-6c1b-4282-8f60-1ec2d03af80a",
   "metadata": {},
   "outputs": [],
   "source": [
    "pixel_means = X_train.mean(axis=0, keepdims=True)\n",
    "pixel_stds = X_train.std(axis=0, keepdims=True)\n",
    "X_train_scaled = (X_train - pixel_means) / pixel_stds\n",
    "X_valid_scaled = (X_valid - pixel_means) / pixel_stds\n",
    "X_test_scaled = (X_test - pixel_means) / pixel_stds"
   ]
  },
  {
   "cell_type": "code",
   "execution_count": 14,
   "id": "d41ec578-14e9-42ea-8d18-d14a6e6599cf",
   "metadata": {},
   "outputs": [
    {
     "name": "stdout",
     "output_type": "stream",
     "text": [
      "Epoch 1/5\n",
      "1719/1719 [==============================] - 43s 24ms/step - loss: 1.1267 - accuracy: 0.5594 - val_loss: 0.8157 - val_accuracy: 0.6948\n",
      "Epoch 2/5\n",
      "1719/1719 [==============================] - 41s 24ms/step - loss: 0.6767 - accuracy: 0.7598 - val_loss: 0.5977 - val_accuracy: 0.8002\n",
      "Epoch 3/5\n",
      "1719/1719 [==============================] - 40s 23ms/step - loss: 0.5669 - accuracy: 0.8057 - val_loss: 0.5664 - val_accuracy: 0.8104\n",
      "Epoch 4/5\n",
      "1719/1719 [==============================] - 41s 24ms/step - loss: 0.5443 - accuracy: 0.8142 - val_loss: 0.5067 - val_accuracy: 0.8294\n",
      "Epoch 5/5\n",
      "1719/1719 [==============================] - 41s 24ms/step - loss: 0.4922 - accuracy: 0.8314 - val_loss: 0.5382 - val_accuracy: 0.8138\n"
     ]
    }
   ],
   "source": [
    "history = model.fit(X_train_scaled, y_train, epochs=5,\n",
    "                    validation_data=(X_valid_scaled, y_valid))"
   ]
  },
  {
   "cell_type": "markdown",
   "id": "654b9cc7-f86e-44f8-bfe5-524c27daabdd",
   "metadata": {},
   "source": [
    "### 11.1.3 배치 정규화"
   ]
  },
  {
   "cell_type": "markdown",
   "id": "496c8856-f29a-4528-8c13-7b3d08e4da40",
   "metadata": {},
   "source": [
    "케라스로 배치 정규화 구현하기"
   ]
  },
  {
   "cell_type": "code",
   "execution_count": 15,
   "id": "5d8ecf87-2ed4-49c4-b724-6b1af077a421",
   "metadata": {},
   "outputs": [],
   "source": [
    "model = keras.models.Sequential([\n",
    "    keras.layers.Flatten(input_shape=[28, 28]),\n",
    "    keras.layers.BatchNormalization(),\n",
    "    keras.layers.Dense(300, activation=\"relu\"),\n",
    "    keras.layers.BatchNormalization(),\n",
    "    keras.layers.Dense(100, activation=\"relu\"),\n",
    "    keras.layers.BatchNormalization(),\n",
    "    keras.layers.Dense(10, activation=\"softmax\")\n",
    "])"
   ]
  },
  {
   "cell_type": "code",
   "execution_count": 16,
   "id": "e9884eea-2135-4606-b411-adbb95ec9372",
   "metadata": {},
   "outputs": [
    {
     "name": "stdout",
     "output_type": "stream",
     "text": [
      "Model: \"sequential_3\"\n",
      "_________________________________________________________________\n",
      "Layer (type)                 Output Shape              Param #   \n",
      "=================================================================\n",
      "flatten_3 (Flatten)          (None, 784)               0         \n",
      "_________________________________________________________________\n",
      "batch_normalization (BatchNo (None, 784)               3136      \n",
      "_________________________________________________________________\n",
      "dense_109 (Dense)            (None, 300)               235500    \n",
      "_________________________________________________________________\n",
      "batch_normalization_1 (Batch (None, 300)               1200      \n",
      "_________________________________________________________________\n",
      "dense_110 (Dense)            (None, 100)               30100     \n",
      "_________________________________________________________________\n",
      "batch_normalization_2 (Batch (None, 100)               400       \n",
      "_________________________________________________________________\n",
      "dense_111 (Dense)            (None, 10)                1010      \n",
      "=================================================================\n",
      "Total params: 271,346\n",
      "Trainable params: 268,978\n",
      "Non-trainable params: 2,368\n",
      "_________________________________________________________________\n"
     ]
    }
   ],
   "source": [
    "model.summary()"
   ]
  },
  {
   "cell_type": "code",
   "execution_count": 17,
   "id": "98c56c1a-dbd8-4088-96ba-14265fbf7f28",
   "metadata": {},
   "outputs": [
    {
     "data": {
      "text/plain": [
       "[('batch_normalization/gamma:0', True),\n",
       " ('batch_normalization/beta:0', True),\n",
       " ('batch_normalization/moving_mean:0', False),\n",
       " ('batch_normalization/moving_variance:0', False)]"
      ]
     },
     "execution_count": 17,
     "metadata": {},
     "output_type": "execute_result"
    }
   ],
   "source": [
    "#첫 번째 배치 정규화 층의 파라미터 / 두개는 역전파 훈련, 나머지 두개는 훈련 X\n",
    "bn1 = model.layers[1]\n",
    "[(var.name, var.trainable) for var in bn1.variables]"
   ]
  },
  {
   "cell_type": "code",
   "execution_count": 18,
   "id": "64f3d618-4a35-44ba-9b5b-d9f93c004324",
   "metadata": {},
   "outputs": [
    {
     "data": {
      "text/plain": [
       "[]"
      ]
     },
     "execution_count": 18,
     "metadata": {},
     "output_type": "execute_result"
    }
   ],
   "source": [
    "#이동 평균을 업데이트\n",
    "bn1.updates"
   ]
  },
  {
   "cell_type": "code",
   "execution_count": 19,
   "id": "f73ece73-cfb6-443d-8150-ea5e789c3c29",
   "metadata": {},
   "outputs": [
    {
     "name": "stdout",
     "output_type": "stream",
     "text": [
      "Epoch 1/10\n",
      "1719/1719 [==============================] - 8s 4ms/step - loss: 0.8712 - accuracy: 0.7120 - val_loss: 0.5656 - val_accuracy: 0.8088\n",
      "Epoch 2/10\n",
      "1719/1719 [==============================] - 7s 4ms/step - loss: 0.5846 - accuracy: 0.7995 - val_loss: 0.4785 - val_accuracy: 0.8406\n",
      "Epoch 3/10\n",
      "1719/1719 [==============================] - 7s 4ms/step - loss: 0.5255 - accuracy: 0.8182 - val_loss: 0.4414 - val_accuracy: 0.8518\n",
      "Epoch 4/10\n",
      "1719/1719 [==============================] - 7s 4ms/step - loss: 0.4875 - accuracy: 0.8287 - val_loss: 0.4183 - val_accuracy: 0.8606\n",
      "Epoch 5/10\n",
      "1719/1719 [==============================] - 7s 4ms/step - loss: 0.4608 - accuracy: 0.8381 - val_loss: 0.4017 - val_accuracy: 0.8656\n",
      "Epoch 6/10\n",
      "1719/1719 [==============================] - 7s 4ms/step - loss: 0.4433 - accuracy: 0.8451 - val_loss: 0.3895 - val_accuracy: 0.8676\n",
      "Epoch 7/10\n",
      "1719/1719 [==============================] - 7s 4ms/step - loss: 0.4292 - accuracy: 0.8495 - val_loss: 0.3795 - val_accuracy: 0.8690\n",
      "Epoch 8/10\n",
      "1719/1719 [==============================] - 7s 4ms/step - loss: 0.4172 - accuracy: 0.8540 - val_loss: 0.3740 - val_accuracy: 0.8702\n",
      "Epoch 9/10\n",
      "1719/1719 [==============================] - 7s 4ms/step - loss: 0.4063 - accuracy: 0.8576 - val_loss: 0.3658 - val_accuracy: 0.8736\n",
      "Epoch 10/10\n",
      "1719/1719 [==============================] - 7s 4ms/step - loss: 0.3946 - accuracy: 0.8619 - val_loss: 0.3593 - val_accuracy: 0.8754\n"
     ]
    }
   ],
   "source": [
    "model.compile(loss=\"sparse_categorical_crossentropy\",\n",
    "              optimizer=keras.optimizers.SGD(lr=1e-3),\n",
    "              metrics=[\"accuracy\"])\n",
    "\n",
    "history = model.fit(X_train, y_train, epochs=10,\n",
    "                    validation_data=(X_valid, y_valid))"
   ]
  },
  {
   "cell_type": "code",
   "execution_count": 20,
   "id": "44a0ee56-88b3-4f64-b8fa-b6e65f609ad8",
   "metadata": {},
   "outputs": [],
   "source": [
    "# 활성화 함수전에 BN을 적용해도 잘 동작합니다.\n",
    "#또한 BatchNormalization 층 이전의 층은 편향을 위한 항이 필요 없습니다.\n",
    "#BatchNormalization 층이 이를 무효화하기 때문입니다. \n",
    "#따라서 필요 없는 파라미터이므로 use_bias=False를 지정하여 층을 만들 수 있습니다:\n",
    "model = keras.models.Sequential([\n",
    "    keras.layers.Flatten(input_shape=[28, 28]),\n",
    "    keras.layers.BatchNormalization(),\n",
    "    keras.layers.Dense(300, use_bias=False),\n",
    "    keras.layers.BatchNormalization(),\n",
    "    keras.layers.Activation(\"relu\"),\n",
    "    keras.layers.Dense(100, use_bias=False),\n",
    "    keras.layers.BatchNormalization(),\n",
    "    keras.layers.Activation(\"relu\"),\n",
    "    keras.layers.Dense(10, activation=\"softmax\")\n",
    "])"
   ]
  },
  {
   "cell_type": "code",
   "execution_count": 21,
   "id": "30b508f0-8043-45fe-ae3f-d0615145a63c",
   "metadata": {},
   "outputs": [
    {
     "name": "stdout",
     "output_type": "stream",
     "text": [
      "Epoch 1/10\n",
      "1719/1719 [==============================] - 7s 4ms/step - loss: 1.0346 - accuracy: 0.6823 - val_loss: 0.6709 - val_accuracy: 0.7914\n",
      "Epoch 2/10\n",
      "1719/1719 [==============================] - 7s 4ms/step - loss: 0.6714 - accuracy: 0.7843 - val_loss: 0.5485 - val_accuracy: 0.8186\n",
      "Epoch 3/10\n",
      "1719/1719 [==============================] - 7s 4ms/step - loss: 0.5900 - accuracy: 0.8046 - val_loss: 0.4936 - val_accuracy: 0.8324\n",
      "Epoch 4/10\n",
      "1719/1719 [==============================] - 7s 4ms/step - loss: 0.5395 - accuracy: 0.8184 - val_loss: 0.4611 - val_accuracy: 0.8438\n",
      "Epoch 5/10\n",
      "1719/1719 [==============================] - 7s 4ms/step - loss: 0.5065 - accuracy: 0.8273 - val_loss: 0.4381 - val_accuracy: 0.8498\n",
      "Epoch 6/10\n",
      "1719/1719 [==============================] - 7s 4ms/step - loss: 0.4853 - accuracy: 0.8332 - val_loss: 0.4212 - val_accuracy: 0.8556\n",
      "Epoch 7/10\n",
      "1719/1719 [==============================] - 7s 4ms/step - loss: 0.4696 - accuracy: 0.8388 - val_loss: 0.4085 - val_accuracy: 0.8588\n",
      "Epoch 8/10\n",
      "1719/1719 [==============================] - 7s 4ms/step - loss: 0.4550 - accuracy: 0.8421 - val_loss: 0.3981 - val_accuracy: 0.8634\n",
      "Epoch 9/10\n",
      "1719/1719 [==============================] - 7s 4ms/step - loss: 0.4413 - accuracy: 0.8478 - val_loss: 0.3894 - val_accuracy: 0.8646\n",
      "Epoch 10/10\n",
      "1719/1719 [==============================] - 7s 4ms/step - loss: 0.4309 - accuracy: 0.8514 - val_loss: 0.3807 - val_accuracy: 0.8656\n"
     ]
    }
   ],
   "source": [
    "model.compile(loss=\"sparse_categorical_crossentropy\",\n",
    "              optimizer=keras.optimizers.SGD(lr=1e-3),\n",
    "              metrics=[\"accuracy\"])\n",
    "\n",
    "history = model.fit(X_train, y_train, epochs=10,\n",
    "                    validation_data=(X_valid, y_valid))"
   ]
  },
  {
   "cell_type": "markdown",
   "id": "5ece6e79-b305-4c60-8156-1fda2f6076c6",
   "metadata": {},
   "source": [
    "### 11.1.4 그레이디언트 클리핑"
   ]
  },
  {
   "cell_type": "code",
   "execution_count": 22,
   "id": "06a6f837-bdc2-44f6-98e6-081b61414f1e",
   "metadata": {},
   "outputs": [],
   "source": [
    "#케라스에서 옵티마이저를 만들 때 clipvalue와 clipnorm 매개변수를 지정\n",
    "optimizer = keras.optimizers.SGD(clipvalue = 1.0)\n",
    "model.compile(loss = \"mse\", optimizer = optimizer)"
   ]
  },
  {
   "cell_type": "markdown",
   "id": "085e48c2-7c1d-4bef-bde1-98918b557722",
   "metadata": {},
   "source": [
    "## 11.2 사전훈련된 층 재사용하기"
   ]
  },
  {
   "cell_type": "markdown",
   "id": "ab959f77-9fd8-4b06-a195-776f11763294",
   "metadata": {},
   "source": [
    "### 11.2.1 케라스를 사용한 전이 학습"
   ]
  },
  {
   "cell_type": "markdown",
   "id": "863fa773-54ae-444c-8897-a7b83f7b3466",
   "metadata": {},
   "source": [
    "* 패션 MNIST 훈련 세트를 두 개로 나누기\n",
    " - X_train_A: 샌달과 셔츠(클래스 5와 6)을 제외한 모든 이미지\n",
    " - X_train_B: 샌달과 셔츠 이미지 중 처음 200개만 가진 작은 훈련 세트\n",
    "\n",
    "* A세트(8개의 클래스를 가진 분류 문제)에서 모델을 훈련하고 이를 재사용하여 B세트(이진 분류)를 해결"
   ]
  },
  {
   "cell_type": "code",
   "execution_count": 23,
   "id": "d921b555-7a69-4e74-a0e3-c3c21602f9f6",
   "metadata": {},
   "outputs": [],
   "source": [
    "def split_dataset(X, y):\n",
    "    y_5_or_6 = (y == 5) | (y == 6) # sandals or shirts\n",
    "    y_A = y[~y_5_or_6]\n",
    "    y_A[y_A > 6] -= 2 # class indices 7, 8, 9 should be moved to 5, 6, 7\n",
    "    y_B = (y[y_5_or_6] == 6).astype(np.float32) # binary classification task: is it a shirt (class 6)?\n",
    "    return ((X[~y_5_or_6], y_A),\n",
    "            (X[y_5_or_6], y_B))\n",
    "\n",
    "(X_train_A, y_train_A), (X_train_B, y_train_B) = split_dataset(X_train, y_train)\n",
    "(X_valid_A, y_valid_A), (X_valid_B, y_valid_B) = split_dataset(X_valid, y_valid)\n",
    "(X_test_A, y_test_A), (X_test_B, y_test_B) = split_dataset(X_test, y_test)\n",
    "X_train_B = X_train_B[:200]\n",
    "y_train_B = y_train_B[:200]"
   ]
  },
  {
   "cell_type": "code",
   "execution_count": 24,
   "id": "119ae488-ae83-4433-b209-8c7d1b8d2674",
   "metadata": {},
   "outputs": [
    {
     "name": "stdout",
     "output_type": "stream",
     "text": [
      "(43986, 28, 28)\n",
      "(200, 28, 28)\n"
     ]
    }
   ],
   "source": [
    "print(X_train_A.shape)\n",
    "print(X_train_B.shape)"
   ]
  },
  {
   "cell_type": "code",
   "execution_count": 25,
   "id": "e2c78772-eaca-4098-a08d-190b530a1001",
   "metadata": {},
   "outputs": [],
   "source": [
    "#model_A 학습\n",
    "model_A = keras.models.Sequential()\n",
    "model_A.add(keras.layers.Flatten(input_shape=[28, 28]))\n",
    "for n_hidden in (300, 100, 50, 50, 50):\n",
    "    model_A.add(keras.layers.Dense(n_hidden, activation=\"selu\"))\n",
    "model_A.add(keras.layers.Dense(8, activation=\"softmax\"))"
   ]
  },
  {
   "cell_type": "code",
   "execution_count": 26,
   "id": "a89c3564-9d88-4ba1-8b11-3911e2fd658b",
   "metadata": {},
   "outputs": [
    {
     "name": "stdout",
     "output_type": "stream",
     "text": [
      "Epoch 1/20\n",
      "1375/1375 [==============================] - 4s 3ms/step - loss: 0.5858 - accuracy: 0.8035 - val_loss: 0.3867 - val_accuracy: 0.8647\n",
      "Epoch 2/20\n",
      "1375/1375 [==============================] - 4s 3ms/step - loss: 0.3580 - accuracy: 0.8761 - val_loss: 0.3242 - val_accuracy: 0.8879\n",
      "Epoch 3/20\n",
      "1375/1375 [==============================] - 3s 3ms/step - loss: 0.3188 - accuracy: 0.8880 - val_loss: 0.2970 - val_accuracy: 0.8979\n",
      "Epoch 4/20\n",
      "1375/1375 [==============================] - 4s 3ms/step - loss: 0.2985 - accuracy: 0.8967 - val_loss: 0.2856 - val_accuracy: 0.9026\n",
      "Epoch 5/20\n",
      "1375/1375 [==============================] - 4s 3ms/step - loss: 0.2853 - accuracy: 0.9018 - val_loss: 0.2772 - val_accuracy: 0.9098\n",
      "Epoch 6/20\n",
      "1375/1375 [==============================] - 4s 3ms/step - loss: 0.2754 - accuracy: 0.9052 - val_loss: 0.2698 - val_accuracy: 0.9081\n",
      "Epoch 7/20\n",
      "1375/1375 [==============================] - 4s 3ms/step - loss: 0.2668 - accuracy: 0.9094 - val_loss: 0.2688 - val_accuracy: 0.9083\n",
      "Epoch 8/20\n",
      "1375/1375 [==============================] - 4s 3ms/step - loss: 0.2601 - accuracy: 0.9113 - val_loss: 0.2597 - val_accuracy: 0.9116\n",
      "Epoch 9/20\n",
      "1375/1375 [==============================] - 4s 3ms/step - loss: 0.2543 - accuracy: 0.9136 - val_loss: 0.2571 - val_accuracy: 0.9118\n",
      "Epoch 10/20\n",
      "1375/1375 [==============================] - 4s 3ms/step - loss: 0.2493 - accuracy: 0.9152 - val_loss: 0.2556 - val_accuracy: 0.9148\n",
      "Epoch 11/20\n",
      "1375/1375 [==============================] - 4s 3ms/step - loss: 0.2447 - accuracy: 0.9168 - val_loss: 0.2474 - val_accuracy: 0.9145\n",
      "Epoch 12/20\n",
      "1375/1375 [==============================] - 3s 3ms/step - loss: 0.2403 - accuracy: 0.9181 - val_loss: 0.2484 - val_accuracy: 0.9143\n",
      "Epoch 13/20\n",
      "1375/1375 [==============================] - 3s 2ms/step - loss: 0.2368 - accuracy: 0.9188 - val_loss: 0.2434 - val_accuracy: 0.9150\n",
      "Epoch 14/20\n",
      "1375/1375 [==============================] - 3s 2ms/step - loss: 0.2332 - accuracy: 0.9193 - val_loss: 0.2410 - val_accuracy: 0.9188\n",
      "Epoch 15/20\n",
      "1375/1375 [==============================] - 3s 2ms/step - loss: 0.2303 - accuracy: 0.9210 - val_loss: 0.2459 - val_accuracy: 0.9145\n",
      "Epoch 16/20\n",
      "1375/1375 [==============================] - 3s 2ms/step - loss: 0.2270 - accuracy: 0.9229 - val_loss: 0.2375 - val_accuracy: 0.9195\n",
      "Epoch 17/20\n",
      "1375/1375 [==============================] - 4s 3ms/step - loss: 0.2242 - accuracy: 0.9230 - val_loss: 0.2425 - val_accuracy: 0.9183\n",
      "Epoch 18/20\n",
      "1375/1375 [==============================] - 4s 3ms/step - loss: 0.2214 - accuracy: 0.9245 - val_loss: 0.2445 - val_accuracy: 0.9160\n",
      "Epoch 19/20\n",
      "1375/1375 [==============================] - 4s 3ms/step - loss: 0.2186 - accuracy: 0.9255 - val_loss: 0.2344 - val_accuracy: 0.9193\n",
      "Epoch 20/20\n",
      "1375/1375 [==============================] - 4s 3ms/step - loss: 0.2164 - accuracy: 0.9256 - val_loss: 0.2355 - val_accuracy: 0.9188\n"
     ]
    }
   ],
   "source": [
    "model_A.compile(loss=\"sparse_categorical_crossentropy\",\n",
    "                optimizer=keras.optimizers.SGD(lr=1e-3),\n",
    "                metrics=[\"accuracy\"])\n",
    "history = model_A.fit(X_train_A, y_train_A, epochs=20,\n",
    "                    validation_data=(X_valid_A, y_valid_A))"
   ]
  },
  {
   "cell_type": "code",
   "execution_count": 27,
   "id": "2096269d-6daa-4f1d-a7f5-a9b94abfe78a",
   "metadata": {},
   "outputs": [],
   "source": [
    "# A모델 저장\n",
    "model_A.save(\"my_model_A.h5\")"
   ]
  },
  {
   "cell_type": "code",
   "execution_count": 28,
   "id": "ba0ea8db-5261-4d77-9e8a-1c37df900372",
   "metadata": {},
   "outputs": [],
   "source": [
    "#model_B 학습\n",
    "model_B = keras.models.Sequential()\n",
    "model_B.add(keras.layers.Flatten(input_shape=[28, 28]))\n",
    "for n_hidden in (300, 100, 50, 50, 50):\n",
    "    model_B.add(keras.layers.Dense(n_hidden, activation=\"selu\"))\n",
    "model_B.add(keras.layers.Dense(1, activation=\"sigmoid\"))"
   ]
  },
  {
   "cell_type": "code",
   "execution_count": 29,
   "id": "59307dbd-6409-4a39-8624-a1894ecdcecd",
   "metadata": {},
   "outputs": [
    {
     "name": "stdout",
     "output_type": "stream",
     "text": [
      "Epoch 1/20\n",
      "7/7 [==============================] - 1s 28ms/step - loss: 0.8231 - accuracy: 0.5600 - val_loss: 0.5737 - val_accuracy: 0.6724\n",
      "Epoch 2/20\n",
      "7/7 [==============================] - 0s 13ms/step - loss: 0.4995 - accuracy: 0.7550 - val_loss: 0.3927 - val_accuracy: 0.8580\n",
      "Epoch 3/20\n",
      "7/7 [==============================] - 0s 13ms/step - loss: 0.3371 - accuracy: 0.9050 - val_loss: 0.3000 - val_accuracy: 0.9158\n",
      "Epoch 4/20\n",
      "7/7 [==============================] - 0s 12ms/step - loss: 0.2509 - accuracy: 0.9800 - val_loss: 0.2469 - val_accuracy: 0.9371\n",
      "Epoch 5/20\n",
      "7/7 [==============================] - 0s 13ms/step - loss: 0.2022 - accuracy: 0.9850 - val_loss: 0.2113 - val_accuracy: 0.9483\n",
      "Epoch 6/20\n",
      "7/7 [==============================] - 0s 13ms/step - loss: 0.1676 - accuracy: 0.9850 - val_loss: 0.1866 - val_accuracy: 0.9594\n",
      "Epoch 7/20\n",
      "7/7 [==============================] - 0s 14ms/step - loss: 0.1444 - accuracy: 0.9900 - val_loss: 0.1708 - val_accuracy: 0.9675\n",
      "Epoch 8/20\n",
      "7/7 [==============================] - 0s 15ms/step - loss: 0.1278 - accuracy: 0.9900 - val_loss: 0.1549 - val_accuracy: 0.9706\n",
      "Epoch 9/20\n",
      "7/7 [==============================] - 0s 15ms/step - loss: 0.1133 - accuracy: 0.9950 - val_loss: 0.1414 - val_accuracy: 0.9706\n",
      "Epoch 10/20\n",
      "7/7 [==============================] - 0s 14ms/step - loss: 0.1019 - accuracy: 0.9950 - val_loss: 0.1326 - val_accuracy: 0.9716\n",
      "Epoch 11/20\n",
      "7/7 [==============================] - 0s 13ms/step - loss: 0.0933 - accuracy: 0.9950 - val_loss: 0.1248 - val_accuracy: 0.9716\n",
      "Epoch 12/20\n",
      "7/7 [==============================] - 0s 13ms/step - loss: 0.0855 - accuracy: 0.9950 - val_loss: 0.1182 - val_accuracy: 0.9726\n",
      "Epoch 13/20\n",
      "7/7 [==============================] - 0s 12ms/step - loss: 0.0791 - accuracy: 0.9950 - val_loss: 0.1120 - val_accuracy: 0.9746\n",
      "Epoch 14/20\n",
      "7/7 [==============================] - 0s 13ms/step - loss: 0.0735 - accuracy: 0.9950 - val_loss: 0.1077 - val_accuracy: 0.9757\n",
      "Epoch 15/20\n",
      "7/7 [==============================] - 0s 13ms/step - loss: 0.0687 - accuracy: 0.9950 - val_loss: 0.1029 - val_accuracy: 0.9777\n",
      "Epoch 16/20\n",
      "7/7 [==============================] - 0s 12ms/step - loss: 0.0649 - accuracy: 0.9950 - val_loss: 0.0990 - val_accuracy: 0.9767\n",
      "Epoch 17/20\n",
      "7/7 [==============================] - 0s 12ms/step - loss: 0.0614 - accuracy: 0.9950 - val_loss: 0.0956 - val_accuracy: 0.9777\n",
      "Epoch 18/20\n",
      "7/7 [==============================] - 0s 12ms/step - loss: 0.0583 - accuracy: 0.9950 - val_loss: 0.0925 - val_accuracy: 0.9777\n",
      "Epoch 19/20\n",
      "7/7 [==============================] - 0s 13ms/step - loss: 0.0554 - accuracy: 0.9950 - val_loss: 0.0899 - val_accuracy: 0.9777\n",
      "Epoch 20/20\n",
      "7/7 [==============================] - 0s 13ms/step - loss: 0.0528 - accuracy: 0.9950 - val_loss: 0.0878 - val_accuracy: 0.9777\n"
     ]
    }
   ],
   "source": [
    "model_B.compile(loss=\"binary_crossentropy\",\n",
    "                optimizer=keras.optimizers.SGD(lr=1e-3),\n",
    "                metrics=[\"accuracy\"])\n",
    "\n",
    "history = model_B.fit(X_train_B, y_train_B, epochs=20,\n",
    "                      validation_data=(X_valid_B, y_valid_B))"
   ]
  },
  {
   "cell_type": "code",
   "execution_count": 30,
   "id": "36250957-06a5-4065-bc56-66abf2750101",
   "metadata": {},
   "outputs": [
    {
     "name": "stdout",
     "output_type": "stream",
     "text": [
      "Model: \"sequential_4\"\n",
      "_________________________________________________________________\n",
      "Layer (type)                 Output Shape              Param #   \n",
      "=================================================================\n",
      "flatten_4 (Flatten)          (None, 784)               0         \n",
      "_________________________________________________________________\n",
      "batch_normalization_3 (Batch (None, 784)               3136      \n",
      "_________________________________________________________________\n",
      "dense_112 (Dense)            (None, 300)               235200    \n",
      "_________________________________________________________________\n",
      "batch_normalization_4 (Batch (None, 300)               1200      \n",
      "_________________________________________________________________\n",
      "activation (Activation)      (None, 300)               0         \n",
      "_________________________________________________________________\n",
      "dense_113 (Dense)            (None, 100)               30000     \n",
      "_________________________________________________________________\n",
      "batch_normalization_5 (Batch (None, 100)               400       \n",
      "_________________________________________________________________\n",
      "activation_1 (Activation)    (None, 100)               0         \n",
      "_________________________________________________________________\n",
      "dense_114 (Dense)            (None, 10)                1010      \n",
      "=================================================================\n",
      "Total params: 270,946\n",
      "Trainable params: 268,578\n",
      "Non-trainable params: 2,368\n",
      "_________________________________________________________________\n"
     ]
    }
   ],
   "source": [
    "model.summary()"
   ]
  },
  {
   "cell_type": "code",
   "execution_count": 32,
   "id": "c63dd407-6bd9-44c6-8ffe-f3289356cde5",
   "metadata": {},
   "outputs": [],
   "source": [
    "#model_A를 로드하고, 이 모델의 층을 기반으로 model_B_on_A를 생성(출력층 제외 모든 층 재사용)\n",
    "model_A = keras.models.load_model(\"my_model_A.h5\")\n",
    "model_B_on_A = keras.models.Sequential(model_A.layers[:-1])\n",
    "model_B_on_A.add(keras.layers.Dense(1, activation = \"sigmoid\"))"
   ]
  },
  {
   "cell_type": "code",
   "execution_count": 33,
   "id": "62e8aeb5-4415-410f-bafc-ff13336c298f",
   "metadata": {},
   "outputs": [],
   "source": [
    "#층울 공유하는 과정에서 원본에 영향을 주지 않기 위해 clone 파일 만들기\n",
    "model_A_clone = keras.models.clone_model(model_A)\n",
    "model_A_clone.set_weights(model_A.get_weights())"
   ]
  },
  {
   "cell_type": "code",
   "execution_count": 34,
   "id": "27b69864-3f88-41ab-a77e-9fc4be765ae9",
   "metadata": {},
   "outputs": [],
   "source": [
    "#처음 몇 번의 에포크 동안 재사용된 층을 동결하고 새로운 층에 적절한 가중치를 학습할 시간 제공\n",
    "#모든 층의 trainable 속성을 False로 지정하고 모델을 컴파일\n",
    "for layer in model_B_on_A.layers[:-1]:\n",
    "    layer.trainable = False\n",
    "\n",
    "model_B_on_A.compile(loss=\"binary_crossentropy\",\n",
    "                     optimizer=keras.optimizers.SGD(lr=1e-3),\n",
    "                     metrics=[\"accuracy\"])"
   ]
  },
  {
   "cell_type": "code",
   "execution_count": 35,
   "id": "b43449d0-22bd-449b-b2af-d42c0df53f7c",
   "metadata": {},
   "outputs": [
    {
     "name": "stdout",
     "output_type": "stream",
     "text": [
      "Epoch 1/4\n",
      "7/7 [==============================] - 0s 27ms/step - loss: 1.0347 - accuracy: 0.3800 - val_loss: 0.9383 - val_accuracy: 0.4229\n",
      "Epoch 2/4\n",
      "7/7 [==============================] - 0s 13ms/step - loss: 0.9351 - accuracy: 0.4500 - val_loss: 0.8548 - val_accuracy: 0.4787\n",
      "Epoch 3/4\n",
      "7/7 [==============================] - 0s 13ms/step - loss: 0.8503 - accuracy: 0.4850 - val_loss: 0.7824 - val_accuracy: 0.5254\n",
      "Epoch 4/4\n",
      "7/7 [==============================] - 0s 12ms/step - loss: 0.7767 - accuracy: 0.5500 - val_loss: 0.7151 - val_accuracy: 0.5791\n",
      "Epoch 1/16\n",
      "7/7 [==============================] - 0s 26ms/step - loss: 0.5953 - accuracy: 0.7100 - val_loss: 0.4336 - val_accuracy: 0.8793\n",
      "Epoch 2/16\n",
      "7/7 [==============================] - 0s 13ms/step - loss: 0.3902 - accuracy: 0.8850 - val_loss: 0.3412 - val_accuracy: 0.9270\n",
      "Epoch 3/16\n",
      "7/7 [==============================] - 0s 13ms/step - loss: 0.3095 - accuracy: 0.9200 - val_loss: 0.2860 - val_accuracy: 0.9442\n",
      "Epoch 4/16\n",
      "7/7 [==============================] - 0s 13ms/step - loss: 0.2597 - accuracy: 0.9400 - val_loss: 0.2469 - val_accuracy: 0.9574\n",
      "Epoch 5/16\n",
      "7/7 [==============================] - 0s 13ms/step - loss: 0.2229 - accuracy: 0.9600 - val_loss: 0.2184 - val_accuracy: 0.9665\n",
      "Epoch 6/16\n",
      "7/7 [==============================] - 0s 13ms/step - loss: 0.1960 - accuracy: 0.9750 - val_loss: 0.1960 - val_accuracy: 0.9696\n",
      "Epoch 7/16\n",
      "7/7 [==============================] - 0s 13ms/step - loss: 0.1748 - accuracy: 0.9750 - val_loss: 0.1790 - val_accuracy: 0.9736\n",
      "Epoch 8/16\n",
      "7/7 [==============================] - 0s 15ms/step - loss: 0.1581 - accuracy: 0.9800 - val_loss: 0.1643 - val_accuracy: 0.9777\n",
      "Epoch 9/16\n",
      "7/7 [==============================] - 0s 15ms/step - loss: 0.1442 - accuracy: 0.9850 - val_loss: 0.1498 - val_accuracy: 0.9807\n",
      "Epoch 10/16\n",
      "7/7 [==============================] - 0s 14ms/step - loss: 0.1310 - accuracy: 0.9850 - val_loss: 0.1396 - val_accuracy: 0.9828\n",
      "Epoch 11/16\n",
      "7/7 [==============================] - 0s 13ms/step - loss: 0.1212 - accuracy: 0.9850 - val_loss: 0.1307 - val_accuracy: 0.9828\n",
      "Epoch 12/16\n",
      "7/7 [==============================] - 0s 14ms/step - loss: 0.1125 - accuracy: 0.9850 - val_loss: 0.1230 - val_accuracy: 0.9838\n",
      "Epoch 13/16\n",
      "7/7 [==============================] - 0s 13ms/step - loss: 0.1051 - accuracy: 0.9900 - val_loss: 0.1162 - val_accuracy: 0.9858\n",
      "Epoch 14/16\n",
      "7/7 [==============================] - 0s 13ms/step - loss: 0.0986 - accuracy: 0.9900 - val_loss: 0.1101 - val_accuracy: 0.9868\n",
      "Epoch 15/16\n",
      "7/7 [==============================] - 0s 12ms/step - loss: 0.0925 - accuracy: 0.9950 - val_loss: 0.1043 - val_accuracy: 0.9868\n",
      "Epoch 16/16\n",
      "7/7 [==============================] - 0s 12ms/step - loss: 0.0872 - accuracy: 0.9950 - val_loss: 0.0999 - val_accuracy: 0.9878\n"
     ]
    }
   ],
   "source": [
    "history = model_B_on_A.fit(X_train_B, y_train_B, epochs=4,\n",
    "                           validation_data=(X_valid_B, y_valid_B))\n",
    "\n",
    "for layer in model_B_on_A.layers[:-1]:\n",
    "    layer.trainable = True\n",
    "\n",
    "model_B_on_A.compile(loss=\"binary_crossentropy\",\n",
    "                     optimizer=keras.optimizers.SGD(lr=1e-3),\n",
    "                     metrics=[\"accuracy\"])\n",
    "history = model_B_on_A.fit(X_train_B, y_train_B, epochs=16,\n",
    "                           validation_data=(X_valid_B, y_valid_B))"
   ]
  },
  {
   "cell_type": "code",
   "execution_count": 36,
   "id": "7e498ff7-eeea-415b-8f8e-c6025c67f2f2",
   "metadata": {},
   "outputs": [
    {
     "name": "stdout",
     "output_type": "stream",
     "text": [
      "63/63 [==============================] - 0s 2ms/step - loss: 0.0899 - accuracy: 0.9800\n"
     ]
    },
    {
     "data": {
      "text/plain": [
       "[0.08990442752838135, 0.9800000190734863]"
      ]
     },
     "execution_count": 36,
     "metadata": {},
     "output_type": "execute_result"
    }
   ],
   "source": [
    "#최종 점수\n",
    "model_B.evaluate(X_test_B, y_test_B)"
   ]
  },
  {
   "cell_type": "code",
   "execution_count": 37,
   "id": "2453405e-57ce-4215-ae41-6afa1c4b1c62",
   "metadata": {},
   "outputs": [
    {
     "name": "stdout",
     "output_type": "stream",
     "text": [
      "63/63 [==============================] - 0s 2ms/step - loss: 0.0979 - accuracy: 0.9900\n"
     ]
    },
    {
     "data": {
      "text/plain": [
       "[0.09790116548538208, 0.9900000095367432]"
      ]
     },
     "execution_count": 37,
     "metadata": {},
     "output_type": "execute_result"
    }
   ],
   "source": [
    "model_B_on_A.evaluate(X_test_B, y_test_B)"
   ]
  },
  {
   "cell_type": "markdown",
   "id": "1bfe5ea0-1f1b-421a-88af-6732bd0e752e",
   "metadata": {},
   "source": [
    "## 11.3 고속 옵티마이저"
   ]
  },
  {
   "cell_type": "markdown",
   "id": "9dce1a03-db7b-49e8-9986-4c0c9037ed13",
   "metadata": {},
   "source": [
    "### 11.3.1 모멘텀 최적화"
   ]
  },
  {
   "cell_type": "code",
   "execution_count": 38,
   "id": "4f448681-e386-44e2-8709-14a43a16a875",
   "metadata": {},
   "outputs": [],
   "source": [
    "# 케라스에서 모멘텀 최적화 구현\n",
    "optimizer = keras.optimizers.SGD(lr = 0.001, momentum = 0.9)"
   ]
  },
  {
   "cell_type": "markdown",
   "id": "5ba3a638-d3ec-4bff-a33d-c87ebfe10566",
   "metadata": {},
   "source": [
    "### 11.3.2 네스테로프 가속 경사"
   ]
  },
  {
   "cell_type": "code",
   "execution_count": 39,
   "id": "773b6e7a-0332-45d8-a6b9-2e62df8bed78",
   "metadata": {},
   "outputs": [],
   "source": [
    "#네스테로프 가속 경사\n",
    "optimizer = keras.optimizers.SGD(lr = 0.001, momentum=0.9, nesterov = True)"
   ]
  },
  {
   "cell_type": "markdown",
   "id": "31aaafc6-16c0-4295-aecb-882261e4d00c",
   "metadata": {},
   "source": [
    "### 11.3.3 AdaGrad"
   ]
  },
  {
   "cell_type": "code",
   "execution_count": 40,
   "id": "5962fcba-93b3-44b9-aaa2-a69bf491db7f",
   "metadata": {},
   "outputs": [],
   "source": [
    "#AdaGrad\n",
    "optimizer = keras.optimizers.Adagrad(lr=0.001)"
   ]
  },
  {
   "cell_type": "markdown",
   "id": "0cc428ba-752a-477b-9e66-3566fd108acc",
   "metadata": {},
   "source": [
    "### 11.3.4 RMSProp"
   ]
  },
  {
   "cell_type": "code",
   "execution_count": 41,
   "id": "13a7cfac-218a-4133-a509-c8b5b49f5a60",
   "metadata": {},
   "outputs": [],
   "source": [
    "#RMSProp 옵티마이저\n",
    "optimizer = keras.optimizers.RMSprop(lr=0.001, rho=0.9)"
   ]
  },
  {
   "cell_type": "markdown",
   "id": "1594fd6e-c2e8-4780-a5cf-6844442f8724",
   "metadata": {},
   "source": [
    "### ﻿11.3.5 Adam과 Nadam 최적화"
   ]
  },
  {
   "cell_type": "code",
   "execution_count": 42,
   "id": "9859bf33-345a-4ac6-909b-e12a1ce8f9e1",
   "metadata": {},
   "outputs": [],
   "source": [
    "#Adam 옵티마이저\n",
    "optimizer = keras.optimizers.Adam(lr=0.001, beta_1=0.9, beta_2=0.999)"
   ]
  },
  {
   "cell_type": "code",
   "execution_count": 43,
   "id": "09dcce44-671d-4625-8d8a-9c21bba970e5",
   "metadata": {},
   "outputs": [],
   "source": [
    "#AdaMax 옵티마이저\n",
    "optimizer = keras.optimizers.Adamax(lr=0.001, beta_1=0.9, beta_2=0.999)\n",
    "#Nadam 옵티마이저\n",
    "optimizer = keras.optimizers.Nadam(lr=0.001, beta_1=0.9, beta_2=0.999)"
   ]
  },
  {
   "cell_type": "markdown",
   "id": "e860ce83-4b75-4b2a-87ef-14b7fc50ab3f",
   "metadata": {},
   "source": [
    "## 11.3.6 학습률 스케줄링"
   ]
  },
  {
   "cell_type": "markdown",
   "id": "87ecf32c-26c1-4a18-b1bd-d31ca1f33efc",
   "metadata": {},
   "source": [
    "* 거듭제곱 기반 스케줄링(Power Scheduling)"
   ]
  },
  {
   "cell_type": "code",
   "execution_count": 44,
   "id": "dc926a73-24dc-4f2c-a10c-e2b711813909",
   "metadata": {},
   "outputs": [],
   "source": [
    "#거듭제곱 기반 스케줄링\n",
    "#lr = lr0 / (1 + steps / s)**c\n",
    "optimizer = keras.optimizers.SGD(lr=0.01, decay=1e-4)\n",
    "\n",
    "model = keras.models.Sequential([\n",
    "    keras.layers.Flatten(input_shape=[28, 28]),\n",
    "    keras.layers.Dense(300, activation=\"selu\", kernel_initializer=\"lecun_normal\"),\n",
    "    keras.layers.Dense(100, activation=\"selu\", kernel_initializer=\"lecun_normal\"),\n",
    "    keras.layers.Dense(10, activation=\"softmax\")\n",
    "])\n",
    "model.compile(loss=\"sparse_categorical_crossentropy\", optimizer=optimizer, metrics=[\"accuracy\"])"
   ]
  },
  {
   "cell_type": "code",
   "execution_count": 45,
   "id": "20e33ed9-611a-4120-98d0-4f512a2671ee",
   "metadata": {},
   "outputs": [
    {
     "name": "stdout",
     "output_type": "stream",
     "text": [
      "Epoch 1/25\n",
      "1719/1719 [==============================] - 4s 2ms/step - loss: 0.4929 - accuracy: 0.8268 - val_loss: 0.4032 - val_accuracy: 0.8626\n",
      "Epoch 2/25\n",
      "1719/1719 [==============================] - 3s 2ms/step - loss: 0.3820 - accuracy: 0.8651 - val_loss: 0.3737 - val_accuracy: 0.8710\n",
      "Epoch 3/25\n",
      "1719/1719 [==============================] - 3s 2ms/step - loss: 0.3488 - accuracy: 0.8760 - val_loss: 0.3754 - val_accuracy: 0.8688\n",
      "Epoch 4/25\n",
      "1719/1719 [==============================] - 3s 2ms/step - loss: 0.3276 - accuracy: 0.8827 - val_loss: 0.3514 - val_accuracy: 0.8752\n",
      "Epoch 5/25\n",
      "1719/1719 [==============================] - 3s 2ms/step - loss: 0.3122 - accuracy: 0.8895 - val_loss: 0.3452 - val_accuracy: 0.8766\n",
      "Epoch 6/25\n",
      "1719/1719 [==============================] - 3s 2ms/step - loss: 0.2984 - accuracy: 0.8932 - val_loss: 0.3425 - val_accuracy: 0.8830\n",
      "Epoch 7/25\n",
      "1719/1719 [==============================] - 3s 2ms/step - loss: 0.2883 - accuracy: 0.8978 - val_loss: 0.3372 - val_accuracy: 0.8838\n",
      "Epoch 8/25\n",
      "1719/1719 [==============================] - 3s 2ms/step - loss: 0.2792 - accuracy: 0.9004 - val_loss: 0.3426 - val_accuracy: 0.8790\n",
      "Epoch 9/25\n",
      "1719/1719 [==============================] - 4s 2ms/step - loss: 0.2709 - accuracy: 0.9030 - val_loss: 0.3299 - val_accuracy: 0.8824\n",
      "Epoch 10/25\n",
      "1719/1719 [==============================] - 3s 2ms/step - loss: 0.2637 - accuracy: 0.9060 - val_loss: 0.3259 - val_accuracy: 0.8840\n",
      "Epoch 11/25\n",
      "1719/1719 [==============================] - 3s 2ms/step - loss: 0.2576 - accuracy: 0.9081 - val_loss: 0.3263 - val_accuracy: 0.8854\n",
      "Epoch 12/25\n",
      "1719/1719 [==============================] - 3s 2ms/step - loss: 0.2518 - accuracy: 0.9113 - val_loss: 0.3335 - val_accuracy: 0.8800\n",
      "Epoch 13/25\n",
      "1719/1719 [==============================] - 4s 2ms/step - loss: 0.2461 - accuracy: 0.9134 - val_loss: 0.3250 - val_accuracy: 0.8864\n",
      "Epoch 14/25\n",
      "1719/1719 [==============================] - 3s 2ms/step - loss: 0.2423 - accuracy: 0.9136 - val_loss: 0.3265 - val_accuracy: 0.8872\n",
      "Epoch 15/25\n",
      "1719/1719 [==============================] - 3s 2ms/step - loss: 0.2372 - accuracy: 0.9162 - val_loss: 0.3215 - val_accuracy: 0.8854\n",
      "Epoch 16/25\n",
      "1719/1719 [==============================] - 3s 2ms/step - loss: 0.2332 - accuracy: 0.9177 - val_loss: 0.3193 - val_accuracy: 0.8868\n",
      "Epoch 17/25\n",
      "1719/1719 [==============================] - 3s 2ms/step - loss: 0.2295 - accuracy: 0.9191 - val_loss: 0.3218 - val_accuracy: 0.8898\n",
      "Epoch 18/25\n",
      "1719/1719 [==============================] - 3s 2ms/step - loss: 0.2255 - accuracy: 0.9207 - val_loss: 0.3166 - val_accuracy: 0.8898\n",
      "Epoch 19/25\n",
      "1719/1719 [==============================] - 4s 2ms/step - loss: 0.2221 - accuracy: 0.9224 - val_loss: 0.3204 - val_accuracy: 0.8880\n",
      "Epoch 20/25\n",
      "1719/1719 [==============================] - 3s 2ms/step - loss: 0.2190 - accuracy: 0.9243 - val_loss: 0.3168 - val_accuracy: 0.8898\n",
      "Epoch 21/25\n",
      "1719/1719 [==============================] - 3s 2ms/step - loss: 0.2155 - accuracy: 0.9248 - val_loss: 0.3180 - val_accuracy: 0.8886\n",
      "Epoch 22/25\n",
      "1719/1719 [==============================] - 3s 2ms/step - loss: 0.2130 - accuracy: 0.9252 - val_loss: 0.3149 - val_accuracy: 0.8906\n",
      "Epoch 23/25\n",
      "1719/1719 [==============================] - 3s 2ms/step - loss: 0.2102 - accuracy: 0.9267 - val_loss: 0.3161 - val_accuracy: 0.8904\n",
      "Epoch 24/25\n",
      "1719/1719 [==============================] - 4s 2ms/step - loss: 0.2072 - accuracy: 0.9279 - val_loss: 0.3175 - val_accuracy: 0.8898\n",
      "Epoch 25/25\n",
      "1719/1719 [==============================] - 4s 2ms/step - loss: 0.2051 - accuracy: 0.9291 - val_loss: 0.3166 - val_accuracy: 0.8908\n"
     ]
    }
   ],
   "source": [
    "n_epochs = 25\n",
    "history = model.fit(X_train_scaled, y_train, epochs=n_epochs,\n",
    "                    validation_data=(X_valid_scaled, y_valid))"
   ]
  },
  {
   "cell_type": "code",
   "execution_count": 46,
   "id": "716dc7bd-b5b0-4b1b-b03f-c7fb0c0e0062",
   "metadata": {},
   "outputs": [
    {
     "data": {
      "image/png": "[encoded data removed]",
      "text/plain": [
       "<Figure size 432x288 with 1 Axes>"
      ]
     },
     "metadata": {
      "needs_background": "light"
     },
     "output_type": "display_data"
    }
   ],
   "source": [
    "learning_rate = 0.01\n",
    "decay = 1e-4\n",
    "batch_size = 32\n",
    "n_steps_per_epoch = len(X_train) // batch_size\n",
    "epochs = np.arange(n_epochs)\n",
    "lrs = learning_rate / (1 + decay * epochs * n_steps_per_epoch)\n",
    "\n",
    "plt.plot(epochs, lrs,  \"o-\")\n",
    "plt.axis([0, n_epochs - 1, 0, 0.01])\n",
    "plt.xlabel(\"Epoch\")\n",
    "plt.ylabel(\"Learning Rate\")\n",
    "plt.title(\"Power Scheduling\", fontsize=14)\n",
    "plt.grid(True)\n",
    "plt.show()"
   ]
  },
  {
   "cell_type": "markdown",
   "id": "0f201a61-146a-4936-903c-bb217e77465f",
   "metadata": {},
   "source": [
    "* 지수 기반 스케줄링"
   ]
  },
  {
   "cell_type": "code",
   "execution_count": 57,
   "id": "79a761d1-73c9-467a-8398-6cccd5b3dd89",
   "metadata": {},
   "outputs": [],
   "source": [
    "#지수 기반 스케줄링\n",
    "#lr = lr0 * 0.1**(epoch / s)\n",
    "def exponential_decay_fn(epoch):\n",
    "    return 0.01 * 0.1**(epoch / 20)\n",
    "\n",
    "def exponential_decay(lr0, s):\n",
    "    def exponential_decay_fn(epoch):\n",
    "        return lr0 * 0.1**(epoch / s)\n",
    "    return exponential_decay_fn\n",
    "\n",
    "exponential_decay_fn = exponential_decay(lr0=0.01, s=20)\n",
    "\n",
    "model = keras.models.Sequential([\n",
    "    keras.layers.Flatten(input_shape=[28, 28]),\n",
    "    keras.layers.Dense(300, activation=\"selu\", kernel_initializer=\"lecun_normal\"),\n",
    "    keras.layers.Dense(100, activation=\"selu\", kernel_initializer=\"lecun_normal\"),\n",
    "    keras.layers.Dense(10, activation=\"softmax\")\n",
    "])\n",
    "model.compile(loss=\"sparse_categorical_crossentropy\", optimizer=\"nadam\", metrics=[\"accuracy\"])\n",
    "n_epochs = 25"
   ]
  },
  {
   "cell_type": "code",
   "execution_count": 58,
   "id": "2ae65bca-dabf-4d46-b5b1-2f01b04e2ec9",
   "metadata": {},
   "outputs": [
    {
     "name": "stdout",
     "output_type": "stream",
     "text": [
      "Epoch 1/25\n",
      "1719/1719 [==============================] - 9s 5ms/step - loss: 0.8208 - accuracy: 0.7639 - val_loss: 0.8072 - val_accuracy: 0.7304\n",
      "Epoch 2/25\n",
      "1719/1719 [==============================] - 8s 5ms/step - loss: 0.6560 - accuracy: 0.8038 - val_loss: 0.6641 - val_accuracy: 0.7916\n",
      "Epoch 3/25\n",
      "1719/1719 [==============================] - 8s 5ms/step - loss: 0.5761 - accuracy: 0.8230 - val_loss: 0.9716 - val_accuracy: 0.7594\n",
      "Epoch 4/25\n",
      "1719/1719 [==============================] - 8s 5ms/step - loss: 0.5231 - accuracy: 0.8380 - val_loss: 0.5031 - val_accuracy: 0.8346\n",
      "Epoch 5/25\n",
      "1719/1719 [==============================] - 8s 5ms/step - loss: 0.4640 - accuracy: 0.8529 - val_loss: 0.4906 - val_accuracy: 0.8564\n",
      "Epoch 6/25\n",
      "1719/1719 [==============================] - 8s 5ms/step - loss: 0.4291 - accuracy: 0.8651 - val_loss: 0.4730 - val_accuracy: 0.8554\n",
      "Epoch 7/25\n",
      "1719/1719 [==============================] - 8s 5ms/step - loss: 0.3995 - accuracy: 0.8721 - val_loss: 0.5286 - val_accuracy: 0.8568\n",
      "Epoch 8/25\n",
      "1719/1719 [==============================] - 8s 5ms/step - loss: 0.3626 - accuracy: 0.8825 - val_loss: 0.5171 - val_accuracy: 0.8482\n",
      "Epoch 9/25\n",
      "1719/1719 [==============================] - 8s 5ms/step - loss: 0.3436 - accuracy: 0.8879 - val_loss: 0.4650 - val_accuracy: 0.8686\n",
      "Epoch 10/25\n",
      "1719/1719 [==============================] - 8s 5ms/step - loss: 0.3205 - accuracy: 0.8947 - val_loss: 0.4157 - val_accuracy: 0.8834\n",
      "Epoch 11/25\n",
      "1719/1719 [==============================] - 8s 5ms/step - loss: 0.2983 - accuracy: 0.8999 - val_loss: 0.4443 - val_accuracy: 0.8702\n",
      "Epoch 12/25\n",
      "1719/1719 [==============================] - 8s 5ms/step - loss: 0.2695 - accuracy: 0.9071 - val_loss: 0.4837 - val_accuracy: 0.8788\n",
      "Epoch 13/25\n",
      "1719/1719 [==============================] - 8s 5ms/step - loss: 0.2522 - accuracy: 0.9138 - val_loss: 0.4796 - val_accuracy: 0.8774\n",
      "Epoch 14/25\n",
      "1719/1719 [==============================] - 8s 5ms/step - loss: 0.2339 - accuracy: 0.9200 - val_loss: 0.4727 - val_accuracy: 0.8822\n",
      "Epoch 15/25\n",
      "1719/1719 [==============================] - 8s 5ms/step - loss: 0.2150 - accuracy: 0.9259 - val_loss: 0.4780 - val_accuracy: 0.8868\n",
      "Epoch 16/25\n",
      "1719/1719 [==============================] - 8s 5ms/step - loss: 0.2043 - accuracy: 0.9307 - val_loss: 0.4890 - val_accuracy: 0.8838\n",
      "Epoch 17/25\n",
      "1719/1719 [==============================] - 8s 5ms/step - loss: 0.1866 - accuracy: 0.9354 - val_loss: 0.5349 - val_accuracy: 0.8836\n",
      "Epoch 18/25\n",
      "1719/1719 [==============================] - 8s 5ms/step - loss: 0.1733 - accuracy: 0.9402 - val_loss: 0.5454 - val_accuracy: 0.8844\n",
      "Epoch 19/25\n",
      "1719/1719 [==============================] - 8s 5ms/step - loss: 0.1617 - accuracy: 0.9456 - val_loss: 0.5409 - val_accuracy: 0.8918\n",
      "Epoch 20/25\n",
      "1719/1719 [==============================] - 8s 5ms/step - loss: 0.1543 - accuracy: 0.9493 - val_loss: 0.4974 - val_accuracy: 0.8872\n",
      "Epoch 21/25\n",
      "1719/1719 [==============================] - 8s 5ms/step - loss: 0.1394 - accuracy: 0.9532 - val_loss: 0.5803 - val_accuracy: 0.8886\n",
      "Epoch 22/25\n",
      "1719/1719 [==============================] - 8s 5ms/step - loss: 0.1320 - accuracy: 0.9559 - val_loss: 0.5935 - val_accuracy: 0.8798\n",
      "Epoch 23/25\n",
      "1719/1719 [==============================] - 8s 5ms/step - loss: 0.1207 - accuracy: 0.9598 - val_loss: 0.5853 - val_accuracy: 0.8900\n",
      "Epoch 24/25\n",
      "1719/1719 [==============================] - 8s 5ms/step - loss: 0.1131 - accuracy: 0.9628 - val_loss: 0.6534 - val_accuracy: 0.8874\n",
      "Epoch 25/25\n",
      "1719/1719 [==============================] - 8s 5ms/step - loss: 0.1086 - accuracy: 0.9645 - val_loss: 0.6513 - val_accuracy: 0.8906\n"
     ]
    }
   ],
   "source": [
    "lr_scheduler = keras.callbacks.LearningRateScheduler(exponential_decay_fn)\n",
    "history = model.fit(X_train_scaled, y_train, epochs=n_epochs,\n",
    "                    validation_data=(X_valid_scaled, y_valid),\n",
    "                    callbacks=[lr_scheduler])"
   ]
  },
  {
   "cell_type": "code",
   "execution_count": 59,
   "id": "442820ca-a180-4817-b0ce-bc67749f0b34",
   "metadata": {},
   "outputs": [
    {
     "data": {
      "image/png": "[encoded data removed]",
      "text/plain": [
       "<Figure size 432x288 with 1 Axes>"
      ]
     },
     "metadata": {
      "needs_background": "light"
     },
     "output_type": "display_data"
    }
   ],
   "source": [
    "plt.plot(history.epoch, history.history[\"lr\"], \"o-\")\n",
    "plt.axis([0, n_epochs - 1, 0, 0.011])\n",
    "plt.xlabel(\"Epoch\")\n",
    "plt.ylabel(\"Learning Rate\")\n",
    "plt.title(\"Exponential Scheduling\", fontsize=14)\n",
    "plt.grid(True)\n",
    "plt.show()"
   ]
  },
  {
   "cell_type": "code",
   "execution_count": 60,
   "id": "332f29f3-a795-46d2-98cb-d47aa2dfd67c",
   "metadata": {},
   "outputs": [],
   "source": [
    "#이 스케줄 함수는 두 번째 매개변수로 현재 학습률을 받을 수 있다.\n",
    "def exponential_decay_fn(epoch, lr):\n",
    "    return lr * 0.1**(1 / 20)"
   ]
  },
  {
   "cell_type": "code",
   "execution_count": 61,
   "id": "fa76cb5e-e0a6-4173-b873-52ee02f24507",
   "metadata": {},
   "outputs": [
    {
     "name": "stdout",
     "output_type": "stream",
     "text": [
      "Epoch 1/25\n",
      "1719/1719 [==============================] - 9s 5ms/step - loss: 0.8067 - accuracy: 0.7674 - val_loss: 0.7841 - val_accuracy: 0.7776\n",
      "Epoch 2/25\n",
      "1719/1719 [==============================] - 9s 5ms/step - loss: 0.6366 - accuracy: 0.8054 - val_loss: 0.5561 - val_accuracy: 0.8296\n",
      "Epoch 3/25\n",
      "1719/1719 [==============================] - 9s 5ms/step - loss: 0.5762 - accuracy: 0.8228 - val_loss: 0.5994 - val_accuracy: 0.8270\n",
      "Epoch 4/25\n",
      "1719/1719 [==============================] - 8s 5ms/step - loss: 0.5085 - accuracy: 0.8394 - val_loss: 0.4985 - val_accuracy: 0.8544\n",
      "Epoch 5/25\n",
      "1719/1719 [==============================] - 8s 5ms/step - loss: 0.4635 - accuracy: 0.8537 - val_loss: 0.5312 - val_accuracy: 0.8620\n",
      "Epoch 6/25\n",
      "1719/1719 [==============================] - 8s 5ms/step - loss: 0.4209 - accuracy: 0.8663 - val_loss: 0.5444 - val_accuracy: 0.8616\n",
      "Epoch 7/25\n",
      "1719/1719 [==============================] - 8s 5ms/step - loss: 0.3983 - accuracy: 0.8740 - val_loss: 0.4759 - val_accuracy: 0.8624\n",
      "Epoch 8/25\n",
      "1719/1719 [==============================] - 8s 5ms/step - loss: 0.3653 - accuracy: 0.8796 - val_loss: 0.4714 - val_accuracy: 0.8472\n",
      "Epoch 9/25\n",
      "1719/1719 [==============================] - 8s 5ms/step - loss: 0.3302 - accuracy: 0.8904 - val_loss: 0.4675 - val_accuracy: 0.8744\n",
      "Epoch 10/25\n",
      "1719/1719 [==============================] - 8s 5ms/step - loss: 0.3118 - accuracy: 0.8973 - val_loss: 0.4093 - val_accuracy: 0.8870\n",
      "Epoch 11/25\n",
      "1719/1719 [==============================] - 8s 5ms/step - loss: 0.2912 - accuracy: 0.9020 - val_loss: 0.4200 - val_accuracy: 0.8722\n",
      "Epoch 12/25\n",
      "1719/1719 [==============================] - 8s 5ms/step - loss: 0.2660 - accuracy: 0.9093 - val_loss: 0.4400 - val_accuracy: 0.8772\n",
      "Epoch 13/25\n",
      "1719/1719 [==============================] - 8s 5ms/step - loss: 0.2493 - accuracy: 0.9157 - val_loss: 0.4349 - val_accuracy: 0.8848\n",
      "Epoch 14/25\n",
      "1719/1719 [==============================] - 8s 5ms/step - loss: 0.2324 - accuracy: 0.9197 - val_loss: 0.4671 - val_accuracy: 0.8794\n",
      "Epoch 15/25\n",
      "1719/1719 [==============================] - 8s 5ms/step - loss: 0.2172 - accuracy: 0.9268 - val_loss: 0.4473 - val_accuracy: 0.8870\n",
      "Epoch 16/25\n",
      "1719/1719 [==============================] - 8s 5ms/step - loss: 0.1954 - accuracy: 0.9322 - val_loss: 0.4527 - val_accuracy: 0.8890\n",
      "Epoch 17/25\n",
      "1719/1719 [==============================] - 8s 5ms/step - loss: 0.1831 - accuracy: 0.9369 - val_loss: 0.4637 - val_accuracy: 0.8922\n",
      "Epoch 18/25\n",
      "1719/1719 [==============================] - 8s 5ms/step - loss: 0.1740 - accuracy: 0.9416 - val_loss: 0.4872 - val_accuracy: 0.8918\n",
      "Epoch 19/25\n",
      "1719/1719 [==============================] - 8s 5ms/step - loss: 0.1616 - accuracy: 0.9461 - val_loss: 0.4863 - val_accuracy: 0.8934\n",
      "Epoch 20/25\n",
      "1719/1719 [==============================] - 8s 5ms/step - loss: 0.1468 - accuracy: 0.9508 - val_loss: 0.5056 - val_accuracy: 0.8906\n",
      "Epoch 21/25\n",
      "1719/1719 [==============================] - 8s 5ms/step - loss: 0.1386 - accuracy: 0.9544 - val_loss: 0.5271 - val_accuracy: 0.8898\n",
      "Epoch 22/25\n",
      "1719/1719 [==============================] - 8s 5ms/step - loss: 0.1288 - accuracy: 0.9577 - val_loss: 0.5351 - val_accuracy: 0.8910\n",
      "Epoch 23/25\n",
      "1719/1719 [==============================] - 8s 5ms/step - loss: 0.1203 - accuracy: 0.9612 - val_loss: 0.5503 - val_accuracy: 0.8894\n",
      "Epoch 24/25\n",
      "1719/1719 [==============================] - 8s 5ms/step - loss: 0.1146 - accuracy: 0.9624 - val_loss: 0.5908 - val_accuracy: 0.8924\n",
      "Epoch 25/25\n",
      "1719/1719 [==============================] - 8s 5ms/step - loss: 0.1057 - accuracy: 0.9669 - val_loss: 0.6079 - val_accuracy: 0.8912\n"
     ]
    }
   ],
   "source": [
    "K = keras.backend\n",
    "\n",
    "class ExponentialDecay(keras.callbacks.Callback):\n",
    "    def __init__(self, s=40000):\n",
    "        super().__init__()\n",
    "        self.s = s\n",
    "\n",
    "    def on_batch_begin(self, batch, logs=None):\n",
    "        # 노트: 에포크마다 `batch` 매개변수가 재설정됩니다\n",
    "        lr = K.get_value(self.model.optimizer.lr)\n",
    "        K.set_value(self.model.optimizer.lr, lr * 0.1**(1 / s))\n",
    "\n",
    "    def on_epoch_end(self, epoch, logs=None):\n",
    "        logs = logs or {}\n",
    "        logs['lr'] = K.get_value(self.model.optimizer.lr)\n",
    "\n",
    "model = keras.models.Sequential([\n",
    "    keras.layers.Flatten(input_shape=[28, 28]),\n",
    "    keras.layers.Dense(300, activation=\"selu\", kernel_initializer=\"lecun_normal\"),\n",
    "    keras.layers.Dense(100, activation=\"selu\", kernel_initializer=\"lecun_normal\"),\n",
    "    keras.layers.Dense(10, activation=\"softmax\")\n",
    "])\n",
    "lr0 = 0.01\n",
    "optimizer = keras.optimizers.Nadam(lr=lr0)\n",
    "model.compile(loss=\"sparse_categorical_crossentropy\", optimizer=optimizer, metrics=[\"accuracy\"])\n",
    "n_epochs = 25\n",
    "\n",
    "s = 20 * len(X_train) // 32 # 20 에포크 동안 스텝 횟수 (배치 크기 = 32)\n",
    "exp_decay = ExponentialDecay(s)\n",
    "history = model.fit(X_train_scaled, y_train, epochs=n_epochs,\n",
    "                    validation_data=(X_valid_scaled, y_valid),\n",
    "                    callbacks=[exp_decay])"
   ]
  },
  {
   "cell_type": "code",
   "execution_count": 62,
   "id": "efbbf32c-6df1-45b8-8176-e066dd334f96",
   "metadata": {},
   "outputs": [],
   "source": [
    "n_steps = n_epochs * len(X_train) // 32\n",
    "steps = np.arange(n_steps)\n",
    "lrs = lr0 * 0.1**(steps / s)"
   ]
  },
  {
   "cell_type": "code",
   "execution_count": 63,
   "id": "ffb1591f-f4a9-4d21-8541-15853dd8268d",
   "metadata": {},
   "outputs": [
    {
     "data": {
      "image/png": "[encoded data removed]",
      "text/plain": [
       "<Figure size 432x288 with 1 Axes>"
      ]
     },
     "metadata": {
      "needs_background": "light"
     },
     "output_type": "display_data"
    }
   ],
   "source": [
    "plt.plot(steps, lrs, \"-\", linewidth=2)\n",
    "plt.axis([0, n_steps - 1, 0, lr0 * 1.1])\n",
    "plt.xlabel(\"Batch\")\n",
    "plt.ylabel(\"Learning Rate\")\n",
    "plt.title(\"Exponential Scheduling (per batch)\", fontsize=14)\n",
    "plt.grid(True)\n",
    "plt.show()"
   ]
  },
  {
   "cell_type": "markdown",
   "id": "615a008a-eae9-4a06-a53d-a93111fe2dd8",
   "metadata": {},
   "source": [
    "* 구간별 고정 스케줄링"
   ]
  },
  {
   "cell_type": "code",
   "execution_count": 64,
   "id": "a9ccc277-d99f-4573-ac76-55982b28ed4d",
   "metadata": {},
   "outputs": [],
   "source": [
    "#구간별 고정 스케줄링\n",
    "def piecewise_constant_fn(epoch):\n",
    "    if epoch < 5:\n",
    "        return 0.01\n",
    "    elif epoch < 15:\n",
    "        return 0.005\n",
    "    else:\n",
    "        return 0.001"
   ]
  },
  {
   "cell_type": "code",
   "execution_count": 65,
   "id": "d5a07cdf-b53f-4b03-b5f3-dca778cc56bf",
   "metadata": {},
   "outputs": [],
   "source": [
    "def piecewise_constant(boundaries, values):\n",
    "    boundaries = np.array([0] + boundaries)\n",
    "    values = np.array(values)\n",
    "    def piecewise_constant_fn(epoch):\n",
    "        return values[np.argmax(boundaries > epoch) - 1]\n",
    "    return piecewise_constant_fn\n",
    "\n",
    "piecewise_constant_fn = piecewise_constant([5, 15], [0.01, 0.005, 0.001])"
   ]
  },
  {
   "cell_type": "code",
   "execution_count": 66,
   "id": "0f9efdc4-d0a2-4d74-b625-e1bc18c35803",
   "metadata": {},
   "outputs": [
    {
     "name": "stdout",
     "output_type": "stream",
     "text": [
      "Epoch 1/25\n",
      "1719/1719 [==============================] - 8s 5ms/step - loss: 0.8783 - accuracy: 0.7431 - val_loss: 1.0357 - val_accuracy: 0.6726\n",
      "Epoch 2/25\n",
      "1719/1719 [==============================] - 8s 5ms/step - loss: 1.0648 - accuracy: 0.6852 - val_loss: 0.8965 - val_accuracy: 0.7000\n",
      "Epoch 3/25\n",
      "1719/1719 [==============================] - 8s 5ms/step - loss: 0.9815 - accuracy: 0.6853 - val_loss: 1.2094 - val_accuracy: 0.5628\n",
      "Epoch 4/25\n",
      "1719/1719 [==============================] - 8s 5ms/step - loss: 0.9413 - accuracy: 0.6905 - val_loss: 0.9913 - val_accuracy: 0.6890\n",
      "Epoch 5/25\n",
      "1719/1719 [==============================] - 8s 5ms/step - loss: 0.9428 - accuracy: 0.6879 - val_loss: 0.8815 - val_accuracy: 0.6954\n",
      "Epoch 6/25\n",
      "1719/1719 [==============================] - 8s 5ms/step - loss: 0.6931 - accuracy: 0.7516 - val_loss: 0.6645 - val_accuracy: 0.7722\n",
      "Epoch 7/25\n",
      "1719/1719 [==============================] - 8s 5ms/step - loss: 0.6585 - accuracy: 0.7601 - val_loss: 0.7600 - val_accuracy: 0.7328\n",
      "Epoch 8/25\n",
      "1719/1719 [==============================] - 8s 5ms/step - loss: 0.6247 - accuracy: 0.7671 - val_loss: 0.7796 - val_accuracy: 0.7426\n",
      "Epoch 9/25\n",
      "1719/1719 [==============================] - 8s 5ms/step - loss: 0.5331 - accuracy: 0.8376 - val_loss: 0.6333 - val_accuracy: 0.8072\n",
      "Epoch 10/25\n",
      "1719/1719 [==============================] - 8s 5ms/step - loss: 0.5208 - accuracy: 0.8477 - val_loss: 0.6106 - val_accuracy: 0.8572\n",
      "Epoch 11/25\n",
      "1719/1719 [==============================] - 9s 5ms/step - loss: 0.4868 - accuracy: 0.8585 - val_loss: 0.6844 - val_accuracy: 0.8560\n",
      "Epoch 12/25\n",
      "1719/1719 [==============================] - 8s 5ms/step - loss: 0.4711 - accuracy: 0.8638 - val_loss: 0.5725 - val_accuracy: 0.8530\n",
      "Epoch 13/25\n",
      "1719/1719 [==============================] - 8s 5ms/step - loss: 0.4562 - accuracy: 0.8657 - val_loss: 0.5557 - val_accuracy: 0.8570\n",
      "Epoch 14/25\n",
      "1719/1719 [==============================] - 8s 5ms/step - loss: 0.4607 - accuracy: 0.8672 - val_loss: 0.6335 - val_accuracy: 0.8528\n",
      "Epoch 15/25\n",
      "1719/1719 [==============================] - 8s 5ms/step - loss: 0.4605 - accuracy: 0.8706 - val_loss: 0.8356 - val_accuracy: 0.8542\n",
      "Epoch 16/25\n",
      "1719/1719 [==============================] - 8s 5ms/step - loss: 0.3157 - accuracy: 0.9011 - val_loss: 0.6700 - val_accuracy: 0.8784\n",
      "Epoch 17/25\n",
      "1719/1719 [==============================] - 8s 5ms/step - loss: 0.2867 - accuracy: 0.9086 - val_loss: 0.7004 - val_accuracy: 0.8808\n",
      "Epoch 18/25\n",
      "1719/1719 [==============================] - 9s 5ms/step - loss: 0.2715 - accuracy: 0.9139 - val_loss: 0.6565 - val_accuracy: 0.8760\n",
      "Epoch 19/25\n",
      "1719/1719 [==============================] - 8s 5ms/step - loss: 0.2600 - accuracy: 0.9171 - val_loss: 0.6731 - val_accuracy: 0.8770\n",
      "Epoch 20/25\n",
      "1719/1719 [==============================] - 8s 5ms/step - loss: 0.2512 - accuracy: 0.9199 - val_loss: 0.6598 - val_accuracy: 0.8806\n",
      "Epoch 21/25\n",
      "1719/1719 [==============================] - 8s 5ms/step - loss: 0.2429 - accuracy: 0.9226 - val_loss: 0.6480 - val_accuracy: 0.8740\n",
      "Epoch 22/25\n",
      "1719/1719 [==============================] - 8s 5ms/step - loss: 0.2367 - accuracy: 0.9255 - val_loss: 0.6251 - val_accuracy: 0.8818\n",
      "Epoch 23/25\n",
      "1719/1719 [==============================] - 8s 5ms/step - loss: 0.2270 - accuracy: 0.9281 - val_loss: 0.6589 - val_accuracy: 0.8800\n",
      "Epoch 24/25\n",
      "1719/1719 [==============================] - 8s 5ms/step - loss: 0.2210 - accuracy: 0.9300 - val_loss: 0.6793 - val_accuracy: 0.8810\n",
      "Epoch 25/25\n",
      "1719/1719 [==============================] - 8s 5ms/step - loss: 0.2156 - accuracy: 0.9324 - val_loss: 0.7348 - val_accuracy: 0.8822\n"
     ]
    }
   ],
   "source": [
    "lr_scheduler = keras.callbacks.LearningRateScheduler(piecewise_constant_fn)\n",
    "\n",
    "model = keras.models.Sequential([\n",
    "    keras.layers.Flatten(input_shape=[28, 28]),\n",
    "    keras.layers.Dense(300, activation=\"selu\", kernel_initializer=\"lecun_normal\"),\n",
    "    keras.layers.Dense(100, activation=\"selu\", kernel_initializer=\"lecun_normal\"),\n",
    "    keras.layers.Dense(10, activation=\"softmax\")\n",
    "])\n",
    "model.compile(loss=\"sparse_categorical_crossentropy\", optimizer=\"nadam\", metrics=[\"accuracy\"])\n",
    "n_epochs = 25\n",
    "history = model.fit(X_train_scaled, y_train, epochs=n_epochs,\n",
    "                    validation_data=(X_valid_scaled, y_valid),\n",
    "                    callbacks=[lr_scheduler])"
   ]
  },
  {
   "cell_type": "code",
   "execution_count": 67,
   "id": "91d6f658-bbad-4603-ab7f-bcdae3d1ff2a",
   "metadata": {},
   "outputs": [
    {
     "data": {
      "image/png": "[encoded data removed]",
      "text/plain": [
       "<Figure size 432x288 with 1 Axes>"
      ]
     },
     "metadata": {
      "needs_background": "light"
     },
     "output_type": "display_data"
    }
   ],
   "source": [
    "plt.plot(history.epoch, [piecewise_constant_fn(epoch) for epoch in history.epoch], \"o-\")\n",
    "plt.axis([0, n_epochs - 1, 0, 0.011])\n",
    "plt.xlabel(\"Epoch\")\n",
    "plt.ylabel(\"Learning Rate\")\n",
    "plt.title(\"Piecewise Constant Scheduling\", fontsize=14)\n",
    "plt.grid(True)\n",
    "plt.show()"
   ]
  },
  {
   "cell_type": "markdown",
   "id": "8a00046e-74be-4be6-81ae-f6ecb0e39713",
   "metadata": {},
   "source": [
    "* 성능 기반 스케줄링"
   ]
  },
  {
   "cell_type": "code",
   "execution_count": 68,
   "id": "2980a4e8-351b-4b01-ad96-50b7b45982b5",
   "metadata": {},
   "outputs": [
    {
     "name": "stdout",
     "output_type": "stream",
     "text": [
      "Epoch 1/25\n",
      "1719/1719 [==============================] - 3s 2ms/step - loss: 0.5889 - accuracy: 0.8063 - val_loss: 0.5125 - val_accuracy: 0.8436\n",
      "Epoch 2/25\n",
      "1719/1719 [==============================] - 3s 2ms/step - loss: 0.4942 - accuracy: 0.8407 - val_loss: 0.5552 - val_accuracy: 0.8472\n",
      "Epoch 3/25\n",
      "1719/1719 [==============================] - 3s 2ms/step - loss: 0.5148 - accuracy: 0.8433 - val_loss: 0.4822 - val_accuracy: 0.8500\n",
      "Epoch 4/25\n",
      "1719/1719 [==============================] - 3s 2ms/step - loss: 0.5195 - accuracy: 0.8463 - val_loss: 0.5288 - val_accuracy: 0.8414\n",
      "Epoch 5/25\n",
      "1719/1719 [==============================] - 3s 2ms/step - loss: 0.5232 - accuracy: 0.8476 - val_loss: 0.5937 - val_accuracy: 0.8290\n",
      "Epoch 6/25\n",
      "1719/1719 [==============================] - 3s 2ms/step - loss: 0.5216 - accuracy: 0.8520 - val_loss: 0.5909 - val_accuracy: 0.8518\n",
      "Epoch 7/25\n",
      "1719/1719 [==============================] - 3s 2ms/step - loss: 0.5210 - accuracy: 0.8537 - val_loss: 0.5791 - val_accuracy: 0.8404\n",
      "Epoch 8/25\n",
      "1719/1719 [==============================] - 3s 2ms/step - loss: 0.5004 - accuracy: 0.8584 - val_loss: 0.7069 - val_accuracy: 0.8182\n",
      "Epoch 9/25\n",
      "1719/1719 [==============================] - 3s 2ms/step - loss: 0.2919 - accuracy: 0.8985 - val_loss: 0.4142 - val_accuracy: 0.8758\n",
      "Epoch 10/25\n",
      "1719/1719 [==============================] - 3s 2ms/step - loss: 0.2414 - accuracy: 0.9121 - val_loss: 0.3873 - val_accuracy: 0.8880\n",
      "Epoch 11/25\n",
      "1719/1719 [==============================] - 3s 2ms/step - loss: 0.2277 - accuracy: 0.9171 - val_loss: 0.4148 - val_accuracy: 0.8850\n",
      "Epoch 12/25\n",
      "1719/1719 [==============================] - 3s 2ms/step - loss: 0.2128 - accuracy: 0.9210 - val_loss: 0.4996 - val_accuracy: 0.8702\n",
      "Epoch 13/25\n",
      "1719/1719 [==============================] - 4s 2ms/step - loss: 0.1955 - accuracy: 0.9276 - val_loss: 0.4365 - val_accuracy: 0.8876\n",
      "Epoch 14/25\n",
      "1719/1719 [==============================] - 3s 2ms/step - loss: 0.1851 - accuracy: 0.9303 - val_loss: 0.4594 - val_accuracy: 0.8832\n",
      "Epoch 15/25\n",
      "1719/1719 [==============================] - 3s 2ms/step - loss: 0.1797 - accuracy: 0.9339 - val_loss: 0.5135 - val_accuracy: 0.8732\n",
      "Epoch 16/25\n",
      "1719/1719 [==============================] - 4s 2ms/step - loss: 0.1227 - accuracy: 0.9525 - val_loss: 0.4589 - val_accuracy: 0.8914\n",
      "Epoch 17/25\n",
      "1719/1719 [==============================] - 3s 2ms/step - loss: 0.1080 - accuracy: 0.9578 - val_loss: 0.4801 - val_accuracy: 0.8870\n",
      "Epoch 18/25\n",
      "1719/1719 [==============================] - 3s 2ms/step - loss: 0.0996 - accuracy: 0.9619 - val_loss: 0.4953 - val_accuracy: 0.8898\n",
      "Epoch 19/25\n",
      "1719/1719 [==============================] - 3s 2ms/step - loss: 0.0940 - accuracy: 0.9635 - val_loss: 0.5211 - val_accuracy: 0.8906\n",
      "Epoch 20/25\n",
      "1719/1719 [==============================] - 3s 2ms/step - loss: 0.0877 - accuracy: 0.9660 - val_loss: 0.5097 - val_accuracy: 0.8928\n",
      "Epoch 21/25\n",
      "1719/1719 [==============================] - 3s 2ms/step - loss: 0.0682 - accuracy: 0.9749 - val_loss: 0.5302 - val_accuracy: 0.8946\n",
      "Epoch 22/25\n",
      "1719/1719 [==============================] - 3s 2ms/step - loss: 0.0631 - accuracy: 0.9769 - val_loss: 0.5513 - val_accuracy: 0.8928\n",
      "Epoch 23/25\n",
      "1719/1719 [==============================] - 3s 2ms/step - loss: 0.0595 - accuracy: 0.9783 - val_loss: 0.5466 - val_accuracy: 0.8924\n",
      "Epoch 24/25\n",
      "1719/1719 [==============================] - 3s 2ms/step - loss: 0.0564 - accuracy: 0.9799 - val_loss: 0.5696 - val_accuracy: 0.8922\n",
      "Epoch 25/25\n",
      "1719/1719 [==============================] - 3s 2ms/step - loss: 0.0540 - accuracy: 0.9802 - val_loss: 0.5824 - val_accuracy: 0.8882\n"
     ]
    }
   ],
   "source": [
    "# 성능기반 스케줄링은 ReduceLROnPlateau을 사용한다\n",
    "lr_scheduler = keras.callbacks.ReduceLROnPlateau(factor=0.5, patience=5)\n",
    "\n",
    "model = keras.models.Sequential([\n",
    "    keras.layers.Flatten(input_shape=[28, 28]),\n",
    "    keras.layers.Dense(300, activation=\"selu\", kernel_initializer=\"lecun_normal\"),\n",
    "    keras.layers.Dense(100, activation=\"selu\", kernel_initializer=\"lecun_normal\"),\n",
    "    keras.layers.Dense(10, activation=\"softmax\")\n",
    "])\n",
    "optimizer = keras.optimizers.SGD(lr=0.02, momentum=0.9)\n",
    "model.compile(loss=\"sparse_categorical_crossentropy\", optimizer=optimizer, metrics=[\"accuracy\"])\n",
    "n_epochs = 25\n",
    "history = model.fit(X_train_scaled, y_train, epochs=n_epochs,\n",
    "                    validation_data=(X_valid_scaled, y_valid),\n",
    "                    callbacks=[lr_scheduler])"
   ]
  },
  {
   "cell_type": "code",
   "execution_count": 69,
   "id": "bd74455f-497f-4932-b10c-202ac1575ed0",
   "metadata": {},
   "outputs": [
    {
     "data": {
      "image/png": "[encoded data removed]",
      "text/plain": [
       "<Figure size 432x288 with 2 Axes>"
      ]
     },
     "metadata": {
      "needs_background": "light"
     },
     "output_type": "display_data"
    }
   ],
   "source": [
    "plt.plot(history.epoch, history.history[\"lr\"], \"bo-\")\n",
    "plt.xlabel(\"Epoch\")\n",
    "plt.ylabel(\"Learning Rate\", color='b')\n",
    "plt.tick_params('y', colors='b')\n",
    "plt.gca().set_xlim(0, n_epochs - 1)\n",
    "plt.grid(True)\n",
    "\n",
    "ax2 = plt.gca().twinx()\n",
    "ax2.plot(history.epoch, history.history[\"val_loss\"], \"r^-\")\n",
    "ax2.set_ylabel('Validation Loss', color='r')\n",
    "ax2.tick_params('y', colors='r')\n",
    "\n",
    "plt.title(\"Reduce LR on Plateau\", fontsize=14)\n",
    "plt.show()"
   ]
  },
  {
   "cell_type": "markdown",
   "id": "891bf1bd-1f7e-4e8a-bc09-bbe28fdf447f",
   "metadata": {},
   "source": [
    "* 사이클 스케줄링"
   ]
  },
  {
   "cell_type": "code",
   "execution_count": 70,
   "id": "25c95a45-d29b-4cf4-93a0-3d7a3cb99768",
   "metadata": {},
   "outputs": [],
   "source": [
    "#1사이클 스케줄링\n",
    "K = keras.backend\n",
    "\n",
    "class ExponentialLearningRate(keras.callbacks.Callback):\n",
    "    def __init__(self, factor):\n",
    "        self.factor = factor\n",
    "        self.rates = []\n",
    "        self.losses = []\n",
    "    def on_batch_end(self, batch, logs):\n",
    "        self.rates.append(K.get_value(self.model.optimizer.lr))\n",
    "        self.losses.append(logs[\"loss\"])\n",
    "        K.set_value(self.model.optimizer.lr, self.model.optimizer.lr * self.factor)\n",
    "\n",
    "def find_learning_rate(model, X, y, epochs=1, batch_size=32, min_rate=10**-5, max_rate=10):\n",
    "    init_weights = model.get_weights()\n",
    "    iterations = len(X) // batch_size * epochs\n",
    "    factor = np.exp(np.log(max_rate / min_rate) / iterations)\n",
    "    init_lr = K.get_value(model.optimizer.lr)\n",
    "    K.set_value(model.optimizer.lr, min_rate)\n",
    "    exp_lr = ExponentialLearningRate(factor)\n",
    "    history = model.fit(X, y, epochs=epochs, batch_size=batch_size,\n",
    "                        callbacks=[exp_lr])\n",
    "    K.set_value(model.optimizer.lr, init_lr)\n",
    "    model.set_weights(init_weights)\n",
    "    return exp_lr.rates, exp_lr.losses\n",
    "\n",
    "def plot_lr_vs_loss(rates, losses):\n",
    "    plt.plot(rates, losses)\n",
    "    plt.gca().set_xscale('log')\n",
    "    plt.hlines(min(losses), min(rates), max(rates))\n",
    "    plt.axis([min(rates), max(rates), min(losses), (losses[0] + min(losses)) / 2])\n",
    "    plt.xlabel(\"Learning rate\")\n",
    "    plt.ylabel(\"Loss\")"
   ]
  },
  {
   "cell_type": "code",
   "execution_count": 71,
   "id": "1299bc9a-9216-42b5-9676-9f07d7e064a7",
   "metadata": {},
   "outputs": [],
   "source": [
    "tf.random.set_seed(42)\n",
    "np.random.seed(42)\n",
    "\n",
    "model = keras.models.Sequential([\n",
    "    keras.layers.Flatten(input_shape=[28, 28]),\n",
    "    keras.layers.Dense(300, activation=\"selu\", kernel_initializer=\"lecun_normal\"),\n",
    "    keras.layers.Dense(100, activation=\"selu\", kernel_initializer=\"lecun_normal\"),\n",
    "    keras.layers.Dense(10, activation=\"softmax\")\n",
    "])\n",
    "model.compile(loss=\"sparse_categorical_crossentropy\",\n",
    "              optimizer=keras.optimizers.SGD(lr=1e-3),\n",
    "              metrics=[\"accuracy\"])"
   ]
  },
  {
   "cell_type": "code",
   "execution_count": 72,
   "id": "4020f2ea-e087-42a6-90db-cd7a96f99ac4",
   "metadata": {},
   "outputs": [
    {
     "name": "stdout",
     "output_type": "stream",
     "text": [
      "430/430 [==============================] - 1s 2ms/step - loss: nan - accuracy: 0.3884\n"
     ]
    },
    {
     "data": {
      "image/png": "[encoded data removed]",
      "text/plain": [
       "<Figure size 432x288 with 1 Axes>"
      ]
     },
     "metadata": {
      "needs_background": "light"
     },
     "output_type": "display_data"
    }
   ],
   "source": [
    "batch_size = 128\n",
    "rates, losses = find_learning_rate(model, X_train_scaled, y_train, epochs=1, batch_size=batch_size)\n",
    "plot_lr_vs_loss(rates, losses)"
   ]
  },
  {
   "cell_type": "code",
   "execution_count": 73,
   "id": "9a452d20-a538-4d3b-9657-9e0a2d7df11a",
   "metadata": {},
   "outputs": [],
   "source": [
    "class OneCycleScheduler(keras.callbacks.Callback):\n",
    "    def __init__(self, iterations, max_rate, start_rate=None,\n",
    "                 last_iterations=None, last_rate=None):\n",
    "        self.iterations = iterations\n",
    "        self.max_rate = max_rate\n",
    "        self.start_rate = start_rate or max_rate / 10\n",
    "        self.last_iterations = last_iterations or iterations // 10 + 1\n",
    "        self.half_iteration = (iterations - self.last_iterations) // 2\n",
    "        self.last_rate = last_rate or self.start_rate / 1000\n",
    "        self.iteration = 0\n",
    "    def _interpolate(self, iter1, iter2, rate1, rate2):\n",
    "        return ((rate2 - rate1) * (self.iteration - iter1)\n",
    "                / (iter2 - iter1) + rate1)\n",
    "    def on_batch_begin(self, batch, logs):\n",
    "        if self.iteration < self.half_iteration:\n",
    "            rate = self._interpolate(0, self.half_iteration, self.start_rate, self.max_rate)\n",
    "        elif self.iteration < 2 * self.half_iteration:\n",
    "            rate = self._interpolate(self.half_iteration, 2 * self.half_iteration,\n",
    "                                     self.max_rate, self.start_rate)\n",
    "        else:\n",
    "            rate = self._interpolate(2 * self.half_iteration, self.iterations,\n",
    "                                     self.start_rate, self.last_rate)\n",
    "            rate = max(rate, self.last_rate)\n",
    "        self.iteration += 1\n",
    "        K.set_value(self.model.optimizer.lr, rate)"
   ]
  },
  {
   "cell_type": "code",
   "execution_count": 74,
   "id": "1b56218c-7ef6-4bca-a104-75ab537b3722",
   "metadata": {},
   "outputs": [
    {
     "name": "stdout",
     "output_type": "stream",
     "text": [
      "Epoch 1/25\n",
      "  1/430 [..............................] - ETA: 2s - loss: 2.6625 - accuracy: 0.1406WARNING:tensorflow:Callback method `on_train_batch_end` is slow compared to the batch time (batch time: 0.0010s vs `on_train_batch_end` time: 0.0010s). Check your callbacks.\n",
      "430/430 [==============================] - 1s 2ms/step - loss: 0.6572 - accuracy: 0.7739 - val_loss: 0.4872 - val_accuracy: 0.8340\n",
      "Epoch 2/25\n",
      "430/430 [==============================] - 1s 2ms/step - loss: 0.4581 - accuracy: 0.8396 - val_loss: 0.4274 - val_accuracy: 0.8528\n",
      "Epoch 3/25\n",
      "430/430 [==============================] - 1s 2ms/step - loss: 0.4121 - accuracy: 0.8545 - val_loss: 0.4114 - val_accuracy: 0.8582\n",
      "Epoch 4/25\n",
      "430/430 [==============================] - 1s 2ms/step - loss: 0.3837 - accuracy: 0.8641 - val_loss: 0.3868 - val_accuracy: 0.8686\n",
      "Epoch 5/25\n",
      "430/430 [==============================] - 1s 2ms/step - loss: 0.3639 - accuracy: 0.8717 - val_loss: 0.3765 - val_accuracy: 0.8686\n",
      "Epoch 6/25\n",
      "430/430 [==============================] - 1s 2ms/step - loss: 0.3456 - accuracy: 0.8772 - val_loss: 0.3737 - val_accuracy: 0.8712\n",
      "Epoch 7/25\n",
      "430/430 [==============================] - 1s 2ms/step - loss: 0.3330 - accuracy: 0.8809 - val_loss: 0.3633 - val_accuracy: 0.8716\n",
      "Epoch 8/25\n",
      "430/430 [==============================] - 1s 2ms/step - loss: 0.3184 - accuracy: 0.8860 - val_loss: 0.3945 - val_accuracy: 0.8610\n",
      "Epoch 9/25\n",
      "430/430 [==============================] - 1s 2ms/step - loss: 0.3065 - accuracy: 0.8891 - val_loss: 0.3486 - val_accuracy: 0.8756\n",
      "Epoch 10/25\n",
      "430/430 [==============================] - 1s 2ms/step - loss: 0.2943 - accuracy: 0.8927 - val_loss: 0.3397 - val_accuracy: 0.8804\n",
      "Epoch 11/25\n",
      "430/430 [==============================] - 1s 2ms/step - loss: 0.2838 - accuracy: 0.8960 - val_loss: 0.3455 - val_accuracy: 0.8808\n",
      "Epoch 12/25\n",
      "430/430 [==============================] - 1s 2ms/step - loss: 0.2707 - accuracy: 0.9026 - val_loss: 0.3639 - val_accuracy: 0.8698\n",
      "Epoch 13/25\n",
      "430/430 [==============================] - 1s 2ms/step - loss: 0.2537 - accuracy: 0.9084 - val_loss: 0.3358 - val_accuracy: 0.8842\n",
      "Epoch 14/25\n",
      "430/430 [==============================] - 1s 2ms/step - loss: 0.2404 - accuracy: 0.9135 - val_loss: 0.3460 - val_accuracy: 0.8802\n",
      "Epoch 15/25\n",
      "430/430 [==============================] - 1s 2ms/step - loss: 0.2279 - accuracy: 0.9184 - val_loss: 0.3258 - val_accuracy: 0.8846\n",
      "Epoch 16/25\n",
      "430/430 [==============================] - 1s 2ms/step - loss: 0.2159 - accuracy: 0.9234 - val_loss: 0.3297 - val_accuracy: 0.8846\n",
      "Epoch 17/25\n",
      "430/430 [==============================] - 1s 2ms/step - loss: 0.2062 - accuracy: 0.9264 - val_loss: 0.3347 - val_accuracy: 0.8872\n",
      "Epoch 18/25\n",
      "430/430 [==============================] - 1s 2ms/step - loss: 0.1979 - accuracy: 0.9306 - val_loss: 0.3241 - val_accuracy: 0.8904\n",
      "Epoch 19/25\n",
      "430/430 [==============================] - 1s 2ms/step - loss: 0.1892 - accuracy: 0.9341 - val_loss: 0.3229 - val_accuracy: 0.8906\n",
      "Epoch 20/25\n",
      "430/430 [==============================] - 1s 2ms/step - loss: 0.1821 - accuracy: 0.9367 - val_loss: 0.3225 - val_accuracy: 0.8926\n",
      "Epoch 21/25\n",
      "430/430 [==============================] - 1s 2ms/step - loss: 0.1753 - accuracy: 0.9401 - val_loss: 0.3219 - val_accuracy: 0.8912\n",
      "Epoch 22/25\n",
      "430/430 [==============================] - 1s 2ms/step - loss: 0.1701 - accuracy: 0.9420 - val_loss: 0.3181 - val_accuracy: 0.8950\n",
      "Epoch 23/25\n",
      "430/430 [==============================] - 1s 2ms/step - loss: 0.1656 - accuracy: 0.9441 - val_loss: 0.3185 - val_accuracy: 0.8946\n",
      "Epoch 24/25\n",
      "430/430 [==============================] - 1s 2ms/step - loss: 0.1628 - accuracy: 0.9457 - val_loss: 0.3176 - val_accuracy: 0.8944\n",
      "Epoch 25/25\n",
      "430/430 [==============================] - 1s 2ms/step - loss: 0.1611 - accuracy: 0.9462 - val_loss: 0.3168 - val_accuracy: 0.8950\n"
     ]
    }
   ],
   "source": [
    "n_epochs = 25\n",
    "onecycle = OneCycleScheduler(len(X_train) // batch_size * n_epochs, max_rate=0.05)\n",
    "history = model.fit(X_train_scaled, y_train, epochs=n_epochs, batch_size=batch_size,\n",
    "                    validation_data=(X_valid_scaled, y_valid),\n",
    "                    callbacks=[onecycle])"
   ]
  },
  {
   "cell_type": "code",
   "execution_count": 75,
   "id": "3ec5ea2d-2815-46cd-b537-5a8fe3aeb8f2",
   "metadata": {},
   "outputs": [
    {
     "name": "stdout",
     "output_type": "stream",
     "text": [
      "Epoch 1/25\n",
      "1719/1719 [==============================] - 4s 2ms/step - loss: 0.4895 - accuracy: 0.8277 - val_loss: 0.4093 - val_accuracy: 0.8606\n",
      "Epoch 2/25\n",
      "1719/1719 [==============================] - 3s 2ms/step - loss: 0.3820 - accuracy: 0.8649 - val_loss: 0.3741 - val_accuracy: 0.8702\n",
      "Epoch 3/25\n",
      "1719/1719 [==============================] - 3s 2ms/step - loss: 0.3488 - accuracy: 0.8765 - val_loss: 0.3735 - val_accuracy: 0.8680\n",
      "Epoch 4/25\n",
      "1719/1719 [==============================] - 3s 2ms/step - loss: 0.3265 - accuracy: 0.8835 - val_loss: 0.3494 - val_accuracy: 0.8812\n",
      "Epoch 5/25\n",
      "1719/1719 [==============================] - 3s 2ms/step - loss: 0.3105 - accuracy: 0.8898 - val_loss: 0.3430 - val_accuracy: 0.8790\n",
      "Epoch 6/25\n",
      "1719/1719 [==============================] - 3s 2ms/step - loss: 0.2960 - accuracy: 0.8951 - val_loss: 0.3411 - val_accuracy: 0.8802\n",
      "Epoch 7/25\n",
      "1719/1719 [==============================] - 3s 2ms/step - loss: 0.2856 - accuracy: 0.8986 - val_loss: 0.3355 - val_accuracy: 0.8818\n",
      "Epoch 8/25\n",
      "1719/1719 [==============================] - 3s 2ms/step - loss: 0.2762 - accuracy: 0.9018 - val_loss: 0.3363 - val_accuracy: 0.8814\n",
      "Epoch 9/25\n",
      "1719/1719 [==============================] - 3s 2ms/step - loss: 0.2679 - accuracy: 0.9054 - val_loss: 0.3264 - val_accuracy: 0.8836\n",
      "Epoch 10/25\n",
      "1719/1719 [==============================] - 3s 2ms/step - loss: 0.2609 - accuracy: 0.9065 - val_loss: 0.3240 - val_accuracy: 0.8852\n",
      "Epoch 11/25\n",
      "1719/1719 [==============================] - 3s 2ms/step - loss: 0.2552 - accuracy: 0.9089 - val_loss: 0.3251 - val_accuracy: 0.8856\n",
      "Epoch 12/25\n",
      "1719/1719 [==============================] - 3s 2ms/step - loss: 0.2498 - accuracy: 0.9126 - val_loss: 0.3299 - val_accuracy: 0.8810\n",
      "Epoch 13/25\n",
      "1719/1719 [==============================] - 3s 2ms/step - loss: 0.2450 - accuracy: 0.9136 - val_loss: 0.3218 - val_accuracy: 0.8870\n",
      "Epoch 14/25\n",
      "1719/1719 [==============================] - 3s 2ms/step - loss: 0.2416 - accuracy: 0.9147 - val_loss: 0.3223 - val_accuracy: 0.8864\n",
      "Epoch 15/25\n",
      "1719/1719 [==============================] - 3s 2ms/step - loss: 0.2376 - accuracy: 0.9166 - val_loss: 0.3208 - val_accuracy: 0.8876\n",
      "Epoch 16/25\n",
      "1719/1719 [==============================] - 3s 2ms/step - loss: 0.2344 - accuracy: 0.9178 - val_loss: 0.3185 - val_accuracy: 0.8882\n",
      "Epoch 17/25\n",
      "1719/1719 [==============================] - 3s 2ms/step - loss: 0.2318 - accuracy: 0.9188 - val_loss: 0.3200 - val_accuracy: 0.8892\n",
      "Epoch 18/25\n",
      "1719/1719 [==============================] - 3s 2ms/step - loss: 0.2292 - accuracy: 0.9196 - val_loss: 0.3170 - val_accuracy: 0.8898\n",
      "Epoch 19/25\n",
      "1719/1719 [==============================] - 3s 2ms/step - loss: 0.2271 - accuracy: 0.9206 - val_loss: 0.3198 - val_accuracy: 0.8888\n",
      "Epoch 20/25\n",
      "1719/1719 [==============================] - 3s 2ms/step - loss: 0.2251 - accuracy: 0.9218 - val_loss: 0.3171 - val_accuracy: 0.8900\n",
      "Epoch 21/25\n",
      "1719/1719 [==============================] - 3s 2ms/step - loss: 0.2230 - accuracy: 0.9224 - val_loss: 0.3181 - val_accuracy: 0.8896\n",
      "Epoch 22/25\n",
      "1719/1719 [==============================] - 3s 2ms/step - loss: 0.2217 - accuracy: 0.9221 - val_loss: 0.3164 - val_accuracy: 0.8904\n",
      "Epoch 23/25\n",
      "1719/1719 [==============================] - 3s 2ms/step - loss: 0.2202 - accuracy: 0.9232 - val_loss: 0.3172 - val_accuracy: 0.8896\n",
      "Epoch 24/25\n",
      "1719/1719 [==============================] - 3s 2ms/step - loss: 0.2189 - accuracy: 0.9241 - val_loss: 0.3168 - val_accuracy: 0.8896\n",
      "Epoch 25/25\n",
      "1719/1719 [==============================] - 3s 2ms/step - loss: 0.2180 - accuracy: 0.9237 - val_loss: 0.3167 - val_accuracy: 0.8898\n"
     ]
    }
   ],
   "source": [
    "#tf.keras 스케줄러\n",
    "model = keras.models.Sequential([\n",
    "    keras.layers.Flatten(input_shape=[28, 28]),\n",
    "    keras.layers.Dense(300, activation=\"selu\", kernel_initializer=\"lecun_normal\"),\n",
    "    keras.layers.Dense(100, activation=\"selu\", kernel_initializer=\"lecun_normal\"),\n",
    "    keras.layers.Dense(10, activation=\"softmax\")\n",
    "])\n",
    "s = 20 * len(X_train) // 32 # number of steps in 20 epochs (batch size = 32)\n",
    "learning_rate = keras.optimizers.schedules.ExponentialDecay(0.01, s, 0.1)\n",
    "optimizer = keras.optimizers.SGD(learning_rate)\n",
    "model.compile(loss=\"sparse_categorical_crossentropy\", optimizer=optimizer, metrics=[\"accuracy\"])\n",
    "n_epochs = 25\n",
    "history = model.fit(X_train_scaled, y_train, epochs=n_epochs,\n",
    "                    validation_data=(X_valid_scaled, y_valid))"
   ]
  },
  {
   "cell_type": "code",
   "execution_count": 76,
   "id": "e54ff39d-abc5-4bd1-b7ab-4420473ab16d",
   "metadata": {},
   "outputs": [],
   "source": [
    "learning_rate = keras.optimizers.schedules.PiecewiseConstantDecay(\n",
    "    boundaries=[5. * n_steps_per_epoch, 15. * n_steps_per_epoch],\n",
    "    values=[0.01, 0.005, 0.001])"
   ]
  },
  {
   "cell_type": "markdown",
   "id": "37773ee2-c273-4026-aadf-70bc1352c38c",
   "metadata": {},
   "source": [
    "## 11.4 규제를 사용해 과대적합 피하기"
   ]
  },
  {
   "cell_type": "markdown",
   "id": "d0064d9b-2482-4a4a-a55d-332379c01618",
   "metadata": {},
   "source": [
    "### 11.4.1 $ℓ_{1} 과 ℓ_{2}$ 규제"
   ]
  },
  {
   "cell_type": "code",
   "execution_count": 77,
   "id": "123a7bc3-49fe-43ca-85a7-439b423b8d9f",
   "metadata": {},
   "outputs": [],
   "source": [
    "#케라스 층의 연결 가중치에 규제 강도 0.01을 사용하여 ℓ_2 규제 적용\n",
    "layer = keras.layers.Dense(100, activation=\"elu\",\n",
    "                           kernel_initializer=\"he_normal\",\n",
    "                           kernel_regularizer=keras.regularizers.l2(0.01))"
   ]
  },
  {
   "cell_type": "code",
   "execution_count": 78,
   "id": "b801ff7c-1613-467f-82b4-8d48b022a028",
   "metadata": {},
   "outputs": [
    {
     "name": "stdout",
     "output_type": "stream",
     "text": [
      "Epoch 1/2\n",
      "1719/1719 [==============================] - 10s 5ms/step - loss: 1.5816 - accuracy: 0.8115 - val_loss: 0.7197 - val_accuracy: 0.8302\n",
      "Epoch 2/2\n",
      "1719/1719 [==============================] - 9s 5ms/step - loss: 0.7210 - accuracy: 0.8276 - val_loss: 0.6862 - val_accuracy: 0.8360\n"
     ]
    }
   ],
   "source": [
    "model = keras.models.Sequential([\n",
    "    keras.layers.Flatten(input_shape=[28, 28]),\n",
    "    keras.layers.Dense(300, activation=\"elu\",\n",
    "                       kernel_initializer=\"he_normal\",\n",
    "                       kernel_regularizer=keras.regularizers.l2(0.01)),\n",
    "    keras.layers.Dense(100, activation=\"elu\",\n",
    "                       kernel_initializer=\"he_normal\",\n",
    "                       kernel_regularizer=keras.regularizers.l2(0.01)),\n",
    "    keras.layers.Dense(10, activation=\"softmax\",\n",
    "                       kernel_regularizer=keras.regularizers.l2(0.01))\n",
    "])\n",
    "model.compile(loss=\"sparse_categorical_crossentropy\", optimizer=\"nadam\", metrics=[\"accuracy\"])\n",
    "n_epochs = 2\n",
    "history = model.fit(X_train_scaled, y_train, epochs=n_epochs,\n",
    "                    validation_data=(X_valid_scaled, y_valid))"
   ]
  },
  {
   "cell_type": "code",
   "execution_count": 79,
   "id": "6d33fec4-02d5-4062-8f63-19029aed3421",
   "metadata": {},
   "outputs": [
    {
     "name": "stdout",
     "output_type": "stream",
     "text": [
      "Epoch 1/2\n",
      "1719/1719 [==============================] - 9s 5ms/step - loss: 1.6630 - accuracy: 0.8123 - val_loss: 0.7201 - val_accuracy: 0.8308\n",
      "Epoch 2/2\n",
      "1719/1719 [==============================] - 9s 5ms/step - loss: 0.7188 - accuracy: 0.8266 - val_loss: 0.6806 - val_accuracy: 0.8402\n"
     ]
    }
   ],
   "source": [
    "#반복문을 피하기 위해 코드를 리팩터링\n",
    "#파이썬의 functions.partial() 함수를 사용하여 기본 매개변수 값을 함수 호출을 감싸기\n",
    "from functools import partial\n",
    "\n",
    "RegularizedDense = partial(keras.layers.Dense,\n",
    "                           activation=\"elu\",\n",
    "                           kernel_initializer=\"he_normal\",\n",
    "                           kernel_regularizer=keras.regularizers.l2(0.01))\n",
    "\n",
    "model = keras.models.Sequential([\n",
    "    keras.layers.Flatten(input_shape=[28, 28]),\n",
    "    RegularizedDense(300),\n",
    "    RegularizedDense(100),\n",
    "    RegularizedDense(10, activation=\"softmax\")\n",
    "])\n",
    "model.compile(loss=\"sparse_categorical_crossentropy\", optimizer=\"nadam\", metrics=[\"accuracy\"])\n",
    "n_epochs = 2\n",
    "history = model.fit(X_train_scaled, y_train, epochs=n_epochs,\n",
    "                    validation_data=(X_valid_scaled, y_valid))"
   ]
  },
  {
   "cell_type": "markdown",
   "id": "434983c4-cc92-4a7c-8bb3-0b0f8e16cd44",
   "metadata": {},
   "source": [
    "### 11.4.2 드롭아웃"
   ]
  },
  {
   "cell_type": "code",
   "execution_count": 80,
   "id": "44e62b7e-0042-41a0-a7c2-88be32abb98f",
   "metadata": {},
   "outputs": [
    {
     "name": "stdout",
     "output_type": "stream",
     "text": [
      "Epoch 1/2\n",
      "1719/1719 [==============================] - 9s 5ms/step - loss: 0.5704 - accuracy: 0.8031 - val_loss: 0.3605 - val_accuracy: 0.8740\n",
      "Epoch 2/2\n",
      "1719/1719 [==============================] - 9s 5ms/step - loss: 0.4185 - accuracy: 0.8460 - val_loss: 0.3541 - val_accuracy: 0.8680\n"
     ]
    }
   ],
   "source": [
    "#드롭아웃 비율을 0.2를 사용한 드롭아웃 규제를 모든 Dense층 이전에 적용하는 코드\n",
    "model = keras.models.Sequential([\n",
    "    keras.layers.Flatten(input_shape=[28, 28]),\n",
    "    keras.layers.Dropout(rate=0.2),\n",
    "    keras.layers.Dense(300, activation=\"elu\", kernel_initializer=\"he_normal\"),\n",
    "    keras.layers.Dropout(rate=0.2),\n",
    "    keras.layers.Dense(100, activation=\"elu\", kernel_initializer=\"he_normal\"),\n",
    "    keras.layers.Dropout(rate=0.2),\n",
    "    keras.layers.Dense(10, activation=\"softmax\")\n",
    "])\n",
    "model.compile(loss=\"sparse_categorical_crossentropy\", optimizer=\"nadam\", metrics=[\"accuracy\"])\n",
    "n_epochs = 2\n",
    "history = model.fit(X_train_scaled, y_train, epochs=n_epochs,\n",
    "                    validation_data=(X_valid_scaled, y_valid))"
   ]
  },
  {
   "cell_type": "markdown",
   "id": "a3bb0296-3e2d-4d6f-adb4-32f8a74ad6eb",
   "metadata": {},
   "source": [
    "### 11.4.3 몬테 카를로 드롭아웃"
   ]
  },
  {
   "cell_type": "code",
   "execution_count": 81,
   "id": "a7b1c299-ea6a-4d64-a9e6-d710550ea287",
   "metadata": {},
   "outputs": [],
   "source": [
    "#MC드롭아웃\n",
    "y_probas = np.stack([model(X_test_scaled, training=True)\n",
    "                     for sample in range(100)])\n",
    "y_proba = y_probas.mean(axis=0)\n",
    "y_std = y_probas.std(axis=0)"
   ]
  },
  {
   "cell_type": "code",
   "execution_count": 82,
   "id": "c084e9a7-415c-4731-85a8-55511a3f8fa4",
   "metadata": {},
   "outputs": [
    {
     "data": {
      "text/plain": [
       "array([[0.  , 0.  , 0.  , 0.  , 0.  , 0.01, 0.  , 0.13, 0.  , 0.85]],\n",
       "      dtype=float32)"
      ]
     },
     "execution_count": 82,
     "metadata": {},
     "output_type": "execute_result"
    }
   ],
   "source": [
    "#드롭아웃을 끈 패션MNIST\n",
    "np.round(model.predict(X_test_scaled[:1]), 2)"
   ]
  },
  {
   "cell_type": "code",
   "execution_count": 83,
   "id": "191255ff-a1d3-4e60-8a32-e94c52011e97",
   "metadata": {},
   "outputs": [
    {
     "data": {
      "text/plain": [
       "array([[[0.  , 0.  , 0.  , 0.  , 0.  , 0.25, 0.  , 0.47, 0.  , 0.28]],\n",
       "\n",
       "       [[0.  , 0.  , 0.  , 0.  , 0.  , 0.01, 0.  , 0.07, 0.  , 0.92]],\n",
       "\n",
       "       [[0.  , 0.  , 0.  , 0.  , 0.  , 0.07, 0.  , 0.08, 0.  , 0.85]],\n",
       "\n",
       "       [[0.  , 0.  , 0.  , 0.  , 0.  , 0.02, 0.  , 0.08, 0.  , 0.9 ]],\n",
       "\n",
       "       [[0.  , 0.  , 0.  , 0.  , 0.  , 0.04, 0.  , 0.19, 0.  , 0.77]],\n",
       "\n",
       "       [[0.  , 0.  , 0.  , 0.  , 0.  , 0.09, 0.  , 0.07, 0.  , 0.84]],\n",
       "\n",
       "       [[0.  , 0.  , 0.  , 0.  , 0.  , 0.02, 0.  , 0.07, 0.  , 0.91]],\n",
       "\n",
       "       [[0.  , 0.  , 0.  , 0.  , 0.  , 0.  , 0.  , 0.1 , 0.  , 0.9 ]],\n",
       "\n",
       "       [[0.  , 0.  , 0.  , 0.  , 0.  , 0.1 , 0.  , 0.13, 0.  , 0.78]],\n",
       "\n",
       "       [[0.  , 0.  , 0.  , 0.  , 0.  , 0.02, 0.  , 0.29, 0.  , 0.69]],\n",
       "\n",
       "       [[0.  , 0.  , 0.  , 0.  , 0.  , 0.07, 0.  , 0.04, 0.  , 0.9 ]],\n",
       "\n",
       "       [[0.  , 0.  , 0.  , 0.  , 0.  , 0.2 , 0.  , 0.22, 0.  , 0.58]],\n",
       "\n",
       "       [[0.  , 0.  , 0.  , 0.  , 0.  , 0.  , 0.  , 0.1 , 0.  , 0.9 ]],\n",
       "\n",
       "       [[0.  , 0.  , 0.  , 0.  , 0.  , 0.02, 0.  , 0.28, 0.  , 0.7 ]],\n",
       "\n",
       "       [[0.  , 0.  , 0.  , 0.  , 0.  , 0.01, 0.  , 0.09, 0.  , 0.9 ]],\n",
       "\n",
       "       [[0.  , 0.  , 0.  , 0.  , 0.  , 0.  , 0.  , 0.  , 0.  , 0.99]],\n",
       "\n",
       "       [[0.  , 0.  , 0.  , 0.  , 0.  , 0.03, 0.  , 0.22, 0.  , 0.75]],\n",
       "\n",
       "       [[0.  , 0.  , 0.  , 0.  , 0.  , 0.04, 0.  , 0.14, 0.  , 0.83]],\n",
       "\n",
       "       [[0.  , 0.  , 0.  , 0.  , 0.  , 0.03, 0.  , 0.43, 0.  , 0.54]],\n",
       "\n",
       "       [[0.  , 0.  , 0.  , 0.  , 0.  , 0.03, 0.  , 0.6 , 0.  , 0.36]],\n",
       "\n",
       "       [[0.  , 0.  , 0.  , 0.  , 0.  , 0.31, 0.  , 0.02, 0.  , 0.66]],\n",
       "\n",
       "       [[0.  , 0.  , 0.  , 0.  , 0.  , 0.  , 0.  , 0.04, 0.  , 0.96]],\n",
       "\n",
       "       [[0.  , 0.  , 0.  , 0.  , 0.  , 0.  , 0.  , 0.06, 0.  , 0.94]],\n",
       "\n",
       "       [[0.  , 0.  , 0.  , 0.  , 0.  , 0.  , 0.  , 0.18, 0.  , 0.81]],\n",
       "\n",
       "       [[0.  , 0.  , 0.  , 0.  , 0.  , 0.02, 0.  , 0.7 , 0.  , 0.28]],\n",
       "\n",
       "       [[0.  , 0.  , 0.  , 0.  , 0.  , 0.13, 0.  , 0.13, 0.  , 0.75]],\n",
       "\n",
       "       [[0.  , 0.  , 0.  , 0.  , 0.  , 0.05, 0.  , 0.22, 0.  , 0.74]],\n",
       "\n",
       "       [[0.  , 0.  , 0.  , 0.  , 0.  , 0.04, 0.  , 0.04, 0.  , 0.92]],\n",
       "\n",
       "       [[0.  , 0.  , 0.  , 0.  , 0.  , 0.01, 0.  , 0.16, 0.  , 0.83]],\n",
       "\n",
       "       [[0.  , 0.  , 0.  , 0.  , 0.  , 0.  , 0.  , 0.09, 0.  , 0.91]],\n",
       "\n",
       "       [[0.  , 0.  , 0.  , 0.  , 0.  , 0.01, 0.  , 0.45, 0.  , 0.54]],\n",
       "\n",
       "       [[0.  , 0.  , 0.  , 0.  , 0.  , 0.16, 0.  , 0.57, 0.  , 0.27]],\n",
       "\n",
       "       [[0.  , 0.  , 0.  , 0.  , 0.  , 0.  , 0.  , 0.05, 0.  , 0.95]],\n",
       "\n",
       "       [[0.  , 0.  , 0.  , 0.  , 0.  , 0.  , 0.  , 0.01, 0.  , 0.99]],\n",
       "\n",
       "       [[0.  , 0.  , 0.  , 0.  , 0.  , 0.  , 0.  , 0.14, 0.  , 0.86]],\n",
       "\n",
       "       [[0.  , 0.  , 0.  , 0.  , 0.  , 0.  , 0.  , 0.2 , 0.  , 0.79]],\n",
       "\n",
       "       [[0.  , 0.  , 0.  , 0.  , 0.  , 0.02, 0.  , 0.59, 0.  , 0.39]],\n",
       "\n",
       "       [[0.  , 0.  , 0.  , 0.  , 0.  , 0.03, 0.  , 0.03, 0.  , 0.94]],\n",
       "\n",
       "       [[0.  , 0.  , 0.  , 0.  , 0.  , 0.12, 0.  , 0.25, 0.  , 0.63]],\n",
       "\n",
       "       [[0.  , 0.  , 0.  , 0.  , 0.  , 0.  , 0.  , 0.04, 0.  , 0.96]],\n",
       "\n",
       "       [[0.  , 0.  , 0.  , 0.  , 0.  , 0.  , 0.  , 0.16, 0.  , 0.83]],\n",
       "\n",
       "       [[0.  , 0.  , 0.  , 0.  , 0.  , 0.03, 0.  , 0.23, 0.  , 0.74]],\n",
       "\n",
       "       [[0.  , 0.  , 0.  , 0.  , 0.  , 0.15, 0.  , 0.67, 0.  , 0.18]],\n",
       "\n",
       "       [[0.  , 0.  , 0.  , 0.  , 0.  , 0.03, 0.  , 0.06, 0.  , 0.92]],\n",
       "\n",
       "       [[0.  , 0.  , 0.  , 0.  , 0.  , 0.05, 0.  , 0.16, 0.  , 0.79]],\n",
       "\n",
       "       [[0.  , 0.  , 0.  , 0.  , 0.  , 0.16, 0.  , 0.19, 0.  , 0.65]],\n",
       "\n",
       "       [[0.  , 0.  , 0.  , 0.  , 0.  , 0.03, 0.  , 0.53, 0.  , 0.44]],\n",
       "\n",
       "       [[0.  , 0.  , 0.  , 0.  , 0.  , 0.18, 0.  , 0.22, 0.  , 0.6 ]],\n",
       "\n",
       "       [[0.  , 0.  , 0.  , 0.  , 0.  , 0.  , 0.  , 0.05, 0.  , 0.95]],\n",
       "\n",
       "       [[0.  , 0.  , 0.  , 0.  , 0.  , 0.02, 0.  , 0.04, 0.  , 0.95]],\n",
       "\n",
       "       [[0.  , 0.  , 0.  , 0.  , 0.  , 0.02, 0.  , 0.22, 0.  , 0.76]],\n",
       "\n",
       "       [[0.  , 0.  , 0.  , 0.  , 0.  , 0.03, 0.  , 0.29, 0.  , 0.68]],\n",
       "\n",
       "       [[0.  , 0.  , 0.  , 0.  , 0.  , 0.08, 0.  , 0.02, 0.  , 0.9 ]],\n",
       "\n",
       "       [[0.  , 0.  , 0.  , 0.  , 0.  , 0.  , 0.  , 0.22, 0.  , 0.77]],\n",
       "\n",
       "       [[0.  , 0.  , 0.  , 0.  , 0.  , 0.01, 0.  , 0.11, 0.  , 0.88]],\n",
       "\n",
       "       [[0.  , 0.  , 0.  , 0.  , 0.  , 0.02, 0.  , 0.14, 0.  , 0.84]],\n",
       "\n",
       "       [[0.  , 0.  , 0.  , 0.  , 0.  , 0.01, 0.  , 0.35, 0.  , 0.64]],\n",
       "\n",
       "       [[0.  , 0.  , 0.  , 0.  , 0.  , 0.01, 0.  , 0.19, 0.  , 0.8 ]],\n",
       "\n",
       "       [[0.  , 0.  , 0.  , 0.  , 0.  , 0.  , 0.  , 0.24, 0.  , 0.76]],\n",
       "\n",
       "       [[0.  , 0.  , 0.  , 0.  , 0.  , 0.02, 0.  , 0.67, 0.  , 0.31]],\n",
       "\n",
       "       [[0.  , 0.  , 0.  , 0.  , 0.  , 0.02, 0.  , 0.21, 0.  , 0.76]],\n",
       "\n",
       "       [[0.  , 0.  , 0.  , 0.  , 0.  , 0.04, 0.  , 0.06, 0.  , 0.9 ]],\n",
       "\n",
       "       [[0.  , 0.  , 0.  , 0.  , 0.  , 0.03, 0.  , 0.46, 0.  , 0.51]],\n",
       "\n",
       "       [[0.  , 0.  , 0.  , 0.  , 0.  , 0.02, 0.  , 0.48, 0.  , 0.5 ]],\n",
       "\n",
       "       [[0.  , 0.  , 0.  , 0.  , 0.  , 0.03, 0.  , 0.2 , 0.  , 0.77]],\n",
       "\n",
       "       [[0.  , 0.  , 0.  , 0.  , 0.  , 0.03, 0.  , 0.33, 0.  , 0.64]],\n",
       "\n",
       "       [[0.  , 0.  , 0.  , 0.  , 0.  , 0.03, 0.  , 0.08, 0.  , 0.88]],\n",
       "\n",
       "       [[0.  , 0.  , 0.  , 0.  , 0.  , 0.09, 0.  , 0.02, 0.  , 0.89]],\n",
       "\n",
       "       [[0.  , 0.  , 0.  , 0.  , 0.  , 0.35, 0.  , 0.51, 0.  , 0.14]],\n",
       "\n",
       "       [[0.  , 0.  , 0.  , 0.  , 0.  , 0.  , 0.  , 0.07, 0.  , 0.93]],\n",
       "\n",
       "       [[0.  , 0.  , 0.  , 0.  , 0.  , 0.01, 0.  , 0.5 , 0.  , 0.49]],\n",
       "\n",
       "       [[0.  , 0.  , 0.  , 0.  , 0.  , 0.11, 0.  , 0.52, 0.  , 0.37]],\n",
       "\n",
       "       [[0.  , 0.  , 0.  , 0.  , 0.  , 0.19, 0.  , 0.37, 0.  , 0.44]],\n",
       "\n",
       "       [[0.  , 0.  , 0.  , 0.  , 0.  , 0.06, 0.  , 0.12, 0.  , 0.81]],\n",
       "\n",
       "       [[0.  , 0.  , 0.  , 0.  , 0.  , 0.  , 0.  , 0.02, 0.  , 0.98]],\n",
       "\n",
       "       [[0.  , 0.  , 0.  , 0.  , 0.  , 0.03, 0.  , 0.04, 0.  , 0.93]],\n",
       "\n",
       "       [[0.  , 0.  , 0.  , 0.  , 0.  , 0.02, 0.  , 0.18, 0.  , 0.8 ]],\n",
       "\n",
       "       [[0.  , 0.  , 0.  , 0.  , 0.  , 0.01, 0.  , 0.36, 0.  , 0.63]],\n",
       "\n",
       "       [[0.  , 0.  , 0.  , 0.  , 0.  , 0.  , 0.  , 0.14, 0.  , 0.85]],\n",
       "\n",
       "       [[0.  , 0.  , 0.  , 0.  , 0.  , 0.07, 0.  , 0.18, 0.  , 0.76]],\n",
       "\n",
       "       [[0.  , 0.  , 0.  , 0.  , 0.  , 0.08, 0.  , 0.27, 0.  , 0.64]],\n",
       "\n",
       "       [[0.  , 0.  , 0.  , 0.  , 0.  , 0.01, 0.  , 0.13, 0.  , 0.86]],\n",
       "\n",
       "       [[0.  , 0.  , 0.  , 0.  , 0.  , 0.02, 0.  , 0.1 , 0.  , 0.88]],\n",
       "\n",
       "       [[0.  , 0.  , 0.  , 0.  , 0.  , 0.  , 0.  , 0.03, 0.  , 0.97]],\n",
       "\n",
       "       [[0.  , 0.  , 0.  , 0.  , 0.  , 0.01, 0.  , 0.08, 0.  , 0.9 ]],\n",
       "\n",
       "       [[0.  , 0.  , 0.  , 0.  , 0.  , 0.04, 0.  , 0.69, 0.  , 0.27]],\n",
       "\n",
       "       [[0.  , 0.  , 0.  , 0.  , 0.  , 0.15, 0.  , 0.06, 0.  , 0.79]],\n",
       "\n",
       "       [[0.  , 0.  , 0.  , 0.  , 0.  , 0.09, 0.  , 0.26, 0.  , 0.65]],\n",
       "\n",
       "       [[0.  , 0.  , 0.  , 0.  , 0.  , 0.  , 0.  , 0.11, 0.  , 0.89]],\n",
       "\n",
       "       [[0.  , 0.  , 0.  , 0.  , 0.  , 0.02, 0.  , 0.5 , 0.  , 0.48]],\n",
       "\n",
       "       [[0.  , 0.  , 0.  , 0.  , 0.  , 0.01, 0.  , 0.01, 0.  , 0.98]],\n",
       "\n",
       "       [[0.  , 0.  , 0.  , 0.  , 0.  , 0.01, 0.  , 0.08, 0.  , 0.92]],\n",
       "\n",
       "       [[0.  , 0.  , 0.  , 0.  , 0.  , 0.28, 0.  , 0.51, 0.  , 0.21]],\n",
       "\n",
       "       [[0.  , 0.  , 0.  , 0.  , 0.  , 0.01, 0.  , 0.64, 0.  , 0.35]],\n",
       "\n",
       "       [[0.  , 0.  , 0.  , 0.  , 0.  , 0.02, 0.  , 0.63, 0.  , 0.35]],\n",
       "\n",
       "       [[0.  , 0.  , 0.  , 0.  , 0.  , 0.02, 0.  , 0.01, 0.  , 0.97]],\n",
       "\n",
       "       [[0.  , 0.  , 0.  , 0.  , 0.  , 0.04, 0.  , 0.09, 0.  , 0.87]],\n",
       "\n",
       "       [[0.  , 0.  , 0.  , 0.  , 0.  , 0.01, 0.  , 0.06, 0.  , 0.93]],\n",
       "\n",
       "       [[0.  , 0.  , 0.  , 0.  , 0.  , 0.01, 0.  , 0.32, 0.  , 0.67]],\n",
       "\n",
       "       [[0.  , 0.  , 0.  , 0.  , 0.  , 0.1 , 0.  , 0.1 , 0.  , 0.8 ]]],\n",
       "      dtype=float32)"
      ]
     },
     "execution_count": 83,
     "metadata": {},
     "output_type": "execute_result"
    }
   ],
   "source": [
    "#드롭아웃을 활성화\n",
    "np.round(y_probas[:, :1], 2)"
   ]
  },
  {
   "cell_type": "code",
   "execution_count": null,
   "id": "8e39858c-87d3-4101-9a98-e597cc001cc7",
   "metadata": {},
   "outputs": [],
   "source": []
  }
 ],
 "metadata": {
  "kernelspec": {
   "display_name": "Python 3",
   "language": "python",
   "name": "python3"
  },
  "language_info": {
   "codemirror_mode": {
    "name": "ipython",
    "version": 3
   },
   "file_extension": ".py",
   "mimetype": "text/x-python",
   "name": "python",
   "nbconvert_exporter": "python",
   "pygments_lexer": "ipython3",
   "version": "3.8.8"
  }
 },
 "nbformat": 4,
 "nbformat_minor": 5
}
