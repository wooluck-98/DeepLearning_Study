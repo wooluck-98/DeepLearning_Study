{
 "cells": [
  {
   "cell_type": "code",
   "execution_count": 54,
   "source": [
    "import warnings\r\n",
    "warnings.filterwarnings(action='ignore')"
   ],
   "outputs": [],
   "metadata": {}
  },
  {
   "cell_type": "code",
   "execution_count": 55,
   "source": [
    "import sklearn\r\n",
    "\r\n",
    "import tensorflow as tf\r\n",
    "from tensorflow import keras\r\n",
    "\r\n",
    "import numpy as np\r\n",
    "import os\r\n",
    "\r\n",
    "np.random.seed(42)\r\n",
    "\r\n",
    "%matplotlib inline\r\n",
    "import matplotlib as mpl\r\n",
    "import matplotlib.pyplot as plt\r\n",
    "mpl.rc('axes', labelsize=14)\r\n",
    "mpl.rc('xtick', labelsize=12)\r\n",
    "mpl.rc('ytick', labelsize=12)"
   ],
   "outputs": [],
   "metadata": {}
  },
  {
   "cell_type": "markdown",
   "source": [
    "# 핸즈온 머신러닝 2판 - Chapter 11 심층 신경망 훈련하기"
   ],
   "metadata": {}
  },
  {
   "cell_type": "markdown",
   "source": [
    "## 11.1 그레이디언트 소실과 폭주 문제"
   ],
   "metadata": {}
  },
  {
   "cell_type": "markdown",
   "source": [
    "### 11.1.1 글러럿과 He초기화"
   ],
   "metadata": {}
  },
  {
   "cell_type": "code",
   "execution_count": 56,
   "source": [
    "#케라스는 기본적으로 균등분포의 글로럿 초기화 사용\r\n",
    "#kernel_initializer = \"he_uniform\" / kernel_initializer = \"he_normal\"로 바꾸어 He 초기호 사용\r\n",
    "keras.layers.Dense(10, activation=\"relu\", kernel_initializer = \"he_normal\")"
   ],
   "outputs": [
    {
     "output_type": "execute_result",
     "data": {
      "text/plain": [
       "<keras.layers.core.dense.Dense at 0x1f755d59eb0>"
      ]
     },
     "metadata": {},
     "execution_count": 56
    }
   ],
   "metadata": {}
  },
  {
   "cell_type": "code",
   "execution_count": 57,
   "source": [
    "#fan_in 대신 fan_out 기반의 균등분포 He 초기화\r\n",
    "he_avg_init = keras.initializers.VarianceScaling(scale = 2., mode = 'fan_avg', distribution = 'uniform')\r\n",
    "keras.layers.Dense(10, activation = \"sigmoid\", kernel_initializer = he_avg_init)"
   ],
   "outputs": [
    {
     "output_type": "execute_result",
     "data": {
      "text/plain": [
       "<keras.layers.core.dense.Dense at 0x1f75566b850>"
      ]
     },
     "metadata": {},
     "execution_count": 57
    }
   ],
   "metadata": {}
  },
  {
   "cell_type": "markdown",
   "source": [
    "### 11.1.2 수렴하지 않는 활성화 함수"
   ],
   "metadata": {}
  },
  {
   "cell_type": "markdown",
   "source": [
    "LeakyReLU 사용하기"
   ],
   "metadata": {}
  },
  {
   "cell_type": "code",
   "execution_count": 58,
   "source": [
    "def leaky_relu(z, alpha = 0.01):\r\n",
    "    return np.maximum(alpha * z, z)"
   ],
   "outputs": [],
   "metadata": {}
  },
  {
   "cell_type": "code",
   "execution_count": 59,
   "source": [
    "#LeakyReLU를 사용해 패션MNIST에서 신경망 훈련\r\n",
    "(X_train_full, y_train_full), (X_test, y_test) = keras.datasets.fashion_mnist.load_data()\r\n",
    "X_train_full = X_train_full / 255.0\r\n",
    "X_test = X_test / 255.0\r\n",
    "X_valid, X_train = X_train_full[:5000], X_train_full[5000:]\r\n",
    "y_valid, y_train = y_train_full[:5000], y_train_full[5000:]"
   ],
   "outputs": [],
   "metadata": {}
  },
  {
   "cell_type": "code",
   "execution_count": 60,
   "source": [
    "tf.random.set_seed(42)\r\n",
    "np.random.seed(42)\r\n",
    "\r\n",
    "model = keras.models.Sequential([\r\n",
    "    keras.layers.Flatten(input_shape=[28, 28]),\r\n",
    "    keras.layers.Dense(300, kernel_initializer=\"he_normal\"),\r\n",
    "    keras.layers.LeakyReLU(),\r\n",
    "    keras.layers.Dense(100, kernel_initializer=\"he_normal\"),\r\n",
    "    keras.layers.LeakyReLU(),\r\n",
    "    keras.layers.Dense(10, activation=\"softmax\")\r\n",
    "])"
   ],
   "outputs": [],
   "metadata": {}
  },
  {
   "cell_type": "code",
   "execution_count": 61,
   "source": [
    "model.compile(loss=\"sparse_categorical_crossentropy\",\r\n",
    "              optimizer=keras.optimizers.SGD(lr=1e-3),\r\n",
    "              metrics=[\"accuracy\"])\r\n",
    "\r\n",
    "history = model.fit(X_train, y_train, epochs=10,\r\n",
    "                    validation_data=(X_valid, y_valid))"
   ],
   "outputs": [
    {
     "output_type": "stream",
     "name": "stdout",
     "text": [
      "Epoch 1/10\n",
      "1719/1719 [==============================] - 4s 2ms/step - loss: 1.2819 - accuracy: 0.6229 - val_loss: 0.8886 - val_accuracy: 0.7160\n",
      "Epoch 2/10\n",
      "1719/1719 [==============================] - 3s 2ms/step - loss: 0.7955 - accuracy: 0.7361 - val_loss: 0.7130 - val_accuracy: 0.7658\n",
      "Epoch 3/10\n",
      "1719/1719 [==============================] - 3s 2ms/step - loss: 0.6816 - accuracy: 0.7722 - val_loss: 0.6427 - val_accuracy: 0.7898\n",
      "Epoch 4/10\n",
      "1719/1719 [==============================] - 3s 2ms/step - loss: 0.6218 - accuracy: 0.7944 - val_loss: 0.5900 - val_accuracy: 0.8062\n",
      "Epoch 5/10\n",
      "1719/1719 [==============================] - 3s 2ms/step - loss: 0.5832 - accuracy: 0.8074 - val_loss: 0.5582 - val_accuracy: 0.8198\n",
      "Epoch 6/10\n",
      "1719/1719 [==============================] - 3s 2ms/step - loss: 0.5553 - accuracy: 0.8157 - val_loss: 0.5350 - val_accuracy: 0.8236\n",
      "Epoch 7/10\n",
      "1719/1719 [==============================] - 3s 2ms/step - loss: 0.5339 - accuracy: 0.8224 - val_loss: 0.5157 - val_accuracy: 0.8304\n",
      "Epoch 8/10\n",
      "1719/1719 [==============================] - 3s 2ms/step - loss: 0.5173 - accuracy: 0.8272 - val_loss: 0.5079 - val_accuracy: 0.8288\n",
      "Epoch 9/10\n",
      "1719/1719 [==============================] - 3s 2ms/step - loss: 0.5040 - accuracy: 0.8288 - val_loss: 0.4895 - val_accuracy: 0.8388\n",
      "Epoch 10/10\n",
      "1719/1719 [==============================] - 3s 2ms/step - loss: 0.4924 - accuracy: 0.8321 - val_loss: 0.4817 - val_accuracy: 0.8396\n"
     ]
    }
   ],
   "metadata": {}
  },
  {
   "cell_type": "markdown",
   "source": [
    "PReLU 사용하기"
   ],
   "metadata": {}
  },
  {
   "cell_type": "code",
   "execution_count": 62,
   "source": [
    "model = keras.models.Sequential([\r\n",
    "    keras.layers.Flatten(input_shape=[28, 28]),\r\n",
    "    keras.layers.Dense(300, kernel_initializer=\"he_normal\"),\r\n",
    "    keras.layers.PReLU(),\r\n",
    "    keras.layers.Dense(100, kernel_initializer=\"he_normal\"),\r\n",
    "    keras.layers.PReLU(),\r\n",
    "    keras.layers.Dense(10, activation=\"softmax\")\r\n",
    "])"
   ],
   "outputs": [],
   "metadata": {}
  },
  {
   "cell_type": "code",
   "execution_count": 63,
   "source": [
    "\r\n",
    "model.compile(loss=\"sparse_categorical_crossentropy\",\r\n",
    "              optimizer=keras.optimizers.SGD(lr=1e-3),\r\n",
    "              metrics=[\"accuracy\"])\r\n",
    "\r\n",
    "history = model.fit(X_train, y_train, epochs=10,\r\n",
    "                    validation_data=(X_valid, y_valid))"
   ],
   "outputs": [
    {
     "output_type": "stream",
     "name": "stdout",
     "text": [
      "Epoch 1/10\n",
      "1719/1719 [==============================] - 5s 3ms/step - loss: 1.3337 - accuracy: 0.6140 - val_loss: 0.8952 - val_accuracy: 0.7192\n",
      "Epoch 2/10\n",
      "1719/1719 [==============================] - 4s 2ms/step - loss: 0.8048 - accuracy: 0.7413 - val_loss: 0.7103 - val_accuracy: 0.7742\n",
      "Epoch 3/10\n",
      "1719/1719 [==============================] - 4s 2ms/step - loss: 0.6849 - accuracy: 0.7771 - val_loss: 0.6404 - val_accuracy: 0.7962\n",
      "Epoch 4/10\n",
      "1719/1719 [==============================] - 4s 2ms/step - loss: 0.6237 - accuracy: 0.7941 - val_loss: 0.5859 - val_accuracy: 0.8128\n",
      "Epoch 5/10\n",
      "1719/1719 [==============================] - 4s 2ms/step - loss: 0.5846 - accuracy: 0.8073 - val_loss: 0.5542 - val_accuracy: 0.8192\n",
      "Epoch 6/10\n",
      "1719/1719 [==============================] - 4s 2ms/step - loss: 0.5567 - accuracy: 0.8146 - val_loss: 0.5314 - val_accuracy: 0.8242\n",
      "Epoch 7/10\n",
      "1719/1719 [==============================] - 4s 3ms/step - loss: 0.5352 - accuracy: 0.8204 - val_loss: 0.5121 - val_accuracy: 0.8316\n",
      "Epoch 8/10\n",
      "1719/1719 [==============================] - 4s 2ms/step - loss: 0.5185 - accuracy: 0.8245 - val_loss: 0.5043 - val_accuracy: 0.8352\n",
      "Epoch 9/10\n",
      "1719/1719 [==============================] - 4s 2ms/step - loss: 0.5051 - accuracy: 0.8282 - val_loss: 0.4869 - val_accuracy: 0.8402\n",
      "Epoch 10/10\n",
      "1719/1719 [==============================] - 4s 3ms/step - loss: 0.4934 - accuracy: 0.8314 - val_loss: 0.4791 - val_accuracy: 0.8412\n"
     ]
    }
   ],
   "metadata": {}
  },
  {
   "cell_type": "markdown",
   "source": [
    "SELU 사용하기"
   ],
   "metadata": {}
  },
  {
   "cell_type": "code",
   "execution_count": 64,
   "source": [
    "model = keras.models.Sequential()\r\n",
    "model.add(keras.layers.Flatten(input_shape=[28, 28]))\r\n",
    "model.add(keras.layers.Dense(300, activation=\"selu\",\r\n",
    "                             kernel_initializer=\"lecun_normal\"))\r\n",
    "for layer in range(99):\r\n",
    "    model.add(keras.layers.Dense(100, activation=\"selu\",\r\n",
    "                                 kernel_initializer=\"lecun_normal\"))\r\n",
    "model.add(keras.layers.Dense(10, activation=\"softmax\"))"
   ],
   "outputs": [],
   "metadata": {}
  },
  {
   "cell_type": "code",
   "execution_count": 65,
   "source": [
    "model.compile(loss=\"sparse_categorical_crossentropy\",\r\n",
    "              optimizer=keras.optimizers.SGD(lr=1e-3),\r\n",
    "              metrics=[\"accuracy\"])"
   ],
   "outputs": [],
   "metadata": {}
  },
  {
   "cell_type": "code",
   "execution_count": 66,
   "source": [
    "pixel_means = X_train.mean(axis=0, keepdims=True)\r\n",
    "pixel_stds = X_train.std(axis=0, keepdims=True)\r\n",
    "X_train_scaled = (X_train - pixel_means) / pixel_stds\r\n",
    "X_valid_scaled = (X_valid - pixel_means) / pixel_stds\r\n",
    "X_test_scaled = (X_test - pixel_means) / pixel_stds"
   ],
   "outputs": [],
   "metadata": {}
  },
  {
   "cell_type": "code",
   "execution_count": 67,
   "source": [
    "history = model.fit(X_train_scaled, y_train, epochs=5,\r\n",
    "                    validation_data=(X_valid_scaled, y_valid))"
   ],
   "outputs": [
    {
     "output_type": "stream",
     "name": "stdout",
     "text": [
      "Epoch 1/5\n",
      "1719/1719 [==============================] - 38s 21ms/step - loss: 1.3038 - accuracy: 0.5038 - val_loss: 0.8459 - val_accuracy: 0.6884\n",
      "Epoch 2/5\n",
      "1719/1719 [==============================] - 35s 20ms/step - loss: 0.7134 - accuracy: 0.7469 - val_loss: 0.6534 - val_accuracy: 0.7778\n",
      "Epoch 3/5\n",
      "1719/1719 [==============================] - 36s 21ms/step - loss: 0.5807 - accuracy: 0.8007 - val_loss: 0.6647 - val_accuracy: 0.7876\n",
      "Epoch 4/5\n",
      "1719/1719 [==============================] - 37s 22ms/step - loss: 0.5318 - accuracy: 0.8179 - val_loss: 0.5148 - val_accuracy: 0.8284\n",
      "Epoch 5/5\n",
      "1719/1719 [==============================] - 40s 23ms/step - loss: 0.4874 - accuracy: 0.8320 - val_loss: 0.5261 - val_accuracy: 0.8286\n"
     ]
    }
   ],
   "metadata": {}
  },
  {
   "cell_type": "markdown",
   "source": [
    "### 11.1.3 배치 정규화"
   ],
   "metadata": {}
  },
  {
   "cell_type": "markdown",
   "source": [
    "케라스로 배치 정규화 구현하기"
   ],
   "metadata": {}
  },
  {
   "cell_type": "code",
   "execution_count": 68,
   "source": [
    "model = keras.models.Sequential([\r\n",
    "    keras.layers.Flatten(input_shape=[28, 28]),\r\n",
    "    keras.layers.BatchNormalization(),\r\n",
    "    keras.layers.Dense(300, activation=\"relu\"),\r\n",
    "    keras.layers.BatchNormalization(),\r\n",
    "    keras.layers.Dense(100, activation=\"relu\"),\r\n",
    "    keras.layers.BatchNormalization(),\r\n",
    "    keras.layers.Dense(10, activation=\"softmax\")\r\n",
    "])"
   ],
   "outputs": [],
   "metadata": {}
  },
  {
   "cell_type": "code",
   "execution_count": 69,
   "source": [
    "model.summary()"
   ],
   "outputs": [
    {
     "output_type": "stream",
     "name": "stdout",
     "text": [
      "Model: \"sequential_14\"\n",
      "_________________________________________________________________\n",
      "Layer (type)                 Output Shape              Param #   \n",
      "=================================================================\n",
      "flatten_13 (Flatten)         (None, 784)               0         \n",
      "_________________________________________________________________\n",
      "batch_normalization_6 (Batch (None, 784)               3136      \n",
      "_________________________________________________________________\n",
      "dense_247 (Dense)            (None, 300)               235500    \n",
      "_________________________________________________________________\n",
      "batch_normalization_7 (Batch (None, 300)               1200      \n",
      "_________________________________________________________________\n",
      "dense_248 (Dense)            (None, 100)               30100     \n",
      "_________________________________________________________________\n",
      "batch_normalization_8 (Batch (None, 100)               400       \n",
      "_________________________________________________________________\n",
      "dense_249 (Dense)            (None, 10)                1010      \n",
      "=================================================================\n",
      "Total params: 271,346\n",
      "Trainable params: 268,978\n",
      "Non-trainable params: 2,368\n",
      "_________________________________________________________________\n"
     ]
    }
   ],
   "metadata": {}
  },
  {
   "cell_type": "code",
   "execution_count": 70,
   "source": [
    "#첫 번째 배치 정규화 층의 파라미터 / 두개는 역전파 훈련, 나머지 두개는 훈련 X\r\n",
    "bn1 = model.layers[1]\r\n",
    "[(var.name, var.trainable) for var in bn1.variables]"
   ],
   "outputs": [
    {
     "output_type": "execute_result",
     "data": {
      "text/plain": [
       "[('batch_normalization_6/gamma:0', True),\n",
       " ('batch_normalization_6/beta:0', True),\n",
       " ('batch_normalization_6/moving_mean:0', False),\n",
       " ('batch_normalization_6/moving_variance:0', False)]"
      ]
     },
     "metadata": {},
     "execution_count": 70
    }
   ],
   "metadata": {}
  },
  {
   "cell_type": "code",
   "execution_count": 71,
   "source": [
    "#이동 평균을 업데이트\r\n",
    "bn1.updates"
   ],
   "outputs": [
    {
     "output_type": "execute_result",
     "data": {
      "text/plain": [
       "[]"
      ]
     },
     "metadata": {},
     "execution_count": 71
    }
   ],
   "metadata": {}
  },
  {
   "cell_type": "code",
   "execution_count": 72,
   "source": [
    "model.compile(loss=\"sparse_categorical_crossentropy\",\r\n",
    "              optimizer=keras.optimizers.SGD(lr=1e-3),\r\n",
    "              metrics=[\"accuracy\"])\r\n",
    "\r\n",
    "history = model.fit(X_train, y_train, epochs=10,\r\n",
    "                    validation_data=(X_valid, y_valid))"
   ],
   "outputs": [
    {
     "output_type": "stream",
     "name": "stdout",
     "text": [
      "Epoch 1/10\n",
      "1719/1719 [==============================] - 8s 4ms/step - loss: 0.8712 - accuracy: 0.7122 - val_loss: 0.5656 - val_accuracy: 0.8084\n",
      "Epoch 2/10\n",
      "1719/1719 [==============================] - 6s 4ms/step - loss: 0.5845 - accuracy: 0.7993 - val_loss: 0.4784 - val_accuracy: 0.8406\n",
      "Epoch 3/10\n",
      "1719/1719 [==============================] - 6s 4ms/step - loss: 0.5254 - accuracy: 0.8181 - val_loss: 0.4414 - val_accuracy: 0.8522\n",
      "Epoch 4/10\n",
      "1719/1719 [==============================] - 6s 4ms/step - loss: 0.4874 - accuracy: 0.8289 - val_loss: 0.4183 - val_accuracy: 0.8602\n",
      "Epoch 5/10\n",
      "1719/1719 [==============================] - 7s 4ms/step - loss: 0.4608 - accuracy: 0.8383 - val_loss: 0.4015 - val_accuracy: 0.8656\n",
      "Epoch 6/10\n",
      "1719/1719 [==============================] - 6s 4ms/step - loss: 0.4433 - accuracy: 0.8450 - val_loss: 0.3895 - val_accuracy: 0.8680\n",
      "Epoch 7/10\n",
      "1719/1719 [==============================] - 7s 4ms/step - loss: 0.4292 - accuracy: 0.8495 - val_loss: 0.3795 - val_accuracy: 0.8688\n",
      "Epoch 8/10\n",
      "1719/1719 [==============================] - 6s 4ms/step - loss: 0.4172 - accuracy: 0.8541 - val_loss: 0.3741 - val_accuracy: 0.8700\n",
      "Epoch 9/10\n",
      "1719/1719 [==============================] - 6s 3ms/step - loss: 0.4063 - accuracy: 0.8575 - val_loss: 0.3658 - val_accuracy: 0.8734\n",
      "Epoch 10/10\n",
      "1719/1719 [==============================] - 6s 4ms/step - loss: 0.3947 - accuracy: 0.8617 - val_loss: 0.3594 - val_accuracy: 0.8762\n"
     ]
    }
   ],
   "metadata": {}
  },
  {
   "cell_type": "code",
   "execution_count": 73,
   "source": [
    "# 활성화 함수전에 BN을 적용해도 잘 동작합니다.\r\n",
    "#또한 BatchNormalization 층 이전의 층은 편향을 위한 항이 필요 없습니다.\r\n",
    "#BatchNormalization 층이 이를 무효화하기 때문입니다. \r\n",
    "#따라서 필요 없는 파라미터이므로 use_bias=False를 지정하여 층을 만들 수 있습니다:\r\n",
    "model = keras.models.Sequential([\r\n",
    "    keras.layers.Flatten(input_shape=[28, 28]),\r\n",
    "    keras.layers.BatchNormalization(),\r\n",
    "    keras.layers.Dense(300, use_bias=False),\r\n",
    "    keras.layers.BatchNormalization(),\r\n",
    "    keras.layers.Activation(\"relu\"),\r\n",
    "    keras.layers.Dense(100, use_bias=False),\r\n",
    "    keras.layers.BatchNormalization(),\r\n",
    "    keras.layers.Activation(\"relu\"),\r\n",
    "    keras.layers.Dense(10, activation=\"softmax\")\r\n",
    "])"
   ],
   "outputs": [],
   "metadata": {}
  },
  {
   "cell_type": "code",
   "execution_count": 74,
   "source": [
    "model.compile(loss=\"sparse_categorical_crossentropy\",\r\n",
    "              optimizer=keras.optimizers.SGD(lr=1e-3),\r\n",
    "              metrics=[\"accuracy\"])\r\n",
    "\r\n",
    "history = model.fit(X_train, y_train, epochs=10,\r\n",
    "                    validation_data=(X_valid, y_valid))"
   ],
   "outputs": [
    {
     "output_type": "stream",
     "name": "stdout",
     "text": [
      "Epoch 1/10\n",
      "1719/1719 [==============================] - 7s 4ms/step - loss: 1.0346 - accuracy: 0.6823 - val_loss: 0.6709 - val_accuracy: 0.7916\n",
      "Epoch 2/10\n",
      "1719/1719 [==============================] - 6s 4ms/step - loss: 0.6714 - accuracy: 0.7842 - val_loss: 0.5485 - val_accuracy: 0.8186\n",
      "Epoch 3/10\n",
      "1719/1719 [==============================] - 7s 4ms/step - loss: 0.5900 - accuracy: 0.8047 - val_loss: 0.4936 - val_accuracy: 0.8330\n",
      "Epoch 4/10\n",
      "1719/1719 [==============================] - 6s 4ms/step - loss: 0.5395 - accuracy: 0.8184 - val_loss: 0.4611 - val_accuracy: 0.8438\n",
      "Epoch 5/10\n",
      "1719/1719 [==============================] - 7s 4ms/step - loss: 0.5065 - accuracy: 0.8275 - val_loss: 0.4381 - val_accuracy: 0.8500\n",
      "Epoch 6/10\n",
      "1719/1719 [==============================] - 6s 4ms/step - loss: 0.4853 - accuracy: 0.8332 - val_loss: 0.4212 - val_accuracy: 0.8556\n",
      "Epoch 7/10\n",
      "1719/1719 [==============================] - 7s 4ms/step - loss: 0.4696 - accuracy: 0.8387 - val_loss: 0.4085 - val_accuracy: 0.8582\n",
      "Epoch 8/10\n",
      "1719/1719 [==============================] - 6s 4ms/step - loss: 0.4550 - accuracy: 0.8420 - val_loss: 0.3981 - val_accuracy: 0.8632\n",
      "Epoch 9/10\n",
      "1719/1719 [==============================] - 7s 4ms/step - loss: 0.4413 - accuracy: 0.8479 - val_loss: 0.3893 - val_accuracy: 0.8642\n",
      "Epoch 10/10\n",
      "1719/1719 [==============================] - 7s 4ms/step - loss: 0.4308 - accuracy: 0.8514 - val_loss: 0.3807 - val_accuracy: 0.8662\n"
     ]
    }
   ],
   "metadata": {}
  },
  {
   "cell_type": "markdown",
   "source": [
    "### 11.1.4 그레이디언트 클리핑"
   ],
   "metadata": {}
  },
  {
   "cell_type": "code",
   "execution_count": 75,
   "source": [
    "#케라스에서 옵티마이저를 만들 때 clipvalue와 clipnorm 매개변수를 지정\r\n",
    "optimizer = keras.optimizers.SGD(clipvalue = 1.0)\r\n",
    "model.compile(loss = \"mse\", optimizer = optimizer)"
   ],
   "outputs": [],
   "metadata": {}
  },
  {
   "cell_type": "markdown",
   "source": [
    "## 11.2 사전훈련된 층 재사용하기"
   ],
   "metadata": {}
  },
  {
   "cell_type": "markdown",
   "source": [
    "### 11.2.1 케라스를 사용한 전이 학습"
   ],
   "metadata": {}
  },
  {
   "cell_type": "markdown",
   "source": [
    "* 패션 MNIST 훈련 세트를 두 개로 나누기\n",
    " - X_train_A: 샌달과 셔츠(클래스 5와 6)을 제외한 모든 이미지\n",
    " - X_train_B: 샌달과 셔츠 이미지 중 처음 200개만 가진 작은 훈련 세트\n",
    "\n",
    "* A세트(8개의 클래스를 가진 분류 문제)에서 모델을 훈련하고 이를 재사용하여 B세트(이진 분류)를 해결"
   ],
   "metadata": {}
  },
  {
   "cell_type": "code",
   "execution_count": 76,
   "source": [
    "def split_dataset(X, y):\r\n",
    "    y_5_or_6 = (y == 5) | (y == 6) # sandals or shirts\r\n",
    "    y_A = y[~y_5_or_6]\r\n",
    "    y_A[y_A > 6] -= 2 # class indices 7, 8, 9 should be moved to 5, 6, 7\r\n",
    "    y_B = (y[y_5_or_6] == 6).astype(np.float32) # binary classification task: is it a shirt (class 6)?\r\n",
    "    return ((X[~y_5_or_6], y_A),\r\n",
    "            (X[y_5_or_6], y_B))\r\n",
    "\r\n",
    "(X_train_A, y_train_A), (X_train_B, y_train_B) = split_dataset(X_train, y_train)\r\n",
    "(X_valid_A, y_valid_A), (X_valid_B, y_valid_B) = split_dataset(X_valid, y_valid)\r\n",
    "(X_test_A, y_test_A), (X_test_B, y_test_B) = split_dataset(X_test, y_test)\r\n",
    "X_train_B = X_train_B[:200]\r\n",
    "y_train_B = y_train_B[:200]"
   ],
   "outputs": [],
   "metadata": {}
  },
  {
   "cell_type": "code",
   "execution_count": 77,
   "source": [
    "print(X_train_A.shape)\r\n",
    "print(X_train_B.shape)"
   ],
   "outputs": [
    {
     "output_type": "stream",
     "name": "stdout",
     "text": [
      "(43986, 28, 28)\n",
      "(200, 28, 28)\n"
     ]
    }
   ],
   "metadata": {}
  },
  {
   "cell_type": "code",
   "execution_count": 78,
   "source": [
    "#model_A 학습\r\n",
    "model_A = keras.models.Sequential()\r\n",
    "model_A.add(keras.layers.Flatten(input_shape=[28, 28]))\r\n",
    "for n_hidden in (300, 100, 50, 50, 50):\r\n",
    "    model_A.add(keras.layers.Dense(n_hidden, activation=\"selu\"))\r\n",
    "model_A.add(keras.layers.Dense(8, activation=\"softmax\"))"
   ],
   "outputs": [],
   "metadata": {}
  },
  {
   "cell_type": "code",
   "execution_count": 79,
   "source": [
    "model_A.compile(loss=\"sparse_categorical_crossentropy\",\r\n",
    "                optimizer=keras.optimizers.SGD(lr=1e-3),\r\n",
    "                metrics=[\"accuracy\"])\r\n",
    "history = model_A.fit(X_train_A, y_train_A, epochs=20,\r\n",
    "                    validation_data=(X_valid_A, y_valid_A))"
   ],
   "outputs": [
    {
     "output_type": "stream",
     "name": "stdout",
     "text": [
      "Epoch 1/20\n",
      "1375/1375 [==============================] - 4s 3ms/step - loss: 0.5860 - accuracy: 0.8035 - val_loss: 0.3864 - val_accuracy: 0.8652\n",
      "Epoch 2/20\n",
      "1375/1375 [==============================] - 7s 5ms/step - loss: 0.3581 - accuracy: 0.8760 - val_loss: 0.3240 - val_accuracy: 0.8874\n",
      "Epoch 3/20\n",
      "1375/1375 [==============================] - 6s 4ms/step - loss: 0.3188 - accuracy: 0.8879 - val_loss: 0.2969 - val_accuracy: 0.8989\n",
      "Epoch 4/20\n",
      "1375/1375 [==============================] - 5s 4ms/step - loss: 0.2986 - accuracy: 0.8966 - val_loss: 0.2855 - val_accuracy: 0.9031\n",
      "Epoch 5/20\n",
      "1375/1375 [==============================] - 4s 3ms/step - loss: 0.2854 - accuracy: 0.9018 - val_loss: 0.2775 - val_accuracy: 0.9098\n",
      "Epoch 6/20\n",
      "1375/1375 [==============================] - 3s 2ms/step - loss: 0.2755 - accuracy: 0.9054 - val_loss: 0.2700 - val_accuracy: 0.9081\n",
      "Epoch 7/20\n",
      "1375/1375 [==============================] - 3s 2ms/step - loss: 0.2669 - accuracy: 0.9089 - val_loss: 0.2689 - val_accuracy: 0.9091\n",
      "Epoch 8/20\n",
      "1375/1375 [==============================] - 3s 2ms/step - loss: 0.2602 - accuracy: 0.9114 - val_loss: 0.2597 - val_accuracy: 0.9121\n",
      "Epoch 9/20\n",
      "1375/1375 [==============================] - 3s 2ms/step - loss: 0.2545 - accuracy: 0.9137 - val_loss: 0.2573 - val_accuracy: 0.9113\n",
      "Epoch 10/20\n",
      "1375/1375 [==============================] - 3s 2ms/step - loss: 0.2495 - accuracy: 0.9153 - val_loss: 0.2557 - val_accuracy: 0.9145\n",
      "Epoch 11/20\n",
      "1375/1375 [==============================] - 3s 2ms/step - loss: 0.2448 - accuracy: 0.9165 - val_loss: 0.2476 - val_accuracy: 0.9153\n",
      "Epoch 12/20\n",
      "1375/1375 [==============================] - 3s 2ms/step - loss: 0.2405 - accuracy: 0.9178 - val_loss: 0.2489 - val_accuracy: 0.9150\n",
      "Epoch 13/20\n",
      "1375/1375 [==============================] - 3s 2ms/step - loss: 0.2369 - accuracy: 0.9190 - val_loss: 0.2436 - val_accuracy: 0.9150\n",
      "Epoch 14/20\n",
      "1375/1375 [==============================] - 3s 2ms/step - loss: 0.2334 - accuracy: 0.9197 - val_loss: 0.2416 - val_accuracy: 0.9170\n",
      "Epoch 15/20\n",
      "1375/1375 [==============================] - 3s 2ms/step - loss: 0.2304 - accuracy: 0.9207 - val_loss: 0.2460 - val_accuracy: 0.9145\n",
      "Epoch 16/20\n",
      "1375/1375 [==============================] - 3s 2ms/step - loss: 0.2271 - accuracy: 0.9230 - val_loss: 0.2378 - val_accuracy: 0.9190\n",
      "Epoch 17/20\n",
      "1375/1375 [==============================] - 3s 2ms/step - loss: 0.2243 - accuracy: 0.9232 - val_loss: 0.2426 - val_accuracy: 0.9185\n",
      "Epoch 18/20\n",
      "1375/1375 [==============================] - 3s 2ms/step - loss: 0.2215 - accuracy: 0.9243 - val_loss: 0.2448 - val_accuracy: 0.9158\n",
      "Epoch 19/20\n",
      "1375/1375 [==============================] - 3s 2ms/step - loss: 0.2188 - accuracy: 0.9255 - val_loss: 0.2342 - val_accuracy: 0.9208\n",
      "Epoch 20/20\n",
      "1375/1375 [==============================] - 3s 3ms/step - loss: 0.2166 - accuracy: 0.9257 - val_loss: 0.2355 - val_accuracy: 0.9198\n"
     ]
    }
   ],
   "metadata": {}
  },
  {
   "cell_type": "code",
   "execution_count": 80,
   "source": [
    "# A모델 저장\r\n",
    "model_A.save(\"my_model_A.h5\")"
   ],
   "outputs": [],
   "metadata": {}
  },
  {
   "cell_type": "code",
   "execution_count": 81,
   "source": [
    "#model_B 학습\r\n",
    "model_B = keras.models.Sequential()\r\n",
    "model_B.add(keras.layers.Flatten(input_shape=[28, 28]))\r\n",
    "for n_hidden in (300, 100, 50, 50, 50):\r\n",
    "    model_B.add(keras.layers.Dense(n_hidden, activation=\"selu\"))\r\n",
    "model_B.add(keras.layers.Dense(1, activation=\"sigmoid\"))"
   ],
   "outputs": [],
   "metadata": {}
  },
  {
   "cell_type": "code",
   "execution_count": 82,
   "source": [
    "model_B.compile(loss=\"binary_crossentropy\",\r\n",
    "                optimizer=keras.optimizers.SGD(lr=1e-3),\r\n",
    "                metrics=[\"accuracy\"])\r\n",
    "\r\n",
    "history = model_B.fit(X_train_B, y_train_B, epochs=20,\r\n",
    "                      validation_data=(X_valid_B, y_valid_B))"
   ],
   "outputs": [
    {
     "output_type": "stream",
     "name": "stdout",
     "text": [
      "Epoch 1/20\n",
      "7/7 [==============================] - 0s 30ms/step - loss: 0.8231 - accuracy: 0.5600 - val_loss: 0.5735 - val_accuracy: 0.6724\n",
      "Epoch 2/20\n",
      "7/7 [==============================] - 0s 21ms/step - loss: 0.4995 - accuracy: 0.7550 - val_loss: 0.3927 - val_accuracy: 0.8600\n",
      "Epoch 3/20\n",
      "7/7 [==============================] - 0s 17ms/step - loss: 0.3372 - accuracy: 0.9050 - val_loss: 0.3001 - val_accuracy: 0.9158\n",
      "Epoch 4/20\n",
      "7/7 [==============================] - 0s 17ms/step - loss: 0.2509 - accuracy: 0.9800 - val_loss: 0.2469 - val_accuracy: 0.9361\n",
      "Epoch 5/20\n",
      "7/7 [==============================] - 0s 15ms/step - loss: 0.2022 - accuracy: 0.9850 - val_loss: 0.2114 - val_accuracy: 0.9483\n",
      "Epoch 6/20\n",
      "7/7 [==============================] - 0s 15ms/step - loss: 0.1677 - accuracy: 0.9850 - val_loss: 0.1866 - val_accuracy: 0.9594\n",
      "Epoch 7/20\n",
      "7/7 [==============================] - 0s 18ms/step - loss: 0.1445 - accuracy: 0.9900 - val_loss: 0.1708 - val_accuracy: 0.9686\n",
      "Epoch 8/20\n",
      "7/7 [==============================] - 0s 14ms/step - loss: 0.1278 - accuracy: 0.9900 - val_loss: 0.1549 - val_accuracy: 0.9706\n",
      "Epoch 9/20\n",
      "7/7 [==============================] - 0s 14ms/step - loss: 0.1134 - accuracy: 0.9950 - val_loss: 0.1415 - val_accuracy: 0.9706\n",
      "Epoch 10/20\n",
      "7/7 [==============================] - 0s 15ms/step - loss: 0.1019 - accuracy: 0.9950 - val_loss: 0.1326 - val_accuracy: 0.9716\n",
      "Epoch 11/20\n",
      "7/7 [==============================] - 0s 17ms/step - loss: 0.0933 - accuracy: 0.9950 - val_loss: 0.1248 - val_accuracy: 0.9716\n",
      "Epoch 12/20\n",
      "7/7 [==============================] - 0s 15ms/step - loss: 0.0855 - accuracy: 0.9950 - val_loss: 0.1182 - val_accuracy: 0.9726\n",
      "Epoch 13/20\n",
      "7/7 [==============================] - 0s 15ms/step - loss: 0.0791 - accuracy: 0.9950 - val_loss: 0.1120 - val_accuracy: 0.9746\n",
      "Epoch 14/20\n",
      "7/7 [==============================] - 0s 16ms/step - loss: 0.0735 - accuracy: 0.9950 - val_loss: 0.1077 - val_accuracy: 0.9757\n",
      "Epoch 15/20\n",
      "7/7 [==============================] - 0s 15ms/step - loss: 0.0687 - accuracy: 0.9950 - val_loss: 0.1029 - val_accuracy: 0.9777\n",
      "Epoch 16/20\n",
      "7/7 [==============================] - 0s 14ms/step - loss: 0.0649 - accuracy: 0.9950 - val_loss: 0.0990 - val_accuracy: 0.9767\n",
      "Epoch 17/20\n",
      "7/7 [==============================] - 0s 14ms/step - loss: 0.0614 - accuracy: 0.9950 - val_loss: 0.0956 - val_accuracy: 0.9777\n",
      "Epoch 18/20\n",
      "7/7 [==============================] - 0s 14ms/step - loss: 0.0582 - accuracy: 0.9950 - val_loss: 0.0925 - val_accuracy: 0.9777\n",
      "Epoch 19/20\n",
      "7/7 [==============================] - 0s 14ms/step - loss: 0.0554 - accuracy: 0.9950 - val_loss: 0.0899 - val_accuracy: 0.9777\n",
      "Epoch 20/20\n",
      "7/7 [==============================] - 0s 15ms/step - loss: 0.0528 - accuracy: 0.9950 - val_loss: 0.0877 - val_accuracy: 0.9777\n"
     ]
    }
   ],
   "metadata": {}
  },
  {
   "cell_type": "code",
   "execution_count": 83,
   "source": [
    "model.summary()"
   ],
   "outputs": [
    {
     "output_type": "stream",
     "name": "stdout",
     "text": [
      "Model: \"sequential_15\"\n",
      "_________________________________________________________________\n",
      "Layer (type)                 Output Shape              Param #   \n",
      "=================================================================\n",
      "flatten_14 (Flatten)         (None, 784)               0         \n",
      "_________________________________________________________________\n",
      "batch_normalization_9 (Batch (None, 784)               3136      \n",
      "_________________________________________________________________\n",
      "dense_250 (Dense)            (None, 300)               235200    \n",
      "_________________________________________________________________\n",
      "batch_normalization_10 (Batc (None, 300)               1200      \n",
      "_________________________________________________________________\n",
      "activation_2 (Activation)    (None, 300)               0         \n",
      "_________________________________________________________________\n",
      "dense_251 (Dense)            (None, 100)               30000     \n",
      "_________________________________________________________________\n",
      "batch_normalization_11 (Batc (None, 100)               400       \n",
      "_________________________________________________________________\n",
      "activation_3 (Activation)    (None, 100)               0         \n",
      "_________________________________________________________________\n",
      "dense_252 (Dense)            (None, 10)                1010      \n",
      "=================================================================\n",
      "Total params: 270,946\n",
      "Trainable params: 268,578\n",
      "Non-trainable params: 2,368\n",
      "_________________________________________________________________\n"
     ]
    }
   ],
   "metadata": {}
  },
  {
   "cell_type": "code",
   "execution_count": 84,
   "source": [
    "#model_A를 로드하고, 이 모델의 층을 기반으로 model_B_on_A를 생성(출력층 제외 모든 층 재사용)\r\n",
    "model_A = keras.models.load_model(\"my_model_A.h5\")\r\n",
    "model_B_on_A = keras.models.Sequential(model_A.layers[:-1])\r\n",
    "model_B_on_A.add(keras.layers.Dense(1, activation = \"sigmoid\"))"
   ],
   "outputs": [],
   "metadata": {}
  },
  {
   "cell_type": "code",
   "execution_count": 85,
   "source": [
    "#층울 공유하는 과정에서 원본에 영향을 주지 않기 위해 clone 파일 만들기\r\n",
    "model_A_clone = keras.models.clone_model(model_A)\r\n",
    "model_A_clone.set_weights(model_A.get_weights())"
   ],
   "outputs": [],
   "metadata": {}
  },
  {
   "cell_type": "code",
   "execution_count": 86,
   "source": [
    "#처음 몇 번의 에포크 동안 재사용된 층을 동결하고 새로운 층에 적절한 가중치를 학습할 시간 제공\r\n",
    "#모든 층의 trainable 속성을 False로 지정하고 모델을 컴파일\r\n",
    "for layer in model_B_on_A.layers[:-1]:\r\n",
    "    layer.trainable = False\r\n",
    "\r\n",
    "model_B_on_A.compile(loss=\"binary_crossentropy\",\r\n",
    "                     optimizer=keras.optimizers.SGD(lr=1e-3),\r\n",
    "                     metrics=[\"accuracy\"])"
   ],
   "outputs": [],
   "metadata": {}
  },
  {
   "cell_type": "code",
   "execution_count": 87,
   "source": [
    "history = model_B_on_A.fit(X_train_B, y_train_B, epochs=4,\r\n",
    "                           validation_data=(X_valid_B, y_valid_B))\r\n",
    "\r\n",
    "for layer in model_B_on_A.layers[:-1]:\r\n",
    "    layer.trainable = True\r\n",
    "\r\n",
    "model_B_on_A.compile(loss=\"binary_crossentropy\",\r\n",
    "                     optimizer=keras.optimizers.SGD(lr=1e-3),\r\n",
    "                     metrics=[\"accuracy\"])\r\n",
    "history = model_B_on_A.fit(X_train_B, y_train_B, epochs=16,\r\n",
    "                           validation_data=(X_valid_B, y_valid_B))"
   ],
   "outputs": [
    {
     "output_type": "stream",
     "name": "stdout",
     "text": [
      "Epoch 1/4\n",
      "7/7 [==============================] - 0s 26ms/step - loss: 1.0449 - accuracy: 0.3600 - val_loss: 0.9471 - val_accuracy: 0.4209\n",
      "Epoch 2/4\n",
      "7/7 [==============================] - 0s 11ms/step - loss: 0.9435 - accuracy: 0.4500 - val_loss: 0.8620 - val_accuracy: 0.4787\n",
      "Epoch 3/4\n",
      "7/7 [==============================] - 0s 12ms/step - loss: 0.8572 - accuracy: 0.4850 - val_loss: 0.7883 - val_accuracy: 0.5254\n",
      "Epoch 4/4\n",
      "7/7 [==============================] - 0s 13ms/step - loss: 0.7824 - accuracy: 0.5450 - val_loss: 0.7199 - val_accuracy: 0.5730\n",
      "Epoch 1/16\n",
      "7/7 [==============================] - 0s 28ms/step - loss: 0.5983 - accuracy: 0.6950 - val_loss: 0.4337 - val_accuracy: 0.8803\n",
      "Epoch 2/16\n",
      "7/7 [==============================] - 0s 13ms/step - loss: 0.3900 - accuracy: 0.8850 - val_loss: 0.3410 - val_accuracy: 0.9280\n",
      "Epoch 3/16\n",
      "7/7 [==============================] - 0s 15ms/step - loss: 0.3094 - accuracy: 0.9200 - val_loss: 0.2858 - val_accuracy: 0.9452\n",
      "Epoch 4/16\n",
      "7/7 [==============================] - 0s 13ms/step - loss: 0.2595 - accuracy: 0.9400 - val_loss: 0.2467 - val_accuracy: 0.9574\n",
      "Epoch 5/16\n",
      "7/7 [==============================] - 0s 12ms/step - loss: 0.2228 - accuracy: 0.9550 - val_loss: 0.2182 - val_accuracy: 0.9665\n",
      "Epoch 6/16\n",
      "7/7 [==============================] - 0s 14ms/step - loss: 0.1960 - accuracy: 0.9750 - val_loss: 0.1958 - val_accuracy: 0.9696\n",
      "Epoch 7/16\n",
      "7/7 [==============================] - 0s 12ms/step - loss: 0.1748 - accuracy: 0.9750 - val_loss: 0.1788 - val_accuracy: 0.9726\n",
      "Epoch 8/16\n",
      "7/7 [==============================] - 0s 12ms/step - loss: 0.1581 - accuracy: 0.9850 - val_loss: 0.1642 - val_accuracy: 0.9767\n",
      "Epoch 9/16\n",
      "7/7 [==============================] - 0s 12ms/step - loss: 0.1442 - accuracy: 0.9850 - val_loss: 0.1496 - val_accuracy: 0.9807\n",
      "Epoch 10/16\n",
      "7/7 [==============================] - 0s 13ms/step - loss: 0.1310 - accuracy: 0.9850 - val_loss: 0.1395 - val_accuracy: 0.9828\n",
      "Epoch 11/16\n",
      "7/7 [==============================] - 0s 12ms/step - loss: 0.1212 - accuracy: 0.9850 - val_loss: 0.1307 - val_accuracy: 0.9838\n",
      "Epoch 12/16\n",
      "7/7 [==============================] - 0s 12ms/step - loss: 0.1125 - accuracy: 0.9850 - val_loss: 0.1229 - val_accuracy: 0.9838\n",
      "Epoch 13/16\n",
      "7/7 [==============================] - 0s 12ms/step - loss: 0.1051 - accuracy: 0.9900 - val_loss: 0.1161 - val_accuracy: 0.9858\n",
      "Epoch 14/16\n",
      "7/7 [==============================] - 0s 12ms/step - loss: 0.0985 - accuracy: 0.9900 - val_loss: 0.1101 - val_accuracy: 0.9878\n",
      "Epoch 15/16\n",
      "7/7 [==============================] - 0s 12ms/step - loss: 0.0924 - accuracy: 0.9950 - val_loss: 0.1042 - val_accuracy: 0.9878\n",
      "Epoch 16/16\n",
      "7/7 [==============================] - 0s 12ms/step - loss: 0.0872 - accuracy: 0.9950 - val_loss: 0.0998 - val_accuracy: 0.9878\n"
     ]
    }
   ],
   "metadata": {}
  },
  {
   "cell_type": "code",
   "execution_count": 88,
   "source": [
    "#최종 점수\r\n",
    "model_B.evaluate(X_test_B, y_test_B)"
   ],
   "outputs": [
    {
     "output_type": "stream",
     "name": "stdout",
     "text": [
      "63/63 [==============================] - 0s 2ms/step - loss: 0.0899 - accuracy: 0.9800\n"
     ]
    },
    {
     "output_type": "execute_result",
     "data": {
      "text/plain": [
       "[0.08988627046346664, 0.9800000190734863]"
      ]
     },
     "metadata": {},
     "execution_count": 88
    }
   ],
   "metadata": {}
  },
  {
   "cell_type": "code",
   "execution_count": 89,
   "source": [
    "model_B_on_A.evaluate(X_test_B, y_test_B)"
   ],
   "outputs": [
    {
     "output_type": "stream",
     "name": "stdout",
     "text": [
      "63/63 [==============================] - 0s 2ms/step - loss: 0.0978 - accuracy: 0.9895\n"
     ]
    },
    {
     "output_type": "execute_result",
     "data": {
      "text/plain": [
       "[0.09780494123697281, 0.9894999861717224]"
      ]
     },
     "metadata": {},
     "execution_count": 89
    }
   ],
   "metadata": {}
  },
  {
   "cell_type": "markdown",
   "source": [
    "## 11.3 고속 옵티마이저"
   ],
   "metadata": {}
  },
  {
   "cell_type": "markdown",
   "source": [
    "### 11.3.1 모멘텀 최적화"
   ],
   "metadata": {}
  },
  {
   "cell_type": "code",
   "execution_count": 90,
   "source": [
    "# 케라스에서 모멘텀 최적화 구현\r\n",
    "optimizer = keras.optimizers.SGD(lr = 0.001, momentum = 0.9)"
   ],
   "outputs": [],
   "metadata": {}
  },
  {
   "cell_type": "markdown",
   "source": [
    "### 11.3.2 네스테로프 가속 경사"
   ],
   "metadata": {}
  },
  {
   "cell_type": "code",
   "execution_count": 91,
   "source": [
    "#네스테로프 가속 경사\r\n",
    "optimizer = keras.optimizers.SGD(lr = 0.001, momentum=0.9, nesterov = True)"
   ],
   "outputs": [],
   "metadata": {}
  },
  {
   "cell_type": "markdown",
   "source": [
    "### 11.3.3 AdaGrad"
   ],
   "metadata": {}
  },
  {
   "cell_type": "code",
   "execution_count": 92,
   "source": [
    "#AdaGrad\r\n",
    "optimizer = keras.optimizers.Adagrad(lr=0.001)"
   ],
   "outputs": [],
   "metadata": {}
  },
  {
   "cell_type": "markdown",
   "source": [
    "### 11.3.4 RMSProp"
   ],
   "metadata": {}
  },
  {
   "cell_type": "code",
   "execution_count": 93,
   "source": [
    "#RMSProp 옵티마이저\r\n",
    "optimizer = keras.optimizers.RMSprop(lr=0.001, rho=0.9)"
   ],
   "outputs": [],
   "metadata": {}
  },
  {
   "cell_type": "markdown",
   "source": [
    "### ﻿11.3.5 Adam과 Nadam 최적화"
   ],
   "metadata": {}
  },
  {
   "cell_type": "code",
   "execution_count": 94,
   "source": [
    "#Adam 옵티마이저\r\n",
    "optimizer = keras.optimizers.Adam(lr=0.001, beta_1=0.9, beta_2=0.999)"
   ],
   "outputs": [],
   "metadata": {}
  },
  {
   "cell_type": "code",
   "execution_count": 95,
   "source": [
    "#AdaMax 옵티마이저\r\n",
    "optimizer = keras.optimizers.Adamax(lr=0.001, beta_1=0.9, beta_2=0.999)\r\n",
    "#Nadam 옵티마이저\r\n",
    "optimizer = keras.optimizers.Nadam(lr=0.001, beta_1=0.9, beta_2=0.999)"
   ],
   "outputs": [],
   "metadata": {}
  },
  {
   "cell_type": "markdown",
   "source": [
    "## 11.3.6 학습률 스케줄링"
   ],
   "metadata": {}
  },
  {
   "cell_type": "markdown",
   "source": [
    "* 거듭제곱 기반 스케줄링(Power Scheduling)"
   ],
   "metadata": {}
  },
  {
   "cell_type": "code",
   "execution_count": 96,
   "source": [
    "#거듭제곱 기반 스케줄링\r\n",
    "#lr = lr0 / (1 + steps / s)**c\r\n",
    "optimizer = keras.optimizers.SGD(lr=0.01, decay=1e-4)\r\n",
    "\r\n",
    "model = keras.models.Sequential([\r\n",
    "    keras.layers.Flatten(input_shape=[28, 28]),\r\n",
    "    keras.layers.Dense(300, activation=\"selu\", kernel_initializer=\"lecun_normal\"),\r\n",
    "    keras.layers.Dense(100, activation=\"selu\", kernel_initializer=\"lecun_normal\"),\r\n",
    "    keras.layers.Dense(10, activation=\"softmax\")\r\n",
    "])\r\n",
    "model.compile(loss=\"sparse_categorical_crossentropy\", optimizer=optimizer, metrics=[\"accuracy\"])"
   ],
   "outputs": [],
   "metadata": {}
  },
  {
   "cell_type": "code",
   "execution_count": 97,
   "source": [
    "n_epochs = 25\r\n",
    "history = model.fit(X_train_scaled, y_train, epochs=n_epochs,\r\n",
    "                    validation_data=(X_valid_scaled, y_valid))"
   ],
   "outputs": [
    {
     "output_type": "stream",
     "name": "stdout",
     "text": [
      "Epoch 1/25\n",
      "1719/1719 [==============================] - 4s 2ms/step - loss: 0.4930 - accuracy: 0.8270 - val_loss: 0.4028 - val_accuracy: 0.8614\n",
      "Epoch 2/25\n",
      "1719/1719 [==============================] - 3s 2ms/step - loss: 0.3821 - accuracy: 0.8652 - val_loss: 0.3734 - val_accuracy: 0.8708\n",
      "Epoch 3/25\n",
      "1719/1719 [==============================] - 3s 2ms/step - loss: 0.3488 - accuracy: 0.8761 - val_loss: 0.3758 - val_accuracy: 0.8674\n",
      "Epoch 4/25\n",
      "1719/1719 [==============================] - 3s 2ms/step - loss: 0.3277 - accuracy: 0.8826 - val_loss: 0.3514 - val_accuracy: 0.8750\n",
      "Epoch 5/25\n",
      "1719/1719 [==============================] - 3s 2ms/step - loss: 0.3124 - accuracy: 0.8894 - val_loss: 0.3456 - val_accuracy: 0.8760\n",
      "Epoch 6/25\n",
      "1719/1719 [==============================] - 3s 2ms/step - loss: 0.2986 - accuracy: 0.8932 - val_loss: 0.3429 - val_accuracy: 0.8834\n",
      "Epoch 7/25\n",
      "1719/1719 [==============================] - 3s 2ms/step - loss: 0.2885 - accuracy: 0.8977 - val_loss: 0.3376 - val_accuracy: 0.8838\n",
      "Epoch 8/25\n",
      "1719/1719 [==============================] - 3s 2ms/step - loss: 0.2794 - accuracy: 0.9005 - val_loss: 0.3434 - val_accuracy: 0.8778\n",
      "Epoch 9/25\n",
      "1719/1719 [==============================] - 3s 2ms/step - loss: 0.2711 - accuracy: 0.9027 - val_loss: 0.3301 - val_accuracy: 0.8826\n",
      "Epoch 10/25\n",
      "1719/1719 [==============================] - 3s 2ms/step - loss: 0.2639 - accuracy: 0.9061 - val_loss: 0.3263 - val_accuracy: 0.8844\n",
      "Epoch 11/25\n",
      "1719/1719 [==============================] - 3s 2ms/step - loss: 0.2578 - accuracy: 0.9077 - val_loss: 0.3269 - val_accuracy: 0.8854\n",
      "Epoch 12/25\n",
      "1719/1719 [==============================] - 3s 2ms/step - loss: 0.2520 - accuracy: 0.9109 - val_loss: 0.3344 - val_accuracy: 0.8798\n",
      "Epoch 13/25\n",
      "1719/1719 [==============================] - 3s 2ms/step - loss: 0.2464 - accuracy: 0.9131 - val_loss: 0.3259 - val_accuracy: 0.8874\n",
      "Epoch 14/25\n",
      "1719/1719 [==============================] - 3s 2ms/step - loss: 0.2425 - accuracy: 0.9133 - val_loss: 0.3275 - val_accuracy: 0.8872\n",
      "Epoch 15/25\n",
      "1719/1719 [==============================] - 3s 2ms/step - loss: 0.2373 - accuracy: 0.9164 - val_loss: 0.3224 - val_accuracy: 0.8852\n",
      "Epoch 16/25\n",
      "1719/1719 [==============================] - 3s 2ms/step - loss: 0.2334 - accuracy: 0.9177 - val_loss: 0.3200 - val_accuracy: 0.8870\n",
      "Epoch 17/25\n",
      "1719/1719 [==============================] - 3s 2ms/step - loss: 0.2296 - accuracy: 0.9193 - val_loss: 0.3225 - val_accuracy: 0.8896\n",
      "Epoch 18/25\n",
      "1719/1719 [==============================] - 3s 2ms/step - loss: 0.2256 - accuracy: 0.9201 - val_loss: 0.3174 - val_accuracy: 0.8908\n",
      "Epoch 19/25\n",
      "1719/1719 [==============================] - 3s 2ms/step - loss: 0.2222 - accuracy: 0.9219 - val_loss: 0.3210 - val_accuracy: 0.8878\n",
      "Epoch 20/25\n",
      "1719/1719 [==============================] - 3s 2ms/step - loss: 0.2191 - accuracy: 0.9241 - val_loss: 0.3176 - val_accuracy: 0.8916\n",
      "Epoch 21/25\n",
      "1719/1719 [==============================] - 3s 2ms/step - loss: 0.2156 - accuracy: 0.9249 - val_loss: 0.3189 - val_accuracy: 0.8890\n",
      "Epoch 22/25\n",
      "1719/1719 [==============================] - 3s 2ms/step - loss: 0.2131 - accuracy: 0.9255 - val_loss: 0.3158 - val_accuracy: 0.8906\n",
      "Epoch 23/25\n",
      "1719/1719 [==============================] - 3s 2ms/step - loss: 0.2103 - accuracy: 0.9267 - val_loss: 0.3170 - val_accuracy: 0.8912\n",
      "Epoch 24/25\n",
      "1719/1719 [==============================] - 3s 2ms/step - loss: 0.2072 - accuracy: 0.9285 - val_loss: 0.3183 - val_accuracy: 0.8888\n",
      "Epoch 25/25\n",
      "1719/1719 [==============================] - 3s 2ms/step - loss: 0.2051 - accuracy: 0.9294 - val_loss: 0.3174 - val_accuracy: 0.8910\n"
     ]
    }
   ],
   "metadata": {}
  },
  {
   "cell_type": "code",
   "execution_count": 98,
   "source": [
    "learning_rate = 0.01\r\n",
    "decay = 1e-4\r\n",
    "batch_size = 32\r\n",
    "n_steps_per_epoch = len(X_train) // batch_size\r\n",
    "epochs = np.arange(n_epochs)\r\n",
    "lrs = learning_rate / (1 + decay * epochs * n_steps_per_epoch)\r\n",
    "\r\n",
    "plt.plot(epochs, lrs,  \"o-\")\r\n",
    "plt.axis([0, n_epochs - 1, 0, 0.01])\r\n",
    "plt.xlabel(\"Epoch\")\r\n",
    "plt.ylabel(\"Learning Rate\")\r\n",
    "plt.title(\"Power Scheduling\", fontsize=14)\r\n",
    "plt.grid(True)\r\n",
    "plt.show()"
   ],
   "outputs": [
    {
     "output_type": "display_data",
     "data": {
      "text/plain": [
       "<Figure size 432x288 with 1 Axes>"
      ],
      "image/svg+xml": "<?xml version=\"1.0\" encoding=\"utf-8\" standalone=\"no\"?>\r\n<!DOCTYPE svg PUBLIC \"-//W3C//DTD SVG 1.1//EN\"\r\n  \"http://www.w3.org/Graphics/SVG/1.1/DTD/svg11.dtd\">\r\n<svg height=\"284.640938pt\" version=\"1.1\" viewBox=\"0 0 408.103125 284.640938\" width=\"408.103125pt\" xmlns=\"http://www.w3.org/2000/svg\" xmlns:xlink=\"http://www.w3.org/1999/xlink\">\r\n <metadata>\r\n  <rdf:RDF xmlns:cc=\"http://creativecommons.org/ns#\" xmlns:dc=\"http://purl.org/dc/elements/1.1/\" xmlns:rdf=\"http://www.w3.org/1999/02/22-rdf-syntax-ns#\">\r\n   <cc:Work>\r\n    <dc:type rdf:resource=\"http://purl.org/dc/dcmitype/StillImage\"/>\r\n    <dc:date>2021-08-20T01:52:48.375992</dc:date>\r\n    <dc:format>image/svg+xml</dc:format>\r\n    <dc:creator>\r\n     <cc:Agent>\r\n      <dc:title>Matplotlib v3.4.2, https://matplotlib.org/</dc:title>\r\n     </cc:Agent>\r\n    </dc:creator>\r\n   </cc:Work>\r\n  </rdf:RDF>\r\n </metadata>\r\n <defs>\r\n  <style type=\"text/css\">*{stroke-linecap:butt;stroke-linejoin:round;}</style>\r\n </defs>\r\n <g id=\"figure_1\">\r\n  <g id=\"patch_1\">\r\n   <path d=\"M 0 284.640938 \r\nL 408.103125 284.640938 \r\nL 408.103125 0 \r\nL 0 0 \r\nz\r\n\" style=\"fill:none;\"/>\r\n  </g>\r\n  <g id=\"axes_1\">\r\n   <g id=\"patch_2\">\r\n    <path d=\"M 66.103125 241.277813 \r\nL 400.903125 241.277813 \r\nL 400.903125 23.837812 \r\nL 66.103125 23.837812 \r\nz\r\n\" style=\"fill:#ffffff;\"/>\r\n   </g>\r\n   <g id=\"matplotlib.axis_1\">\r\n    <g id=\"xtick_1\">\r\n     <g id=\"line2d_1\">\r\n      <path clip-path=\"url(#pc9333f7553)\" d=\"M 66.103125 241.277813 \r\nL 66.103125 23.837812 \r\n\" style=\"fill:none;stroke:#b0b0b0;stroke-linecap:square;stroke-width:0.8;\"/>\r\n     </g>\r\n     <g id=\"line2d_2\">\r\n      <defs>\r\n       <path d=\"M 0 0 \r\nL 0 3.5 \r\n\" id=\"m97aedb5786\" style=\"stroke:#000000;stroke-width:0.8;\"/>\r\n      </defs>\r\n      <g>\r\n       <use style=\"stroke:#000000;stroke-width:0.8;\" x=\"66.103125\" xlink:href=\"#m97aedb5786\" y=\"241.277813\"/>\r\n      </g>\r\n     </g>\r\n     <g id=\"text_1\">\r\n      <!-- 0 -->\r\n      <g transform=\"translate(62.285625 257.395938)scale(0.12 -0.12)\">\r\n       <defs>\r\n        <path d=\"M 2034 4250 \r\nQ 1547 4250 1301 3770 \r\nQ 1056 3291 1056 2328 \r\nQ 1056 1369 1301 889 \r\nQ 1547 409 2034 409 \r\nQ 2525 409 2770 889 \r\nQ 3016 1369 3016 2328 \r\nQ 3016 3291 2770 3770 \r\nQ 2525 4250 2034 4250 \r\nz\r\nM 2034 4750 \r\nQ 2819 4750 3233 4129 \r\nQ 3647 3509 3647 2328 \r\nQ 3647 1150 3233 529 \r\nQ 2819 -91 2034 -91 \r\nQ 1250 -91 836 529 \r\nQ 422 1150 422 2328 \r\nQ 422 3509 836 4129 \r\nQ 1250 4750 2034 4750 \r\nz\r\n\" id=\"DejaVuSans-30\" transform=\"scale(0.015625)\"/>\r\n       </defs>\r\n       <use xlink:href=\"#DejaVuSans-30\"/>\r\n      </g>\r\n     </g>\r\n    </g>\r\n    <g id=\"xtick_2\">\r\n     <g id=\"line2d_3\">\r\n      <path clip-path=\"url(#pc9333f7553)\" d=\"M 135.853125 241.277813 \r\nL 135.853125 23.837812 \r\n\" style=\"fill:none;stroke:#b0b0b0;stroke-linecap:square;stroke-width:0.8;\"/>\r\n     </g>\r\n     <g id=\"line2d_4\">\r\n      <g>\r\n       <use style=\"stroke:#000000;stroke-width:0.8;\" x=\"135.853125\" xlink:href=\"#m97aedb5786\" y=\"241.277813\"/>\r\n      </g>\r\n     </g>\r\n     <g id=\"text_2\">\r\n      <!-- 5 -->\r\n      <g transform=\"translate(132.035625 257.395938)scale(0.12 -0.12)\">\r\n       <defs>\r\n        <path d=\"M 691 4666 \r\nL 3169 4666 \r\nL 3169 4134 \r\nL 1269 4134 \r\nL 1269 2991 \r\nQ 1406 3038 1543 3061 \r\nQ 1681 3084 1819 3084 \r\nQ 2600 3084 3056 2656 \r\nQ 3513 2228 3513 1497 \r\nQ 3513 744 3044 326 \r\nQ 2575 -91 1722 -91 \r\nQ 1428 -91 1123 -41 \r\nQ 819 9 494 109 \r\nL 494 744 \r\nQ 775 591 1075 516 \r\nQ 1375 441 1709 441 \r\nQ 2250 441 2565 725 \r\nQ 2881 1009 2881 1497 \r\nQ 2881 1984 2565 2268 \r\nQ 2250 2553 1709 2553 \r\nQ 1456 2553 1204 2497 \r\nQ 953 2441 691 2322 \r\nL 691 4666 \r\nz\r\n\" id=\"DejaVuSans-35\" transform=\"scale(0.015625)\"/>\r\n       </defs>\r\n       <use xlink:href=\"#DejaVuSans-35\"/>\r\n      </g>\r\n     </g>\r\n    </g>\r\n    <g id=\"xtick_3\">\r\n     <g id=\"line2d_5\">\r\n      <path clip-path=\"url(#pc9333f7553)\" d=\"M 205.603125 241.277813 \r\nL 205.603125 23.837812 \r\n\" style=\"fill:none;stroke:#b0b0b0;stroke-linecap:square;stroke-width:0.8;\"/>\r\n     </g>\r\n     <g id=\"line2d_6\">\r\n      <g>\r\n       <use style=\"stroke:#000000;stroke-width:0.8;\" x=\"205.603125\" xlink:href=\"#m97aedb5786\" y=\"241.277813\"/>\r\n      </g>\r\n     </g>\r\n     <g id=\"text_3\">\r\n      <!-- 10 -->\r\n      <g transform=\"translate(197.968125 257.395938)scale(0.12 -0.12)\">\r\n       <defs>\r\n        <path d=\"M 794 531 \r\nL 1825 531 \r\nL 1825 4091 \r\nL 703 3866 \r\nL 703 4441 \r\nL 1819 4666 \r\nL 2450 4666 \r\nL 2450 531 \r\nL 3481 531 \r\nL 3481 0 \r\nL 794 0 \r\nL 794 531 \r\nz\r\n\" id=\"DejaVuSans-31\" transform=\"scale(0.015625)\"/>\r\n       </defs>\r\n       <use xlink:href=\"#DejaVuSans-31\"/>\r\n       <use x=\"63.623047\" xlink:href=\"#DejaVuSans-30\"/>\r\n      </g>\r\n     </g>\r\n    </g>\r\n    <g id=\"xtick_4\">\r\n     <g id=\"line2d_7\">\r\n      <path clip-path=\"url(#pc9333f7553)\" d=\"M 275.353125 241.277813 \r\nL 275.353125 23.837812 \r\n\" style=\"fill:none;stroke:#b0b0b0;stroke-linecap:square;stroke-width:0.8;\"/>\r\n     </g>\r\n     <g id=\"line2d_8\">\r\n      <g>\r\n       <use style=\"stroke:#000000;stroke-width:0.8;\" x=\"275.353125\" xlink:href=\"#m97aedb5786\" y=\"241.277813\"/>\r\n      </g>\r\n     </g>\r\n     <g id=\"text_4\">\r\n      <!-- 15 -->\r\n      <g transform=\"translate(267.718125 257.395938)scale(0.12 -0.12)\">\r\n       <use xlink:href=\"#DejaVuSans-31\"/>\r\n       <use x=\"63.623047\" xlink:href=\"#DejaVuSans-35\"/>\r\n      </g>\r\n     </g>\r\n    </g>\r\n    <g id=\"xtick_5\">\r\n     <g id=\"line2d_9\">\r\n      <path clip-path=\"url(#pc9333f7553)\" d=\"M 345.103125 241.277813 \r\nL 345.103125 23.837812 \r\n\" style=\"fill:none;stroke:#b0b0b0;stroke-linecap:square;stroke-width:0.8;\"/>\r\n     </g>\r\n     <g id=\"line2d_10\">\r\n      <g>\r\n       <use style=\"stroke:#000000;stroke-width:0.8;\" x=\"345.103125\" xlink:href=\"#m97aedb5786\" y=\"241.277813\"/>\r\n      </g>\r\n     </g>\r\n     <g id=\"text_5\">\r\n      <!-- 20 -->\r\n      <g transform=\"translate(337.468125 257.395938)scale(0.12 -0.12)\">\r\n       <defs>\r\n        <path d=\"M 1228 531 \r\nL 3431 531 \r\nL 3431 0 \r\nL 469 0 \r\nL 469 531 \r\nQ 828 903 1448 1529 \r\nQ 2069 2156 2228 2338 \r\nQ 2531 2678 2651 2914 \r\nQ 2772 3150 2772 3378 \r\nQ 2772 3750 2511 3984 \r\nQ 2250 4219 1831 4219 \r\nQ 1534 4219 1204 4116 \r\nQ 875 4013 500 3803 \r\nL 500 4441 \r\nQ 881 4594 1212 4672 \r\nQ 1544 4750 1819 4750 \r\nQ 2544 4750 2975 4387 \r\nQ 3406 4025 3406 3419 \r\nQ 3406 3131 3298 2873 \r\nQ 3191 2616 2906 2266 \r\nQ 2828 2175 2409 1742 \r\nQ 1991 1309 1228 531 \r\nz\r\n\" id=\"DejaVuSans-32\" transform=\"scale(0.015625)\"/>\r\n       </defs>\r\n       <use xlink:href=\"#DejaVuSans-32\"/>\r\n       <use x=\"63.623047\" xlink:href=\"#DejaVuSans-30\"/>\r\n      </g>\r\n     </g>\r\n    </g>\r\n    <g id=\"text_6\">\r\n     <!-- Epoch -->\r\n     <g transform=\"translate(212.067812 274.529375)scale(0.14 -0.14)\">\r\n      <defs>\r\n       <path d=\"M 628 4666 \r\nL 3578 4666 \r\nL 3578 4134 \r\nL 1259 4134 \r\nL 1259 2753 \r\nL 3481 2753 \r\nL 3481 2222 \r\nL 1259 2222 \r\nL 1259 531 \r\nL 3634 531 \r\nL 3634 0 \r\nL 628 0 \r\nL 628 4666 \r\nz\r\n\" id=\"DejaVuSans-45\" transform=\"scale(0.015625)\"/>\r\n       <path d=\"M 1159 525 \r\nL 1159 -1331 \r\nL 581 -1331 \r\nL 581 3500 \r\nL 1159 3500 \r\nL 1159 2969 \r\nQ 1341 3281 1617 3432 \r\nQ 1894 3584 2278 3584 \r\nQ 2916 3584 3314 3078 \r\nQ 3713 2572 3713 1747 \r\nQ 3713 922 3314 415 \r\nQ 2916 -91 2278 -91 \r\nQ 1894 -91 1617 61 \r\nQ 1341 213 1159 525 \r\nz\r\nM 3116 1747 \r\nQ 3116 2381 2855 2742 \r\nQ 2594 3103 2138 3103 \r\nQ 1681 3103 1420 2742 \r\nQ 1159 2381 1159 1747 \r\nQ 1159 1113 1420 752 \r\nQ 1681 391 2138 391 \r\nQ 2594 391 2855 752 \r\nQ 3116 1113 3116 1747 \r\nz\r\n\" id=\"DejaVuSans-70\" transform=\"scale(0.015625)\"/>\r\n       <path d=\"M 1959 3097 \r\nQ 1497 3097 1228 2736 \r\nQ 959 2375 959 1747 \r\nQ 959 1119 1226 758 \r\nQ 1494 397 1959 397 \r\nQ 2419 397 2687 759 \r\nQ 2956 1122 2956 1747 \r\nQ 2956 2369 2687 2733 \r\nQ 2419 3097 1959 3097 \r\nz\r\nM 1959 3584 \r\nQ 2709 3584 3137 3096 \r\nQ 3566 2609 3566 1747 \r\nQ 3566 888 3137 398 \r\nQ 2709 -91 1959 -91 \r\nQ 1206 -91 779 398 \r\nQ 353 888 353 1747 \r\nQ 353 2609 779 3096 \r\nQ 1206 3584 1959 3584 \r\nz\r\n\" id=\"DejaVuSans-6f\" transform=\"scale(0.015625)\"/>\r\n       <path d=\"M 3122 3366 \r\nL 3122 2828 \r\nQ 2878 2963 2633 3030 \r\nQ 2388 3097 2138 3097 \r\nQ 1578 3097 1268 2742 \r\nQ 959 2388 959 1747 \r\nQ 959 1106 1268 751 \r\nQ 1578 397 2138 397 \r\nQ 2388 397 2633 464 \r\nQ 2878 531 3122 666 \r\nL 3122 134 \r\nQ 2881 22 2623 -34 \r\nQ 2366 -91 2075 -91 \r\nQ 1284 -91 818 406 \r\nQ 353 903 353 1747 \r\nQ 353 2603 823 3093 \r\nQ 1294 3584 2113 3584 \r\nQ 2378 3584 2631 3529 \r\nQ 2884 3475 3122 3366 \r\nz\r\n\" id=\"DejaVuSans-63\" transform=\"scale(0.015625)\"/>\r\n       <path d=\"M 3513 2113 \r\nL 3513 0 \r\nL 2938 0 \r\nL 2938 2094 \r\nQ 2938 2591 2744 2837 \r\nQ 2550 3084 2163 3084 \r\nQ 1697 3084 1428 2787 \r\nQ 1159 2491 1159 1978 \r\nL 1159 0 \r\nL 581 0 \r\nL 581 4863 \r\nL 1159 4863 \r\nL 1159 2956 \r\nQ 1366 3272 1645 3428 \r\nQ 1925 3584 2291 3584 \r\nQ 2894 3584 3203 3211 \r\nQ 3513 2838 3513 2113 \r\nz\r\n\" id=\"DejaVuSans-68\" transform=\"scale(0.015625)\"/>\r\n      </defs>\r\n      <use xlink:href=\"#DejaVuSans-45\"/>\r\n      <use x=\"63.183594\" xlink:href=\"#DejaVuSans-70\"/>\r\n      <use x=\"126.660156\" xlink:href=\"#DejaVuSans-6f\"/>\r\n      <use x=\"187.841797\" xlink:href=\"#DejaVuSans-63\"/>\r\n      <use x=\"242.822266\" xlink:href=\"#DejaVuSans-68\"/>\r\n     </g>\r\n    </g>\r\n   </g>\r\n   <g id=\"matplotlib.axis_2\">\r\n    <g id=\"ytick_1\">\r\n     <g id=\"line2d_11\">\r\n      <path clip-path=\"url(#pc9333f7553)\" d=\"M 66.103125 241.277813 \r\nL 400.903125 241.277813 \r\n\" style=\"fill:none;stroke:#b0b0b0;stroke-linecap:square;stroke-width:0.8;\"/>\r\n     </g>\r\n     <g id=\"line2d_12\">\r\n      <defs>\r\n       <path d=\"M 0 0 \r\nL -3.5 0 \r\n\" id=\"m23a4d46525\" style=\"stroke:#000000;stroke-width:0.8;\"/>\r\n      </defs>\r\n      <g>\r\n       <use style=\"stroke:#000000;stroke-width:0.8;\" x=\"66.103125\" xlink:href=\"#m23a4d46525\" y=\"241.277813\"/>\r\n      </g>\r\n     </g>\r\n     <g id=\"text_7\">\r\n      <!-- 0.000 -->\r\n      <g transform=\"translate(24.749375 245.836875)scale(0.12 -0.12)\">\r\n       <defs>\r\n        <path d=\"M 684 794 \r\nL 1344 794 \r\nL 1344 0 \r\nL 684 0 \r\nL 684 794 \r\nz\r\n\" id=\"DejaVuSans-2e\" transform=\"scale(0.015625)\"/>\r\n       </defs>\r\n       <use xlink:href=\"#DejaVuSans-30\"/>\r\n       <use x=\"63.623047\" xlink:href=\"#DejaVuSans-2e\"/>\r\n       <use x=\"95.410156\" xlink:href=\"#DejaVuSans-30\"/>\r\n       <use x=\"159.033203\" xlink:href=\"#DejaVuSans-30\"/>\r\n       <use x=\"222.65625\" xlink:href=\"#DejaVuSans-30\"/>\r\n      </g>\r\n     </g>\r\n    </g>\r\n    <g id=\"ytick_2\">\r\n     <g id=\"line2d_13\">\r\n      <path clip-path=\"url(#pc9333f7553)\" d=\"M 66.103125 197.789813 \r\nL 400.903125 197.789813 \r\n\" style=\"fill:none;stroke:#b0b0b0;stroke-linecap:square;stroke-width:0.8;\"/>\r\n     </g>\r\n     <g id=\"line2d_14\">\r\n      <g>\r\n       <use style=\"stroke:#000000;stroke-width:0.8;\" x=\"66.103125\" xlink:href=\"#m23a4d46525\" y=\"197.789813\"/>\r\n      </g>\r\n     </g>\r\n     <g id=\"text_8\">\r\n      <!-- 0.002 -->\r\n      <g transform=\"translate(24.749375 202.348875)scale(0.12 -0.12)\">\r\n       <use xlink:href=\"#DejaVuSans-30\"/>\r\n       <use x=\"63.623047\" xlink:href=\"#DejaVuSans-2e\"/>\r\n       <use x=\"95.410156\" xlink:href=\"#DejaVuSans-30\"/>\r\n       <use x=\"159.033203\" xlink:href=\"#DejaVuSans-30\"/>\r\n       <use x=\"222.65625\" xlink:href=\"#DejaVuSans-32\"/>\r\n      </g>\r\n     </g>\r\n    </g>\r\n    <g id=\"ytick_3\">\r\n     <g id=\"line2d_15\">\r\n      <path clip-path=\"url(#pc9333f7553)\" d=\"M 66.103125 154.301812 \r\nL 400.903125 154.301812 \r\n\" style=\"fill:none;stroke:#b0b0b0;stroke-linecap:square;stroke-width:0.8;\"/>\r\n     </g>\r\n     <g id=\"line2d_16\">\r\n      <g>\r\n       <use style=\"stroke:#000000;stroke-width:0.8;\" x=\"66.103125\" xlink:href=\"#m23a4d46525\" y=\"154.301812\"/>\r\n      </g>\r\n     </g>\r\n     <g id=\"text_9\">\r\n      <!-- 0.004 -->\r\n      <g transform=\"translate(24.749375 158.860875)scale(0.12 -0.12)\">\r\n       <defs>\r\n        <path d=\"M 2419 4116 \r\nL 825 1625 \r\nL 2419 1625 \r\nL 2419 4116 \r\nz\r\nM 2253 4666 \r\nL 3047 4666 \r\nL 3047 1625 \r\nL 3713 1625 \r\nL 3713 1100 \r\nL 3047 1100 \r\nL 3047 0 \r\nL 2419 0 \r\nL 2419 1100 \r\nL 313 1100 \r\nL 313 1709 \r\nL 2253 4666 \r\nz\r\n\" id=\"DejaVuSans-34\" transform=\"scale(0.015625)\"/>\r\n       </defs>\r\n       <use xlink:href=\"#DejaVuSans-30\"/>\r\n       <use x=\"63.623047\" xlink:href=\"#DejaVuSans-2e\"/>\r\n       <use x=\"95.410156\" xlink:href=\"#DejaVuSans-30\"/>\r\n       <use x=\"159.033203\" xlink:href=\"#DejaVuSans-30\"/>\r\n       <use x=\"222.65625\" xlink:href=\"#DejaVuSans-34\"/>\r\n      </g>\r\n     </g>\r\n    </g>\r\n    <g id=\"ytick_4\">\r\n     <g id=\"line2d_17\">\r\n      <path clip-path=\"url(#pc9333f7553)\" d=\"M 66.103125 110.813812 \r\nL 400.903125 110.813812 \r\n\" style=\"fill:none;stroke:#b0b0b0;stroke-linecap:square;stroke-width:0.8;\"/>\r\n     </g>\r\n     <g id=\"line2d_18\">\r\n      <g>\r\n       <use style=\"stroke:#000000;stroke-width:0.8;\" x=\"66.103125\" xlink:href=\"#m23a4d46525\" y=\"110.813812\"/>\r\n      </g>\r\n     </g>\r\n     <g id=\"text_10\">\r\n      <!-- 0.006 -->\r\n      <g transform=\"translate(24.749375 115.372875)scale(0.12 -0.12)\">\r\n       <defs>\r\n        <path d=\"M 2113 2584 \r\nQ 1688 2584 1439 2293 \r\nQ 1191 2003 1191 1497 \r\nQ 1191 994 1439 701 \r\nQ 1688 409 2113 409 \r\nQ 2538 409 2786 701 \r\nQ 3034 994 3034 1497 \r\nQ 3034 2003 2786 2293 \r\nQ 2538 2584 2113 2584 \r\nz\r\nM 3366 4563 \r\nL 3366 3988 \r\nQ 3128 4100 2886 4159 \r\nQ 2644 4219 2406 4219 \r\nQ 1781 4219 1451 3797 \r\nQ 1122 3375 1075 2522 \r\nQ 1259 2794 1537 2939 \r\nQ 1816 3084 2150 3084 \r\nQ 2853 3084 3261 2657 \r\nQ 3669 2231 3669 1497 \r\nQ 3669 778 3244 343 \r\nQ 2819 -91 2113 -91 \r\nQ 1303 -91 875 529 \r\nQ 447 1150 447 2328 \r\nQ 447 3434 972 4092 \r\nQ 1497 4750 2381 4750 \r\nQ 2619 4750 2861 4703 \r\nQ 3103 4656 3366 4563 \r\nz\r\n\" id=\"DejaVuSans-36\" transform=\"scale(0.015625)\"/>\r\n       </defs>\r\n       <use xlink:href=\"#DejaVuSans-30\"/>\r\n       <use x=\"63.623047\" xlink:href=\"#DejaVuSans-2e\"/>\r\n       <use x=\"95.410156\" xlink:href=\"#DejaVuSans-30\"/>\r\n       <use x=\"159.033203\" xlink:href=\"#DejaVuSans-30\"/>\r\n       <use x=\"222.65625\" xlink:href=\"#DejaVuSans-36\"/>\r\n      </g>\r\n     </g>\r\n    </g>\r\n    <g id=\"ytick_5\">\r\n     <g id=\"line2d_19\">\r\n      <path clip-path=\"url(#pc9333f7553)\" d=\"M 66.103125 67.325812 \r\nL 400.903125 67.325812 \r\n\" style=\"fill:none;stroke:#b0b0b0;stroke-linecap:square;stroke-width:0.8;\"/>\r\n     </g>\r\n     <g id=\"line2d_20\">\r\n      <g>\r\n       <use style=\"stroke:#000000;stroke-width:0.8;\" x=\"66.103125\" xlink:href=\"#m23a4d46525\" y=\"67.325812\"/>\r\n      </g>\r\n     </g>\r\n     <g id=\"text_11\">\r\n      <!-- 0.008 -->\r\n      <g transform=\"translate(24.749375 71.884875)scale(0.12 -0.12)\">\r\n       <defs>\r\n        <path d=\"M 2034 2216 \r\nQ 1584 2216 1326 1975 \r\nQ 1069 1734 1069 1313 \r\nQ 1069 891 1326 650 \r\nQ 1584 409 2034 409 \r\nQ 2484 409 2743 651 \r\nQ 3003 894 3003 1313 \r\nQ 3003 1734 2745 1975 \r\nQ 2488 2216 2034 2216 \r\nz\r\nM 1403 2484 \r\nQ 997 2584 770 2862 \r\nQ 544 3141 544 3541 \r\nQ 544 4100 942 4425 \r\nQ 1341 4750 2034 4750 \r\nQ 2731 4750 3128 4425 \r\nQ 3525 4100 3525 3541 \r\nQ 3525 3141 3298 2862 \r\nQ 3072 2584 2669 2484 \r\nQ 3125 2378 3379 2068 \r\nQ 3634 1759 3634 1313 \r\nQ 3634 634 3220 271 \r\nQ 2806 -91 2034 -91 \r\nQ 1263 -91 848 271 \r\nQ 434 634 434 1313 \r\nQ 434 1759 690 2068 \r\nQ 947 2378 1403 2484 \r\nz\r\nM 1172 3481 \r\nQ 1172 3119 1398 2916 \r\nQ 1625 2713 2034 2713 \r\nQ 2441 2713 2670 2916 \r\nQ 2900 3119 2900 3481 \r\nQ 2900 3844 2670 4047 \r\nQ 2441 4250 2034 4250 \r\nQ 1625 4250 1398 4047 \r\nQ 1172 3844 1172 3481 \r\nz\r\n\" id=\"DejaVuSans-38\" transform=\"scale(0.015625)\"/>\r\n       </defs>\r\n       <use xlink:href=\"#DejaVuSans-30\"/>\r\n       <use x=\"63.623047\" xlink:href=\"#DejaVuSans-2e\"/>\r\n       <use x=\"95.410156\" xlink:href=\"#DejaVuSans-30\"/>\r\n       <use x=\"159.033203\" xlink:href=\"#DejaVuSans-30\"/>\r\n       <use x=\"222.65625\" xlink:href=\"#DejaVuSans-38\"/>\r\n      </g>\r\n     </g>\r\n    </g>\r\n    <g id=\"ytick_6\">\r\n     <g id=\"line2d_21\">\r\n      <path clip-path=\"url(#pc9333f7553)\" d=\"M 66.103125 23.837812 \r\nL 400.903125 23.837812 \r\n\" style=\"fill:none;stroke:#b0b0b0;stroke-linecap:square;stroke-width:0.8;\"/>\r\n     </g>\r\n     <g id=\"line2d_22\">\r\n      <g>\r\n       <use style=\"stroke:#000000;stroke-width:0.8;\" x=\"66.103125\" xlink:href=\"#m23a4d46525\" y=\"23.837812\"/>\r\n      </g>\r\n     </g>\r\n     <g id=\"text_12\">\r\n      <!-- 0.010 -->\r\n      <g transform=\"translate(24.749375 28.396875)scale(0.12 -0.12)\">\r\n       <use xlink:href=\"#DejaVuSans-30\"/>\r\n       <use x=\"63.623047\" xlink:href=\"#DejaVuSans-2e\"/>\r\n       <use x=\"95.410156\" xlink:href=\"#DejaVuSans-30\"/>\r\n       <use x=\"159.033203\" xlink:href=\"#DejaVuSans-31\"/>\r\n       <use x=\"222.65625\" xlink:href=\"#DejaVuSans-30\"/>\r\n      </g>\r\n     </g>\r\n    </g>\r\n    <g id=\"text_13\">\r\n     <!-- Learning Rate -->\r\n     <g transform=\"translate(17.837813 181.220937)rotate(-90)scale(0.14 -0.14)\">\r\n      <defs>\r\n       <path d=\"M 628 4666 \r\nL 1259 4666 \r\nL 1259 531 \r\nL 3531 531 \r\nL 3531 0 \r\nL 628 0 \r\nL 628 4666 \r\nz\r\n\" id=\"DejaVuSans-4c\" transform=\"scale(0.015625)\"/>\r\n       <path d=\"M 3597 1894 \r\nL 3597 1613 \r\nL 953 1613 \r\nQ 991 1019 1311 708 \r\nQ 1631 397 2203 397 \r\nQ 2534 397 2845 478 \r\nQ 3156 559 3463 722 \r\nL 3463 178 \r\nQ 3153 47 2828 -22 \r\nQ 2503 -91 2169 -91 \r\nQ 1331 -91 842 396 \r\nQ 353 884 353 1716 \r\nQ 353 2575 817 3079 \r\nQ 1281 3584 2069 3584 \r\nQ 2775 3584 3186 3129 \r\nQ 3597 2675 3597 1894 \r\nz\r\nM 3022 2063 \r\nQ 3016 2534 2758 2815 \r\nQ 2500 3097 2075 3097 \r\nQ 1594 3097 1305 2825 \r\nQ 1016 2553 972 2059 \r\nL 3022 2063 \r\nz\r\n\" id=\"DejaVuSans-65\" transform=\"scale(0.015625)\"/>\r\n       <path d=\"M 2194 1759 \r\nQ 1497 1759 1228 1600 \r\nQ 959 1441 959 1056 \r\nQ 959 750 1161 570 \r\nQ 1363 391 1709 391 \r\nQ 2188 391 2477 730 \r\nQ 2766 1069 2766 1631 \r\nL 2766 1759 \r\nL 2194 1759 \r\nz\r\nM 3341 1997 \r\nL 3341 0 \r\nL 2766 0 \r\nL 2766 531 \r\nQ 2569 213 2275 61 \r\nQ 1981 -91 1556 -91 \r\nQ 1019 -91 701 211 \r\nQ 384 513 384 1019 \r\nQ 384 1609 779 1909 \r\nQ 1175 2209 1959 2209 \r\nL 2766 2209 \r\nL 2766 2266 \r\nQ 2766 2663 2505 2880 \r\nQ 2244 3097 1772 3097 \r\nQ 1472 3097 1187 3025 \r\nQ 903 2953 641 2809 \r\nL 641 3341 \r\nQ 956 3463 1253 3523 \r\nQ 1550 3584 1831 3584 \r\nQ 2591 3584 2966 3190 \r\nQ 3341 2797 3341 1997 \r\nz\r\n\" id=\"DejaVuSans-61\" transform=\"scale(0.015625)\"/>\r\n       <path d=\"M 2631 2963 \r\nQ 2534 3019 2420 3045 \r\nQ 2306 3072 2169 3072 \r\nQ 1681 3072 1420 2755 \r\nQ 1159 2438 1159 1844 \r\nL 1159 0 \r\nL 581 0 \r\nL 581 3500 \r\nL 1159 3500 \r\nL 1159 2956 \r\nQ 1341 3275 1631 3429 \r\nQ 1922 3584 2338 3584 \r\nQ 2397 3584 2469 3576 \r\nQ 2541 3569 2628 3553 \r\nL 2631 2963 \r\nz\r\n\" id=\"DejaVuSans-72\" transform=\"scale(0.015625)\"/>\r\n       <path d=\"M 3513 2113 \r\nL 3513 0 \r\nL 2938 0 \r\nL 2938 2094 \r\nQ 2938 2591 2744 2837 \r\nQ 2550 3084 2163 3084 \r\nQ 1697 3084 1428 2787 \r\nQ 1159 2491 1159 1978 \r\nL 1159 0 \r\nL 581 0 \r\nL 581 3500 \r\nL 1159 3500 \r\nL 1159 2956 \r\nQ 1366 3272 1645 3428 \r\nQ 1925 3584 2291 3584 \r\nQ 2894 3584 3203 3211 \r\nQ 3513 2838 3513 2113 \r\nz\r\n\" id=\"DejaVuSans-6e\" transform=\"scale(0.015625)\"/>\r\n       <path d=\"M 603 3500 \r\nL 1178 3500 \r\nL 1178 0 \r\nL 603 0 \r\nL 603 3500 \r\nz\r\nM 603 4863 \r\nL 1178 4863 \r\nL 1178 4134 \r\nL 603 4134 \r\nL 603 4863 \r\nz\r\n\" id=\"DejaVuSans-69\" transform=\"scale(0.015625)\"/>\r\n       <path d=\"M 2906 1791 \r\nQ 2906 2416 2648 2759 \r\nQ 2391 3103 1925 3103 \r\nQ 1463 3103 1205 2759 \r\nQ 947 2416 947 1791 \r\nQ 947 1169 1205 825 \r\nQ 1463 481 1925 481 \r\nQ 2391 481 2648 825 \r\nQ 2906 1169 2906 1791 \r\nz\r\nM 3481 434 \r\nQ 3481 -459 3084 -895 \r\nQ 2688 -1331 1869 -1331 \r\nQ 1566 -1331 1297 -1286 \r\nQ 1028 -1241 775 -1147 \r\nL 775 -588 \r\nQ 1028 -725 1275 -790 \r\nQ 1522 -856 1778 -856 \r\nQ 2344 -856 2625 -561 \r\nQ 2906 -266 2906 331 \r\nL 2906 616 \r\nQ 2728 306 2450 153 \r\nQ 2172 0 1784 0 \r\nQ 1141 0 747 490 \r\nQ 353 981 353 1791 \r\nQ 353 2603 747 3093 \r\nQ 1141 3584 1784 3584 \r\nQ 2172 3584 2450 3431 \r\nQ 2728 3278 2906 2969 \r\nL 2906 3500 \r\nL 3481 3500 \r\nL 3481 434 \r\nz\r\n\" id=\"DejaVuSans-67\" transform=\"scale(0.015625)\"/>\r\n       <path id=\"DejaVuSans-20\" transform=\"scale(0.015625)\"/>\r\n       <path d=\"M 2841 2188 \r\nQ 3044 2119 3236 1894 \r\nQ 3428 1669 3622 1275 \r\nL 4263 0 \r\nL 3584 0 \r\nL 2988 1197 \r\nQ 2756 1666 2539 1819 \r\nQ 2322 1972 1947 1972 \r\nL 1259 1972 \r\nL 1259 0 \r\nL 628 0 \r\nL 628 4666 \r\nL 2053 4666 \r\nQ 2853 4666 3247 4331 \r\nQ 3641 3997 3641 3322 \r\nQ 3641 2881 3436 2590 \r\nQ 3231 2300 2841 2188 \r\nz\r\nM 1259 4147 \r\nL 1259 2491 \r\nL 2053 2491 \r\nQ 2509 2491 2742 2702 \r\nQ 2975 2913 2975 3322 \r\nQ 2975 3731 2742 3939 \r\nQ 2509 4147 2053 4147 \r\nL 1259 4147 \r\nz\r\n\" id=\"DejaVuSans-52\" transform=\"scale(0.015625)\"/>\r\n       <path d=\"M 1172 4494 \r\nL 1172 3500 \r\nL 2356 3500 \r\nL 2356 3053 \r\nL 1172 3053 \r\nL 1172 1153 \r\nQ 1172 725 1289 603 \r\nQ 1406 481 1766 481 \r\nL 2356 481 \r\nL 2356 0 \r\nL 1766 0 \r\nQ 1100 0 847 248 \r\nQ 594 497 594 1153 \r\nL 594 3053 \r\nL 172 3053 \r\nL 172 3500 \r\nL 594 3500 \r\nL 594 4494 \r\nL 1172 4494 \r\nz\r\n\" id=\"DejaVuSans-74\" transform=\"scale(0.015625)\"/>\r\n      </defs>\r\n      <use xlink:href=\"#DejaVuSans-4c\"/>\r\n      <use x=\"53.962891\" xlink:href=\"#DejaVuSans-65\"/>\r\n      <use x=\"115.486328\" xlink:href=\"#DejaVuSans-61\"/>\r\n      <use x=\"176.765625\" xlink:href=\"#DejaVuSans-72\"/>\r\n      <use x=\"216.128906\" xlink:href=\"#DejaVuSans-6e\"/>\r\n      <use x=\"279.507812\" xlink:href=\"#DejaVuSans-69\"/>\r\n      <use x=\"307.291016\" xlink:href=\"#DejaVuSans-6e\"/>\r\n      <use x=\"370.669922\" xlink:href=\"#DejaVuSans-67\"/>\r\n      <use x=\"434.146484\" xlink:href=\"#DejaVuSans-20\"/>\r\n      <use x=\"465.933594\" xlink:href=\"#DejaVuSans-52\"/>\r\n      <use x=\"533.166016\" xlink:href=\"#DejaVuSans-61\"/>\r\n      <use x=\"594.445312\" xlink:href=\"#DejaVuSans-74\"/>\r\n      <use x=\"633.654297\" xlink:href=\"#DejaVuSans-65\"/>\r\n     </g>\r\n    </g>\r\n   </g>\r\n   <g id=\"line2d_23\">\r\n    <path clip-path=\"url(#pc9333f7553)\" d=\"M 66.103125 23.837812 \r\nL 80.053125 55.717137 \r\nL 94.003125 79.443933 \r\nL 107.953125 97.790944 \r\nL 121.903125 112.401568 \r\nL 135.853125 124.311702 \r\nL 149.803125 134.206708 \r\nL 163.753125 142.558118 \r\nL 177.703125 149.700993 \r\nL 191.653125 155.879965 \r\nL 205.603125 161.277812 \r\nL 219.553125 166.033851 \r\nL 233.503125 170.256124 \r\nL 247.453125 174.029715 \r\nL 261.403125 177.422532 \r\nL 275.353125 180.489442 \r\nL 289.303125 183.275252 \r\nL 303.253125 185.816914 \r\nL 317.203125 188.145176 \r\nL 331.153125 190.285833 \r\nL 345.103125 192.26068 \r\nL 359.053125 194.088264 \r\nL 373.003125 195.784466 \r\nL 386.953125 197.36296 \r\nL 400.903125 198.835589 \r\n\" style=\"fill:none;stroke:#1f77b4;stroke-linecap:square;stroke-width:1.5;\"/>\r\n    <defs>\r\n     <path d=\"M 0 3 \r\nC 0.795609 3 1.55874 2.683901 2.12132 2.12132 \r\nC 2.683901 1.55874 3 0.795609 3 0 \r\nC 3 -0.795609 2.683901 -1.55874 2.12132 -2.12132 \r\nC 1.55874 -2.683901 0.795609 -3 0 -3 \r\nC -0.795609 -3 -1.55874 -2.683901 -2.12132 -2.12132 \r\nC -2.683901 -1.55874 -3 -0.795609 -3 0 \r\nC -3 0.795609 -2.683901 1.55874 -2.12132 2.12132 \r\nC -1.55874 2.683901 -0.795609 3 0 3 \r\nz\r\n\" id=\"mde45bdbb36\" style=\"stroke:#1f77b4;\"/>\r\n    </defs>\r\n    <g clip-path=\"url(#pc9333f7553)\">\r\n     <use style=\"fill:#1f77b4;stroke:#1f77b4;\" x=\"66.103125\" xlink:href=\"#mde45bdbb36\" y=\"23.837812\"/>\r\n     <use style=\"fill:#1f77b4;stroke:#1f77b4;\" x=\"80.053125\" xlink:href=\"#mde45bdbb36\" y=\"55.717137\"/>\r\n     <use style=\"fill:#1f77b4;stroke:#1f77b4;\" x=\"94.003125\" xlink:href=\"#mde45bdbb36\" y=\"79.443933\"/>\r\n     <use style=\"fill:#1f77b4;stroke:#1f77b4;\" x=\"107.953125\" xlink:href=\"#mde45bdbb36\" y=\"97.790944\"/>\r\n     <use style=\"fill:#1f77b4;stroke:#1f77b4;\" x=\"121.903125\" xlink:href=\"#mde45bdbb36\" y=\"112.401568\"/>\r\n     <use style=\"fill:#1f77b4;stroke:#1f77b4;\" x=\"135.853125\" xlink:href=\"#mde45bdbb36\" y=\"124.311702\"/>\r\n     <use style=\"fill:#1f77b4;stroke:#1f77b4;\" x=\"149.803125\" xlink:href=\"#mde45bdbb36\" y=\"134.206708\"/>\r\n     <use style=\"fill:#1f77b4;stroke:#1f77b4;\" x=\"163.753125\" xlink:href=\"#mde45bdbb36\" y=\"142.558118\"/>\r\n     <use style=\"fill:#1f77b4;stroke:#1f77b4;\" x=\"177.703125\" xlink:href=\"#mde45bdbb36\" y=\"149.700993\"/>\r\n     <use style=\"fill:#1f77b4;stroke:#1f77b4;\" x=\"191.653125\" xlink:href=\"#mde45bdbb36\" y=\"155.879965\"/>\r\n     <use style=\"fill:#1f77b4;stroke:#1f77b4;\" x=\"205.603125\" xlink:href=\"#mde45bdbb36\" y=\"161.277812\"/>\r\n     <use style=\"fill:#1f77b4;stroke:#1f77b4;\" x=\"219.553125\" xlink:href=\"#mde45bdbb36\" y=\"166.033851\"/>\r\n     <use style=\"fill:#1f77b4;stroke:#1f77b4;\" x=\"233.503125\" xlink:href=\"#mde45bdbb36\" y=\"170.256124\"/>\r\n     <use style=\"fill:#1f77b4;stroke:#1f77b4;\" x=\"247.453125\" xlink:href=\"#mde45bdbb36\" y=\"174.029715\"/>\r\n     <use style=\"fill:#1f77b4;stroke:#1f77b4;\" x=\"261.403125\" xlink:href=\"#mde45bdbb36\" y=\"177.422532\"/>\r\n     <use style=\"fill:#1f77b4;stroke:#1f77b4;\" x=\"275.353125\" xlink:href=\"#mde45bdbb36\" y=\"180.489442\"/>\r\n     <use style=\"fill:#1f77b4;stroke:#1f77b4;\" x=\"289.303125\" xlink:href=\"#mde45bdbb36\" y=\"183.275252\"/>\r\n     <use style=\"fill:#1f77b4;stroke:#1f77b4;\" x=\"303.253125\" xlink:href=\"#mde45bdbb36\" y=\"185.816914\"/>\r\n     <use style=\"fill:#1f77b4;stroke:#1f77b4;\" x=\"317.203125\" xlink:href=\"#mde45bdbb36\" y=\"188.145176\"/>\r\n     <use style=\"fill:#1f77b4;stroke:#1f77b4;\" x=\"331.153125\" xlink:href=\"#mde45bdbb36\" y=\"190.285833\"/>\r\n     <use style=\"fill:#1f77b4;stroke:#1f77b4;\" x=\"345.103125\" xlink:href=\"#mde45bdbb36\" y=\"192.26068\"/>\r\n     <use style=\"fill:#1f77b4;stroke:#1f77b4;\" x=\"359.053125\" xlink:href=\"#mde45bdbb36\" y=\"194.088264\"/>\r\n     <use style=\"fill:#1f77b4;stroke:#1f77b4;\" x=\"373.003125\" xlink:href=\"#mde45bdbb36\" y=\"195.784466\"/>\r\n     <use style=\"fill:#1f77b4;stroke:#1f77b4;\" x=\"386.953125\" xlink:href=\"#mde45bdbb36\" y=\"197.36296\"/>\r\n     <use style=\"fill:#1f77b4;stroke:#1f77b4;\" x=\"400.903125\" xlink:href=\"#mde45bdbb36\" y=\"198.835589\"/>\r\n    </g>\r\n   </g>\r\n   <g id=\"patch_3\">\r\n    <path d=\"M 66.103125 241.277813 \r\nL 66.103125 23.837812 \r\n\" style=\"fill:none;stroke:#000000;stroke-linecap:square;stroke-linejoin:miter;stroke-width:0.8;\"/>\r\n   </g>\r\n   <g id=\"patch_4\">\r\n    <path d=\"M 400.903125 241.277813 \r\nL 400.903125 23.837812 \r\n\" style=\"fill:none;stroke:#000000;stroke-linecap:square;stroke-linejoin:miter;stroke-width:0.8;\"/>\r\n   </g>\r\n   <g id=\"patch_5\">\r\n    <path d=\"M 66.103125 241.277813 \r\nL 400.903125 241.277813 \r\n\" style=\"fill:none;stroke:#000000;stroke-linecap:square;stroke-linejoin:miter;stroke-width:0.8;\"/>\r\n   </g>\r\n   <g id=\"patch_6\">\r\n    <path d=\"M 66.103125 23.837812 \r\nL 400.903125 23.837812 \r\n\" style=\"fill:none;stroke:#000000;stroke-linecap:square;stroke-linejoin:miter;stroke-width:0.8;\"/>\r\n   </g>\r\n   <g id=\"text_14\">\r\n    <!-- Power Scheduling -->\r\n    <g transform=\"translate(171.432812 17.837812)scale(0.14 -0.14)\">\r\n     <defs>\r\n      <path d=\"M 1259 4147 \r\nL 1259 2394 \r\nL 2053 2394 \r\nQ 2494 2394 2734 2622 \r\nQ 2975 2850 2975 3272 \r\nQ 2975 3691 2734 3919 \r\nQ 2494 4147 2053 4147 \r\nL 1259 4147 \r\nz\r\nM 628 4666 \r\nL 2053 4666 \r\nQ 2838 4666 3239 4311 \r\nQ 3641 3956 3641 3272 \r\nQ 3641 2581 3239 2228 \r\nQ 2838 1875 2053 1875 \r\nL 1259 1875 \r\nL 1259 0 \r\nL 628 0 \r\nL 628 4666 \r\nz\r\n\" id=\"DejaVuSans-50\" transform=\"scale(0.015625)\"/>\r\n      <path d=\"M 269 3500 \r\nL 844 3500 \r\nL 1563 769 \r\nL 2278 3500 \r\nL 2956 3500 \r\nL 3675 769 \r\nL 4391 3500 \r\nL 4966 3500 \r\nL 4050 0 \r\nL 3372 0 \r\nL 2619 2869 \r\nL 1863 0 \r\nL 1184 0 \r\nL 269 3500 \r\nz\r\n\" id=\"DejaVuSans-77\" transform=\"scale(0.015625)\"/>\r\n      <path d=\"M 3425 4513 \r\nL 3425 3897 \r\nQ 3066 4069 2747 4153 \r\nQ 2428 4238 2131 4238 \r\nQ 1616 4238 1336 4038 \r\nQ 1056 3838 1056 3469 \r\nQ 1056 3159 1242 3001 \r\nQ 1428 2844 1947 2747 \r\nL 2328 2669 \r\nQ 3034 2534 3370 2195 \r\nQ 3706 1856 3706 1288 \r\nQ 3706 609 3251 259 \r\nQ 2797 -91 1919 -91 \r\nQ 1588 -91 1214 -16 \r\nQ 841 59 441 206 \r\nL 441 856 \r\nQ 825 641 1194 531 \r\nQ 1563 422 1919 422 \r\nQ 2459 422 2753 634 \r\nQ 3047 847 3047 1241 \r\nQ 3047 1584 2836 1778 \r\nQ 2625 1972 2144 2069 \r\nL 1759 2144 \r\nQ 1053 2284 737 2584 \r\nQ 422 2884 422 3419 \r\nQ 422 4038 858 4394 \r\nQ 1294 4750 2059 4750 \r\nQ 2388 4750 2728 4690 \r\nQ 3069 4631 3425 4513 \r\nz\r\n\" id=\"DejaVuSans-53\" transform=\"scale(0.015625)\"/>\r\n      <path d=\"M 2906 2969 \r\nL 2906 4863 \r\nL 3481 4863 \r\nL 3481 0 \r\nL 2906 0 \r\nL 2906 525 \r\nQ 2725 213 2448 61 \r\nQ 2172 -91 1784 -91 \r\nQ 1150 -91 751 415 \r\nQ 353 922 353 1747 \r\nQ 353 2572 751 3078 \r\nQ 1150 3584 1784 3584 \r\nQ 2172 3584 2448 3432 \r\nQ 2725 3281 2906 2969 \r\nz\r\nM 947 1747 \r\nQ 947 1113 1208 752 \r\nQ 1469 391 1925 391 \r\nQ 2381 391 2643 752 \r\nQ 2906 1113 2906 1747 \r\nQ 2906 2381 2643 2742 \r\nQ 2381 3103 1925 3103 \r\nQ 1469 3103 1208 2742 \r\nQ 947 2381 947 1747 \r\nz\r\n\" id=\"DejaVuSans-64\" transform=\"scale(0.015625)\"/>\r\n      <path d=\"M 544 1381 \r\nL 544 3500 \r\nL 1119 3500 \r\nL 1119 1403 \r\nQ 1119 906 1312 657 \r\nQ 1506 409 1894 409 \r\nQ 2359 409 2629 706 \r\nQ 2900 1003 2900 1516 \r\nL 2900 3500 \r\nL 3475 3500 \r\nL 3475 0 \r\nL 2900 0 \r\nL 2900 538 \r\nQ 2691 219 2414 64 \r\nQ 2138 -91 1772 -91 \r\nQ 1169 -91 856 284 \r\nQ 544 659 544 1381 \r\nz\r\nM 1991 3584 \r\nL 1991 3584 \r\nz\r\n\" id=\"DejaVuSans-75\" transform=\"scale(0.015625)\"/>\r\n      <path d=\"M 603 4863 \r\nL 1178 4863 \r\nL 1178 0 \r\nL 603 0 \r\nL 603 4863 \r\nz\r\n\" id=\"DejaVuSans-6c\" transform=\"scale(0.015625)\"/>\r\n     </defs>\r\n     <use xlink:href=\"#DejaVuSans-50\"/>\r\n     <use x=\"56.677734\" xlink:href=\"#DejaVuSans-6f\"/>\r\n     <use x=\"117.859375\" xlink:href=\"#DejaVuSans-77\"/>\r\n     <use x=\"199.646484\" xlink:href=\"#DejaVuSans-65\"/>\r\n     <use x=\"261.169922\" xlink:href=\"#DejaVuSans-72\"/>\r\n     <use x=\"302.283203\" xlink:href=\"#DejaVuSans-20\"/>\r\n     <use x=\"334.070312\" xlink:href=\"#DejaVuSans-53\"/>\r\n     <use x=\"397.546875\" xlink:href=\"#DejaVuSans-63\"/>\r\n     <use x=\"452.527344\" xlink:href=\"#DejaVuSans-68\"/>\r\n     <use x=\"515.90625\" xlink:href=\"#DejaVuSans-65\"/>\r\n     <use x=\"577.429688\" xlink:href=\"#DejaVuSans-64\"/>\r\n     <use x=\"640.90625\" xlink:href=\"#DejaVuSans-75\"/>\r\n     <use x=\"704.285156\" xlink:href=\"#DejaVuSans-6c\"/>\r\n     <use x=\"732.068359\" xlink:href=\"#DejaVuSans-69\"/>\r\n     <use x=\"759.851562\" xlink:href=\"#DejaVuSans-6e\"/>\r\n     <use x=\"823.230469\" xlink:href=\"#DejaVuSans-67\"/>\r\n    </g>\r\n   </g>\r\n  </g>\r\n </g>\r\n <defs>\r\n  <clipPath id=\"pc9333f7553\">\r\n   <rect height=\"217.44\" width=\"334.8\" x=\"66.103125\" y=\"23.837812\"/>\r\n  </clipPath>\r\n </defs>\r\n</svg>\r\n",
      "image/png": "[encoded data removed]"
     },
     "metadata": {
      "needs_background": "light"
     }
    }
   ],
   "metadata": {}
  },
  {
   "cell_type": "markdown",
   "source": [
    "* 지수 기반 스케줄링"
   ],
   "metadata": {}
  },
  {
   "cell_type": "code",
   "execution_count": 99,
   "source": [
    "#지수 기반 스케줄링\r\n",
    "#lr = lr0 * 0.1**(epoch / s)\r\n",
    "def exponential_decay_fn(epoch):\r\n",
    "    return 0.01 * 0.1**(epoch / 20)\r\n",
    "\r\n",
    "def exponential_decay(lr0, s):\r\n",
    "    def exponential_decay_fn(epoch):\r\n",
    "        return lr0 * 0.1**(epoch / s)\r\n",
    "    return exponential_decay_fn\r\n",
    "\r\n",
    "exponential_decay_fn = exponential_decay(lr0=0.01, s=20)\r\n",
    "\r\n",
    "model = keras.models.Sequential([\r\n",
    "    keras.layers.Flatten(input_shape=[28, 28]),\r\n",
    "    keras.layers.Dense(300, activation=\"selu\", kernel_initializer=\"lecun_normal\"),\r\n",
    "    keras.layers.Dense(100, activation=\"selu\", kernel_initializer=\"lecun_normal\"),\r\n",
    "    keras.layers.Dense(10, activation=\"softmax\")\r\n",
    "])\r\n",
    "model.compile(loss=\"sparse_categorical_crossentropy\", optimizer=\"nadam\", metrics=[\"accuracy\"])\r\n",
    "n_epochs = 25"
   ],
   "outputs": [],
   "metadata": {}
  },
  {
   "cell_type": "code",
   "execution_count": 100,
   "source": [
    "lr_scheduler = keras.callbacks.LearningRateScheduler(exponential_decay_fn)\r\n",
    "history = model.fit(X_train_scaled, y_train, epochs=n_epochs,\r\n",
    "                    validation_data=(X_valid_scaled, y_valid),\r\n",
    "                    callbacks=[lr_scheduler])"
   ],
   "outputs": [
    {
     "output_type": "stream",
     "name": "stdout",
     "text": [
      "Epoch 1/25\n",
      "1719/1719 [==============================] - 8s 4ms/step - loss: 0.8177 - accuracy: 0.7646 - val_loss: 0.9901 - val_accuracy: 0.7160\n",
      "Epoch 2/25\n",
      "1719/1719 [==============================] - 7s 4ms/step - loss: 0.7224 - accuracy: 0.7865 - val_loss: 0.5842 - val_accuracy: 0.8254\n",
      "Epoch 3/25\n",
      "1719/1719 [==============================] - 7s 4ms/step - loss: 0.5680 - accuracy: 0.8242 - val_loss: 0.7370 - val_accuracy: 0.7846\n",
      "Epoch 4/25\n",
      "1719/1719 [==============================] - 7s 4ms/step - loss: 0.5101 - accuracy: 0.8388 - val_loss: 0.4965 - val_accuracy: 0.8564\n",
      "Epoch 5/25\n",
      "1719/1719 [==============================] - 7s 4ms/step - loss: 0.5081 - accuracy: 0.8405 - val_loss: 0.4772 - val_accuracy: 0.8572\n",
      "Epoch 6/25\n",
      "1719/1719 [==============================] - 7s 4ms/step - loss: 0.4479 - accuracy: 0.8590 - val_loss: 0.5182 - val_accuracy: 0.8578\n",
      "Epoch 7/25\n",
      "1719/1719 [==============================] - 7s 4ms/step - loss: 0.4107 - accuracy: 0.8703 - val_loss: 0.5158 - val_accuracy: 0.8656\n",
      "Epoch 8/25\n",
      "1719/1719 [==============================] - 7s 4ms/step - loss: 0.3715 - accuracy: 0.8789 - val_loss: 0.4776 - val_accuracy: 0.8488\n",
      "Epoch 9/25\n",
      "1719/1719 [==============================] - 8s 5ms/step - loss: 0.3452 - accuracy: 0.8876 - val_loss: 0.4845 - val_accuracy: 0.8512\n",
      "Epoch 10/25\n",
      "1719/1719 [==============================] - 8s 4ms/step - loss: 0.3243 - accuracy: 0.8942 - val_loss: 0.5298 - val_accuracy: 0.8808\n",
      "Epoch 11/25\n",
      "1719/1719 [==============================] - 8s 5ms/step - loss: 0.2996 - accuracy: 0.9024 - val_loss: 0.4251 - val_accuracy: 0.8744\n",
      "Epoch 12/25\n",
      "1719/1719 [==============================] - 8s 5ms/step - loss: 0.2737 - accuracy: 0.9080 - val_loss: 0.4741 - val_accuracy: 0.8696\n",
      "Epoch 13/25\n",
      "1719/1719 [==============================] - 8s 4ms/step - loss: 0.2602 - accuracy: 0.9124 - val_loss: 0.4552 - val_accuracy: 0.8848\n",
      "Epoch 14/25\n",
      "1719/1719 [==============================] - 8s 5ms/step - loss: 0.2355 - accuracy: 0.9196 - val_loss: 0.4534 - val_accuracy: 0.8796\n",
      "Epoch 15/25\n",
      "1719/1719 [==============================] - 8s 5ms/step - loss: 0.2227 - accuracy: 0.9257 - val_loss: 0.4439 - val_accuracy: 0.8888\n",
      "Epoch 16/25\n",
      "1719/1719 [==============================] - 8s 5ms/step - loss: 0.2078 - accuracy: 0.9298 - val_loss: 0.4286 - val_accuracy: 0.8888\n",
      "Epoch 17/25\n",
      "1719/1719 [==============================] - 8s 4ms/step - loss: 0.1922 - accuracy: 0.9350 - val_loss: 0.4396 - val_accuracy: 0.8888\n",
      "Epoch 18/25\n",
      "1719/1719 [==============================] - 8s 4ms/step - loss: 0.1776 - accuracy: 0.9400 - val_loss: 0.4845 - val_accuracy: 0.8904\n",
      "Epoch 19/25\n",
      "1719/1719 [==============================] - 8s 5ms/step - loss: 0.1630 - accuracy: 0.9450 - val_loss: 0.4812 - val_accuracy: 0.8904\n",
      "Epoch 20/25\n",
      "1719/1719 [==============================] - 8s 5ms/step - loss: 0.1525 - accuracy: 0.9490 - val_loss: 0.4685 - val_accuracy: 0.8932\n",
      "Epoch 21/25\n",
      "1719/1719 [==============================] - 8s 5ms/step - loss: 0.1416 - accuracy: 0.9528 - val_loss: 0.5150 - val_accuracy: 0.8864\n",
      "Epoch 22/25\n",
      "1719/1719 [==============================] - 8s 4ms/step - loss: 0.1342 - accuracy: 0.9553 - val_loss: 0.4785 - val_accuracy: 0.8930\n",
      "Epoch 23/25\n",
      "1719/1719 [==============================] - 8s 4ms/step - loss: 0.1244 - accuracy: 0.9597 - val_loss: 0.5176 - val_accuracy: 0.8900\n",
      "Epoch 24/25\n",
      "1719/1719 [==============================] - 7s 4ms/step - loss: 0.1164 - accuracy: 0.9629 - val_loss: 0.5472 - val_accuracy: 0.8880\n",
      "Epoch 25/25\n",
      "1719/1719 [==============================] - 7s 4ms/step - loss: 0.1104 - accuracy: 0.9645 - val_loss: 0.5821 - val_accuracy: 0.8890\n"
     ]
    }
   ],
   "metadata": {}
  },
  {
   "cell_type": "code",
   "execution_count": 101,
   "source": [
    "plt.plot(history.epoch, history.history[\"lr\"], \"o-\")\r\n",
    "plt.axis([0, n_epochs - 1, 0, 0.011])\r\n",
    "plt.xlabel(\"Epoch\")\r\n",
    "plt.ylabel(\"Learning Rate\")\r\n",
    "plt.title(\"Exponential Scheduling\", fontsize=14)\r\n",
    "plt.grid(True)\r\n",
    "plt.show()"
   ],
   "outputs": [
    {
     "output_type": "display_data",
     "data": {
      "text/plain": [
       "<Figure size 432x288 with 1 Axes>"
      ],
      "image/svg+xml": "<?xml version=\"1.0\" encoding=\"utf-8\" standalone=\"no\"?>\r\n<!DOCTYPE svg PUBLIC \"-//W3C//DTD SVG 1.1//EN\"\r\n  \"http://www.w3.org/Graphics/SVG/1.1/DTD/svg11.dtd\">\r\n<svg height=\"284.640938pt\" version=\"1.1\" viewBox=\"0 0 408.103125 284.640938\" width=\"408.103125pt\" xmlns=\"http://www.w3.org/2000/svg\" xmlns:xlink=\"http://www.w3.org/1999/xlink\">\r\n <metadata>\r\n  <rdf:RDF xmlns:cc=\"http://creativecommons.org/ns#\" xmlns:dc=\"http://purl.org/dc/elements/1.1/\" xmlns:rdf=\"http://www.w3.org/1999/02/22-rdf-syntax-ns#\">\r\n   <cc:Work>\r\n    <dc:type rdf:resource=\"http://purl.org/dc/dcmitype/StillImage\"/>\r\n    <dc:date>2021-08-20T01:55:57.720104</dc:date>\r\n    <dc:format>image/svg+xml</dc:format>\r\n    <dc:creator>\r\n     <cc:Agent>\r\n      <dc:title>Matplotlib v3.4.2, https://matplotlib.org/</dc:title>\r\n     </cc:Agent>\r\n    </dc:creator>\r\n   </cc:Work>\r\n  </rdf:RDF>\r\n </metadata>\r\n <defs>\r\n  <style type=\"text/css\">*{stroke-linecap:butt;stroke-linejoin:round;}</style>\r\n </defs>\r\n <g id=\"figure_1\">\r\n  <g id=\"patch_1\">\r\n   <path d=\"M 0 284.640938 \r\nL 408.103125 284.640938 \r\nL 408.103125 0 \r\nL 0 0 \r\nz\r\n\" style=\"fill:none;\"/>\r\n  </g>\r\n  <g id=\"axes_1\">\r\n   <g id=\"patch_2\">\r\n    <path d=\"M 66.103125 241.277813 \r\nL 400.903125 241.277813 \r\nL 400.903125 23.837812 \r\nL 66.103125 23.837812 \r\nz\r\n\" style=\"fill:#ffffff;\"/>\r\n   </g>\r\n   <g id=\"matplotlib.axis_1\">\r\n    <g id=\"xtick_1\">\r\n     <g id=\"line2d_1\">\r\n      <path clip-path=\"url(#p2978b4f3e7)\" d=\"M 66.103125 241.277813 \r\nL 66.103125 23.837812 \r\n\" style=\"fill:none;stroke:#b0b0b0;stroke-linecap:square;stroke-width:0.8;\"/>\r\n     </g>\r\n     <g id=\"line2d_2\">\r\n      <defs>\r\n       <path d=\"M 0 0 \r\nL 0 3.5 \r\n\" id=\"mcb946a2cf2\" style=\"stroke:#000000;stroke-width:0.8;\"/>\r\n      </defs>\r\n      <g>\r\n       <use style=\"stroke:#000000;stroke-width:0.8;\" x=\"66.103125\" xlink:href=\"#mcb946a2cf2\" y=\"241.277813\"/>\r\n      </g>\r\n     </g>\r\n     <g id=\"text_1\">\r\n      <!-- 0 -->\r\n      <g transform=\"translate(62.285625 257.395938)scale(0.12 -0.12)\">\r\n       <defs>\r\n        <path d=\"M 2034 4250 \r\nQ 1547 4250 1301 3770 \r\nQ 1056 3291 1056 2328 \r\nQ 1056 1369 1301 889 \r\nQ 1547 409 2034 409 \r\nQ 2525 409 2770 889 \r\nQ 3016 1369 3016 2328 \r\nQ 3016 3291 2770 3770 \r\nQ 2525 4250 2034 4250 \r\nz\r\nM 2034 4750 \r\nQ 2819 4750 3233 4129 \r\nQ 3647 3509 3647 2328 \r\nQ 3647 1150 3233 529 \r\nQ 2819 -91 2034 -91 \r\nQ 1250 -91 836 529 \r\nQ 422 1150 422 2328 \r\nQ 422 3509 836 4129 \r\nQ 1250 4750 2034 4750 \r\nz\r\n\" id=\"DejaVuSans-30\" transform=\"scale(0.015625)\"/>\r\n       </defs>\r\n       <use xlink:href=\"#DejaVuSans-30\"/>\r\n      </g>\r\n     </g>\r\n    </g>\r\n    <g id=\"xtick_2\">\r\n     <g id=\"line2d_3\">\r\n      <path clip-path=\"url(#p2978b4f3e7)\" d=\"M 135.853125 241.277813 \r\nL 135.853125 23.837812 \r\n\" style=\"fill:none;stroke:#b0b0b0;stroke-linecap:square;stroke-width:0.8;\"/>\r\n     </g>\r\n     <g id=\"line2d_4\">\r\n      <g>\r\n       <use style=\"stroke:#000000;stroke-width:0.8;\" x=\"135.853125\" xlink:href=\"#mcb946a2cf2\" y=\"241.277813\"/>\r\n      </g>\r\n     </g>\r\n     <g id=\"text_2\">\r\n      <!-- 5 -->\r\n      <g transform=\"translate(132.035625 257.395938)scale(0.12 -0.12)\">\r\n       <defs>\r\n        <path d=\"M 691 4666 \r\nL 3169 4666 \r\nL 3169 4134 \r\nL 1269 4134 \r\nL 1269 2991 \r\nQ 1406 3038 1543 3061 \r\nQ 1681 3084 1819 3084 \r\nQ 2600 3084 3056 2656 \r\nQ 3513 2228 3513 1497 \r\nQ 3513 744 3044 326 \r\nQ 2575 -91 1722 -91 \r\nQ 1428 -91 1123 -41 \r\nQ 819 9 494 109 \r\nL 494 744 \r\nQ 775 591 1075 516 \r\nQ 1375 441 1709 441 \r\nQ 2250 441 2565 725 \r\nQ 2881 1009 2881 1497 \r\nQ 2881 1984 2565 2268 \r\nQ 2250 2553 1709 2553 \r\nQ 1456 2553 1204 2497 \r\nQ 953 2441 691 2322 \r\nL 691 4666 \r\nz\r\n\" id=\"DejaVuSans-35\" transform=\"scale(0.015625)\"/>\r\n       </defs>\r\n       <use xlink:href=\"#DejaVuSans-35\"/>\r\n      </g>\r\n     </g>\r\n    </g>\r\n    <g id=\"xtick_3\">\r\n     <g id=\"line2d_5\">\r\n      <path clip-path=\"url(#p2978b4f3e7)\" d=\"M 205.603125 241.277813 \r\nL 205.603125 23.837812 \r\n\" style=\"fill:none;stroke:#b0b0b0;stroke-linecap:square;stroke-width:0.8;\"/>\r\n     </g>\r\n     <g id=\"line2d_6\">\r\n      <g>\r\n       <use style=\"stroke:#000000;stroke-width:0.8;\" x=\"205.603125\" xlink:href=\"#mcb946a2cf2\" y=\"241.277813\"/>\r\n      </g>\r\n     </g>\r\n     <g id=\"text_3\">\r\n      <!-- 10 -->\r\n      <g transform=\"translate(197.968125 257.395938)scale(0.12 -0.12)\">\r\n       <defs>\r\n        <path d=\"M 794 531 \r\nL 1825 531 \r\nL 1825 4091 \r\nL 703 3866 \r\nL 703 4441 \r\nL 1819 4666 \r\nL 2450 4666 \r\nL 2450 531 \r\nL 3481 531 \r\nL 3481 0 \r\nL 794 0 \r\nL 794 531 \r\nz\r\n\" id=\"DejaVuSans-31\" transform=\"scale(0.015625)\"/>\r\n       </defs>\r\n       <use xlink:href=\"#DejaVuSans-31\"/>\r\n       <use x=\"63.623047\" xlink:href=\"#DejaVuSans-30\"/>\r\n      </g>\r\n     </g>\r\n    </g>\r\n    <g id=\"xtick_4\">\r\n     <g id=\"line2d_7\">\r\n      <path clip-path=\"url(#p2978b4f3e7)\" d=\"M 275.353125 241.277813 \r\nL 275.353125 23.837812 \r\n\" style=\"fill:none;stroke:#b0b0b0;stroke-linecap:square;stroke-width:0.8;\"/>\r\n     </g>\r\n     <g id=\"line2d_8\">\r\n      <g>\r\n       <use style=\"stroke:#000000;stroke-width:0.8;\" x=\"275.353125\" xlink:href=\"#mcb946a2cf2\" y=\"241.277813\"/>\r\n      </g>\r\n     </g>\r\n     <g id=\"text_4\">\r\n      <!-- 15 -->\r\n      <g transform=\"translate(267.718125 257.395938)scale(0.12 -0.12)\">\r\n       <use xlink:href=\"#DejaVuSans-31\"/>\r\n       <use x=\"63.623047\" xlink:href=\"#DejaVuSans-35\"/>\r\n      </g>\r\n     </g>\r\n    </g>\r\n    <g id=\"xtick_5\">\r\n     <g id=\"line2d_9\">\r\n      <path clip-path=\"url(#p2978b4f3e7)\" d=\"M 345.103125 241.277813 \r\nL 345.103125 23.837812 \r\n\" style=\"fill:none;stroke:#b0b0b0;stroke-linecap:square;stroke-width:0.8;\"/>\r\n     </g>\r\n     <g id=\"line2d_10\">\r\n      <g>\r\n       <use style=\"stroke:#000000;stroke-width:0.8;\" x=\"345.103125\" xlink:href=\"#mcb946a2cf2\" y=\"241.277813\"/>\r\n      </g>\r\n     </g>\r\n     <g id=\"text_5\">\r\n      <!-- 20 -->\r\n      <g transform=\"translate(337.468125 257.395938)scale(0.12 -0.12)\">\r\n       <defs>\r\n        <path d=\"M 1228 531 \r\nL 3431 531 \r\nL 3431 0 \r\nL 469 0 \r\nL 469 531 \r\nQ 828 903 1448 1529 \r\nQ 2069 2156 2228 2338 \r\nQ 2531 2678 2651 2914 \r\nQ 2772 3150 2772 3378 \r\nQ 2772 3750 2511 3984 \r\nQ 2250 4219 1831 4219 \r\nQ 1534 4219 1204 4116 \r\nQ 875 4013 500 3803 \r\nL 500 4441 \r\nQ 881 4594 1212 4672 \r\nQ 1544 4750 1819 4750 \r\nQ 2544 4750 2975 4387 \r\nQ 3406 4025 3406 3419 \r\nQ 3406 3131 3298 2873 \r\nQ 3191 2616 2906 2266 \r\nQ 2828 2175 2409 1742 \r\nQ 1991 1309 1228 531 \r\nz\r\n\" id=\"DejaVuSans-32\" transform=\"scale(0.015625)\"/>\r\n       </defs>\r\n       <use xlink:href=\"#DejaVuSans-32\"/>\r\n       <use x=\"63.623047\" xlink:href=\"#DejaVuSans-30\"/>\r\n      </g>\r\n     </g>\r\n    </g>\r\n    <g id=\"text_6\">\r\n     <!-- Epoch -->\r\n     <g transform=\"translate(212.067812 274.529375)scale(0.14 -0.14)\">\r\n      <defs>\r\n       <path d=\"M 628 4666 \r\nL 3578 4666 \r\nL 3578 4134 \r\nL 1259 4134 \r\nL 1259 2753 \r\nL 3481 2753 \r\nL 3481 2222 \r\nL 1259 2222 \r\nL 1259 531 \r\nL 3634 531 \r\nL 3634 0 \r\nL 628 0 \r\nL 628 4666 \r\nz\r\n\" id=\"DejaVuSans-45\" transform=\"scale(0.015625)\"/>\r\n       <path d=\"M 1159 525 \r\nL 1159 -1331 \r\nL 581 -1331 \r\nL 581 3500 \r\nL 1159 3500 \r\nL 1159 2969 \r\nQ 1341 3281 1617 3432 \r\nQ 1894 3584 2278 3584 \r\nQ 2916 3584 3314 3078 \r\nQ 3713 2572 3713 1747 \r\nQ 3713 922 3314 415 \r\nQ 2916 -91 2278 -91 \r\nQ 1894 -91 1617 61 \r\nQ 1341 213 1159 525 \r\nz\r\nM 3116 1747 \r\nQ 3116 2381 2855 2742 \r\nQ 2594 3103 2138 3103 \r\nQ 1681 3103 1420 2742 \r\nQ 1159 2381 1159 1747 \r\nQ 1159 1113 1420 752 \r\nQ 1681 391 2138 391 \r\nQ 2594 391 2855 752 \r\nQ 3116 1113 3116 1747 \r\nz\r\n\" id=\"DejaVuSans-70\" transform=\"scale(0.015625)\"/>\r\n       <path d=\"M 1959 3097 \r\nQ 1497 3097 1228 2736 \r\nQ 959 2375 959 1747 \r\nQ 959 1119 1226 758 \r\nQ 1494 397 1959 397 \r\nQ 2419 397 2687 759 \r\nQ 2956 1122 2956 1747 \r\nQ 2956 2369 2687 2733 \r\nQ 2419 3097 1959 3097 \r\nz\r\nM 1959 3584 \r\nQ 2709 3584 3137 3096 \r\nQ 3566 2609 3566 1747 \r\nQ 3566 888 3137 398 \r\nQ 2709 -91 1959 -91 \r\nQ 1206 -91 779 398 \r\nQ 353 888 353 1747 \r\nQ 353 2609 779 3096 \r\nQ 1206 3584 1959 3584 \r\nz\r\n\" id=\"DejaVuSans-6f\" transform=\"scale(0.015625)\"/>\r\n       <path d=\"M 3122 3366 \r\nL 3122 2828 \r\nQ 2878 2963 2633 3030 \r\nQ 2388 3097 2138 3097 \r\nQ 1578 3097 1268 2742 \r\nQ 959 2388 959 1747 \r\nQ 959 1106 1268 751 \r\nQ 1578 397 2138 397 \r\nQ 2388 397 2633 464 \r\nQ 2878 531 3122 666 \r\nL 3122 134 \r\nQ 2881 22 2623 -34 \r\nQ 2366 -91 2075 -91 \r\nQ 1284 -91 818 406 \r\nQ 353 903 353 1747 \r\nQ 353 2603 823 3093 \r\nQ 1294 3584 2113 3584 \r\nQ 2378 3584 2631 3529 \r\nQ 2884 3475 3122 3366 \r\nz\r\n\" id=\"DejaVuSans-63\" transform=\"scale(0.015625)\"/>\r\n       <path d=\"M 3513 2113 \r\nL 3513 0 \r\nL 2938 0 \r\nL 2938 2094 \r\nQ 2938 2591 2744 2837 \r\nQ 2550 3084 2163 3084 \r\nQ 1697 3084 1428 2787 \r\nQ 1159 2491 1159 1978 \r\nL 1159 0 \r\nL 581 0 \r\nL 581 4863 \r\nL 1159 4863 \r\nL 1159 2956 \r\nQ 1366 3272 1645 3428 \r\nQ 1925 3584 2291 3584 \r\nQ 2894 3584 3203 3211 \r\nQ 3513 2838 3513 2113 \r\nz\r\n\" id=\"DejaVuSans-68\" transform=\"scale(0.015625)\"/>\r\n      </defs>\r\n      <use xlink:href=\"#DejaVuSans-45\"/>\r\n      <use x=\"63.183594\" xlink:href=\"#DejaVuSans-70\"/>\r\n      <use x=\"126.660156\" xlink:href=\"#DejaVuSans-6f\"/>\r\n      <use x=\"187.841797\" xlink:href=\"#DejaVuSans-63\"/>\r\n      <use x=\"242.822266\" xlink:href=\"#DejaVuSans-68\"/>\r\n     </g>\r\n    </g>\r\n   </g>\r\n   <g id=\"matplotlib.axis_2\">\r\n    <g id=\"ytick_1\">\r\n     <g id=\"line2d_11\">\r\n      <path clip-path=\"url(#p2978b4f3e7)\" d=\"M 66.103125 241.277813 \r\nL 400.903125 241.277813 \r\n\" style=\"fill:none;stroke:#b0b0b0;stroke-linecap:square;stroke-width:0.8;\"/>\r\n     </g>\r\n     <g id=\"line2d_12\">\r\n      <defs>\r\n       <path d=\"M 0 0 \r\nL -3.5 0 \r\n\" id=\"m9698b7cf9d\" style=\"stroke:#000000;stroke-width:0.8;\"/>\r\n      </defs>\r\n      <g>\r\n       <use style=\"stroke:#000000;stroke-width:0.8;\" x=\"66.103125\" xlink:href=\"#m9698b7cf9d\" y=\"241.277813\"/>\r\n      </g>\r\n     </g>\r\n     <g id=\"text_7\">\r\n      <!-- 0.000 -->\r\n      <g transform=\"translate(24.749375 245.836875)scale(0.12 -0.12)\">\r\n       <defs>\r\n        <path d=\"M 684 794 \r\nL 1344 794 \r\nL 1344 0 \r\nL 684 0 \r\nL 684 794 \r\nz\r\n\" id=\"DejaVuSans-2e\" transform=\"scale(0.015625)\"/>\r\n       </defs>\r\n       <use xlink:href=\"#DejaVuSans-30\"/>\r\n       <use x=\"63.623047\" xlink:href=\"#DejaVuSans-2e\"/>\r\n       <use x=\"95.410156\" xlink:href=\"#DejaVuSans-30\"/>\r\n       <use x=\"159.033203\" xlink:href=\"#DejaVuSans-30\"/>\r\n       <use x=\"222.65625\" xlink:href=\"#DejaVuSans-30\"/>\r\n      </g>\r\n     </g>\r\n    </g>\r\n    <g id=\"ytick_2\">\r\n     <g id=\"line2d_13\">\r\n      <path clip-path=\"url(#p2978b4f3e7)\" d=\"M 66.103125 201.743267 \r\nL 400.903125 201.743267 \r\n\" style=\"fill:none;stroke:#b0b0b0;stroke-linecap:square;stroke-width:0.8;\"/>\r\n     </g>\r\n     <g id=\"line2d_14\">\r\n      <g>\r\n       <use style=\"stroke:#000000;stroke-width:0.8;\" x=\"66.103125\" xlink:href=\"#m9698b7cf9d\" y=\"201.743267\"/>\r\n      </g>\r\n     </g>\r\n     <g id=\"text_8\">\r\n      <!-- 0.002 -->\r\n      <g transform=\"translate(24.749375 206.30233)scale(0.12 -0.12)\">\r\n       <use xlink:href=\"#DejaVuSans-30\"/>\r\n       <use x=\"63.623047\" xlink:href=\"#DejaVuSans-2e\"/>\r\n       <use x=\"95.410156\" xlink:href=\"#DejaVuSans-30\"/>\r\n       <use x=\"159.033203\" xlink:href=\"#DejaVuSans-30\"/>\r\n       <use x=\"222.65625\" xlink:href=\"#DejaVuSans-32\"/>\r\n      </g>\r\n     </g>\r\n    </g>\r\n    <g id=\"ytick_3\">\r\n     <g id=\"line2d_15\">\r\n      <path clip-path=\"url(#p2978b4f3e7)\" d=\"M 66.103125 162.208722 \r\nL 400.903125 162.208722 \r\n\" style=\"fill:none;stroke:#b0b0b0;stroke-linecap:square;stroke-width:0.8;\"/>\r\n     </g>\r\n     <g id=\"line2d_16\">\r\n      <g>\r\n       <use style=\"stroke:#000000;stroke-width:0.8;\" x=\"66.103125\" xlink:href=\"#m9698b7cf9d\" y=\"162.208722\"/>\r\n      </g>\r\n     </g>\r\n     <g id=\"text_9\">\r\n      <!-- 0.004 -->\r\n      <g transform=\"translate(24.749375 166.767784)scale(0.12 -0.12)\">\r\n       <defs>\r\n        <path d=\"M 2419 4116 \r\nL 825 1625 \r\nL 2419 1625 \r\nL 2419 4116 \r\nz\r\nM 2253 4666 \r\nL 3047 4666 \r\nL 3047 1625 \r\nL 3713 1625 \r\nL 3713 1100 \r\nL 3047 1100 \r\nL 3047 0 \r\nL 2419 0 \r\nL 2419 1100 \r\nL 313 1100 \r\nL 313 1709 \r\nL 2253 4666 \r\nz\r\n\" id=\"DejaVuSans-34\" transform=\"scale(0.015625)\"/>\r\n       </defs>\r\n       <use xlink:href=\"#DejaVuSans-30\"/>\r\n       <use x=\"63.623047\" xlink:href=\"#DejaVuSans-2e\"/>\r\n       <use x=\"95.410156\" xlink:href=\"#DejaVuSans-30\"/>\r\n       <use x=\"159.033203\" xlink:href=\"#DejaVuSans-30\"/>\r\n       <use x=\"222.65625\" xlink:href=\"#DejaVuSans-34\"/>\r\n      </g>\r\n     </g>\r\n    </g>\r\n    <g id=\"ytick_4\">\r\n     <g id=\"line2d_17\">\r\n      <path clip-path=\"url(#p2978b4f3e7)\" d=\"M 66.103125 122.674176 \r\nL 400.903125 122.674176 \r\n\" style=\"fill:none;stroke:#b0b0b0;stroke-linecap:square;stroke-width:0.8;\"/>\r\n     </g>\r\n     <g id=\"line2d_18\">\r\n      <g>\r\n       <use style=\"stroke:#000000;stroke-width:0.8;\" x=\"66.103125\" xlink:href=\"#m9698b7cf9d\" y=\"122.674176\"/>\r\n      </g>\r\n     </g>\r\n     <g id=\"text_10\">\r\n      <!-- 0.006 -->\r\n      <g transform=\"translate(24.749375 127.233239)scale(0.12 -0.12)\">\r\n       <defs>\r\n        <path d=\"M 2113 2584 \r\nQ 1688 2584 1439 2293 \r\nQ 1191 2003 1191 1497 \r\nQ 1191 994 1439 701 \r\nQ 1688 409 2113 409 \r\nQ 2538 409 2786 701 \r\nQ 3034 994 3034 1497 \r\nQ 3034 2003 2786 2293 \r\nQ 2538 2584 2113 2584 \r\nz\r\nM 3366 4563 \r\nL 3366 3988 \r\nQ 3128 4100 2886 4159 \r\nQ 2644 4219 2406 4219 \r\nQ 1781 4219 1451 3797 \r\nQ 1122 3375 1075 2522 \r\nQ 1259 2794 1537 2939 \r\nQ 1816 3084 2150 3084 \r\nQ 2853 3084 3261 2657 \r\nQ 3669 2231 3669 1497 \r\nQ 3669 778 3244 343 \r\nQ 2819 -91 2113 -91 \r\nQ 1303 -91 875 529 \r\nQ 447 1150 447 2328 \r\nQ 447 3434 972 4092 \r\nQ 1497 4750 2381 4750 \r\nQ 2619 4750 2861 4703 \r\nQ 3103 4656 3366 4563 \r\nz\r\n\" id=\"DejaVuSans-36\" transform=\"scale(0.015625)\"/>\r\n       </defs>\r\n       <use xlink:href=\"#DejaVuSans-30\"/>\r\n       <use x=\"63.623047\" xlink:href=\"#DejaVuSans-2e\"/>\r\n       <use x=\"95.410156\" xlink:href=\"#DejaVuSans-30\"/>\r\n       <use x=\"159.033203\" xlink:href=\"#DejaVuSans-30\"/>\r\n       <use x=\"222.65625\" xlink:href=\"#DejaVuSans-36\"/>\r\n      </g>\r\n     </g>\r\n    </g>\r\n    <g id=\"ytick_5\">\r\n     <g id=\"line2d_19\">\r\n      <path clip-path=\"url(#p2978b4f3e7)\" d=\"M 66.103125 83.139631 \r\nL 400.903125 83.139631 \r\n\" style=\"fill:none;stroke:#b0b0b0;stroke-linecap:square;stroke-width:0.8;\"/>\r\n     </g>\r\n     <g id=\"line2d_20\">\r\n      <g>\r\n       <use style=\"stroke:#000000;stroke-width:0.8;\" x=\"66.103125\" xlink:href=\"#m9698b7cf9d\" y=\"83.139631\"/>\r\n      </g>\r\n     </g>\r\n     <g id=\"text_11\">\r\n      <!-- 0.008 -->\r\n      <g transform=\"translate(24.749375 87.698693)scale(0.12 -0.12)\">\r\n       <defs>\r\n        <path d=\"M 2034 2216 \r\nQ 1584 2216 1326 1975 \r\nQ 1069 1734 1069 1313 \r\nQ 1069 891 1326 650 \r\nQ 1584 409 2034 409 \r\nQ 2484 409 2743 651 \r\nQ 3003 894 3003 1313 \r\nQ 3003 1734 2745 1975 \r\nQ 2488 2216 2034 2216 \r\nz\r\nM 1403 2484 \r\nQ 997 2584 770 2862 \r\nQ 544 3141 544 3541 \r\nQ 544 4100 942 4425 \r\nQ 1341 4750 2034 4750 \r\nQ 2731 4750 3128 4425 \r\nQ 3525 4100 3525 3541 \r\nQ 3525 3141 3298 2862 \r\nQ 3072 2584 2669 2484 \r\nQ 3125 2378 3379 2068 \r\nQ 3634 1759 3634 1313 \r\nQ 3634 634 3220 271 \r\nQ 2806 -91 2034 -91 \r\nQ 1263 -91 848 271 \r\nQ 434 634 434 1313 \r\nQ 434 1759 690 2068 \r\nQ 947 2378 1403 2484 \r\nz\r\nM 1172 3481 \r\nQ 1172 3119 1398 2916 \r\nQ 1625 2713 2034 2713 \r\nQ 2441 2713 2670 2916 \r\nQ 2900 3119 2900 3481 \r\nQ 2900 3844 2670 4047 \r\nQ 2441 4250 2034 4250 \r\nQ 1625 4250 1398 4047 \r\nQ 1172 3844 1172 3481 \r\nz\r\n\" id=\"DejaVuSans-38\" transform=\"scale(0.015625)\"/>\r\n       </defs>\r\n       <use xlink:href=\"#DejaVuSans-30\"/>\r\n       <use x=\"63.623047\" xlink:href=\"#DejaVuSans-2e\"/>\r\n       <use x=\"95.410156\" xlink:href=\"#DejaVuSans-30\"/>\r\n       <use x=\"159.033203\" xlink:href=\"#DejaVuSans-30\"/>\r\n       <use x=\"222.65625\" xlink:href=\"#DejaVuSans-38\"/>\r\n      </g>\r\n     </g>\r\n    </g>\r\n    <g id=\"ytick_6\">\r\n     <g id=\"line2d_21\">\r\n      <path clip-path=\"url(#p2978b4f3e7)\" d=\"M 66.103125 43.605085 \r\nL 400.903125 43.605085 \r\n\" style=\"fill:none;stroke:#b0b0b0;stroke-linecap:square;stroke-width:0.8;\"/>\r\n     </g>\r\n     <g id=\"line2d_22\">\r\n      <g>\r\n       <use style=\"stroke:#000000;stroke-width:0.8;\" x=\"66.103125\" xlink:href=\"#m9698b7cf9d\" y=\"43.605085\"/>\r\n      </g>\r\n     </g>\r\n     <g id=\"text_12\">\r\n      <!-- 0.010 -->\r\n      <g transform=\"translate(24.749375 48.164148)scale(0.12 -0.12)\">\r\n       <use xlink:href=\"#DejaVuSans-30\"/>\r\n       <use x=\"63.623047\" xlink:href=\"#DejaVuSans-2e\"/>\r\n       <use x=\"95.410156\" xlink:href=\"#DejaVuSans-30\"/>\r\n       <use x=\"159.033203\" xlink:href=\"#DejaVuSans-31\"/>\r\n       <use x=\"222.65625\" xlink:href=\"#DejaVuSans-30\"/>\r\n      </g>\r\n     </g>\r\n    </g>\r\n    <g id=\"text_13\">\r\n     <!-- Learning Rate -->\r\n     <g transform=\"translate(17.837813 181.220937)rotate(-90)scale(0.14 -0.14)\">\r\n      <defs>\r\n       <path d=\"M 628 4666 \r\nL 1259 4666 \r\nL 1259 531 \r\nL 3531 531 \r\nL 3531 0 \r\nL 628 0 \r\nL 628 4666 \r\nz\r\n\" id=\"DejaVuSans-4c\" transform=\"scale(0.015625)\"/>\r\n       <path d=\"M 3597 1894 \r\nL 3597 1613 \r\nL 953 1613 \r\nQ 991 1019 1311 708 \r\nQ 1631 397 2203 397 \r\nQ 2534 397 2845 478 \r\nQ 3156 559 3463 722 \r\nL 3463 178 \r\nQ 3153 47 2828 -22 \r\nQ 2503 -91 2169 -91 \r\nQ 1331 -91 842 396 \r\nQ 353 884 353 1716 \r\nQ 353 2575 817 3079 \r\nQ 1281 3584 2069 3584 \r\nQ 2775 3584 3186 3129 \r\nQ 3597 2675 3597 1894 \r\nz\r\nM 3022 2063 \r\nQ 3016 2534 2758 2815 \r\nQ 2500 3097 2075 3097 \r\nQ 1594 3097 1305 2825 \r\nQ 1016 2553 972 2059 \r\nL 3022 2063 \r\nz\r\n\" id=\"DejaVuSans-65\" transform=\"scale(0.015625)\"/>\r\n       <path d=\"M 2194 1759 \r\nQ 1497 1759 1228 1600 \r\nQ 959 1441 959 1056 \r\nQ 959 750 1161 570 \r\nQ 1363 391 1709 391 \r\nQ 2188 391 2477 730 \r\nQ 2766 1069 2766 1631 \r\nL 2766 1759 \r\nL 2194 1759 \r\nz\r\nM 3341 1997 \r\nL 3341 0 \r\nL 2766 0 \r\nL 2766 531 \r\nQ 2569 213 2275 61 \r\nQ 1981 -91 1556 -91 \r\nQ 1019 -91 701 211 \r\nQ 384 513 384 1019 \r\nQ 384 1609 779 1909 \r\nQ 1175 2209 1959 2209 \r\nL 2766 2209 \r\nL 2766 2266 \r\nQ 2766 2663 2505 2880 \r\nQ 2244 3097 1772 3097 \r\nQ 1472 3097 1187 3025 \r\nQ 903 2953 641 2809 \r\nL 641 3341 \r\nQ 956 3463 1253 3523 \r\nQ 1550 3584 1831 3584 \r\nQ 2591 3584 2966 3190 \r\nQ 3341 2797 3341 1997 \r\nz\r\n\" id=\"DejaVuSans-61\" transform=\"scale(0.015625)\"/>\r\n       <path d=\"M 2631 2963 \r\nQ 2534 3019 2420 3045 \r\nQ 2306 3072 2169 3072 \r\nQ 1681 3072 1420 2755 \r\nQ 1159 2438 1159 1844 \r\nL 1159 0 \r\nL 581 0 \r\nL 581 3500 \r\nL 1159 3500 \r\nL 1159 2956 \r\nQ 1341 3275 1631 3429 \r\nQ 1922 3584 2338 3584 \r\nQ 2397 3584 2469 3576 \r\nQ 2541 3569 2628 3553 \r\nL 2631 2963 \r\nz\r\n\" id=\"DejaVuSans-72\" transform=\"scale(0.015625)\"/>\r\n       <path d=\"M 3513 2113 \r\nL 3513 0 \r\nL 2938 0 \r\nL 2938 2094 \r\nQ 2938 2591 2744 2837 \r\nQ 2550 3084 2163 3084 \r\nQ 1697 3084 1428 2787 \r\nQ 1159 2491 1159 1978 \r\nL 1159 0 \r\nL 581 0 \r\nL 581 3500 \r\nL 1159 3500 \r\nL 1159 2956 \r\nQ 1366 3272 1645 3428 \r\nQ 1925 3584 2291 3584 \r\nQ 2894 3584 3203 3211 \r\nQ 3513 2838 3513 2113 \r\nz\r\n\" id=\"DejaVuSans-6e\" transform=\"scale(0.015625)\"/>\r\n       <path d=\"M 603 3500 \r\nL 1178 3500 \r\nL 1178 0 \r\nL 603 0 \r\nL 603 3500 \r\nz\r\nM 603 4863 \r\nL 1178 4863 \r\nL 1178 4134 \r\nL 603 4134 \r\nL 603 4863 \r\nz\r\n\" id=\"DejaVuSans-69\" transform=\"scale(0.015625)\"/>\r\n       <path d=\"M 2906 1791 \r\nQ 2906 2416 2648 2759 \r\nQ 2391 3103 1925 3103 \r\nQ 1463 3103 1205 2759 \r\nQ 947 2416 947 1791 \r\nQ 947 1169 1205 825 \r\nQ 1463 481 1925 481 \r\nQ 2391 481 2648 825 \r\nQ 2906 1169 2906 1791 \r\nz\r\nM 3481 434 \r\nQ 3481 -459 3084 -895 \r\nQ 2688 -1331 1869 -1331 \r\nQ 1566 -1331 1297 -1286 \r\nQ 1028 -1241 775 -1147 \r\nL 775 -588 \r\nQ 1028 -725 1275 -790 \r\nQ 1522 -856 1778 -856 \r\nQ 2344 -856 2625 -561 \r\nQ 2906 -266 2906 331 \r\nL 2906 616 \r\nQ 2728 306 2450 153 \r\nQ 2172 0 1784 0 \r\nQ 1141 0 747 490 \r\nQ 353 981 353 1791 \r\nQ 353 2603 747 3093 \r\nQ 1141 3584 1784 3584 \r\nQ 2172 3584 2450 3431 \r\nQ 2728 3278 2906 2969 \r\nL 2906 3500 \r\nL 3481 3500 \r\nL 3481 434 \r\nz\r\n\" id=\"DejaVuSans-67\" transform=\"scale(0.015625)\"/>\r\n       <path id=\"DejaVuSans-20\" transform=\"scale(0.015625)\"/>\r\n       <path d=\"M 2841 2188 \r\nQ 3044 2119 3236 1894 \r\nQ 3428 1669 3622 1275 \r\nL 4263 0 \r\nL 3584 0 \r\nL 2988 1197 \r\nQ 2756 1666 2539 1819 \r\nQ 2322 1972 1947 1972 \r\nL 1259 1972 \r\nL 1259 0 \r\nL 628 0 \r\nL 628 4666 \r\nL 2053 4666 \r\nQ 2853 4666 3247 4331 \r\nQ 3641 3997 3641 3322 \r\nQ 3641 2881 3436 2590 \r\nQ 3231 2300 2841 2188 \r\nz\r\nM 1259 4147 \r\nL 1259 2491 \r\nL 2053 2491 \r\nQ 2509 2491 2742 2702 \r\nQ 2975 2913 2975 3322 \r\nQ 2975 3731 2742 3939 \r\nQ 2509 4147 2053 4147 \r\nL 1259 4147 \r\nz\r\n\" id=\"DejaVuSans-52\" transform=\"scale(0.015625)\"/>\r\n       <path d=\"M 1172 4494 \r\nL 1172 3500 \r\nL 2356 3500 \r\nL 2356 3053 \r\nL 1172 3053 \r\nL 1172 1153 \r\nQ 1172 725 1289 603 \r\nQ 1406 481 1766 481 \r\nL 2356 481 \r\nL 2356 0 \r\nL 1766 0 \r\nQ 1100 0 847 248 \r\nQ 594 497 594 1153 \r\nL 594 3053 \r\nL 172 3053 \r\nL 172 3500 \r\nL 594 3500 \r\nL 594 4494 \r\nL 1172 4494 \r\nz\r\n\" id=\"DejaVuSans-74\" transform=\"scale(0.015625)\"/>\r\n      </defs>\r\n      <use xlink:href=\"#DejaVuSans-4c\"/>\r\n      <use x=\"53.962891\" xlink:href=\"#DejaVuSans-65\"/>\r\n      <use x=\"115.486328\" xlink:href=\"#DejaVuSans-61\"/>\r\n      <use x=\"176.765625\" xlink:href=\"#DejaVuSans-72\"/>\r\n      <use x=\"216.128906\" xlink:href=\"#DejaVuSans-6e\"/>\r\n      <use x=\"279.507812\" xlink:href=\"#DejaVuSans-69\"/>\r\n      <use x=\"307.291016\" xlink:href=\"#DejaVuSans-6e\"/>\r\n      <use x=\"370.669922\" xlink:href=\"#DejaVuSans-67\"/>\r\n      <use x=\"434.146484\" xlink:href=\"#DejaVuSans-20\"/>\r\n      <use x=\"465.933594\" xlink:href=\"#DejaVuSans-52\"/>\r\n      <use x=\"533.166016\" xlink:href=\"#DejaVuSans-61\"/>\r\n      <use x=\"594.445312\" xlink:href=\"#DejaVuSans-74\"/>\r\n      <use x=\"633.654297\" xlink:href=\"#DejaVuSans-65\"/>\r\n     </g>\r\n    </g>\r\n   </g>\r\n   <g id=\"line2d_23\">\r\n    <path clip-path=\"url(#p2978b4f3e7)\" d=\"M 66.103125 43.60509 \r\nL 80.053125 65.10181 \r\nL 94.003125 84.260793 \r\nL 107.953125 101.336238 \r\nL 121.903125 116.554752 \r\nL 135.853125 130.118269 \r\nL 149.803125 142.206764 \r\nL 163.753125 152.98065 \r\nL 177.703125 162.582886 \r\nL 191.653125 171.140882 \r\nL 205.603125 178.768208 \r\nL 219.553125 185.566066 \r\nL 233.503125 191.624669 \r\nL 247.453125 197.024402 \r\nL 261.403125 201.83692 \r\nL 275.353125 206.126078 \r\nL 289.303125 209.948796 \r\nL 303.253125 213.355798 \r\nL 317.203125 216.39229 \r\nL 331.153125 219.098568 \r\nL 345.103125 221.510539 \r\nL 359.053125 223.660212 \r\nL 373.003125 225.57611 \r\nL 386.953125 227.283655 \r\nL 400.903125 228.805506 \r\n\" style=\"fill:none;stroke:#1f77b4;stroke-linecap:square;stroke-width:1.5;\"/>\r\n    <defs>\r\n     <path d=\"M 0 3 \r\nC 0.795609 3 1.55874 2.683901 2.12132 2.12132 \r\nC 2.683901 1.55874 3 0.795609 3 0 \r\nC 3 -0.795609 2.683901 -1.55874 2.12132 -2.12132 \r\nC 1.55874 -2.683901 0.795609 -3 0 -3 \r\nC -0.795609 -3 -1.55874 -2.683901 -2.12132 -2.12132 \r\nC -2.683901 -1.55874 -3 -0.795609 -3 0 \r\nC -3 0.795609 -2.683901 1.55874 -2.12132 2.12132 \r\nC -1.55874 2.683901 -0.795609 3 0 3 \r\nz\r\n\" id=\"mc4d095b48f\" style=\"stroke:#1f77b4;\"/>\r\n    </defs>\r\n    <g clip-path=\"url(#p2978b4f3e7)\">\r\n     <use style=\"fill:#1f77b4;stroke:#1f77b4;\" x=\"66.103125\" xlink:href=\"#mc4d095b48f\" y=\"43.60509\"/>\r\n     <use style=\"fill:#1f77b4;stroke:#1f77b4;\" x=\"80.053125\" xlink:href=\"#mc4d095b48f\" y=\"65.10181\"/>\r\n     <use style=\"fill:#1f77b4;stroke:#1f77b4;\" x=\"94.003125\" xlink:href=\"#mc4d095b48f\" y=\"84.260793\"/>\r\n     <use style=\"fill:#1f77b4;stroke:#1f77b4;\" x=\"107.953125\" xlink:href=\"#mc4d095b48f\" y=\"101.336238\"/>\r\n     <use style=\"fill:#1f77b4;stroke:#1f77b4;\" x=\"121.903125\" xlink:href=\"#mc4d095b48f\" y=\"116.554752\"/>\r\n     <use style=\"fill:#1f77b4;stroke:#1f77b4;\" x=\"135.853125\" xlink:href=\"#mc4d095b48f\" y=\"130.118269\"/>\r\n     <use style=\"fill:#1f77b4;stroke:#1f77b4;\" x=\"149.803125\" xlink:href=\"#mc4d095b48f\" y=\"142.206764\"/>\r\n     <use style=\"fill:#1f77b4;stroke:#1f77b4;\" x=\"163.753125\" xlink:href=\"#mc4d095b48f\" y=\"152.98065\"/>\r\n     <use style=\"fill:#1f77b4;stroke:#1f77b4;\" x=\"177.703125\" xlink:href=\"#mc4d095b48f\" y=\"162.582886\"/>\r\n     <use style=\"fill:#1f77b4;stroke:#1f77b4;\" x=\"191.653125\" xlink:href=\"#mc4d095b48f\" y=\"171.140882\"/>\r\n     <use style=\"fill:#1f77b4;stroke:#1f77b4;\" x=\"205.603125\" xlink:href=\"#mc4d095b48f\" y=\"178.768208\"/>\r\n     <use style=\"fill:#1f77b4;stroke:#1f77b4;\" x=\"219.553125\" xlink:href=\"#mc4d095b48f\" y=\"185.566066\"/>\r\n     <use style=\"fill:#1f77b4;stroke:#1f77b4;\" x=\"233.503125\" xlink:href=\"#mc4d095b48f\" y=\"191.624669\"/>\r\n     <use style=\"fill:#1f77b4;stroke:#1f77b4;\" x=\"247.453125\" xlink:href=\"#mc4d095b48f\" y=\"197.024402\"/>\r\n     <use style=\"fill:#1f77b4;stroke:#1f77b4;\" x=\"261.403125\" xlink:href=\"#mc4d095b48f\" y=\"201.83692\"/>\r\n     <use style=\"fill:#1f77b4;stroke:#1f77b4;\" x=\"275.353125\" xlink:href=\"#mc4d095b48f\" y=\"206.126078\"/>\r\n     <use style=\"fill:#1f77b4;stroke:#1f77b4;\" x=\"289.303125\" xlink:href=\"#mc4d095b48f\" y=\"209.948796\"/>\r\n     <use style=\"fill:#1f77b4;stroke:#1f77b4;\" x=\"303.253125\" xlink:href=\"#mc4d095b48f\" y=\"213.355798\"/>\r\n     <use style=\"fill:#1f77b4;stroke:#1f77b4;\" x=\"317.203125\" xlink:href=\"#mc4d095b48f\" y=\"216.39229\"/>\r\n     <use style=\"fill:#1f77b4;stroke:#1f77b4;\" x=\"331.153125\" xlink:href=\"#mc4d095b48f\" y=\"219.098568\"/>\r\n     <use style=\"fill:#1f77b4;stroke:#1f77b4;\" x=\"345.103125\" xlink:href=\"#mc4d095b48f\" y=\"221.510539\"/>\r\n     <use style=\"fill:#1f77b4;stroke:#1f77b4;\" x=\"359.053125\" xlink:href=\"#mc4d095b48f\" y=\"223.660212\"/>\r\n     <use style=\"fill:#1f77b4;stroke:#1f77b4;\" x=\"373.003125\" xlink:href=\"#mc4d095b48f\" y=\"225.57611\"/>\r\n     <use style=\"fill:#1f77b4;stroke:#1f77b4;\" x=\"386.953125\" xlink:href=\"#mc4d095b48f\" y=\"227.283655\"/>\r\n     <use style=\"fill:#1f77b4;stroke:#1f77b4;\" x=\"400.903125\" xlink:href=\"#mc4d095b48f\" y=\"228.805506\"/>\r\n    </g>\r\n   </g>\r\n   <g id=\"patch_3\">\r\n    <path d=\"M 66.103125 241.277813 \r\nL 66.103125 23.837812 \r\n\" style=\"fill:none;stroke:#000000;stroke-linecap:square;stroke-linejoin:miter;stroke-width:0.8;\"/>\r\n   </g>\r\n   <g id=\"patch_4\">\r\n    <path d=\"M 400.903125 241.277813 \r\nL 400.903125 23.837812 \r\n\" style=\"fill:none;stroke:#000000;stroke-linecap:square;stroke-linejoin:miter;stroke-width:0.8;\"/>\r\n   </g>\r\n   <g id=\"patch_5\">\r\n    <path d=\"M 66.103125 241.277813 \r\nL 400.903125 241.277813 \r\n\" style=\"fill:none;stroke:#000000;stroke-linecap:square;stroke-linejoin:miter;stroke-width:0.8;\"/>\r\n   </g>\r\n   <g id=\"patch_6\">\r\n    <path d=\"M 66.103125 23.837812 \r\nL 400.903125 23.837812 \r\n\" style=\"fill:none;stroke:#000000;stroke-linecap:square;stroke-linejoin:miter;stroke-width:0.8;\"/>\r\n   </g>\r\n   <g id=\"text_14\">\r\n    <!-- Exponential Scheduling -->\r\n    <g transform=\"translate(151.19625 17.837812)scale(0.14 -0.14)\">\r\n     <defs>\r\n      <path d=\"M 3513 3500 \r\nL 2247 1797 \r\nL 3578 0 \r\nL 2900 0 \r\nL 1881 1375 \r\nL 863 0 \r\nL 184 0 \r\nL 1544 1831 \r\nL 300 3500 \r\nL 978 3500 \r\nL 1906 2253 \r\nL 2834 3500 \r\nL 3513 3500 \r\nz\r\n\" id=\"DejaVuSans-78\" transform=\"scale(0.015625)\"/>\r\n      <path d=\"M 603 4863 \r\nL 1178 4863 \r\nL 1178 0 \r\nL 603 0 \r\nL 603 4863 \r\nz\r\n\" id=\"DejaVuSans-6c\" transform=\"scale(0.015625)\"/>\r\n      <path d=\"M 3425 4513 \r\nL 3425 3897 \r\nQ 3066 4069 2747 4153 \r\nQ 2428 4238 2131 4238 \r\nQ 1616 4238 1336 4038 \r\nQ 1056 3838 1056 3469 \r\nQ 1056 3159 1242 3001 \r\nQ 1428 2844 1947 2747 \r\nL 2328 2669 \r\nQ 3034 2534 3370 2195 \r\nQ 3706 1856 3706 1288 \r\nQ 3706 609 3251 259 \r\nQ 2797 -91 1919 -91 \r\nQ 1588 -91 1214 -16 \r\nQ 841 59 441 206 \r\nL 441 856 \r\nQ 825 641 1194 531 \r\nQ 1563 422 1919 422 \r\nQ 2459 422 2753 634 \r\nQ 3047 847 3047 1241 \r\nQ 3047 1584 2836 1778 \r\nQ 2625 1972 2144 2069 \r\nL 1759 2144 \r\nQ 1053 2284 737 2584 \r\nQ 422 2884 422 3419 \r\nQ 422 4038 858 4394 \r\nQ 1294 4750 2059 4750 \r\nQ 2388 4750 2728 4690 \r\nQ 3069 4631 3425 4513 \r\nz\r\n\" id=\"DejaVuSans-53\" transform=\"scale(0.015625)\"/>\r\n      <path d=\"M 2906 2969 \r\nL 2906 4863 \r\nL 3481 4863 \r\nL 3481 0 \r\nL 2906 0 \r\nL 2906 525 \r\nQ 2725 213 2448 61 \r\nQ 2172 -91 1784 -91 \r\nQ 1150 -91 751 415 \r\nQ 353 922 353 1747 \r\nQ 353 2572 751 3078 \r\nQ 1150 3584 1784 3584 \r\nQ 2172 3584 2448 3432 \r\nQ 2725 3281 2906 2969 \r\nz\r\nM 947 1747 \r\nQ 947 1113 1208 752 \r\nQ 1469 391 1925 391 \r\nQ 2381 391 2643 752 \r\nQ 2906 1113 2906 1747 \r\nQ 2906 2381 2643 2742 \r\nQ 2381 3103 1925 3103 \r\nQ 1469 3103 1208 2742 \r\nQ 947 2381 947 1747 \r\nz\r\n\" id=\"DejaVuSans-64\" transform=\"scale(0.015625)\"/>\r\n      <path d=\"M 544 1381 \r\nL 544 3500 \r\nL 1119 3500 \r\nL 1119 1403 \r\nQ 1119 906 1312 657 \r\nQ 1506 409 1894 409 \r\nQ 2359 409 2629 706 \r\nQ 2900 1003 2900 1516 \r\nL 2900 3500 \r\nL 3475 3500 \r\nL 3475 0 \r\nL 2900 0 \r\nL 2900 538 \r\nQ 2691 219 2414 64 \r\nQ 2138 -91 1772 -91 \r\nQ 1169 -91 856 284 \r\nQ 544 659 544 1381 \r\nz\r\nM 1991 3584 \r\nL 1991 3584 \r\nz\r\n\" id=\"DejaVuSans-75\" transform=\"scale(0.015625)\"/>\r\n     </defs>\r\n     <use xlink:href=\"#DejaVuSans-45\"/>\r\n     <use x=\"63.183594\" xlink:href=\"#DejaVuSans-78\"/>\r\n     <use x=\"122.363281\" xlink:href=\"#DejaVuSans-70\"/>\r\n     <use x=\"185.839844\" xlink:href=\"#DejaVuSans-6f\"/>\r\n     <use x=\"247.021484\" xlink:href=\"#DejaVuSans-6e\"/>\r\n     <use x=\"310.400391\" xlink:href=\"#DejaVuSans-65\"/>\r\n     <use x=\"371.923828\" xlink:href=\"#DejaVuSans-6e\"/>\r\n     <use x=\"435.302734\" xlink:href=\"#DejaVuSans-74\"/>\r\n     <use x=\"474.511719\" xlink:href=\"#DejaVuSans-69\"/>\r\n     <use x=\"502.294922\" xlink:href=\"#DejaVuSans-61\"/>\r\n     <use x=\"563.574219\" xlink:href=\"#DejaVuSans-6c\"/>\r\n     <use x=\"591.357422\" xlink:href=\"#DejaVuSans-20\"/>\r\n     <use x=\"623.144531\" xlink:href=\"#DejaVuSans-53\"/>\r\n     <use x=\"686.621094\" xlink:href=\"#DejaVuSans-63\"/>\r\n     <use x=\"741.601562\" xlink:href=\"#DejaVuSans-68\"/>\r\n     <use x=\"804.980469\" xlink:href=\"#DejaVuSans-65\"/>\r\n     <use x=\"866.503906\" xlink:href=\"#DejaVuSans-64\"/>\r\n     <use x=\"929.980469\" xlink:href=\"#DejaVuSans-75\"/>\r\n     <use x=\"993.359375\" xlink:href=\"#DejaVuSans-6c\"/>\r\n     <use x=\"1021.142578\" xlink:href=\"#DejaVuSans-69\"/>\r\n     <use x=\"1048.925781\" xlink:href=\"#DejaVuSans-6e\"/>\r\n     <use x=\"1112.304688\" xlink:href=\"#DejaVuSans-67\"/>\r\n    </g>\r\n   </g>\r\n  </g>\r\n </g>\r\n <defs>\r\n  <clipPath id=\"p2978b4f3e7\">\r\n   <rect height=\"217.44\" width=\"334.8\" x=\"66.103125\" y=\"23.837812\"/>\r\n  </clipPath>\r\n </defs>\r\n</svg>\r\n",
      "image/png": "[encoded data removed]"
     },
     "metadata": {
      "needs_background": "light"
     }
    }
   ],
   "metadata": {}
  },
  {
   "cell_type": "code",
   "execution_count": 102,
   "source": [
    "#이 스케줄 함수는 두 번째 매개변수로 현재 학습률을 받을 수 있다.\r\n",
    "def exponential_decay_fn(epoch, lr):\r\n",
    "    return lr * 0.1**(1 / 20)"
   ],
   "outputs": [],
   "metadata": {}
  },
  {
   "cell_type": "code",
   "execution_count": 103,
   "source": [
    "K = keras.backend\r\n",
    "\r\n",
    "class ExponentialDecay(keras.callbacks.Callback):\r\n",
    "    def __init__(self, s=40000):\r\n",
    "        super().__init__()\r\n",
    "        self.s = s\r\n",
    "\r\n",
    "    def on_batch_begin(self, batch, logs=None):\r\n",
    "        # 노트: 에포크마다 `batch` 매개변수가 재설정됩니다\r\n",
    "        lr = K.get_value(self.model.optimizer.lr)\r\n",
    "        K.set_value(self.model.optimizer.lr, lr * 0.1**(1 / s))\r\n",
    "\r\n",
    "    def on_epoch_end(self, epoch, logs=None):\r\n",
    "        logs = logs or {}\r\n",
    "        logs['lr'] = K.get_value(self.model.optimizer.lr)\r\n",
    "\r\n",
    "model = keras.models.Sequential([\r\n",
    "    keras.layers.Flatten(input_shape=[28, 28]),\r\n",
    "    keras.layers.Dense(300, activation=\"selu\", kernel_initializer=\"lecun_normal\"),\r\n",
    "    keras.layers.Dense(100, activation=\"selu\", kernel_initializer=\"lecun_normal\"),\r\n",
    "    keras.layers.Dense(10, activation=\"softmax\")\r\n",
    "])\r\n",
    "lr0 = 0.01\r\n",
    "optimizer = keras.optimizers.Nadam(lr=lr0)\r\n",
    "model.compile(loss=\"sparse_categorical_crossentropy\", optimizer=optimizer, metrics=[\"accuracy\"])\r\n",
    "n_epochs = 25\r\n",
    "\r\n",
    "s = 20 * len(X_train) // 32 # 20 에포크 동안 스텝 횟수 (배치 크기 = 32)\r\n",
    "exp_decay = ExponentialDecay(s)\r\n",
    "history = model.fit(X_train_scaled, y_train, epochs=n_epochs,\r\n",
    "                    validation_data=(X_valid_scaled, y_valid),\r\n",
    "                    callbacks=[exp_decay])"
   ],
   "outputs": [
    {
     "output_type": "stream",
     "name": "stdout",
     "text": [
      "Epoch 1/25\n",
      "1719/1719 [==============================] - 8s 4ms/step - loss: 0.8036 - accuracy: 0.7651 - val_loss: 0.8314 - val_accuracy: 0.7406\n",
      "Epoch 2/25\n",
      "1719/1719 [==============================] - 7s 4ms/step - loss: 0.6298 - accuracy: 0.8056 - val_loss: 0.5361 - val_accuracy: 0.8296\n",
      "Epoch 3/25\n",
      "1719/1719 [==============================] - 7s 4ms/step - loss: 0.5593 - accuracy: 0.8233 - val_loss: 0.6259 - val_accuracy: 0.8272\n",
      "Epoch 4/25\n",
      "1719/1719 [==============================] - 7s 4ms/step - loss: 0.5073 - accuracy: 0.8411 - val_loss: 0.4577 - val_accuracy: 0.8586\n",
      "Epoch 5/25\n",
      "1719/1719 [==============================] - 7s 4ms/step - loss: 0.4599 - accuracy: 0.8535 - val_loss: 0.4852 - val_accuracy: 0.8680\n",
      "Epoch 6/25\n",
      "1719/1719 [==============================] - 7s 4ms/step - loss: 0.4216 - accuracy: 0.8656 - val_loss: 0.4712 - val_accuracy: 0.8564\n",
      "Epoch 7/25\n",
      "1719/1719 [==============================] - 7s 4ms/step - loss: 0.3966 - accuracy: 0.8736 - val_loss: 0.4383 - val_accuracy: 0.8608\n",
      "Epoch 8/25\n",
      "1719/1719 [==============================] - 7s 4ms/step - loss: 0.3574 - accuracy: 0.8825 - val_loss: 0.4721 - val_accuracy: 0.8492\n",
      "Epoch 9/25\n",
      "1719/1719 [==============================] - 7s 4ms/step - loss: 0.3359 - accuracy: 0.8893 - val_loss: 0.3972 - val_accuracy: 0.8806\n",
      "Epoch 10/25\n",
      "1719/1719 [==============================] - 7s 4ms/step - loss: 0.3062 - accuracy: 0.8989 - val_loss: 0.4041 - val_accuracy: 0.8804\n",
      "Epoch 11/25\n",
      "1719/1719 [==============================] - 7s 4ms/step - loss: 0.2843 - accuracy: 0.9048 - val_loss: 0.4756 - val_accuracy: 0.8680\n",
      "Epoch 12/25\n",
      "1719/1719 [==============================] - 7s 4ms/step - loss: 0.2635 - accuracy: 0.9097 - val_loss: 0.4236 - val_accuracy: 0.8802\n",
      "Epoch 13/25\n",
      "1719/1719 [==============================] - 7s 4ms/step - loss: 0.2497 - accuracy: 0.9159 - val_loss: 0.4279 - val_accuracy: 0.8814\n",
      "Epoch 14/25\n",
      "1719/1719 [==============================] - 7s 4ms/step - loss: 0.2259 - accuracy: 0.9225 - val_loss: 0.4091 - val_accuracy: 0.8808\n",
      "Epoch 15/25\n",
      "1719/1719 [==============================] - 7s 4ms/step - loss: 0.2177 - accuracy: 0.9265 - val_loss: 0.4989 - val_accuracy: 0.8846\n",
      "Epoch 16/25\n",
      "1719/1719 [==============================] - 7s 4ms/step - loss: 0.1973 - accuracy: 0.9327 - val_loss: 0.4441 - val_accuracy: 0.8876\n",
      "Epoch 17/25\n",
      "1719/1719 [==============================] - 7s 4ms/step - loss: 0.1868 - accuracy: 0.9376 - val_loss: 0.4480 - val_accuracy: 0.8880\n",
      "Epoch 18/25\n",
      "1719/1719 [==============================] - 8s 4ms/step - loss: 0.1716 - accuracy: 0.9412 - val_loss: 0.4838 - val_accuracy: 0.8860\n",
      "Epoch 19/25\n",
      "1719/1719 [==============================] - 8s 5ms/step - loss: 0.1616 - accuracy: 0.9460 - val_loss: 0.4889 - val_accuracy: 0.8930\n",
      "Epoch 20/25\n",
      "1719/1719 [==============================] - 8s 5ms/step - loss: 0.1497 - accuracy: 0.9493 - val_loss: 0.4792 - val_accuracy: 0.8908\n",
      "Epoch 21/25\n",
      "1719/1719 [==============================] - 8s 5ms/step - loss: 0.1390 - accuracy: 0.9541 - val_loss: 0.5400 - val_accuracy: 0.8888\n",
      "Epoch 22/25\n",
      "1719/1719 [==============================] - 8s 4ms/step - loss: 0.1289 - accuracy: 0.9575 - val_loss: 0.5154 - val_accuracy: 0.8916\n",
      "Epoch 23/25\n",
      "1719/1719 [==============================] - 8s 5ms/step - loss: 0.1212 - accuracy: 0.9606 - val_loss: 0.5387 - val_accuracy: 0.8856\n",
      "Epoch 24/25\n",
      "1719/1719 [==============================] - 8s 5ms/step - loss: 0.1138 - accuracy: 0.9627 - val_loss: 0.5914 - val_accuracy: 0.8896\n",
      "Epoch 25/25\n",
      "1719/1719 [==============================] - 8s 5ms/step - loss: 0.1073 - accuracy: 0.9656 - val_loss: 0.6041 - val_accuracy: 0.8878\n"
     ]
    }
   ],
   "metadata": {}
  },
  {
   "cell_type": "code",
   "execution_count": 104,
   "source": [
    "n_steps = n_epochs * len(X_train) // 32\r\n",
    "steps = np.arange(n_steps)\r\n",
    "lrs = lr0 * 0.1**(steps / s)"
   ],
   "outputs": [],
   "metadata": {}
  },
  {
   "cell_type": "code",
   "execution_count": 105,
   "source": [
    "plt.plot(steps, lrs, \"-\", linewidth=2)\r\n",
    "plt.axis([0, n_steps - 1, 0, lr0 * 1.1])\r\n",
    "plt.xlabel(\"Batch\")\r\n",
    "plt.ylabel(\"Learning Rate\")\r\n",
    "plt.title(\"Exponential Scheduling (per batch)\", fontsize=14)\r\n",
    "plt.grid(True)\r\n",
    "plt.show()"
   ],
   "outputs": [
    {
     "output_type": "display_data",
     "data": {
      "text/plain": [
       "<Figure size 432x288 with 1 Axes>"
      ],
      "image/svg+xml": "<?xml version=\"1.0\" encoding=\"utf-8\" standalone=\"no\"?>\r\n<!DOCTYPE svg PUBLIC \"-//W3C//DTD SVG 1.1//EN\"\r\n  \"http://www.w3.org/Graphics/SVG/1.1/DTD/svg11.dtd\">\r\n<svg height=\"284.640938pt\" version=\"1.1\" viewBox=\"0 0 408.103125 284.640938\" width=\"408.103125pt\" xmlns=\"http://www.w3.org/2000/svg\" xmlns:xlink=\"http://www.w3.org/1999/xlink\">\r\n <metadata>\r\n  <rdf:RDF xmlns:cc=\"http://creativecommons.org/ns#\" xmlns:dc=\"http://purl.org/dc/elements/1.1/\" xmlns:rdf=\"http://www.w3.org/1999/02/22-rdf-syntax-ns#\">\r\n   <cc:Work>\r\n    <dc:type rdf:resource=\"http://purl.org/dc/dcmitype/StillImage\"/>\r\n    <dc:date>2021-08-20T01:59:03.189922</dc:date>\r\n    <dc:format>image/svg+xml</dc:format>\r\n    <dc:creator>\r\n     <cc:Agent>\r\n      <dc:title>Matplotlib v3.4.2, https://matplotlib.org/</dc:title>\r\n     </cc:Agent>\r\n    </dc:creator>\r\n   </cc:Work>\r\n  </rdf:RDF>\r\n </metadata>\r\n <defs>\r\n  <style type=\"text/css\">*{stroke-linecap:butt;stroke-linejoin:round;}</style>\r\n </defs>\r\n <g id=\"figure_1\">\r\n  <g id=\"patch_1\">\r\n   <path d=\"M 0 284.640938 \r\nL 408.103125 284.640938 \r\nL 408.103125 0 \r\nL 0 0 \r\nz\r\n\" style=\"fill:none;\"/>\r\n  </g>\r\n  <g id=\"axes_1\">\r\n   <g id=\"patch_2\">\r\n    <path d=\"M 66.103125 241.277813 \r\nL 400.903125 241.277813 \r\nL 400.903125 23.837812 \r\nL 66.103125 23.837812 \r\nz\r\n\" style=\"fill:#ffffff;\"/>\r\n   </g>\r\n   <g id=\"matplotlib.axis_1\">\r\n    <g id=\"xtick_1\">\r\n     <g id=\"line2d_1\">\r\n      <path clip-path=\"url(#pa0b9e63457)\" d=\"M 66.103125 241.277813 \r\nL 66.103125 23.837812 \r\n\" style=\"fill:none;stroke:#b0b0b0;stroke-linecap:square;stroke-width:0.8;\"/>\r\n     </g>\r\n     <g id=\"line2d_2\">\r\n      <defs>\r\n       <path d=\"M 0 0 \r\nL 0 3.5 \r\n\" id=\"md725e112c2\" style=\"stroke:#000000;stroke-width:0.8;\"/>\r\n      </defs>\r\n      <g>\r\n       <use style=\"stroke:#000000;stroke-width:0.8;\" x=\"66.103125\" xlink:href=\"#md725e112c2\" y=\"241.277813\"/>\r\n      </g>\r\n     </g>\r\n     <g id=\"text_1\">\r\n      <!-- 0 -->\r\n      <g transform=\"translate(62.285625 257.395938)scale(0.12 -0.12)\">\r\n       <defs>\r\n        <path d=\"M 2034 4250 \r\nQ 1547 4250 1301 3770 \r\nQ 1056 3291 1056 2328 \r\nQ 1056 1369 1301 889 \r\nQ 1547 409 2034 409 \r\nQ 2525 409 2770 889 \r\nQ 3016 1369 3016 2328 \r\nQ 3016 3291 2770 3770 \r\nQ 2525 4250 2034 4250 \r\nz\r\nM 2034 4750 \r\nQ 2819 4750 3233 4129 \r\nQ 3647 3509 3647 2328 \r\nQ 3647 1150 3233 529 \r\nQ 2819 -91 2034 -91 \r\nQ 1250 -91 836 529 \r\nQ 422 1150 422 2328 \r\nQ 422 3509 836 4129 \r\nQ 1250 4750 2034 4750 \r\nz\r\n\" id=\"DejaVuSans-30\" transform=\"scale(0.015625)\"/>\r\n       </defs>\r\n       <use xlink:href=\"#DejaVuSans-30\"/>\r\n      </g>\r\n     </g>\r\n    </g>\r\n    <g id=\"xtick_2\">\r\n     <g id=\"line2d_3\">\r\n      <path clip-path=\"url(#pa0b9e63457)\" d=\"M 105.063257 241.277813 \r\nL 105.063257 23.837812 \r\n\" style=\"fill:none;stroke:#b0b0b0;stroke-linecap:square;stroke-width:0.8;\"/>\r\n     </g>\r\n     <g id=\"line2d_4\">\r\n      <g>\r\n       <use style=\"stroke:#000000;stroke-width:0.8;\" x=\"105.063257\" xlink:href=\"#md725e112c2\" y=\"241.277813\"/>\r\n      </g>\r\n     </g>\r\n     <g id=\"text_2\">\r\n      <!-- 5000 -->\r\n      <g transform=\"translate(89.793257 257.395938)scale(0.12 -0.12)\">\r\n       <defs>\r\n        <path d=\"M 691 4666 \r\nL 3169 4666 \r\nL 3169 4134 \r\nL 1269 4134 \r\nL 1269 2991 \r\nQ 1406 3038 1543 3061 \r\nQ 1681 3084 1819 3084 \r\nQ 2600 3084 3056 2656 \r\nQ 3513 2228 3513 1497 \r\nQ 3513 744 3044 326 \r\nQ 2575 -91 1722 -91 \r\nQ 1428 -91 1123 -41 \r\nQ 819 9 494 109 \r\nL 494 744 \r\nQ 775 591 1075 516 \r\nQ 1375 441 1709 441 \r\nQ 2250 441 2565 725 \r\nQ 2881 1009 2881 1497 \r\nQ 2881 1984 2565 2268 \r\nQ 2250 2553 1709 2553 \r\nQ 1456 2553 1204 2497 \r\nQ 953 2441 691 2322 \r\nL 691 4666 \r\nz\r\n\" id=\"DejaVuSans-35\" transform=\"scale(0.015625)\"/>\r\n       </defs>\r\n       <use xlink:href=\"#DejaVuSans-35\"/>\r\n       <use x=\"63.623047\" xlink:href=\"#DejaVuSans-30\"/>\r\n       <use x=\"127.246094\" xlink:href=\"#DejaVuSans-30\"/>\r\n       <use x=\"190.869141\" xlink:href=\"#DejaVuSans-30\"/>\r\n      </g>\r\n     </g>\r\n    </g>\r\n    <g id=\"xtick_3\">\r\n     <g id=\"line2d_5\">\r\n      <path clip-path=\"url(#pa0b9e63457)\" d=\"M 144.023389 241.277813 \r\nL 144.023389 23.837812 \r\n\" style=\"fill:none;stroke:#b0b0b0;stroke-linecap:square;stroke-width:0.8;\"/>\r\n     </g>\r\n     <g id=\"line2d_6\">\r\n      <g>\r\n       <use style=\"stroke:#000000;stroke-width:0.8;\" x=\"144.023389\" xlink:href=\"#md725e112c2\" y=\"241.277813\"/>\r\n      </g>\r\n     </g>\r\n     <g id=\"text_3\">\r\n      <!-- 10000 -->\r\n      <g transform=\"translate(124.935889 257.395938)scale(0.12 -0.12)\">\r\n       <defs>\r\n        <path d=\"M 794 531 \r\nL 1825 531 \r\nL 1825 4091 \r\nL 703 3866 \r\nL 703 4441 \r\nL 1819 4666 \r\nL 2450 4666 \r\nL 2450 531 \r\nL 3481 531 \r\nL 3481 0 \r\nL 794 0 \r\nL 794 531 \r\nz\r\n\" id=\"DejaVuSans-31\" transform=\"scale(0.015625)\"/>\r\n       </defs>\r\n       <use xlink:href=\"#DejaVuSans-31\"/>\r\n       <use x=\"63.623047\" xlink:href=\"#DejaVuSans-30\"/>\r\n       <use x=\"127.246094\" xlink:href=\"#DejaVuSans-30\"/>\r\n       <use x=\"190.869141\" xlink:href=\"#DejaVuSans-30\"/>\r\n       <use x=\"254.492188\" xlink:href=\"#DejaVuSans-30\"/>\r\n      </g>\r\n     </g>\r\n    </g>\r\n    <g id=\"xtick_4\">\r\n     <g id=\"line2d_7\">\r\n      <path clip-path=\"url(#pa0b9e63457)\" d=\"M 182.983522 241.277813 \r\nL 182.983522 23.837812 \r\n\" style=\"fill:none;stroke:#b0b0b0;stroke-linecap:square;stroke-width:0.8;\"/>\r\n     </g>\r\n     <g id=\"line2d_8\">\r\n      <g>\r\n       <use style=\"stroke:#000000;stroke-width:0.8;\" x=\"182.983522\" xlink:href=\"#md725e112c2\" y=\"241.277813\"/>\r\n      </g>\r\n     </g>\r\n     <g id=\"text_4\">\r\n      <!-- 15000 -->\r\n      <g transform=\"translate(163.896022 257.395938)scale(0.12 -0.12)\">\r\n       <use xlink:href=\"#DejaVuSans-31\"/>\r\n       <use x=\"63.623047\" xlink:href=\"#DejaVuSans-35\"/>\r\n       <use x=\"127.246094\" xlink:href=\"#DejaVuSans-30\"/>\r\n       <use x=\"190.869141\" xlink:href=\"#DejaVuSans-30\"/>\r\n       <use x=\"254.492188\" xlink:href=\"#DejaVuSans-30\"/>\r\n      </g>\r\n     </g>\r\n    </g>\r\n    <g id=\"xtick_5\">\r\n     <g id=\"line2d_9\">\r\n      <path clip-path=\"url(#pa0b9e63457)\" d=\"M 221.943654 241.277813 \r\nL 221.943654 23.837812 \r\n\" style=\"fill:none;stroke:#b0b0b0;stroke-linecap:square;stroke-width:0.8;\"/>\r\n     </g>\r\n     <g id=\"line2d_10\">\r\n      <g>\r\n       <use style=\"stroke:#000000;stroke-width:0.8;\" x=\"221.943654\" xlink:href=\"#md725e112c2\" y=\"241.277813\"/>\r\n      </g>\r\n     </g>\r\n     <g id=\"text_5\">\r\n      <!-- 20000 -->\r\n      <g transform=\"translate(202.856154 257.395938)scale(0.12 -0.12)\">\r\n       <defs>\r\n        <path d=\"M 1228 531 \r\nL 3431 531 \r\nL 3431 0 \r\nL 469 0 \r\nL 469 531 \r\nQ 828 903 1448 1529 \r\nQ 2069 2156 2228 2338 \r\nQ 2531 2678 2651 2914 \r\nQ 2772 3150 2772 3378 \r\nQ 2772 3750 2511 3984 \r\nQ 2250 4219 1831 4219 \r\nQ 1534 4219 1204 4116 \r\nQ 875 4013 500 3803 \r\nL 500 4441 \r\nQ 881 4594 1212 4672 \r\nQ 1544 4750 1819 4750 \r\nQ 2544 4750 2975 4387 \r\nQ 3406 4025 3406 3419 \r\nQ 3406 3131 3298 2873 \r\nQ 3191 2616 2906 2266 \r\nQ 2828 2175 2409 1742 \r\nQ 1991 1309 1228 531 \r\nz\r\n\" id=\"DejaVuSans-32\" transform=\"scale(0.015625)\"/>\r\n       </defs>\r\n       <use xlink:href=\"#DejaVuSans-32\"/>\r\n       <use x=\"63.623047\" xlink:href=\"#DejaVuSans-30\"/>\r\n       <use x=\"127.246094\" xlink:href=\"#DejaVuSans-30\"/>\r\n       <use x=\"190.869141\" xlink:href=\"#DejaVuSans-30\"/>\r\n       <use x=\"254.492188\" xlink:href=\"#DejaVuSans-30\"/>\r\n      </g>\r\n     </g>\r\n    </g>\r\n    <g id=\"xtick_6\">\r\n     <g id=\"line2d_11\">\r\n      <path clip-path=\"url(#pa0b9e63457)\" d=\"M 260.903786 241.277813 \r\nL 260.903786 23.837812 \r\n\" style=\"fill:none;stroke:#b0b0b0;stroke-linecap:square;stroke-width:0.8;\"/>\r\n     </g>\r\n     <g id=\"line2d_12\">\r\n      <g>\r\n       <use style=\"stroke:#000000;stroke-width:0.8;\" x=\"260.903786\" xlink:href=\"#md725e112c2\" y=\"241.277813\"/>\r\n      </g>\r\n     </g>\r\n     <g id=\"text_6\">\r\n      <!-- 25000 -->\r\n      <g transform=\"translate(241.816286 257.395938)scale(0.12 -0.12)\">\r\n       <use xlink:href=\"#DejaVuSans-32\"/>\r\n       <use x=\"63.623047\" xlink:href=\"#DejaVuSans-35\"/>\r\n       <use x=\"127.246094\" xlink:href=\"#DejaVuSans-30\"/>\r\n       <use x=\"190.869141\" xlink:href=\"#DejaVuSans-30\"/>\r\n       <use x=\"254.492188\" xlink:href=\"#DejaVuSans-30\"/>\r\n      </g>\r\n     </g>\r\n    </g>\r\n    <g id=\"xtick_7\">\r\n     <g id=\"line2d_13\">\r\n      <path clip-path=\"url(#pa0b9e63457)\" d=\"M 299.863918 241.277813 \r\nL 299.863918 23.837812 \r\n\" style=\"fill:none;stroke:#b0b0b0;stroke-linecap:square;stroke-width:0.8;\"/>\r\n     </g>\r\n     <g id=\"line2d_14\">\r\n      <g>\r\n       <use style=\"stroke:#000000;stroke-width:0.8;\" x=\"299.863918\" xlink:href=\"#md725e112c2\" y=\"241.277813\"/>\r\n      </g>\r\n     </g>\r\n     <g id=\"text_7\">\r\n      <!-- 30000 -->\r\n      <g transform=\"translate(280.776418 257.395938)scale(0.12 -0.12)\">\r\n       <defs>\r\n        <path d=\"M 2597 2516 \r\nQ 3050 2419 3304 2112 \r\nQ 3559 1806 3559 1356 \r\nQ 3559 666 3084 287 \r\nQ 2609 -91 1734 -91 \r\nQ 1441 -91 1130 -33 \r\nQ 819 25 488 141 \r\nL 488 750 \r\nQ 750 597 1062 519 \r\nQ 1375 441 1716 441 \r\nQ 2309 441 2620 675 \r\nQ 2931 909 2931 1356 \r\nQ 2931 1769 2642 2001 \r\nQ 2353 2234 1838 2234 \r\nL 1294 2234 \r\nL 1294 2753 \r\nL 1863 2753 \r\nQ 2328 2753 2575 2939 \r\nQ 2822 3125 2822 3475 \r\nQ 2822 3834 2567 4026 \r\nQ 2313 4219 1838 4219 \r\nQ 1578 4219 1281 4162 \r\nQ 984 4106 628 3988 \r\nL 628 4550 \r\nQ 988 4650 1302 4700 \r\nQ 1616 4750 1894 4750 \r\nQ 2613 4750 3031 4423 \r\nQ 3450 4097 3450 3541 \r\nQ 3450 3153 3228 2886 \r\nQ 3006 2619 2597 2516 \r\nz\r\n\" id=\"DejaVuSans-33\" transform=\"scale(0.015625)\"/>\r\n       </defs>\r\n       <use xlink:href=\"#DejaVuSans-33\"/>\r\n       <use x=\"63.623047\" xlink:href=\"#DejaVuSans-30\"/>\r\n       <use x=\"127.246094\" xlink:href=\"#DejaVuSans-30\"/>\r\n       <use x=\"190.869141\" xlink:href=\"#DejaVuSans-30\"/>\r\n       <use x=\"254.492188\" xlink:href=\"#DejaVuSans-30\"/>\r\n      </g>\r\n     </g>\r\n    </g>\r\n    <g id=\"xtick_8\">\r\n     <g id=\"line2d_15\">\r\n      <path clip-path=\"url(#pa0b9e63457)\" d=\"M 338.82405 241.277813 \r\nL 338.82405 23.837812 \r\n\" style=\"fill:none;stroke:#b0b0b0;stroke-linecap:square;stroke-width:0.8;\"/>\r\n     </g>\r\n     <g id=\"line2d_16\">\r\n      <g>\r\n       <use style=\"stroke:#000000;stroke-width:0.8;\" x=\"338.82405\" xlink:href=\"#md725e112c2\" y=\"241.277813\"/>\r\n      </g>\r\n     </g>\r\n     <g id=\"text_8\">\r\n      <!-- 35000 -->\r\n      <g transform=\"translate(319.73655 257.395938)scale(0.12 -0.12)\">\r\n       <use xlink:href=\"#DejaVuSans-33\"/>\r\n       <use x=\"63.623047\" xlink:href=\"#DejaVuSans-35\"/>\r\n       <use x=\"127.246094\" xlink:href=\"#DejaVuSans-30\"/>\r\n       <use x=\"190.869141\" xlink:href=\"#DejaVuSans-30\"/>\r\n       <use x=\"254.492188\" xlink:href=\"#DejaVuSans-30\"/>\r\n      </g>\r\n     </g>\r\n    </g>\r\n    <g id=\"xtick_9\">\r\n     <g id=\"line2d_17\">\r\n      <path clip-path=\"url(#pa0b9e63457)\" d=\"M 377.784183 241.277813 \r\nL 377.784183 23.837812 \r\n\" style=\"fill:none;stroke:#b0b0b0;stroke-linecap:square;stroke-width:0.8;\"/>\r\n     </g>\r\n     <g id=\"line2d_18\">\r\n      <g>\r\n       <use style=\"stroke:#000000;stroke-width:0.8;\" x=\"377.784183\" xlink:href=\"#md725e112c2\" y=\"241.277813\"/>\r\n      </g>\r\n     </g>\r\n     <g id=\"text_9\">\r\n      <!-- 40000 -->\r\n      <g transform=\"translate(358.696683 257.395938)scale(0.12 -0.12)\">\r\n       <defs>\r\n        <path d=\"M 2419 4116 \r\nL 825 1625 \r\nL 2419 1625 \r\nL 2419 4116 \r\nz\r\nM 2253 4666 \r\nL 3047 4666 \r\nL 3047 1625 \r\nL 3713 1625 \r\nL 3713 1100 \r\nL 3047 1100 \r\nL 3047 0 \r\nL 2419 0 \r\nL 2419 1100 \r\nL 313 1100 \r\nL 313 1709 \r\nL 2253 4666 \r\nz\r\n\" id=\"DejaVuSans-34\" transform=\"scale(0.015625)\"/>\r\n       </defs>\r\n       <use xlink:href=\"#DejaVuSans-34\"/>\r\n       <use x=\"63.623047\" xlink:href=\"#DejaVuSans-30\"/>\r\n       <use x=\"127.246094\" xlink:href=\"#DejaVuSans-30\"/>\r\n       <use x=\"190.869141\" xlink:href=\"#DejaVuSans-30\"/>\r\n       <use x=\"254.492188\" xlink:href=\"#DejaVuSans-30\"/>\r\n      </g>\r\n     </g>\r\n    </g>\r\n    <g id=\"text_10\">\r\n     <!-- Batch -->\r\n     <g transform=\"translate(213.381406 274.529375)scale(0.14 -0.14)\">\r\n      <defs>\r\n       <path d=\"M 1259 2228 \r\nL 1259 519 \r\nL 2272 519 \r\nQ 2781 519 3026 730 \r\nQ 3272 941 3272 1375 \r\nQ 3272 1813 3026 2020 \r\nQ 2781 2228 2272 2228 \r\nL 1259 2228 \r\nz\r\nM 1259 4147 \r\nL 1259 2741 \r\nL 2194 2741 \r\nQ 2656 2741 2882 2914 \r\nQ 3109 3088 3109 3444 \r\nQ 3109 3797 2882 3972 \r\nQ 2656 4147 2194 4147 \r\nL 1259 4147 \r\nz\r\nM 628 4666 \r\nL 2241 4666 \r\nQ 2963 4666 3353 4366 \r\nQ 3744 4066 3744 3513 \r\nQ 3744 3084 3544 2831 \r\nQ 3344 2578 2956 2516 \r\nQ 3422 2416 3680 2098 \r\nQ 3938 1781 3938 1306 \r\nQ 3938 681 3513 340 \r\nQ 3088 0 2303 0 \r\nL 628 0 \r\nL 628 4666 \r\nz\r\n\" id=\"DejaVuSans-42\" transform=\"scale(0.015625)\"/>\r\n       <path d=\"M 2194 1759 \r\nQ 1497 1759 1228 1600 \r\nQ 959 1441 959 1056 \r\nQ 959 750 1161 570 \r\nQ 1363 391 1709 391 \r\nQ 2188 391 2477 730 \r\nQ 2766 1069 2766 1631 \r\nL 2766 1759 \r\nL 2194 1759 \r\nz\r\nM 3341 1997 \r\nL 3341 0 \r\nL 2766 0 \r\nL 2766 531 \r\nQ 2569 213 2275 61 \r\nQ 1981 -91 1556 -91 \r\nQ 1019 -91 701 211 \r\nQ 384 513 384 1019 \r\nQ 384 1609 779 1909 \r\nQ 1175 2209 1959 2209 \r\nL 2766 2209 \r\nL 2766 2266 \r\nQ 2766 2663 2505 2880 \r\nQ 2244 3097 1772 3097 \r\nQ 1472 3097 1187 3025 \r\nQ 903 2953 641 2809 \r\nL 641 3341 \r\nQ 956 3463 1253 3523 \r\nQ 1550 3584 1831 3584 \r\nQ 2591 3584 2966 3190 \r\nQ 3341 2797 3341 1997 \r\nz\r\n\" id=\"DejaVuSans-61\" transform=\"scale(0.015625)\"/>\r\n       <path d=\"M 1172 4494 \r\nL 1172 3500 \r\nL 2356 3500 \r\nL 2356 3053 \r\nL 1172 3053 \r\nL 1172 1153 \r\nQ 1172 725 1289 603 \r\nQ 1406 481 1766 481 \r\nL 2356 481 \r\nL 2356 0 \r\nL 1766 0 \r\nQ 1100 0 847 248 \r\nQ 594 497 594 1153 \r\nL 594 3053 \r\nL 172 3053 \r\nL 172 3500 \r\nL 594 3500 \r\nL 594 4494 \r\nL 1172 4494 \r\nz\r\n\" id=\"DejaVuSans-74\" transform=\"scale(0.015625)\"/>\r\n       <path d=\"M 3122 3366 \r\nL 3122 2828 \r\nQ 2878 2963 2633 3030 \r\nQ 2388 3097 2138 3097 \r\nQ 1578 3097 1268 2742 \r\nQ 959 2388 959 1747 \r\nQ 959 1106 1268 751 \r\nQ 1578 397 2138 397 \r\nQ 2388 397 2633 464 \r\nQ 2878 531 3122 666 \r\nL 3122 134 \r\nQ 2881 22 2623 -34 \r\nQ 2366 -91 2075 -91 \r\nQ 1284 -91 818 406 \r\nQ 353 903 353 1747 \r\nQ 353 2603 823 3093 \r\nQ 1294 3584 2113 3584 \r\nQ 2378 3584 2631 3529 \r\nQ 2884 3475 3122 3366 \r\nz\r\n\" id=\"DejaVuSans-63\" transform=\"scale(0.015625)\"/>\r\n       <path d=\"M 3513 2113 \r\nL 3513 0 \r\nL 2938 0 \r\nL 2938 2094 \r\nQ 2938 2591 2744 2837 \r\nQ 2550 3084 2163 3084 \r\nQ 1697 3084 1428 2787 \r\nQ 1159 2491 1159 1978 \r\nL 1159 0 \r\nL 581 0 \r\nL 581 4863 \r\nL 1159 4863 \r\nL 1159 2956 \r\nQ 1366 3272 1645 3428 \r\nQ 1925 3584 2291 3584 \r\nQ 2894 3584 3203 3211 \r\nQ 3513 2838 3513 2113 \r\nz\r\n\" id=\"DejaVuSans-68\" transform=\"scale(0.015625)\"/>\r\n      </defs>\r\n      <use xlink:href=\"#DejaVuSans-42\"/>\r\n      <use x=\"68.603516\" xlink:href=\"#DejaVuSans-61\"/>\r\n      <use x=\"129.882812\" xlink:href=\"#DejaVuSans-74\"/>\r\n      <use x=\"169.091797\" xlink:href=\"#DejaVuSans-63\"/>\r\n      <use x=\"224.072266\" xlink:href=\"#DejaVuSans-68\"/>\r\n     </g>\r\n    </g>\r\n   </g>\r\n   <g id=\"matplotlib.axis_2\">\r\n    <g id=\"ytick_1\">\r\n     <g id=\"line2d_19\">\r\n      <path clip-path=\"url(#pa0b9e63457)\" d=\"M 66.103125 241.277813 \r\nL 400.903125 241.277813 \r\n\" style=\"fill:none;stroke:#b0b0b0;stroke-linecap:square;stroke-width:0.8;\"/>\r\n     </g>\r\n     <g id=\"line2d_20\">\r\n      <defs>\r\n       <path d=\"M 0 0 \r\nL -3.5 0 \r\n\" id=\"m13e64e3db3\" style=\"stroke:#000000;stroke-width:0.8;\"/>\r\n      </defs>\r\n      <g>\r\n       <use style=\"stroke:#000000;stroke-width:0.8;\" x=\"66.103125\" xlink:href=\"#m13e64e3db3\" y=\"241.277813\"/>\r\n      </g>\r\n     </g>\r\n     <g id=\"text_11\">\r\n      <!-- 0.000 -->\r\n      <g transform=\"translate(24.749375 245.836875)scale(0.12 -0.12)\">\r\n       <defs>\r\n        <path d=\"M 684 794 \r\nL 1344 794 \r\nL 1344 0 \r\nL 684 0 \r\nL 684 794 \r\nz\r\n\" id=\"DejaVuSans-2e\" transform=\"scale(0.015625)\"/>\r\n       </defs>\r\n       <use xlink:href=\"#DejaVuSans-30\"/>\r\n       <use x=\"63.623047\" xlink:href=\"#DejaVuSans-2e\"/>\r\n       <use x=\"95.410156\" xlink:href=\"#DejaVuSans-30\"/>\r\n       <use x=\"159.033203\" xlink:href=\"#DejaVuSans-30\"/>\r\n       <use x=\"222.65625\" xlink:href=\"#DejaVuSans-30\"/>\r\n      </g>\r\n     </g>\r\n    </g>\r\n    <g id=\"ytick_2\">\r\n     <g id=\"line2d_21\">\r\n      <path clip-path=\"url(#pa0b9e63457)\" d=\"M 66.103125 201.743267 \r\nL 400.903125 201.743267 \r\n\" style=\"fill:none;stroke:#b0b0b0;stroke-linecap:square;stroke-width:0.8;\"/>\r\n     </g>\r\n     <g id=\"line2d_22\">\r\n      <g>\r\n       <use style=\"stroke:#000000;stroke-width:0.8;\" x=\"66.103125\" xlink:href=\"#m13e64e3db3\" y=\"201.743267\"/>\r\n      </g>\r\n     </g>\r\n     <g id=\"text_12\">\r\n      <!-- 0.002 -->\r\n      <g transform=\"translate(24.749375 206.30233)scale(0.12 -0.12)\">\r\n       <use xlink:href=\"#DejaVuSans-30\"/>\r\n       <use x=\"63.623047\" xlink:href=\"#DejaVuSans-2e\"/>\r\n       <use x=\"95.410156\" xlink:href=\"#DejaVuSans-30\"/>\r\n       <use x=\"159.033203\" xlink:href=\"#DejaVuSans-30\"/>\r\n       <use x=\"222.65625\" xlink:href=\"#DejaVuSans-32\"/>\r\n      </g>\r\n     </g>\r\n    </g>\r\n    <g id=\"ytick_3\">\r\n     <g id=\"line2d_23\">\r\n      <path clip-path=\"url(#pa0b9e63457)\" d=\"M 66.103125 162.208722 \r\nL 400.903125 162.208722 \r\n\" style=\"fill:none;stroke:#b0b0b0;stroke-linecap:square;stroke-width:0.8;\"/>\r\n     </g>\r\n     <g id=\"line2d_24\">\r\n      <g>\r\n       <use style=\"stroke:#000000;stroke-width:0.8;\" x=\"66.103125\" xlink:href=\"#m13e64e3db3\" y=\"162.208722\"/>\r\n      </g>\r\n     </g>\r\n     <g id=\"text_13\">\r\n      <!-- 0.004 -->\r\n      <g transform=\"translate(24.749375 166.767784)scale(0.12 -0.12)\">\r\n       <use xlink:href=\"#DejaVuSans-30\"/>\r\n       <use x=\"63.623047\" xlink:href=\"#DejaVuSans-2e\"/>\r\n       <use x=\"95.410156\" xlink:href=\"#DejaVuSans-30\"/>\r\n       <use x=\"159.033203\" xlink:href=\"#DejaVuSans-30\"/>\r\n       <use x=\"222.65625\" xlink:href=\"#DejaVuSans-34\"/>\r\n      </g>\r\n     </g>\r\n    </g>\r\n    <g id=\"ytick_4\">\r\n     <g id=\"line2d_25\">\r\n      <path clip-path=\"url(#pa0b9e63457)\" d=\"M 66.103125 122.674176 \r\nL 400.903125 122.674176 \r\n\" style=\"fill:none;stroke:#b0b0b0;stroke-linecap:square;stroke-width:0.8;\"/>\r\n     </g>\r\n     <g id=\"line2d_26\">\r\n      <g>\r\n       <use style=\"stroke:#000000;stroke-width:0.8;\" x=\"66.103125\" xlink:href=\"#m13e64e3db3\" y=\"122.674176\"/>\r\n      </g>\r\n     </g>\r\n     <g id=\"text_14\">\r\n      <!-- 0.006 -->\r\n      <g transform=\"translate(24.749375 127.233239)scale(0.12 -0.12)\">\r\n       <defs>\r\n        <path d=\"M 2113 2584 \r\nQ 1688 2584 1439 2293 \r\nQ 1191 2003 1191 1497 \r\nQ 1191 994 1439 701 \r\nQ 1688 409 2113 409 \r\nQ 2538 409 2786 701 \r\nQ 3034 994 3034 1497 \r\nQ 3034 2003 2786 2293 \r\nQ 2538 2584 2113 2584 \r\nz\r\nM 3366 4563 \r\nL 3366 3988 \r\nQ 3128 4100 2886 4159 \r\nQ 2644 4219 2406 4219 \r\nQ 1781 4219 1451 3797 \r\nQ 1122 3375 1075 2522 \r\nQ 1259 2794 1537 2939 \r\nQ 1816 3084 2150 3084 \r\nQ 2853 3084 3261 2657 \r\nQ 3669 2231 3669 1497 \r\nQ 3669 778 3244 343 \r\nQ 2819 -91 2113 -91 \r\nQ 1303 -91 875 529 \r\nQ 447 1150 447 2328 \r\nQ 447 3434 972 4092 \r\nQ 1497 4750 2381 4750 \r\nQ 2619 4750 2861 4703 \r\nQ 3103 4656 3366 4563 \r\nz\r\n\" id=\"DejaVuSans-36\" transform=\"scale(0.015625)\"/>\r\n       </defs>\r\n       <use xlink:href=\"#DejaVuSans-30\"/>\r\n       <use x=\"63.623047\" xlink:href=\"#DejaVuSans-2e\"/>\r\n       <use x=\"95.410156\" xlink:href=\"#DejaVuSans-30\"/>\r\n       <use x=\"159.033203\" xlink:href=\"#DejaVuSans-30\"/>\r\n       <use x=\"222.65625\" xlink:href=\"#DejaVuSans-36\"/>\r\n      </g>\r\n     </g>\r\n    </g>\r\n    <g id=\"ytick_5\">\r\n     <g id=\"line2d_27\">\r\n      <path clip-path=\"url(#pa0b9e63457)\" d=\"M 66.103125 83.139631 \r\nL 400.903125 83.139631 \r\n\" style=\"fill:none;stroke:#b0b0b0;stroke-linecap:square;stroke-width:0.8;\"/>\r\n     </g>\r\n     <g id=\"line2d_28\">\r\n      <g>\r\n       <use style=\"stroke:#000000;stroke-width:0.8;\" x=\"66.103125\" xlink:href=\"#m13e64e3db3\" y=\"83.139631\"/>\r\n      </g>\r\n     </g>\r\n     <g id=\"text_15\">\r\n      <!-- 0.008 -->\r\n      <g transform=\"translate(24.749375 87.698693)scale(0.12 -0.12)\">\r\n       <defs>\r\n        <path d=\"M 2034 2216 \r\nQ 1584 2216 1326 1975 \r\nQ 1069 1734 1069 1313 \r\nQ 1069 891 1326 650 \r\nQ 1584 409 2034 409 \r\nQ 2484 409 2743 651 \r\nQ 3003 894 3003 1313 \r\nQ 3003 1734 2745 1975 \r\nQ 2488 2216 2034 2216 \r\nz\r\nM 1403 2484 \r\nQ 997 2584 770 2862 \r\nQ 544 3141 544 3541 \r\nQ 544 4100 942 4425 \r\nQ 1341 4750 2034 4750 \r\nQ 2731 4750 3128 4425 \r\nQ 3525 4100 3525 3541 \r\nQ 3525 3141 3298 2862 \r\nQ 3072 2584 2669 2484 \r\nQ 3125 2378 3379 2068 \r\nQ 3634 1759 3634 1313 \r\nQ 3634 634 3220 271 \r\nQ 2806 -91 2034 -91 \r\nQ 1263 -91 848 271 \r\nQ 434 634 434 1313 \r\nQ 434 1759 690 2068 \r\nQ 947 2378 1403 2484 \r\nz\r\nM 1172 3481 \r\nQ 1172 3119 1398 2916 \r\nQ 1625 2713 2034 2713 \r\nQ 2441 2713 2670 2916 \r\nQ 2900 3119 2900 3481 \r\nQ 2900 3844 2670 4047 \r\nQ 2441 4250 2034 4250 \r\nQ 1625 4250 1398 4047 \r\nQ 1172 3844 1172 3481 \r\nz\r\n\" id=\"DejaVuSans-38\" transform=\"scale(0.015625)\"/>\r\n       </defs>\r\n       <use xlink:href=\"#DejaVuSans-30\"/>\r\n       <use x=\"63.623047\" xlink:href=\"#DejaVuSans-2e\"/>\r\n       <use x=\"95.410156\" xlink:href=\"#DejaVuSans-30\"/>\r\n       <use x=\"159.033203\" xlink:href=\"#DejaVuSans-30\"/>\r\n       <use x=\"222.65625\" xlink:href=\"#DejaVuSans-38\"/>\r\n      </g>\r\n     </g>\r\n    </g>\r\n    <g id=\"ytick_6\">\r\n     <g id=\"line2d_29\">\r\n      <path clip-path=\"url(#pa0b9e63457)\" d=\"M 66.103125 43.605085 \r\nL 400.903125 43.605085 \r\n\" style=\"fill:none;stroke:#b0b0b0;stroke-linecap:square;stroke-width:0.8;\"/>\r\n     </g>\r\n     <g id=\"line2d_30\">\r\n      <g>\r\n       <use style=\"stroke:#000000;stroke-width:0.8;\" x=\"66.103125\" xlink:href=\"#m13e64e3db3\" y=\"43.605085\"/>\r\n      </g>\r\n     </g>\r\n     <g id=\"text_16\">\r\n      <!-- 0.010 -->\r\n      <g transform=\"translate(24.749375 48.164148)scale(0.12 -0.12)\">\r\n       <use xlink:href=\"#DejaVuSans-30\"/>\r\n       <use x=\"63.623047\" xlink:href=\"#DejaVuSans-2e\"/>\r\n       <use x=\"95.410156\" xlink:href=\"#DejaVuSans-30\"/>\r\n       <use x=\"159.033203\" xlink:href=\"#DejaVuSans-31\"/>\r\n       <use x=\"222.65625\" xlink:href=\"#DejaVuSans-30\"/>\r\n      </g>\r\n     </g>\r\n    </g>\r\n    <g id=\"text_17\">\r\n     <!-- Learning Rate -->\r\n     <g transform=\"translate(17.837813 181.220937)rotate(-90)scale(0.14 -0.14)\">\r\n      <defs>\r\n       <path d=\"M 628 4666 \r\nL 1259 4666 \r\nL 1259 531 \r\nL 3531 531 \r\nL 3531 0 \r\nL 628 0 \r\nL 628 4666 \r\nz\r\n\" id=\"DejaVuSans-4c\" transform=\"scale(0.015625)\"/>\r\n       <path d=\"M 3597 1894 \r\nL 3597 1613 \r\nL 953 1613 \r\nQ 991 1019 1311 708 \r\nQ 1631 397 2203 397 \r\nQ 2534 397 2845 478 \r\nQ 3156 559 3463 722 \r\nL 3463 178 \r\nQ 3153 47 2828 -22 \r\nQ 2503 -91 2169 -91 \r\nQ 1331 -91 842 396 \r\nQ 353 884 353 1716 \r\nQ 353 2575 817 3079 \r\nQ 1281 3584 2069 3584 \r\nQ 2775 3584 3186 3129 \r\nQ 3597 2675 3597 1894 \r\nz\r\nM 3022 2063 \r\nQ 3016 2534 2758 2815 \r\nQ 2500 3097 2075 3097 \r\nQ 1594 3097 1305 2825 \r\nQ 1016 2553 972 2059 \r\nL 3022 2063 \r\nz\r\n\" id=\"DejaVuSans-65\" transform=\"scale(0.015625)\"/>\r\n       <path d=\"M 2631 2963 \r\nQ 2534 3019 2420 3045 \r\nQ 2306 3072 2169 3072 \r\nQ 1681 3072 1420 2755 \r\nQ 1159 2438 1159 1844 \r\nL 1159 0 \r\nL 581 0 \r\nL 581 3500 \r\nL 1159 3500 \r\nL 1159 2956 \r\nQ 1341 3275 1631 3429 \r\nQ 1922 3584 2338 3584 \r\nQ 2397 3584 2469 3576 \r\nQ 2541 3569 2628 3553 \r\nL 2631 2963 \r\nz\r\n\" id=\"DejaVuSans-72\" transform=\"scale(0.015625)\"/>\r\n       <path d=\"M 3513 2113 \r\nL 3513 0 \r\nL 2938 0 \r\nL 2938 2094 \r\nQ 2938 2591 2744 2837 \r\nQ 2550 3084 2163 3084 \r\nQ 1697 3084 1428 2787 \r\nQ 1159 2491 1159 1978 \r\nL 1159 0 \r\nL 581 0 \r\nL 581 3500 \r\nL 1159 3500 \r\nL 1159 2956 \r\nQ 1366 3272 1645 3428 \r\nQ 1925 3584 2291 3584 \r\nQ 2894 3584 3203 3211 \r\nQ 3513 2838 3513 2113 \r\nz\r\n\" id=\"DejaVuSans-6e\" transform=\"scale(0.015625)\"/>\r\n       <path d=\"M 603 3500 \r\nL 1178 3500 \r\nL 1178 0 \r\nL 603 0 \r\nL 603 3500 \r\nz\r\nM 603 4863 \r\nL 1178 4863 \r\nL 1178 4134 \r\nL 603 4134 \r\nL 603 4863 \r\nz\r\n\" id=\"DejaVuSans-69\" transform=\"scale(0.015625)\"/>\r\n       <path d=\"M 2906 1791 \r\nQ 2906 2416 2648 2759 \r\nQ 2391 3103 1925 3103 \r\nQ 1463 3103 1205 2759 \r\nQ 947 2416 947 1791 \r\nQ 947 1169 1205 825 \r\nQ 1463 481 1925 481 \r\nQ 2391 481 2648 825 \r\nQ 2906 1169 2906 1791 \r\nz\r\nM 3481 434 \r\nQ 3481 -459 3084 -895 \r\nQ 2688 -1331 1869 -1331 \r\nQ 1566 -1331 1297 -1286 \r\nQ 1028 -1241 775 -1147 \r\nL 775 -588 \r\nQ 1028 -725 1275 -790 \r\nQ 1522 -856 1778 -856 \r\nQ 2344 -856 2625 -561 \r\nQ 2906 -266 2906 331 \r\nL 2906 616 \r\nQ 2728 306 2450 153 \r\nQ 2172 0 1784 0 \r\nQ 1141 0 747 490 \r\nQ 353 981 353 1791 \r\nQ 353 2603 747 3093 \r\nQ 1141 3584 1784 3584 \r\nQ 2172 3584 2450 3431 \r\nQ 2728 3278 2906 2969 \r\nL 2906 3500 \r\nL 3481 3500 \r\nL 3481 434 \r\nz\r\n\" id=\"DejaVuSans-67\" transform=\"scale(0.015625)\"/>\r\n       <path id=\"DejaVuSans-20\" transform=\"scale(0.015625)\"/>\r\n       <path d=\"M 2841 2188 \r\nQ 3044 2119 3236 1894 \r\nQ 3428 1669 3622 1275 \r\nL 4263 0 \r\nL 3584 0 \r\nL 2988 1197 \r\nQ 2756 1666 2539 1819 \r\nQ 2322 1972 1947 1972 \r\nL 1259 1972 \r\nL 1259 0 \r\nL 628 0 \r\nL 628 4666 \r\nL 2053 4666 \r\nQ 2853 4666 3247 4331 \r\nQ 3641 3997 3641 3322 \r\nQ 3641 2881 3436 2590 \r\nQ 3231 2300 2841 2188 \r\nz\r\nM 1259 4147 \r\nL 1259 2491 \r\nL 2053 2491 \r\nQ 2509 2491 2742 2702 \r\nQ 2975 2913 2975 3322 \r\nQ 2975 3731 2742 3939 \r\nQ 2509 4147 2053 4147 \r\nL 1259 4147 \r\nz\r\n\" id=\"DejaVuSans-52\" transform=\"scale(0.015625)\"/>\r\n      </defs>\r\n      <use xlink:href=\"#DejaVuSans-4c\"/>\r\n      <use x=\"53.962891\" xlink:href=\"#DejaVuSans-65\"/>\r\n      <use x=\"115.486328\" xlink:href=\"#DejaVuSans-61\"/>\r\n      <use x=\"176.765625\" xlink:href=\"#DejaVuSans-72\"/>\r\n      <use x=\"216.128906\" xlink:href=\"#DejaVuSans-6e\"/>\r\n      <use x=\"279.507812\" xlink:href=\"#DejaVuSans-69\"/>\r\n      <use x=\"307.291016\" xlink:href=\"#DejaVuSans-6e\"/>\r\n      <use x=\"370.669922\" xlink:href=\"#DejaVuSans-67\"/>\r\n      <use x=\"434.146484\" xlink:href=\"#DejaVuSans-20\"/>\r\n      <use x=\"465.933594\" xlink:href=\"#DejaVuSans-52\"/>\r\n      <use x=\"533.166016\" xlink:href=\"#DejaVuSans-61\"/>\r\n      <use x=\"594.445312\" xlink:href=\"#DejaVuSans-74\"/>\r\n      <use x=\"633.654297\" xlink:href=\"#DejaVuSans-65\"/>\r\n     </g>\r\n    </g>\r\n   </g>\r\n   <g id=\"line2d_31\">\r\n    <path clip-path=\"url(#pa0b9e63457)\" d=\"M 66.103125 43.605085 \r\nL 71.61988 52.760869 \r\nL 77.175595 61.552779 \r\nL 82.77027 69.992036 \r\nL 88.403905 78.08968 \r\nL 94.084292 85.866975 \r\nL 99.811431 93.333089 \r\nL 105.593115 100.506543 \r\nL 111.429343 107.394966 \r\nL 117.327907 114.014531 \r\nL 123.296599 120.379711 \r\nL 129.33542 126.495749 \r\nL 135.45216 132.375359 \r\nL 141.654613 138.029895 \r\nL 147.950571 143.469482 \r\nL 154.347824 148.703135 \r\nL 160.854166 153.738869 \r\nL 167.469597 158.578268 \r\nL 174.2097 163.233819 \r\nL 181.090059 167.716036 \r\nL 188.118467 172.029019 \r\nL 195.302715 176.176403 \r\nL 202.658388 180.16552 \r\nL 210.193278 183.998518 \r\nL 217.93076 187.684526 \r\nL 225.878627 191.223942 \r\nL 234.060255 194.623455 \r\nL 242.491227 197.885195 \r\nL 251.202713 201.016103 \r\nL 260.210296 204.016074 \r\nL 269.537351 206.88709 \r\nL 279.215048 209.632427 \r\nL 289.282346 212.255973 \r\nL 299.770414 214.758115 \r\nL 310.726003 217.141732 \r\nL 322.188074 219.406541 \r\nL 334.218963 221.555508 \r\nL 346.881006 223.58956 \r\nL 360.244331 225.50918 \r\nL 374.394651 227.315256 \r\nL 389.441054 229.009343 \r\nL 400.903125 230.160555 \r\nL 400.903125 230.160555 \r\n\" style=\"fill:none;stroke:#1f77b4;stroke-linecap:square;stroke-width:2;\"/>\r\n   </g>\r\n   <g id=\"patch_3\">\r\n    <path d=\"M 66.103125 241.277813 \r\nL 66.103125 23.837812 \r\n\" style=\"fill:none;stroke:#000000;stroke-linecap:square;stroke-linejoin:miter;stroke-width:0.8;\"/>\r\n   </g>\r\n   <g id=\"patch_4\">\r\n    <path d=\"M 400.903125 241.277813 \r\nL 400.903125 23.837812 \r\n\" style=\"fill:none;stroke:#000000;stroke-linecap:square;stroke-linejoin:miter;stroke-width:0.8;\"/>\r\n   </g>\r\n   <g id=\"patch_5\">\r\n    <path d=\"M 66.103125 241.277813 \r\nL 400.903125 241.277813 \r\n\" style=\"fill:none;stroke:#000000;stroke-linecap:square;stroke-linejoin:miter;stroke-width:0.8;\"/>\r\n   </g>\r\n   <g id=\"patch_6\">\r\n    <path d=\"M 66.103125 23.837812 \r\nL 400.903125 23.837812 \r\n\" style=\"fill:none;stroke:#000000;stroke-linecap:square;stroke-linejoin:miter;stroke-width:0.8;\"/>\r\n   </g>\r\n   <g id=\"text_18\">\r\n    <!-- Exponential Scheduling (per batch) -->\r\n    <g transform=\"translate(109.892969 17.837812)scale(0.14 -0.14)\">\r\n     <defs>\r\n      <path d=\"M 628 4666 \r\nL 3578 4666 \r\nL 3578 4134 \r\nL 1259 4134 \r\nL 1259 2753 \r\nL 3481 2753 \r\nL 3481 2222 \r\nL 1259 2222 \r\nL 1259 531 \r\nL 3634 531 \r\nL 3634 0 \r\nL 628 0 \r\nL 628 4666 \r\nz\r\n\" id=\"DejaVuSans-45\" transform=\"scale(0.015625)\"/>\r\n      <path d=\"M 3513 3500 \r\nL 2247 1797 \r\nL 3578 0 \r\nL 2900 0 \r\nL 1881 1375 \r\nL 863 0 \r\nL 184 0 \r\nL 1544 1831 \r\nL 300 3500 \r\nL 978 3500 \r\nL 1906 2253 \r\nL 2834 3500 \r\nL 3513 3500 \r\nz\r\n\" id=\"DejaVuSans-78\" transform=\"scale(0.015625)\"/>\r\n      <path d=\"M 1159 525 \r\nL 1159 -1331 \r\nL 581 -1331 \r\nL 581 3500 \r\nL 1159 3500 \r\nL 1159 2969 \r\nQ 1341 3281 1617 3432 \r\nQ 1894 3584 2278 3584 \r\nQ 2916 3584 3314 3078 \r\nQ 3713 2572 3713 1747 \r\nQ 3713 922 3314 415 \r\nQ 2916 -91 2278 -91 \r\nQ 1894 -91 1617 61 \r\nQ 1341 213 1159 525 \r\nz\r\nM 3116 1747 \r\nQ 3116 2381 2855 2742 \r\nQ 2594 3103 2138 3103 \r\nQ 1681 3103 1420 2742 \r\nQ 1159 2381 1159 1747 \r\nQ 1159 1113 1420 752 \r\nQ 1681 391 2138 391 \r\nQ 2594 391 2855 752 \r\nQ 3116 1113 3116 1747 \r\nz\r\n\" id=\"DejaVuSans-70\" transform=\"scale(0.015625)\"/>\r\n      <path d=\"M 1959 3097 \r\nQ 1497 3097 1228 2736 \r\nQ 959 2375 959 1747 \r\nQ 959 1119 1226 758 \r\nQ 1494 397 1959 397 \r\nQ 2419 397 2687 759 \r\nQ 2956 1122 2956 1747 \r\nQ 2956 2369 2687 2733 \r\nQ 2419 3097 1959 3097 \r\nz\r\nM 1959 3584 \r\nQ 2709 3584 3137 3096 \r\nQ 3566 2609 3566 1747 \r\nQ 3566 888 3137 398 \r\nQ 2709 -91 1959 -91 \r\nQ 1206 -91 779 398 \r\nQ 353 888 353 1747 \r\nQ 353 2609 779 3096 \r\nQ 1206 3584 1959 3584 \r\nz\r\n\" id=\"DejaVuSans-6f\" transform=\"scale(0.015625)\"/>\r\n      <path d=\"M 603 4863 \r\nL 1178 4863 \r\nL 1178 0 \r\nL 603 0 \r\nL 603 4863 \r\nz\r\n\" id=\"DejaVuSans-6c\" transform=\"scale(0.015625)\"/>\r\n      <path d=\"M 3425 4513 \r\nL 3425 3897 \r\nQ 3066 4069 2747 4153 \r\nQ 2428 4238 2131 4238 \r\nQ 1616 4238 1336 4038 \r\nQ 1056 3838 1056 3469 \r\nQ 1056 3159 1242 3001 \r\nQ 1428 2844 1947 2747 \r\nL 2328 2669 \r\nQ 3034 2534 3370 2195 \r\nQ 3706 1856 3706 1288 \r\nQ 3706 609 3251 259 \r\nQ 2797 -91 1919 -91 \r\nQ 1588 -91 1214 -16 \r\nQ 841 59 441 206 \r\nL 441 856 \r\nQ 825 641 1194 531 \r\nQ 1563 422 1919 422 \r\nQ 2459 422 2753 634 \r\nQ 3047 847 3047 1241 \r\nQ 3047 1584 2836 1778 \r\nQ 2625 1972 2144 2069 \r\nL 1759 2144 \r\nQ 1053 2284 737 2584 \r\nQ 422 2884 422 3419 \r\nQ 422 4038 858 4394 \r\nQ 1294 4750 2059 4750 \r\nQ 2388 4750 2728 4690 \r\nQ 3069 4631 3425 4513 \r\nz\r\n\" id=\"DejaVuSans-53\" transform=\"scale(0.015625)\"/>\r\n      <path d=\"M 2906 2969 \r\nL 2906 4863 \r\nL 3481 4863 \r\nL 3481 0 \r\nL 2906 0 \r\nL 2906 525 \r\nQ 2725 213 2448 61 \r\nQ 2172 -91 1784 -91 \r\nQ 1150 -91 751 415 \r\nQ 353 922 353 1747 \r\nQ 353 2572 751 3078 \r\nQ 1150 3584 1784 3584 \r\nQ 2172 3584 2448 3432 \r\nQ 2725 3281 2906 2969 \r\nz\r\nM 947 1747 \r\nQ 947 1113 1208 752 \r\nQ 1469 391 1925 391 \r\nQ 2381 391 2643 752 \r\nQ 2906 1113 2906 1747 \r\nQ 2906 2381 2643 2742 \r\nQ 2381 3103 1925 3103 \r\nQ 1469 3103 1208 2742 \r\nQ 947 2381 947 1747 \r\nz\r\n\" id=\"DejaVuSans-64\" transform=\"scale(0.015625)\"/>\r\n      <path d=\"M 544 1381 \r\nL 544 3500 \r\nL 1119 3500 \r\nL 1119 1403 \r\nQ 1119 906 1312 657 \r\nQ 1506 409 1894 409 \r\nQ 2359 409 2629 706 \r\nQ 2900 1003 2900 1516 \r\nL 2900 3500 \r\nL 3475 3500 \r\nL 3475 0 \r\nL 2900 0 \r\nL 2900 538 \r\nQ 2691 219 2414 64 \r\nQ 2138 -91 1772 -91 \r\nQ 1169 -91 856 284 \r\nQ 544 659 544 1381 \r\nz\r\nM 1991 3584 \r\nL 1991 3584 \r\nz\r\n\" id=\"DejaVuSans-75\" transform=\"scale(0.015625)\"/>\r\n      <path d=\"M 1984 4856 \r\nQ 1566 4138 1362 3434 \r\nQ 1159 2731 1159 2009 \r\nQ 1159 1288 1364 580 \r\nQ 1569 -128 1984 -844 \r\nL 1484 -844 \r\nQ 1016 -109 783 600 \r\nQ 550 1309 550 2009 \r\nQ 550 2706 781 3412 \r\nQ 1013 4119 1484 4856 \r\nL 1984 4856 \r\nz\r\n\" id=\"DejaVuSans-28\" transform=\"scale(0.015625)\"/>\r\n      <path d=\"M 3116 1747 \r\nQ 3116 2381 2855 2742 \r\nQ 2594 3103 2138 3103 \r\nQ 1681 3103 1420 2742 \r\nQ 1159 2381 1159 1747 \r\nQ 1159 1113 1420 752 \r\nQ 1681 391 2138 391 \r\nQ 2594 391 2855 752 \r\nQ 3116 1113 3116 1747 \r\nz\r\nM 1159 2969 \r\nQ 1341 3281 1617 3432 \r\nQ 1894 3584 2278 3584 \r\nQ 2916 3584 3314 3078 \r\nQ 3713 2572 3713 1747 \r\nQ 3713 922 3314 415 \r\nQ 2916 -91 2278 -91 \r\nQ 1894 -91 1617 61 \r\nQ 1341 213 1159 525 \r\nL 1159 0 \r\nL 581 0 \r\nL 581 4863 \r\nL 1159 4863 \r\nL 1159 2969 \r\nz\r\n\" id=\"DejaVuSans-62\" transform=\"scale(0.015625)\"/>\r\n      <path d=\"M 513 4856 \r\nL 1013 4856 \r\nQ 1481 4119 1714 3412 \r\nQ 1947 2706 1947 2009 \r\nQ 1947 1309 1714 600 \r\nQ 1481 -109 1013 -844 \r\nL 513 -844 \r\nQ 928 -128 1133 580 \r\nQ 1338 1288 1338 2009 \r\nQ 1338 2731 1133 3434 \r\nQ 928 4138 513 4856 \r\nz\r\n\" id=\"DejaVuSans-29\" transform=\"scale(0.015625)\"/>\r\n     </defs>\r\n     <use xlink:href=\"#DejaVuSans-45\"/>\r\n     <use x=\"63.183594\" xlink:href=\"#DejaVuSans-78\"/>\r\n     <use x=\"122.363281\" xlink:href=\"#DejaVuSans-70\"/>\r\n     <use x=\"185.839844\" xlink:href=\"#DejaVuSans-6f\"/>\r\n     <use x=\"247.021484\" xlink:href=\"#DejaVuSans-6e\"/>\r\n     <use x=\"310.400391\" xlink:href=\"#DejaVuSans-65\"/>\r\n     <use x=\"371.923828\" xlink:href=\"#DejaVuSans-6e\"/>\r\n     <use x=\"435.302734\" xlink:href=\"#DejaVuSans-74\"/>\r\n     <use x=\"474.511719\" xlink:href=\"#DejaVuSans-69\"/>\r\n     <use x=\"502.294922\" xlink:href=\"#DejaVuSans-61\"/>\r\n     <use x=\"563.574219\" xlink:href=\"#DejaVuSans-6c\"/>\r\n     <use x=\"591.357422\" xlink:href=\"#DejaVuSans-20\"/>\r\n     <use x=\"623.144531\" xlink:href=\"#DejaVuSans-53\"/>\r\n     <use x=\"686.621094\" xlink:href=\"#DejaVuSans-63\"/>\r\n     <use x=\"741.601562\" xlink:href=\"#DejaVuSans-68\"/>\r\n     <use x=\"804.980469\" xlink:href=\"#DejaVuSans-65\"/>\r\n     <use x=\"866.503906\" xlink:href=\"#DejaVuSans-64\"/>\r\n     <use x=\"929.980469\" xlink:href=\"#DejaVuSans-75\"/>\r\n     <use x=\"993.359375\" xlink:href=\"#DejaVuSans-6c\"/>\r\n     <use x=\"1021.142578\" xlink:href=\"#DejaVuSans-69\"/>\r\n     <use x=\"1048.925781\" xlink:href=\"#DejaVuSans-6e\"/>\r\n     <use x=\"1112.304688\" xlink:href=\"#DejaVuSans-67\"/>\r\n     <use x=\"1175.78125\" xlink:href=\"#DejaVuSans-20\"/>\r\n     <use x=\"1207.568359\" xlink:href=\"#DejaVuSans-28\"/>\r\n     <use x=\"1246.582031\" xlink:href=\"#DejaVuSans-70\"/>\r\n     <use x=\"1310.058594\" xlink:href=\"#DejaVuSans-65\"/>\r\n     <use x=\"1371.582031\" xlink:href=\"#DejaVuSans-72\"/>\r\n     <use x=\"1412.695312\" xlink:href=\"#DejaVuSans-20\"/>\r\n     <use x=\"1444.482422\" xlink:href=\"#DejaVuSans-62\"/>\r\n     <use x=\"1507.958984\" xlink:href=\"#DejaVuSans-61\"/>\r\n     <use x=\"1569.238281\" xlink:href=\"#DejaVuSans-74\"/>\r\n     <use x=\"1608.447266\" xlink:href=\"#DejaVuSans-63\"/>\r\n     <use x=\"1663.427734\" xlink:href=\"#DejaVuSans-68\"/>\r\n     <use x=\"1726.806641\" xlink:href=\"#DejaVuSans-29\"/>\r\n    </g>\r\n   </g>\r\n  </g>\r\n </g>\r\n <defs>\r\n  <clipPath id=\"pa0b9e63457\">\r\n   <rect height=\"217.44\" width=\"334.8\" x=\"66.103125\" y=\"23.837812\"/>\r\n  </clipPath>\r\n </defs>\r\n</svg>\r\n",
      "image/png": "[encoded data removed]"
     },
     "metadata": {
      "needs_background": "light"
     }
    }
   ],
   "metadata": {}
  },
  {
   "cell_type": "markdown",
   "source": [
    "* 구간별 고정 스케줄링"
   ],
   "metadata": {}
  },
  {
   "cell_type": "code",
   "execution_count": 106,
   "source": [
    "#구간별 고정 스케줄링\r\n",
    "def piecewise_constant_fn(epoch):\r\n",
    "    if epoch < 5:\r\n",
    "        return 0.01\r\n",
    "    elif epoch < 15:\r\n",
    "        return 0.005\r\n",
    "    else:\r\n",
    "        return 0.001"
   ],
   "outputs": [],
   "metadata": {}
  },
  {
   "cell_type": "code",
   "execution_count": 107,
   "source": [
    "def piecewise_constant(boundaries, values):\r\n",
    "    boundaries = np.array([0] + boundaries)\r\n",
    "    values = np.array(values)\r\n",
    "    def piecewise_constant_fn(epoch):\r\n",
    "        return values[np.argmax(boundaries > epoch) - 1]\r\n",
    "    return piecewise_constant_fn\r\n",
    "\r\n",
    "piecewise_constant_fn = piecewise_constant([5, 15], [0.01, 0.005, 0.001])"
   ],
   "outputs": [],
   "metadata": {}
  },
  {
   "cell_type": "code",
   "execution_count": 108,
   "source": [
    "lr_scheduler = keras.callbacks.LearningRateScheduler(piecewise_constant_fn)\r\n",
    "\r\n",
    "model = keras.models.Sequential([\r\n",
    "    keras.layers.Flatten(input_shape=[28, 28]),\r\n",
    "    keras.layers.Dense(300, activation=\"selu\", kernel_initializer=\"lecun_normal\"),\r\n",
    "    keras.layers.Dense(100, activation=\"selu\", kernel_initializer=\"lecun_normal\"),\r\n",
    "    keras.layers.Dense(10, activation=\"softmax\")\r\n",
    "])\r\n",
    "model.compile(loss=\"sparse_categorical_crossentropy\", optimizer=\"nadam\", metrics=[\"accuracy\"])\r\n",
    "n_epochs = 25\r\n",
    "history = model.fit(X_train_scaled, y_train, epochs=n_epochs,\r\n",
    "                    validation_data=(X_valid_scaled, y_valid),\r\n",
    "                    callbacks=[lr_scheduler])"
   ],
   "outputs": [
    {
     "output_type": "stream",
     "name": "stdout",
     "text": [
      "Epoch 1/25\n",
      "1719/1719 [==============================] - 8s 4ms/step - loss: 0.8727 - accuracy: 0.7517 - val_loss: 0.9351 - val_accuracy: 0.7856\n",
      "Epoch 2/25\n",
      "1719/1719 [==============================] - 7s 4ms/step - loss: 0.9277 - accuracy: 0.7395 - val_loss: 0.9409 - val_accuracy: 0.7368\n",
      "Epoch 3/25\n",
      "1719/1719 [==============================] - 7s 4ms/step - loss: 0.8458 - accuracy: 0.7509 - val_loss: 1.6225 - val_accuracy: 0.6554\n",
      "Epoch 4/25\n",
      "1719/1719 [==============================] - 7s 4ms/step - loss: 0.8909 - accuracy: 0.7436 - val_loss: 1.1636 - val_accuracy: 0.6076\n",
      "Epoch 5/25\n",
      "1719/1719 [==============================] - 7s 4ms/step - loss: 1.0672 - accuracy: 0.6445 - val_loss: 1.2551 - val_accuracy: 0.6534\n",
      "Epoch 6/25\n",
      "1719/1719 [==============================] - 7s 4ms/step - loss: 0.7560 - accuracy: 0.7340 - val_loss: 0.7169 - val_accuracy: 0.7566\n",
      "Epoch 7/25\n",
      "1719/1719 [==============================] - 7s 4ms/step - loss: 0.6835 - accuracy: 0.7503 - val_loss: 0.7134 - val_accuracy: 0.7418\n",
      "Epoch 8/25\n",
      "1719/1719 [==============================] - 7s 4ms/step - loss: 0.5814 - accuracy: 0.8085 - val_loss: 0.7129 - val_accuracy: 0.8152\n",
      "Epoch 9/25\n",
      "1719/1719 [==============================] - 7s 4ms/step - loss: 0.5221 - accuracy: 0.8430 - val_loss: 0.6876 - val_accuracy: 0.8016\n",
      "Epoch 10/25\n",
      "1719/1719 [==============================] - 7s 4ms/step - loss: 0.5170 - accuracy: 0.8439 - val_loss: 0.6102 - val_accuracy: 0.8486\n",
      "Epoch 11/25\n",
      "1719/1719 [==============================] - 7s 4ms/step - loss: 0.4932 - accuracy: 0.8519 - val_loss: 0.6089 - val_accuracy: 0.8374\n",
      "Epoch 12/25\n",
      "1719/1719 [==============================] - 7s 4ms/step - loss: 0.4863 - accuracy: 0.8548 - val_loss: 0.6200 - val_accuracy: 0.8444\n",
      "Epoch 13/25\n",
      "1719/1719 [==============================] - 7s 4ms/step - loss: 0.4846 - accuracy: 0.8575 - val_loss: 1.0799 - val_accuracy: 0.8292\n",
      "Epoch 14/25\n",
      "1719/1719 [==============================] - 7s 4ms/step - loss: 0.5003 - accuracy: 0.8512 - val_loss: 0.7959 - val_accuracy: 0.8466\n",
      "Epoch 15/25\n",
      "1719/1719 [==============================] - 7s 4ms/step - loss: 0.4641 - accuracy: 0.8628 - val_loss: 0.7256 - val_accuracy: 0.8494\n",
      "Epoch 16/25\n",
      "1719/1719 [==============================] - 7s 4ms/step - loss: 0.3436 - accuracy: 0.8906 - val_loss: 0.5500 - val_accuracy: 0.8678\n",
      "Epoch 17/25\n",
      "1719/1719 [==============================] - 7s 4ms/step - loss: 0.3165 - accuracy: 0.8963 - val_loss: 0.5316 - val_accuracy: 0.8680\n",
      "Epoch 18/25\n",
      "1719/1719 [==============================] - 7s 4ms/step - loss: 0.3052 - accuracy: 0.9018 - val_loss: 0.4995 - val_accuracy: 0.8704\n",
      "Epoch 19/25\n",
      "1719/1719 [==============================] - 7s 4ms/step - loss: 0.2934 - accuracy: 0.9059 - val_loss: 0.5207 - val_accuracy: 0.8756\n",
      "Epoch 20/25\n",
      "1719/1719 [==============================] - 7s 4ms/step - loss: 0.2838 - accuracy: 0.9073 - val_loss: 0.5295 - val_accuracy: 0.8748\n",
      "Epoch 21/25\n",
      "1719/1719 [==============================] - 7s 4ms/step - loss: 0.2805 - accuracy: 0.9099 - val_loss: 0.5546 - val_accuracy: 0.8714\n",
      "Epoch 22/25\n",
      "1719/1719 [==============================] - 7s 4ms/step - loss: 0.2701 - accuracy: 0.9127 - val_loss: 0.5538 - val_accuracy: 0.8728\n",
      "Epoch 23/25\n",
      "1719/1719 [==============================] - 7s 4ms/step - loss: 0.2644 - accuracy: 0.9139 - val_loss: 0.5292 - val_accuracy: 0.8692\n",
      "Epoch 24/25\n",
      "1719/1719 [==============================] - 7s 4ms/step - loss: 0.2613 - accuracy: 0.9153 - val_loss: 0.5739 - val_accuracy: 0.8758\n",
      "Epoch 25/25\n",
      "1719/1719 [==============================] - 7s 4ms/step - loss: 0.2561 - accuracy: 0.9166 - val_loss: 0.5623 - val_accuracy: 0.8742\n"
     ]
    }
   ],
   "metadata": {}
  },
  {
   "cell_type": "code",
   "execution_count": 109,
   "source": [
    "plt.plot(history.epoch, [piecewise_constant_fn(epoch) for epoch in history.epoch], \"o-\")\r\n",
    "plt.axis([0, n_epochs - 1, 0, 0.011])\r\n",
    "plt.xlabel(\"Epoch\")\r\n",
    "plt.ylabel(\"Learning Rate\")\r\n",
    "plt.title(\"Piecewise Constant Scheduling\", fontsize=14)\r\n",
    "plt.grid(True)\r\n",
    "plt.show()"
   ],
   "outputs": [
    {
     "output_type": "display_data",
     "data": {
      "text/plain": [
       "<Figure size 432x288 with 1 Axes>"
      ],
      "image/svg+xml": "<?xml version=\"1.0\" encoding=\"utf-8\" standalone=\"no\"?>\r\n<!DOCTYPE svg PUBLIC \"-//W3C//DTD SVG 1.1//EN\"\r\n  \"http://www.w3.org/Graphics/SVG/1.1/DTD/svg11.dtd\">\r\n<svg height=\"284.640938pt\" version=\"1.1\" viewBox=\"0 0 408.103125 284.640938\" width=\"408.103125pt\" xmlns=\"http://www.w3.org/2000/svg\" xmlns:xlink=\"http://www.w3.org/1999/xlink\">\r\n <metadata>\r\n  <rdf:RDF xmlns:cc=\"http://creativecommons.org/ns#\" xmlns:dc=\"http://purl.org/dc/elements/1.1/\" xmlns:rdf=\"http://www.w3.org/1999/02/22-rdf-syntax-ns#\">\r\n   <cc:Work>\r\n    <dc:type rdf:resource=\"http://purl.org/dc/dcmitype/StillImage\"/>\r\n    <dc:date>2021-08-20T02:01:59.709162</dc:date>\r\n    <dc:format>image/svg+xml</dc:format>\r\n    <dc:creator>\r\n     <cc:Agent>\r\n      <dc:title>Matplotlib v3.4.2, https://matplotlib.org/</dc:title>\r\n     </cc:Agent>\r\n    </dc:creator>\r\n   </cc:Work>\r\n  </rdf:RDF>\r\n </metadata>\r\n <defs>\r\n  <style type=\"text/css\">*{stroke-linecap:butt;stroke-linejoin:round;}</style>\r\n </defs>\r\n <g id=\"figure_1\">\r\n  <g id=\"patch_1\">\r\n   <path d=\"M 0 284.640938 \r\nL 408.103125 284.640938 \r\nL 408.103125 0 \r\nL 0 0 \r\nz\r\n\" style=\"fill:none;\"/>\r\n  </g>\r\n  <g id=\"axes_1\">\r\n   <g id=\"patch_2\">\r\n    <path d=\"M 66.103125 241.277813 \r\nL 400.903125 241.277813 \r\nL 400.903125 23.837812 \r\nL 66.103125 23.837812 \r\nz\r\n\" style=\"fill:#ffffff;\"/>\r\n   </g>\r\n   <g id=\"matplotlib.axis_1\">\r\n    <g id=\"xtick_1\">\r\n     <g id=\"line2d_1\">\r\n      <path clip-path=\"url(#p8acab9bf0a)\" d=\"M 66.103125 241.277813 \r\nL 66.103125 23.837812 \r\n\" style=\"fill:none;stroke:#b0b0b0;stroke-linecap:square;stroke-width:0.8;\"/>\r\n     </g>\r\n     <g id=\"line2d_2\">\r\n      <defs>\r\n       <path d=\"M 0 0 \r\nL 0 3.5 \r\n\" id=\"m3156760c32\" style=\"stroke:#000000;stroke-width:0.8;\"/>\r\n      </defs>\r\n      <g>\r\n       <use style=\"stroke:#000000;stroke-width:0.8;\" x=\"66.103125\" xlink:href=\"#m3156760c32\" y=\"241.277813\"/>\r\n      </g>\r\n     </g>\r\n     <g id=\"text_1\">\r\n      <!-- 0 -->\r\n      <g transform=\"translate(62.285625 257.395938)scale(0.12 -0.12)\">\r\n       <defs>\r\n        <path d=\"M 2034 4250 \r\nQ 1547 4250 1301 3770 \r\nQ 1056 3291 1056 2328 \r\nQ 1056 1369 1301 889 \r\nQ 1547 409 2034 409 \r\nQ 2525 409 2770 889 \r\nQ 3016 1369 3016 2328 \r\nQ 3016 3291 2770 3770 \r\nQ 2525 4250 2034 4250 \r\nz\r\nM 2034 4750 \r\nQ 2819 4750 3233 4129 \r\nQ 3647 3509 3647 2328 \r\nQ 3647 1150 3233 529 \r\nQ 2819 -91 2034 -91 \r\nQ 1250 -91 836 529 \r\nQ 422 1150 422 2328 \r\nQ 422 3509 836 4129 \r\nQ 1250 4750 2034 4750 \r\nz\r\n\" id=\"DejaVuSans-30\" transform=\"scale(0.015625)\"/>\r\n       </defs>\r\n       <use xlink:href=\"#DejaVuSans-30\"/>\r\n      </g>\r\n     </g>\r\n    </g>\r\n    <g id=\"xtick_2\">\r\n     <g id=\"line2d_3\">\r\n      <path clip-path=\"url(#p8acab9bf0a)\" d=\"M 135.853125 241.277813 \r\nL 135.853125 23.837812 \r\n\" style=\"fill:none;stroke:#b0b0b0;stroke-linecap:square;stroke-width:0.8;\"/>\r\n     </g>\r\n     <g id=\"line2d_4\">\r\n      <g>\r\n       <use style=\"stroke:#000000;stroke-width:0.8;\" x=\"135.853125\" xlink:href=\"#m3156760c32\" y=\"241.277813\"/>\r\n      </g>\r\n     </g>\r\n     <g id=\"text_2\">\r\n      <!-- 5 -->\r\n      <g transform=\"translate(132.035625 257.395938)scale(0.12 -0.12)\">\r\n       <defs>\r\n        <path d=\"M 691 4666 \r\nL 3169 4666 \r\nL 3169 4134 \r\nL 1269 4134 \r\nL 1269 2991 \r\nQ 1406 3038 1543 3061 \r\nQ 1681 3084 1819 3084 \r\nQ 2600 3084 3056 2656 \r\nQ 3513 2228 3513 1497 \r\nQ 3513 744 3044 326 \r\nQ 2575 -91 1722 -91 \r\nQ 1428 -91 1123 -41 \r\nQ 819 9 494 109 \r\nL 494 744 \r\nQ 775 591 1075 516 \r\nQ 1375 441 1709 441 \r\nQ 2250 441 2565 725 \r\nQ 2881 1009 2881 1497 \r\nQ 2881 1984 2565 2268 \r\nQ 2250 2553 1709 2553 \r\nQ 1456 2553 1204 2497 \r\nQ 953 2441 691 2322 \r\nL 691 4666 \r\nz\r\n\" id=\"DejaVuSans-35\" transform=\"scale(0.015625)\"/>\r\n       </defs>\r\n       <use xlink:href=\"#DejaVuSans-35\"/>\r\n      </g>\r\n     </g>\r\n    </g>\r\n    <g id=\"xtick_3\">\r\n     <g id=\"line2d_5\">\r\n      <path clip-path=\"url(#p8acab9bf0a)\" d=\"M 205.603125 241.277813 \r\nL 205.603125 23.837812 \r\n\" style=\"fill:none;stroke:#b0b0b0;stroke-linecap:square;stroke-width:0.8;\"/>\r\n     </g>\r\n     <g id=\"line2d_6\">\r\n      <g>\r\n       <use style=\"stroke:#000000;stroke-width:0.8;\" x=\"205.603125\" xlink:href=\"#m3156760c32\" y=\"241.277813\"/>\r\n      </g>\r\n     </g>\r\n     <g id=\"text_3\">\r\n      <!-- 10 -->\r\n      <g transform=\"translate(197.968125 257.395938)scale(0.12 -0.12)\">\r\n       <defs>\r\n        <path d=\"M 794 531 \r\nL 1825 531 \r\nL 1825 4091 \r\nL 703 3866 \r\nL 703 4441 \r\nL 1819 4666 \r\nL 2450 4666 \r\nL 2450 531 \r\nL 3481 531 \r\nL 3481 0 \r\nL 794 0 \r\nL 794 531 \r\nz\r\n\" id=\"DejaVuSans-31\" transform=\"scale(0.015625)\"/>\r\n       </defs>\r\n       <use xlink:href=\"#DejaVuSans-31\"/>\r\n       <use x=\"63.623047\" xlink:href=\"#DejaVuSans-30\"/>\r\n      </g>\r\n     </g>\r\n    </g>\r\n    <g id=\"xtick_4\">\r\n     <g id=\"line2d_7\">\r\n      <path clip-path=\"url(#p8acab9bf0a)\" d=\"M 275.353125 241.277813 \r\nL 275.353125 23.837812 \r\n\" style=\"fill:none;stroke:#b0b0b0;stroke-linecap:square;stroke-width:0.8;\"/>\r\n     </g>\r\n     <g id=\"line2d_8\">\r\n      <g>\r\n       <use style=\"stroke:#000000;stroke-width:0.8;\" x=\"275.353125\" xlink:href=\"#m3156760c32\" y=\"241.277813\"/>\r\n      </g>\r\n     </g>\r\n     <g id=\"text_4\">\r\n      <!-- 15 -->\r\n      <g transform=\"translate(267.718125 257.395938)scale(0.12 -0.12)\">\r\n       <use xlink:href=\"#DejaVuSans-31\"/>\r\n       <use x=\"63.623047\" xlink:href=\"#DejaVuSans-35\"/>\r\n      </g>\r\n     </g>\r\n    </g>\r\n    <g id=\"xtick_5\">\r\n     <g id=\"line2d_9\">\r\n      <path clip-path=\"url(#p8acab9bf0a)\" d=\"M 345.103125 241.277813 \r\nL 345.103125 23.837812 \r\n\" style=\"fill:none;stroke:#b0b0b0;stroke-linecap:square;stroke-width:0.8;\"/>\r\n     </g>\r\n     <g id=\"line2d_10\">\r\n      <g>\r\n       <use style=\"stroke:#000000;stroke-width:0.8;\" x=\"345.103125\" xlink:href=\"#m3156760c32\" y=\"241.277813\"/>\r\n      </g>\r\n     </g>\r\n     <g id=\"text_5\">\r\n      <!-- 20 -->\r\n      <g transform=\"translate(337.468125 257.395938)scale(0.12 -0.12)\">\r\n       <defs>\r\n        <path d=\"M 1228 531 \r\nL 3431 531 \r\nL 3431 0 \r\nL 469 0 \r\nL 469 531 \r\nQ 828 903 1448 1529 \r\nQ 2069 2156 2228 2338 \r\nQ 2531 2678 2651 2914 \r\nQ 2772 3150 2772 3378 \r\nQ 2772 3750 2511 3984 \r\nQ 2250 4219 1831 4219 \r\nQ 1534 4219 1204 4116 \r\nQ 875 4013 500 3803 \r\nL 500 4441 \r\nQ 881 4594 1212 4672 \r\nQ 1544 4750 1819 4750 \r\nQ 2544 4750 2975 4387 \r\nQ 3406 4025 3406 3419 \r\nQ 3406 3131 3298 2873 \r\nQ 3191 2616 2906 2266 \r\nQ 2828 2175 2409 1742 \r\nQ 1991 1309 1228 531 \r\nz\r\n\" id=\"DejaVuSans-32\" transform=\"scale(0.015625)\"/>\r\n       </defs>\r\n       <use xlink:href=\"#DejaVuSans-32\"/>\r\n       <use x=\"63.623047\" xlink:href=\"#DejaVuSans-30\"/>\r\n      </g>\r\n     </g>\r\n    </g>\r\n    <g id=\"text_6\">\r\n     <!-- Epoch -->\r\n     <g transform=\"translate(212.067812 274.529375)scale(0.14 -0.14)\">\r\n      <defs>\r\n       <path d=\"M 628 4666 \r\nL 3578 4666 \r\nL 3578 4134 \r\nL 1259 4134 \r\nL 1259 2753 \r\nL 3481 2753 \r\nL 3481 2222 \r\nL 1259 2222 \r\nL 1259 531 \r\nL 3634 531 \r\nL 3634 0 \r\nL 628 0 \r\nL 628 4666 \r\nz\r\n\" id=\"DejaVuSans-45\" transform=\"scale(0.015625)\"/>\r\n       <path d=\"M 1159 525 \r\nL 1159 -1331 \r\nL 581 -1331 \r\nL 581 3500 \r\nL 1159 3500 \r\nL 1159 2969 \r\nQ 1341 3281 1617 3432 \r\nQ 1894 3584 2278 3584 \r\nQ 2916 3584 3314 3078 \r\nQ 3713 2572 3713 1747 \r\nQ 3713 922 3314 415 \r\nQ 2916 -91 2278 -91 \r\nQ 1894 -91 1617 61 \r\nQ 1341 213 1159 525 \r\nz\r\nM 3116 1747 \r\nQ 3116 2381 2855 2742 \r\nQ 2594 3103 2138 3103 \r\nQ 1681 3103 1420 2742 \r\nQ 1159 2381 1159 1747 \r\nQ 1159 1113 1420 752 \r\nQ 1681 391 2138 391 \r\nQ 2594 391 2855 752 \r\nQ 3116 1113 3116 1747 \r\nz\r\n\" id=\"DejaVuSans-70\" transform=\"scale(0.015625)\"/>\r\n       <path d=\"M 1959 3097 \r\nQ 1497 3097 1228 2736 \r\nQ 959 2375 959 1747 \r\nQ 959 1119 1226 758 \r\nQ 1494 397 1959 397 \r\nQ 2419 397 2687 759 \r\nQ 2956 1122 2956 1747 \r\nQ 2956 2369 2687 2733 \r\nQ 2419 3097 1959 3097 \r\nz\r\nM 1959 3584 \r\nQ 2709 3584 3137 3096 \r\nQ 3566 2609 3566 1747 \r\nQ 3566 888 3137 398 \r\nQ 2709 -91 1959 -91 \r\nQ 1206 -91 779 398 \r\nQ 353 888 353 1747 \r\nQ 353 2609 779 3096 \r\nQ 1206 3584 1959 3584 \r\nz\r\n\" id=\"DejaVuSans-6f\" transform=\"scale(0.015625)\"/>\r\n       <path d=\"M 3122 3366 \r\nL 3122 2828 \r\nQ 2878 2963 2633 3030 \r\nQ 2388 3097 2138 3097 \r\nQ 1578 3097 1268 2742 \r\nQ 959 2388 959 1747 \r\nQ 959 1106 1268 751 \r\nQ 1578 397 2138 397 \r\nQ 2388 397 2633 464 \r\nQ 2878 531 3122 666 \r\nL 3122 134 \r\nQ 2881 22 2623 -34 \r\nQ 2366 -91 2075 -91 \r\nQ 1284 -91 818 406 \r\nQ 353 903 353 1747 \r\nQ 353 2603 823 3093 \r\nQ 1294 3584 2113 3584 \r\nQ 2378 3584 2631 3529 \r\nQ 2884 3475 3122 3366 \r\nz\r\n\" id=\"DejaVuSans-63\" transform=\"scale(0.015625)\"/>\r\n       <path d=\"M 3513 2113 \r\nL 3513 0 \r\nL 2938 0 \r\nL 2938 2094 \r\nQ 2938 2591 2744 2837 \r\nQ 2550 3084 2163 3084 \r\nQ 1697 3084 1428 2787 \r\nQ 1159 2491 1159 1978 \r\nL 1159 0 \r\nL 581 0 \r\nL 581 4863 \r\nL 1159 4863 \r\nL 1159 2956 \r\nQ 1366 3272 1645 3428 \r\nQ 1925 3584 2291 3584 \r\nQ 2894 3584 3203 3211 \r\nQ 3513 2838 3513 2113 \r\nz\r\n\" id=\"DejaVuSans-68\" transform=\"scale(0.015625)\"/>\r\n      </defs>\r\n      <use xlink:href=\"#DejaVuSans-45\"/>\r\n      <use x=\"63.183594\" xlink:href=\"#DejaVuSans-70\"/>\r\n      <use x=\"126.660156\" xlink:href=\"#DejaVuSans-6f\"/>\r\n      <use x=\"187.841797\" xlink:href=\"#DejaVuSans-63\"/>\r\n      <use x=\"242.822266\" xlink:href=\"#DejaVuSans-68\"/>\r\n     </g>\r\n    </g>\r\n   </g>\r\n   <g id=\"matplotlib.axis_2\">\r\n    <g id=\"ytick_1\">\r\n     <g id=\"line2d_11\">\r\n      <path clip-path=\"url(#p8acab9bf0a)\" d=\"M 66.103125 241.277813 \r\nL 400.903125 241.277813 \r\n\" style=\"fill:none;stroke:#b0b0b0;stroke-linecap:square;stroke-width:0.8;\"/>\r\n     </g>\r\n     <g id=\"line2d_12\">\r\n      <defs>\r\n       <path d=\"M 0 0 \r\nL -3.5 0 \r\n\" id=\"m2fedfc104b\" style=\"stroke:#000000;stroke-width:0.8;\"/>\r\n      </defs>\r\n      <g>\r\n       <use style=\"stroke:#000000;stroke-width:0.8;\" x=\"66.103125\" xlink:href=\"#m2fedfc104b\" y=\"241.277813\"/>\r\n      </g>\r\n     </g>\r\n     <g id=\"text_7\">\r\n      <!-- 0.000 -->\r\n      <g transform=\"translate(24.749375 245.836875)scale(0.12 -0.12)\">\r\n       <defs>\r\n        <path d=\"M 684 794 \r\nL 1344 794 \r\nL 1344 0 \r\nL 684 0 \r\nL 684 794 \r\nz\r\n\" id=\"DejaVuSans-2e\" transform=\"scale(0.015625)\"/>\r\n       </defs>\r\n       <use xlink:href=\"#DejaVuSans-30\"/>\r\n       <use x=\"63.623047\" xlink:href=\"#DejaVuSans-2e\"/>\r\n       <use x=\"95.410156\" xlink:href=\"#DejaVuSans-30\"/>\r\n       <use x=\"159.033203\" xlink:href=\"#DejaVuSans-30\"/>\r\n       <use x=\"222.65625\" xlink:href=\"#DejaVuSans-30\"/>\r\n      </g>\r\n     </g>\r\n    </g>\r\n    <g id=\"ytick_2\">\r\n     <g id=\"line2d_13\">\r\n      <path clip-path=\"url(#p8acab9bf0a)\" d=\"M 66.103125 201.743267 \r\nL 400.903125 201.743267 \r\n\" style=\"fill:none;stroke:#b0b0b0;stroke-linecap:square;stroke-width:0.8;\"/>\r\n     </g>\r\n     <g id=\"line2d_14\">\r\n      <g>\r\n       <use style=\"stroke:#000000;stroke-width:0.8;\" x=\"66.103125\" xlink:href=\"#m2fedfc104b\" y=\"201.743267\"/>\r\n      </g>\r\n     </g>\r\n     <g id=\"text_8\">\r\n      <!-- 0.002 -->\r\n      <g transform=\"translate(24.749375 206.30233)scale(0.12 -0.12)\">\r\n       <use xlink:href=\"#DejaVuSans-30\"/>\r\n       <use x=\"63.623047\" xlink:href=\"#DejaVuSans-2e\"/>\r\n       <use x=\"95.410156\" xlink:href=\"#DejaVuSans-30\"/>\r\n       <use x=\"159.033203\" xlink:href=\"#DejaVuSans-30\"/>\r\n       <use x=\"222.65625\" xlink:href=\"#DejaVuSans-32\"/>\r\n      </g>\r\n     </g>\r\n    </g>\r\n    <g id=\"ytick_3\">\r\n     <g id=\"line2d_15\">\r\n      <path clip-path=\"url(#p8acab9bf0a)\" d=\"M 66.103125 162.208722 \r\nL 400.903125 162.208722 \r\n\" style=\"fill:none;stroke:#b0b0b0;stroke-linecap:square;stroke-width:0.8;\"/>\r\n     </g>\r\n     <g id=\"line2d_16\">\r\n      <g>\r\n       <use style=\"stroke:#000000;stroke-width:0.8;\" x=\"66.103125\" xlink:href=\"#m2fedfc104b\" y=\"162.208722\"/>\r\n      </g>\r\n     </g>\r\n     <g id=\"text_9\">\r\n      <!-- 0.004 -->\r\n      <g transform=\"translate(24.749375 166.767784)scale(0.12 -0.12)\">\r\n       <defs>\r\n        <path d=\"M 2419 4116 \r\nL 825 1625 \r\nL 2419 1625 \r\nL 2419 4116 \r\nz\r\nM 2253 4666 \r\nL 3047 4666 \r\nL 3047 1625 \r\nL 3713 1625 \r\nL 3713 1100 \r\nL 3047 1100 \r\nL 3047 0 \r\nL 2419 0 \r\nL 2419 1100 \r\nL 313 1100 \r\nL 313 1709 \r\nL 2253 4666 \r\nz\r\n\" id=\"DejaVuSans-34\" transform=\"scale(0.015625)\"/>\r\n       </defs>\r\n       <use xlink:href=\"#DejaVuSans-30\"/>\r\n       <use x=\"63.623047\" xlink:href=\"#DejaVuSans-2e\"/>\r\n       <use x=\"95.410156\" xlink:href=\"#DejaVuSans-30\"/>\r\n       <use x=\"159.033203\" xlink:href=\"#DejaVuSans-30\"/>\r\n       <use x=\"222.65625\" xlink:href=\"#DejaVuSans-34\"/>\r\n      </g>\r\n     </g>\r\n    </g>\r\n    <g id=\"ytick_4\">\r\n     <g id=\"line2d_17\">\r\n      <path clip-path=\"url(#p8acab9bf0a)\" d=\"M 66.103125 122.674176 \r\nL 400.903125 122.674176 \r\n\" style=\"fill:none;stroke:#b0b0b0;stroke-linecap:square;stroke-width:0.8;\"/>\r\n     </g>\r\n     <g id=\"line2d_18\">\r\n      <g>\r\n       <use style=\"stroke:#000000;stroke-width:0.8;\" x=\"66.103125\" xlink:href=\"#m2fedfc104b\" y=\"122.674176\"/>\r\n      </g>\r\n     </g>\r\n     <g id=\"text_10\">\r\n      <!-- 0.006 -->\r\n      <g transform=\"translate(24.749375 127.233239)scale(0.12 -0.12)\">\r\n       <defs>\r\n        <path d=\"M 2113 2584 \r\nQ 1688 2584 1439 2293 \r\nQ 1191 2003 1191 1497 \r\nQ 1191 994 1439 701 \r\nQ 1688 409 2113 409 \r\nQ 2538 409 2786 701 \r\nQ 3034 994 3034 1497 \r\nQ 3034 2003 2786 2293 \r\nQ 2538 2584 2113 2584 \r\nz\r\nM 3366 4563 \r\nL 3366 3988 \r\nQ 3128 4100 2886 4159 \r\nQ 2644 4219 2406 4219 \r\nQ 1781 4219 1451 3797 \r\nQ 1122 3375 1075 2522 \r\nQ 1259 2794 1537 2939 \r\nQ 1816 3084 2150 3084 \r\nQ 2853 3084 3261 2657 \r\nQ 3669 2231 3669 1497 \r\nQ 3669 778 3244 343 \r\nQ 2819 -91 2113 -91 \r\nQ 1303 -91 875 529 \r\nQ 447 1150 447 2328 \r\nQ 447 3434 972 4092 \r\nQ 1497 4750 2381 4750 \r\nQ 2619 4750 2861 4703 \r\nQ 3103 4656 3366 4563 \r\nz\r\n\" id=\"DejaVuSans-36\" transform=\"scale(0.015625)\"/>\r\n       </defs>\r\n       <use xlink:href=\"#DejaVuSans-30\"/>\r\n       <use x=\"63.623047\" xlink:href=\"#DejaVuSans-2e\"/>\r\n       <use x=\"95.410156\" xlink:href=\"#DejaVuSans-30\"/>\r\n       <use x=\"159.033203\" xlink:href=\"#DejaVuSans-30\"/>\r\n       <use x=\"222.65625\" xlink:href=\"#DejaVuSans-36\"/>\r\n      </g>\r\n     </g>\r\n    </g>\r\n    <g id=\"ytick_5\">\r\n     <g id=\"line2d_19\">\r\n      <path clip-path=\"url(#p8acab9bf0a)\" d=\"M 66.103125 83.139631 \r\nL 400.903125 83.139631 \r\n\" style=\"fill:none;stroke:#b0b0b0;stroke-linecap:square;stroke-width:0.8;\"/>\r\n     </g>\r\n     <g id=\"line2d_20\">\r\n      <g>\r\n       <use style=\"stroke:#000000;stroke-width:0.8;\" x=\"66.103125\" xlink:href=\"#m2fedfc104b\" y=\"83.139631\"/>\r\n      </g>\r\n     </g>\r\n     <g id=\"text_11\">\r\n      <!-- 0.008 -->\r\n      <g transform=\"translate(24.749375 87.698693)scale(0.12 -0.12)\">\r\n       <defs>\r\n        <path d=\"M 2034 2216 \r\nQ 1584 2216 1326 1975 \r\nQ 1069 1734 1069 1313 \r\nQ 1069 891 1326 650 \r\nQ 1584 409 2034 409 \r\nQ 2484 409 2743 651 \r\nQ 3003 894 3003 1313 \r\nQ 3003 1734 2745 1975 \r\nQ 2488 2216 2034 2216 \r\nz\r\nM 1403 2484 \r\nQ 997 2584 770 2862 \r\nQ 544 3141 544 3541 \r\nQ 544 4100 942 4425 \r\nQ 1341 4750 2034 4750 \r\nQ 2731 4750 3128 4425 \r\nQ 3525 4100 3525 3541 \r\nQ 3525 3141 3298 2862 \r\nQ 3072 2584 2669 2484 \r\nQ 3125 2378 3379 2068 \r\nQ 3634 1759 3634 1313 \r\nQ 3634 634 3220 271 \r\nQ 2806 -91 2034 -91 \r\nQ 1263 -91 848 271 \r\nQ 434 634 434 1313 \r\nQ 434 1759 690 2068 \r\nQ 947 2378 1403 2484 \r\nz\r\nM 1172 3481 \r\nQ 1172 3119 1398 2916 \r\nQ 1625 2713 2034 2713 \r\nQ 2441 2713 2670 2916 \r\nQ 2900 3119 2900 3481 \r\nQ 2900 3844 2670 4047 \r\nQ 2441 4250 2034 4250 \r\nQ 1625 4250 1398 4047 \r\nQ 1172 3844 1172 3481 \r\nz\r\n\" id=\"DejaVuSans-38\" transform=\"scale(0.015625)\"/>\r\n       </defs>\r\n       <use xlink:href=\"#DejaVuSans-30\"/>\r\n       <use x=\"63.623047\" xlink:href=\"#DejaVuSans-2e\"/>\r\n       <use x=\"95.410156\" xlink:href=\"#DejaVuSans-30\"/>\r\n       <use x=\"159.033203\" xlink:href=\"#DejaVuSans-30\"/>\r\n       <use x=\"222.65625\" xlink:href=\"#DejaVuSans-38\"/>\r\n      </g>\r\n     </g>\r\n    </g>\r\n    <g id=\"ytick_6\">\r\n     <g id=\"line2d_21\">\r\n      <path clip-path=\"url(#p8acab9bf0a)\" d=\"M 66.103125 43.605085 \r\nL 400.903125 43.605085 \r\n\" style=\"fill:none;stroke:#b0b0b0;stroke-linecap:square;stroke-width:0.8;\"/>\r\n     </g>\r\n     <g id=\"line2d_22\">\r\n      <g>\r\n       <use style=\"stroke:#000000;stroke-width:0.8;\" x=\"66.103125\" xlink:href=\"#m2fedfc104b\" y=\"43.605085\"/>\r\n      </g>\r\n     </g>\r\n     <g id=\"text_12\">\r\n      <!-- 0.010 -->\r\n      <g transform=\"translate(24.749375 48.164148)scale(0.12 -0.12)\">\r\n       <use xlink:href=\"#DejaVuSans-30\"/>\r\n       <use x=\"63.623047\" xlink:href=\"#DejaVuSans-2e\"/>\r\n       <use x=\"95.410156\" xlink:href=\"#DejaVuSans-30\"/>\r\n       <use x=\"159.033203\" xlink:href=\"#DejaVuSans-31\"/>\r\n       <use x=\"222.65625\" xlink:href=\"#DejaVuSans-30\"/>\r\n      </g>\r\n     </g>\r\n    </g>\r\n    <g id=\"text_13\">\r\n     <!-- Learning Rate -->\r\n     <g transform=\"translate(17.837813 181.220937)rotate(-90)scale(0.14 -0.14)\">\r\n      <defs>\r\n       <path d=\"M 628 4666 \r\nL 1259 4666 \r\nL 1259 531 \r\nL 3531 531 \r\nL 3531 0 \r\nL 628 0 \r\nL 628 4666 \r\nz\r\n\" id=\"DejaVuSans-4c\" transform=\"scale(0.015625)\"/>\r\n       <path d=\"M 3597 1894 \r\nL 3597 1613 \r\nL 953 1613 \r\nQ 991 1019 1311 708 \r\nQ 1631 397 2203 397 \r\nQ 2534 397 2845 478 \r\nQ 3156 559 3463 722 \r\nL 3463 178 \r\nQ 3153 47 2828 -22 \r\nQ 2503 -91 2169 -91 \r\nQ 1331 -91 842 396 \r\nQ 353 884 353 1716 \r\nQ 353 2575 817 3079 \r\nQ 1281 3584 2069 3584 \r\nQ 2775 3584 3186 3129 \r\nQ 3597 2675 3597 1894 \r\nz\r\nM 3022 2063 \r\nQ 3016 2534 2758 2815 \r\nQ 2500 3097 2075 3097 \r\nQ 1594 3097 1305 2825 \r\nQ 1016 2553 972 2059 \r\nL 3022 2063 \r\nz\r\n\" id=\"DejaVuSans-65\" transform=\"scale(0.015625)\"/>\r\n       <path d=\"M 2194 1759 \r\nQ 1497 1759 1228 1600 \r\nQ 959 1441 959 1056 \r\nQ 959 750 1161 570 \r\nQ 1363 391 1709 391 \r\nQ 2188 391 2477 730 \r\nQ 2766 1069 2766 1631 \r\nL 2766 1759 \r\nL 2194 1759 \r\nz\r\nM 3341 1997 \r\nL 3341 0 \r\nL 2766 0 \r\nL 2766 531 \r\nQ 2569 213 2275 61 \r\nQ 1981 -91 1556 -91 \r\nQ 1019 -91 701 211 \r\nQ 384 513 384 1019 \r\nQ 384 1609 779 1909 \r\nQ 1175 2209 1959 2209 \r\nL 2766 2209 \r\nL 2766 2266 \r\nQ 2766 2663 2505 2880 \r\nQ 2244 3097 1772 3097 \r\nQ 1472 3097 1187 3025 \r\nQ 903 2953 641 2809 \r\nL 641 3341 \r\nQ 956 3463 1253 3523 \r\nQ 1550 3584 1831 3584 \r\nQ 2591 3584 2966 3190 \r\nQ 3341 2797 3341 1997 \r\nz\r\n\" id=\"DejaVuSans-61\" transform=\"scale(0.015625)\"/>\r\n       <path d=\"M 2631 2963 \r\nQ 2534 3019 2420 3045 \r\nQ 2306 3072 2169 3072 \r\nQ 1681 3072 1420 2755 \r\nQ 1159 2438 1159 1844 \r\nL 1159 0 \r\nL 581 0 \r\nL 581 3500 \r\nL 1159 3500 \r\nL 1159 2956 \r\nQ 1341 3275 1631 3429 \r\nQ 1922 3584 2338 3584 \r\nQ 2397 3584 2469 3576 \r\nQ 2541 3569 2628 3553 \r\nL 2631 2963 \r\nz\r\n\" id=\"DejaVuSans-72\" transform=\"scale(0.015625)\"/>\r\n       <path d=\"M 3513 2113 \r\nL 3513 0 \r\nL 2938 0 \r\nL 2938 2094 \r\nQ 2938 2591 2744 2837 \r\nQ 2550 3084 2163 3084 \r\nQ 1697 3084 1428 2787 \r\nQ 1159 2491 1159 1978 \r\nL 1159 0 \r\nL 581 0 \r\nL 581 3500 \r\nL 1159 3500 \r\nL 1159 2956 \r\nQ 1366 3272 1645 3428 \r\nQ 1925 3584 2291 3584 \r\nQ 2894 3584 3203 3211 \r\nQ 3513 2838 3513 2113 \r\nz\r\n\" id=\"DejaVuSans-6e\" transform=\"scale(0.015625)\"/>\r\n       <path d=\"M 603 3500 \r\nL 1178 3500 \r\nL 1178 0 \r\nL 603 0 \r\nL 603 3500 \r\nz\r\nM 603 4863 \r\nL 1178 4863 \r\nL 1178 4134 \r\nL 603 4134 \r\nL 603 4863 \r\nz\r\n\" id=\"DejaVuSans-69\" transform=\"scale(0.015625)\"/>\r\n       <path d=\"M 2906 1791 \r\nQ 2906 2416 2648 2759 \r\nQ 2391 3103 1925 3103 \r\nQ 1463 3103 1205 2759 \r\nQ 947 2416 947 1791 \r\nQ 947 1169 1205 825 \r\nQ 1463 481 1925 481 \r\nQ 2391 481 2648 825 \r\nQ 2906 1169 2906 1791 \r\nz\r\nM 3481 434 \r\nQ 3481 -459 3084 -895 \r\nQ 2688 -1331 1869 -1331 \r\nQ 1566 -1331 1297 -1286 \r\nQ 1028 -1241 775 -1147 \r\nL 775 -588 \r\nQ 1028 -725 1275 -790 \r\nQ 1522 -856 1778 -856 \r\nQ 2344 -856 2625 -561 \r\nQ 2906 -266 2906 331 \r\nL 2906 616 \r\nQ 2728 306 2450 153 \r\nQ 2172 0 1784 0 \r\nQ 1141 0 747 490 \r\nQ 353 981 353 1791 \r\nQ 353 2603 747 3093 \r\nQ 1141 3584 1784 3584 \r\nQ 2172 3584 2450 3431 \r\nQ 2728 3278 2906 2969 \r\nL 2906 3500 \r\nL 3481 3500 \r\nL 3481 434 \r\nz\r\n\" id=\"DejaVuSans-67\" transform=\"scale(0.015625)\"/>\r\n       <path id=\"DejaVuSans-20\" transform=\"scale(0.015625)\"/>\r\n       <path d=\"M 2841 2188 \r\nQ 3044 2119 3236 1894 \r\nQ 3428 1669 3622 1275 \r\nL 4263 0 \r\nL 3584 0 \r\nL 2988 1197 \r\nQ 2756 1666 2539 1819 \r\nQ 2322 1972 1947 1972 \r\nL 1259 1972 \r\nL 1259 0 \r\nL 628 0 \r\nL 628 4666 \r\nL 2053 4666 \r\nQ 2853 4666 3247 4331 \r\nQ 3641 3997 3641 3322 \r\nQ 3641 2881 3436 2590 \r\nQ 3231 2300 2841 2188 \r\nz\r\nM 1259 4147 \r\nL 1259 2491 \r\nL 2053 2491 \r\nQ 2509 2491 2742 2702 \r\nQ 2975 2913 2975 3322 \r\nQ 2975 3731 2742 3939 \r\nQ 2509 4147 2053 4147 \r\nL 1259 4147 \r\nz\r\n\" id=\"DejaVuSans-52\" transform=\"scale(0.015625)\"/>\r\n       <path d=\"M 1172 4494 \r\nL 1172 3500 \r\nL 2356 3500 \r\nL 2356 3053 \r\nL 1172 3053 \r\nL 1172 1153 \r\nQ 1172 725 1289 603 \r\nQ 1406 481 1766 481 \r\nL 2356 481 \r\nL 2356 0 \r\nL 1766 0 \r\nQ 1100 0 847 248 \r\nQ 594 497 594 1153 \r\nL 594 3053 \r\nL 172 3053 \r\nL 172 3500 \r\nL 594 3500 \r\nL 594 4494 \r\nL 1172 4494 \r\nz\r\n\" id=\"DejaVuSans-74\" transform=\"scale(0.015625)\"/>\r\n      </defs>\r\n      <use xlink:href=\"#DejaVuSans-4c\"/>\r\n      <use x=\"53.962891\" xlink:href=\"#DejaVuSans-65\"/>\r\n      <use x=\"115.486328\" xlink:href=\"#DejaVuSans-61\"/>\r\n      <use x=\"176.765625\" xlink:href=\"#DejaVuSans-72\"/>\r\n      <use x=\"216.128906\" xlink:href=\"#DejaVuSans-6e\"/>\r\n      <use x=\"279.507812\" xlink:href=\"#DejaVuSans-69\"/>\r\n      <use x=\"307.291016\" xlink:href=\"#DejaVuSans-6e\"/>\r\n      <use x=\"370.669922\" xlink:href=\"#DejaVuSans-67\"/>\r\n      <use x=\"434.146484\" xlink:href=\"#DejaVuSans-20\"/>\r\n      <use x=\"465.933594\" xlink:href=\"#DejaVuSans-52\"/>\r\n      <use x=\"533.166016\" xlink:href=\"#DejaVuSans-61\"/>\r\n      <use x=\"594.445312\" xlink:href=\"#DejaVuSans-74\"/>\r\n      <use x=\"633.654297\" xlink:href=\"#DejaVuSans-65\"/>\r\n     </g>\r\n    </g>\r\n   </g>\r\n   <g id=\"line2d_23\">\r\n    <path clip-path=\"url(#p8acab9bf0a)\" d=\"M 66.103125 43.605085 \r\nL 80.053125 43.605085 \r\nL 94.003125 43.605085 \r\nL 107.953125 43.605085 \r\nL 121.903125 43.605085 \r\nL 135.853125 142.441449 \r\nL 149.803125 142.441449 \r\nL 163.753125 142.441449 \r\nL 177.703125 142.441449 \r\nL 191.653125 142.441449 \r\nL 205.603125 142.441449 \r\nL 219.553125 142.441449 \r\nL 233.503125 142.441449 \r\nL 247.453125 142.441449 \r\nL 261.403125 142.441449 \r\nL 275.353125 221.51054 \r\nL 289.303125 221.51054 \r\nL 303.253125 221.51054 \r\nL 317.203125 221.51054 \r\nL 331.153125 221.51054 \r\nL 345.103125 221.51054 \r\nL 359.053125 221.51054 \r\nL 373.003125 221.51054 \r\nL 386.953125 221.51054 \r\nL 400.903125 221.51054 \r\n\" style=\"fill:none;stroke:#1f77b4;stroke-linecap:square;stroke-width:1.5;\"/>\r\n    <defs>\r\n     <path d=\"M 0 3 \r\nC 0.795609 3 1.55874 2.683901 2.12132 2.12132 \r\nC 2.683901 1.55874 3 0.795609 3 0 \r\nC 3 -0.795609 2.683901 -1.55874 2.12132 -2.12132 \r\nC 1.55874 -2.683901 0.795609 -3 0 -3 \r\nC -0.795609 -3 -1.55874 -2.683901 -2.12132 -2.12132 \r\nC -2.683901 -1.55874 -3 -0.795609 -3 0 \r\nC -3 0.795609 -2.683901 1.55874 -2.12132 2.12132 \r\nC -1.55874 2.683901 -0.795609 3 0 3 \r\nz\r\n\" id=\"m71840aa07b\" style=\"stroke:#1f77b4;\"/>\r\n    </defs>\r\n    <g clip-path=\"url(#p8acab9bf0a)\">\r\n     <use style=\"fill:#1f77b4;stroke:#1f77b4;\" x=\"66.103125\" xlink:href=\"#m71840aa07b\" y=\"43.605085\"/>\r\n     <use style=\"fill:#1f77b4;stroke:#1f77b4;\" x=\"80.053125\" xlink:href=\"#m71840aa07b\" y=\"43.605085\"/>\r\n     <use style=\"fill:#1f77b4;stroke:#1f77b4;\" x=\"94.003125\" xlink:href=\"#m71840aa07b\" y=\"43.605085\"/>\r\n     <use style=\"fill:#1f77b4;stroke:#1f77b4;\" x=\"107.953125\" xlink:href=\"#m71840aa07b\" y=\"43.605085\"/>\r\n     <use style=\"fill:#1f77b4;stroke:#1f77b4;\" x=\"121.903125\" xlink:href=\"#m71840aa07b\" y=\"43.605085\"/>\r\n     <use style=\"fill:#1f77b4;stroke:#1f77b4;\" x=\"135.853125\" xlink:href=\"#m71840aa07b\" y=\"142.441449\"/>\r\n     <use style=\"fill:#1f77b4;stroke:#1f77b4;\" x=\"149.803125\" xlink:href=\"#m71840aa07b\" y=\"142.441449\"/>\r\n     <use style=\"fill:#1f77b4;stroke:#1f77b4;\" x=\"163.753125\" xlink:href=\"#m71840aa07b\" y=\"142.441449\"/>\r\n     <use style=\"fill:#1f77b4;stroke:#1f77b4;\" x=\"177.703125\" xlink:href=\"#m71840aa07b\" y=\"142.441449\"/>\r\n     <use style=\"fill:#1f77b4;stroke:#1f77b4;\" x=\"191.653125\" xlink:href=\"#m71840aa07b\" y=\"142.441449\"/>\r\n     <use style=\"fill:#1f77b4;stroke:#1f77b4;\" x=\"205.603125\" xlink:href=\"#m71840aa07b\" y=\"142.441449\"/>\r\n     <use style=\"fill:#1f77b4;stroke:#1f77b4;\" x=\"219.553125\" xlink:href=\"#m71840aa07b\" y=\"142.441449\"/>\r\n     <use style=\"fill:#1f77b4;stroke:#1f77b4;\" x=\"233.503125\" xlink:href=\"#m71840aa07b\" y=\"142.441449\"/>\r\n     <use style=\"fill:#1f77b4;stroke:#1f77b4;\" x=\"247.453125\" xlink:href=\"#m71840aa07b\" y=\"142.441449\"/>\r\n     <use style=\"fill:#1f77b4;stroke:#1f77b4;\" x=\"261.403125\" xlink:href=\"#m71840aa07b\" y=\"142.441449\"/>\r\n     <use style=\"fill:#1f77b4;stroke:#1f77b4;\" x=\"275.353125\" xlink:href=\"#m71840aa07b\" y=\"221.51054\"/>\r\n     <use style=\"fill:#1f77b4;stroke:#1f77b4;\" x=\"289.303125\" xlink:href=\"#m71840aa07b\" y=\"221.51054\"/>\r\n     <use style=\"fill:#1f77b4;stroke:#1f77b4;\" x=\"303.253125\" xlink:href=\"#m71840aa07b\" y=\"221.51054\"/>\r\n     <use style=\"fill:#1f77b4;stroke:#1f77b4;\" x=\"317.203125\" xlink:href=\"#m71840aa07b\" y=\"221.51054\"/>\r\n     <use style=\"fill:#1f77b4;stroke:#1f77b4;\" x=\"331.153125\" xlink:href=\"#m71840aa07b\" y=\"221.51054\"/>\r\n     <use style=\"fill:#1f77b4;stroke:#1f77b4;\" x=\"345.103125\" xlink:href=\"#m71840aa07b\" y=\"221.51054\"/>\r\n     <use style=\"fill:#1f77b4;stroke:#1f77b4;\" x=\"359.053125\" xlink:href=\"#m71840aa07b\" y=\"221.51054\"/>\r\n     <use style=\"fill:#1f77b4;stroke:#1f77b4;\" x=\"373.003125\" xlink:href=\"#m71840aa07b\" y=\"221.51054\"/>\r\n     <use style=\"fill:#1f77b4;stroke:#1f77b4;\" x=\"386.953125\" xlink:href=\"#m71840aa07b\" y=\"221.51054\"/>\r\n     <use style=\"fill:#1f77b4;stroke:#1f77b4;\" x=\"400.903125\" xlink:href=\"#m71840aa07b\" y=\"221.51054\"/>\r\n    </g>\r\n   </g>\r\n   <g id=\"patch_3\">\r\n    <path d=\"M 66.103125 241.277813 \r\nL 66.103125 23.837812 \r\n\" style=\"fill:none;stroke:#000000;stroke-linecap:square;stroke-linejoin:miter;stroke-width:0.8;\"/>\r\n   </g>\r\n   <g id=\"patch_4\">\r\n    <path d=\"M 400.903125 241.277813 \r\nL 400.903125 23.837812 \r\n\" style=\"fill:none;stroke:#000000;stroke-linecap:square;stroke-linejoin:miter;stroke-width:0.8;\"/>\r\n   </g>\r\n   <g id=\"patch_5\">\r\n    <path d=\"M 66.103125 241.277813 \r\nL 400.903125 241.277813 \r\n\" style=\"fill:none;stroke:#000000;stroke-linecap:square;stroke-linejoin:miter;stroke-width:0.8;\"/>\r\n   </g>\r\n   <g id=\"patch_6\">\r\n    <path d=\"M 66.103125 23.837812 \r\nL 400.903125 23.837812 \r\n\" style=\"fill:none;stroke:#000000;stroke-linecap:square;stroke-linejoin:miter;stroke-width:0.8;\"/>\r\n   </g>\r\n   <g id=\"text_14\">\r\n    <!-- Piecewise Constant Scheduling -->\r\n    <g transform=\"translate(124.805156 17.837812)scale(0.14 -0.14)\">\r\n     <defs>\r\n      <path d=\"M 1259 4147 \r\nL 1259 2394 \r\nL 2053 2394 \r\nQ 2494 2394 2734 2622 \r\nQ 2975 2850 2975 3272 \r\nQ 2975 3691 2734 3919 \r\nQ 2494 4147 2053 4147 \r\nL 1259 4147 \r\nz\r\nM 628 4666 \r\nL 2053 4666 \r\nQ 2838 4666 3239 4311 \r\nQ 3641 3956 3641 3272 \r\nQ 3641 2581 3239 2228 \r\nQ 2838 1875 2053 1875 \r\nL 1259 1875 \r\nL 1259 0 \r\nL 628 0 \r\nL 628 4666 \r\nz\r\n\" id=\"DejaVuSans-50\" transform=\"scale(0.015625)\"/>\r\n      <path d=\"M 269 3500 \r\nL 844 3500 \r\nL 1563 769 \r\nL 2278 3500 \r\nL 2956 3500 \r\nL 3675 769 \r\nL 4391 3500 \r\nL 4966 3500 \r\nL 4050 0 \r\nL 3372 0 \r\nL 2619 2869 \r\nL 1863 0 \r\nL 1184 0 \r\nL 269 3500 \r\nz\r\n\" id=\"DejaVuSans-77\" transform=\"scale(0.015625)\"/>\r\n      <path d=\"M 2834 3397 \r\nL 2834 2853 \r\nQ 2591 2978 2328 3040 \r\nQ 2066 3103 1784 3103 \r\nQ 1356 3103 1142 2972 \r\nQ 928 2841 928 2578 \r\nQ 928 2378 1081 2264 \r\nQ 1234 2150 1697 2047 \r\nL 1894 2003 \r\nQ 2506 1872 2764 1633 \r\nQ 3022 1394 3022 966 \r\nQ 3022 478 2636 193 \r\nQ 2250 -91 1575 -91 \r\nQ 1294 -91 989 -36 \r\nQ 684 19 347 128 \r\nL 347 722 \r\nQ 666 556 975 473 \r\nQ 1284 391 1588 391 \r\nQ 1994 391 2212 530 \r\nQ 2431 669 2431 922 \r\nQ 2431 1156 2273 1281 \r\nQ 2116 1406 1581 1522 \r\nL 1381 1569 \r\nQ 847 1681 609 1914 \r\nQ 372 2147 372 2553 \r\nQ 372 3047 722 3315 \r\nQ 1072 3584 1716 3584 \r\nQ 2034 3584 2315 3537 \r\nQ 2597 3491 2834 3397 \r\nz\r\n\" id=\"DejaVuSans-73\" transform=\"scale(0.015625)\"/>\r\n      <path d=\"M 4122 4306 \r\nL 4122 3641 \r\nQ 3803 3938 3442 4084 \r\nQ 3081 4231 2675 4231 \r\nQ 1875 4231 1450 3742 \r\nQ 1025 3253 1025 2328 \r\nQ 1025 1406 1450 917 \r\nQ 1875 428 2675 428 \r\nQ 3081 428 3442 575 \r\nQ 3803 722 4122 1019 \r\nL 4122 359 \r\nQ 3791 134 3420 21 \r\nQ 3050 -91 2638 -91 \r\nQ 1578 -91 968 557 \r\nQ 359 1206 359 2328 \r\nQ 359 3453 968 4101 \r\nQ 1578 4750 2638 4750 \r\nQ 3056 4750 3426 4639 \r\nQ 3797 4528 4122 4306 \r\nz\r\n\" id=\"DejaVuSans-43\" transform=\"scale(0.015625)\"/>\r\n      <path d=\"M 3425 4513 \r\nL 3425 3897 \r\nQ 3066 4069 2747 4153 \r\nQ 2428 4238 2131 4238 \r\nQ 1616 4238 1336 4038 \r\nQ 1056 3838 1056 3469 \r\nQ 1056 3159 1242 3001 \r\nQ 1428 2844 1947 2747 \r\nL 2328 2669 \r\nQ 3034 2534 3370 2195 \r\nQ 3706 1856 3706 1288 \r\nQ 3706 609 3251 259 \r\nQ 2797 -91 1919 -91 \r\nQ 1588 -91 1214 -16 \r\nQ 841 59 441 206 \r\nL 441 856 \r\nQ 825 641 1194 531 \r\nQ 1563 422 1919 422 \r\nQ 2459 422 2753 634 \r\nQ 3047 847 3047 1241 \r\nQ 3047 1584 2836 1778 \r\nQ 2625 1972 2144 2069 \r\nL 1759 2144 \r\nQ 1053 2284 737 2584 \r\nQ 422 2884 422 3419 \r\nQ 422 4038 858 4394 \r\nQ 1294 4750 2059 4750 \r\nQ 2388 4750 2728 4690 \r\nQ 3069 4631 3425 4513 \r\nz\r\n\" id=\"DejaVuSans-53\" transform=\"scale(0.015625)\"/>\r\n      <path d=\"M 2906 2969 \r\nL 2906 4863 \r\nL 3481 4863 \r\nL 3481 0 \r\nL 2906 0 \r\nL 2906 525 \r\nQ 2725 213 2448 61 \r\nQ 2172 -91 1784 -91 \r\nQ 1150 -91 751 415 \r\nQ 353 922 353 1747 \r\nQ 353 2572 751 3078 \r\nQ 1150 3584 1784 3584 \r\nQ 2172 3584 2448 3432 \r\nQ 2725 3281 2906 2969 \r\nz\r\nM 947 1747 \r\nQ 947 1113 1208 752 \r\nQ 1469 391 1925 391 \r\nQ 2381 391 2643 752 \r\nQ 2906 1113 2906 1747 \r\nQ 2906 2381 2643 2742 \r\nQ 2381 3103 1925 3103 \r\nQ 1469 3103 1208 2742 \r\nQ 947 2381 947 1747 \r\nz\r\n\" id=\"DejaVuSans-64\" transform=\"scale(0.015625)\"/>\r\n      <path d=\"M 544 1381 \r\nL 544 3500 \r\nL 1119 3500 \r\nL 1119 1403 \r\nQ 1119 906 1312 657 \r\nQ 1506 409 1894 409 \r\nQ 2359 409 2629 706 \r\nQ 2900 1003 2900 1516 \r\nL 2900 3500 \r\nL 3475 3500 \r\nL 3475 0 \r\nL 2900 0 \r\nL 2900 538 \r\nQ 2691 219 2414 64 \r\nQ 2138 -91 1772 -91 \r\nQ 1169 -91 856 284 \r\nQ 544 659 544 1381 \r\nz\r\nM 1991 3584 \r\nL 1991 3584 \r\nz\r\n\" id=\"DejaVuSans-75\" transform=\"scale(0.015625)\"/>\r\n      <path d=\"M 603 4863 \r\nL 1178 4863 \r\nL 1178 0 \r\nL 603 0 \r\nL 603 4863 \r\nz\r\n\" id=\"DejaVuSans-6c\" transform=\"scale(0.015625)\"/>\r\n     </defs>\r\n     <use xlink:href=\"#DejaVuSans-50\"/>\r\n     <use x=\"58.052734\" xlink:href=\"#DejaVuSans-69\"/>\r\n     <use x=\"85.835938\" xlink:href=\"#DejaVuSans-65\"/>\r\n     <use x=\"147.359375\" xlink:href=\"#DejaVuSans-63\"/>\r\n     <use x=\"202.339844\" xlink:href=\"#DejaVuSans-65\"/>\r\n     <use x=\"263.863281\" xlink:href=\"#DejaVuSans-77\"/>\r\n     <use x=\"345.650391\" xlink:href=\"#DejaVuSans-69\"/>\r\n     <use x=\"373.433594\" xlink:href=\"#DejaVuSans-73\"/>\r\n     <use x=\"425.533203\" xlink:href=\"#DejaVuSans-65\"/>\r\n     <use x=\"487.056641\" xlink:href=\"#DejaVuSans-20\"/>\r\n     <use x=\"518.84375\" xlink:href=\"#DejaVuSans-43\"/>\r\n     <use x=\"588.667969\" xlink:href=\"#DejaVuSans-6f\"/>\r\n     <use x=\"649.849609\" xlink:href=\"#DejaVuSans-6e\"/>\r\n     <use x=\"713.228516\" xlink:href=\"#DejaVuSans-73\"/>\r\n     <use x=\"765.328125\" xlink:href=\"#DejaVuSans-74\"/>\r\n     <use x=\"804.537109\" xlink:href=\"#DejaVuSans-61\"/>\r\n     <use x=\"865.816406\" xlink:href=\"#DejaVuSans-6e\"/>\r\n     <use x=\"929.195312\" xlink:href=\"#DejaVuSans-74\"/>\r\n     <use x=\"968.404297\" xlink:href=\"#DejaVuSans-20\"/>\r\n     <use x=\"1000.191406\" xlink:href=\"#DejaVuSans-53\"/>\r\n     <use x=\"1063.667969\" xlink:href=\"#DejaVuSans-63\"/>\r\n     <use x=\"1118.648438\" xlink:href=\"#DejaVuSans-68\"/>\r\n     <use x=\"1182.027344\" xlink:href=\"#DejaVuSans-65\"/>\r\n     <use x=\"1243.550781\" xlink:href=\"#DejaVuSans-64\"/>\r\n     <use x=\"1307.027344\" xlink:href=\"#DejaVuSans-75\"/>\r\n     <use x=\"1370.40625\" xlink:href=\"#DejaVuSans-6c\"/>\r\n     <use x=\"1398.189453\" xlink:href=\"#DejaVuSans-69\"/>\r\n     <use x=\"1425.972656\" xlink:href=\"#DejaVuSans-6e\"/>\r\n     <use x=\"1489.351562\" xlink:href=\"#DejaVuSans-67\"/>\r\n    </g>\r\n   </g>\r\n  </g>\r\n </g>\r\n <defs>\r\n  <clipPath id=\"p8acab9bf0a\">\r\n   <rect height=\"217.44\" width=\"334.8\" x=\"66.103125\" y=\"23.837812\"/>\r\n  </clipPath>\r\n </defs>\r\n</svg>\r\n",
      "image/png": "[encoded data removed]"
     },
     "metadata": {
      "needs_background": "light"
     }
    }
   ],
   "metadata": {}
  },
  {
   "cell_type": "markdown",
   "source": [
    "* 성능 기반 스케줄링"
   ],
   "metadata": {}
  },
  {
   "cell_type": "code",
   "execution_count": 110,
   "source": [
    "# 성능기반 스케줄링은 ReduceLROnPlateau을 사용한다\r\n",
    "lr_scheduler = keras.callbacks.ReduceLROnPlateau(factor=0.5, patience=5)\r\n",
    "\r\n",
    "model = keras.models.Sequential([\r\n",
    "    keras.layers.Flatten(input_shape=[28, 28]),\r\n",
    "    keras.layers.Dense(300, activation=\"selu\", kernel_initializer=\"lecun_normal\"),\r\n",
    "    keras.layers.Dense(100, activation=\"selu\", kernel_initializer=\"lecun_normal\"),\r\n",
    "    keras.layers.Dense(10, activation=\"softmax\")\r\n",
    "])\r\n",
    "optimizer = keras.optimizers.SGD(lr=0.02, momentum=0.9)\r\n",
    "model.compile(loss=\"sparse_categorical_crossentropy\", optimizer=optimizer, metrics=[\"accuracy\"])\r\n",
    "n_epochs = 25\r\n",
    "history = model.fit(X_train_scaled, y_train, epochs=n_epochs,\r\n",
    "                    validation_data=(X_valid_scaled, y_valid),\r\n",
    "                    callbacks=[lr_scheduler])"
   ],
   "outputs": [
    {
     "output_type": "stream",
     "name": "stdout",
     "text": [
      "Epoch 1/25\n",
      "1719/1719 [==============================] - 3s 2ms/step - loss: 0.5975 - accuracy: 0.8047 - val_loss: 0.4833 - val_accuracy: 0.8502\n",
      "Epoch 2/25\n",
      "1719/1719 [==============================] - 3s 2ms/step - loss: 0.4858 - accuracy: 0.8420 - val_loss: 0.5530 - val_accuracy: 0.8406\n",
      "Epoch 3/25\n",
      "1719/1719 [==============================] - 3s 2ms/step - loss: 0.5068 - accuracy: 0.8427 - val_loss: 0.5126 - val_accuracy: 0.8592\n",
      "Epoch 4/25\n",
      "1719/1719 [==============================] - 3s 2ms/step - loss: 0.5205 - accuracy: 0.8451 - val_loss: 0.5067 - val_accuracy: 0.8570\n",
      "Epoch 5/25\n",
      "1719/1719 [==============================] - 3s 2ms/step - loss: 0.5099 - accuracy: 0.8519 - val_loss: 0.4764 - val_accuracy: 0.8534\n",
      "Epoch 6/25\n",
      "1719/1719 [==============================] - 3s 2ms/step - loss: 0.4999 - accuracy: 0.8557 - val_loss: 0.4779 - val_accuracy: 0.8608\n",
      "Epoch 7/25\n",
      "1719/1719 [==============================] - 3s 2ms/step - loss: 0.5353 - accuracy: 0.8517 - val_loss: 0.5305 - val_accuracy: 0.8584\n",
      "Epoch 8/25\n",
      "1719/1719 [==============================] - 3s 2ms/step - loss: 0.5187 - accuracy: 0.8578 - val_loss: 0.6123 - val_accuracy: 0.8370\n",
      "Epoch 9/25\n",
      "1719/1719 [==============================] - 3s 2ms/step - loss: 0.5124 - accuracy: 0.8579 - val_loss: 0.6149 - val_accuracy: 0.8478\n",
      "Epoch 10/25\n",
      "1719/1719 [==============================] - 3s 2ms/step - loss: 0.5508 - accuracy: 0.8565 - val_loss: 0.6596 - val_accuracy: 0.8510\n",
      "Epoch 11/25\n",
      "1719/1719 [==============================] - 3s 2ms/step - loss: 0.3022 - accuracy: 0.8966 - val_loss: 0.3906 - val_accuracy: 0.8810\n",
      "Epoch 12/25\n",
      "1719/1719 [==============================] - 3s 2ms/step - loss: 0.2536 - accuracy: 0.9092 - val_loss: 0.4516 - val_accuracy: 0.8698\n",
      "Epoch 13/25\n",
      "1719/1719 [==============================] - 3s 2ms/step - loss: 0.2229 - accuracy: 0.9193 - val_loss: 0.4590 - val_accuracy: 0.8850\n",
      "Epoch 14/25\n",
      "1719/1719 [==============================] - 3s 2ms/step - loss: 0.2094 - accuracy: 0.9219 - val_loss: 0.4635 - val_accuracy: 0.8782\n",
      "Epoch 15/25\n",
      "1719/1719 [==============================] - 3s 2ms/step - loss: 0.1982 - accuracy: 0.9270 - val_loss: 0.4191 - val_accuracy: 0.8878\n",
      "Epoch 16/25\n",
      "1719/1719 [==============================] - 3s 2ms/step - loss: 0.1854 - accuracy: 0.9309 - val_loss: 0.4715 - val_accuracy: 0.8934\n",
      "Epoch 17/25\n",
      "1719/1719 [==============================] - 3s 2ms/step - loss: 0.1339 - accuracy: 0.9485 - val_loss: 0.4396 - val_accuracy: 0.8902\n",
      "Epoch 18/25\n",
      "1719/1719 [==============================] - 3s 2ms/step - loss: 0.1196 - accuracy: 0.9528 - val_loss: 0.4463 - val_accuracy: 0.8908\n",
      "Epoch 19/25\n",
      "1719/1719 [==============================] - 3s 2ms/step - loss: 0.1139 - accuracy: 0.9555 - val_loss: 0.4664 - val_accuracy: 0.8956\n",
      "Epoch 20/25\n",
      "1719/1719 [==============================] - 3s 2ms/step - loss: 0.1054 - accuracy: 0.9587 - val_loss: 0.4748 - val_accuracy: 0.8960\n",
      "Epoch 21/25\n",
      "1719/1719 [==============================] - 3s 2ms/step - loss: 0.0980 - accuracy: 0.9624 - val_loss: 0.5129 - val_accuracy: 0.8942\n",
      "Epoch 22/25\n",
      "1719/1719 [==============================] - 3s 2ms/step - loss: 0.0815 - accuracy: 0.9686 - val_loss: 0.4985 - val_accuracy: 0.8974\n",
      "Epoch 23/25\n",
      "1719/1719 [==============================] - 3s 2ms/step - loss: 0.0758 - accuracy: 0.9721 - val_loss: 0.5061 - val_accuracy: 0.8940\n",
      "Epoch 24/25\n",
      "1719/1719 [==============================] - 3s 2ms/step - loss: 0.0722 - accuracy: 0.9735 - val_loss: 0.5215 - val_accuracy: 0.8972\n",
      "Epoch 25/25\n",
      "1719/1719 [==============================] - 3s 2ms/step - loss: 0.0688 - accuracy: 0.9744 - val_loss: 0.5302 - val_accuracy: 0.8962\n"
     ]
    }
   ],
   "metadata": {}
  },
  {
   "cell_type": "code",
   "execution_count": 111,
   "source": [
    "plt.plot(history.epoch, history.history[\"lr\"], \"bo-\")\r\n",
    "plt.xlabel(\"Epoch\")\r\n",
    "plt.ylabel(\"Learning Rate\", color='b')\r\n",
    "plt.tick_params('y', colors='b')\r\n",
    "plt.gca().set_xlim(0, n_epochs - 1)\r\n",
    "plt.grid(True)\r\n",
    "\r\n",
    "ax2 = plt.gca().twinx()\r\n",
    "ax2.plot(history.epoch, history.history[\"val_loss\"], \"r^-\")\r\n",
    "ax2.set_ylabel('Validation Loss', color='r')\r\n",
    "ax2.tick_params('y', colors='r')\r\n",
    "\r\n",
    "plt.title(\"Reduce LR on Plateau\", fontsize=14)\r\n",
    "plt.show()"
   ],
   "outputs": [
    {
     "output_type": "display_data",
     "data": {
      "text/plain": [
       "<Figure size 432x288 with 2 Axes>"
      ],
      "image/svg+xml": "<?xml version=\"1.0\" encoding=\"utf-8\" standalone=\"no\"?>\r\n<!DOCTYPE svg PUBLIC \"-//W3C//DTD SVG 1.1//EN\"\r\n  \"http://www.w3.org/Graphics/SVG/1.1/DTD/svg11.dtd\">\r\n<svg height=\"284.640938pt\" version=\"1.1\" viewBox=\"0 0 467.00625 284.640938\" width=\"467.00625pt\" xmlns=\"http://www.w3.org/2000/svg\" xmlns:xlink=\"http://www.w3.org/1999/xlink\">\r\n <metadata>\r\n  <rdf:RDF xmlns:cc=\"http://creativecommons.org/ns#\" xmlns:dc=\"http://purl.org/dc/elements/1.1/\" xmlns:rdf=\"http://www.w3.org/1999/02/22-rdf-syntax-ns#\">\r\n   <cc:Work>\r\n    <dc:type rdf:resource=\"http://purl.org/dc/dcmitype/StillImage\"/>\r\n    <dc:date>2021-08-20T02:03:16.280208</dc:date>\r\n    <dc:format>image/svg+xml</dc:format>\r\n    <dc:creator>\r\n     <cc:Agent>\r\n      <dc:title>Matplotlib v3.4.2, https://matplotlib.org/</dc:title>\r\n     </cc:Agent>\r\n    </dc:creator>\r\n   </cc:Work>\r\n  </rdf:RDF>\r\n </metadata>\r\n <defs>\r\n  <style type=\"text/css\">*{stroke-linecap:butt;stroke-linejoin:round;}</style>\r\n </defs>\r\n <g id=\"figure_1\">\r\n  <g id=\"patch_1\">\r\n   <path d=\"M 0 284.640938 \r\nL 467.00625 284.640938 \r\nL 467.00625 0 \r\nL 0 0 \r\nz\r\n\" style=\"fill:none;\"/>\r\n  </g>\r\n  <g id=\"axes_1\">\r\n   <g id=\"patch_2\">\r\n    <path d=\"M 73.738125 241.277813 \r\nL 408.538125 241.277813 \r\nL 408.538125 23.837812 \r\nL 73.738125 23.837812 \r\nz\r\n\" style=\"fill:#ffffff;\"/>\r\n   </g>\r\n   <g id=\"matplotlib.axis_1\">\r\n    <g id=\"xtick_1\">\r\n     <g id=\"line2d_1\">\r\n      <path clip-path=\"url(#p80b1c952fe)\" d=\"M 73.738125 241.277813 \r\nL 73.738125 23.837812 \r\n\" style=\"fill:none;stroke:#b0b0b0;stroke-linecap:square;stroke-width:0.8;\"/>\r\n     </g>\r\n     <g id=\"line2d_2\">\r\n      <defs>\r\n       <path d=\"M 0 0 \r\nL 0 3.5 \r\n\" id=\"ma39b55b27c\" style=\"stroke:#000000;stroke-width:0.8;\"/>\r\n      </defs>\r\n      <g>\r\n       <use style=\"stroke:#000000;stroke-width:0.8;\" x=\"73.738125\" xlink:href=\"#ma39b55b27c\" y=\"241.277813\"/>\r\n      </g>\r\n     </g>\r\n     <g id=\"text_1\">\r\n      <!-- 0 -->\r\n      <g transform=\"translate(69.920625 257.395938)scale(0.12 -0.12)\">\r\n       <defs>\r\n        <path d=\"M 2034 4250 \r\nQ 1547 4250 1301 3770 \r\nQ 1056 3291 1056 2328 \r\nQ 1056 1369 1301 889 \r\nQ 1547 409 2034 409 \r\nQ 2525 409 2770 889 \r\nQ 3016 1369 3016 2328 \r\nQ 3016 3291 2770 3770 \r\nQ 2525 4250 2034 4250 \r\nz\r\nM 2034 4750 \r\nQ 2819 4750 3233 4129 \r\nQ 3647 3509 3647 2328 \r\nQ 3647 1150 3233 529 \r\nQ 2819 -91 2034 -91 \r\nQ 1250 -91 836 529 \r\nQ 422 1150 422 2328 \r\nQ 422 3509 836 4129 \r\nQ 1250 4750 2034 4750 \r\nz\r\n\" id=\"DejaVuSans-30\" transform=\"scale(0.015625)\"/>\r\n       </defs>\r\n       <use xlink:href=\"#DejaVuSans-30\"/>\r\n      </g>\r\n     </g>\r\n    </g>\r\n    <g id=\"xtick_2\">\r\n     <g id=\"line2d_3\">\r\n      <path clip-path=\"url(#p80b1c952fe)\" d=\"M 143.488125 241.277813 \r\nL 143.488125 23.837812 \r\n\" style=\"fill:none;stroke:#b0b0b0;stroke-linecap:square;stroke-width:0.8;\"/>\r\n     </g>\r\n     <g id=\"line2d_4\">\r\n      <g>\r\n       <use style=\"stroke:#000000;stroke-width:0.8;\" x=\"143.488125\" xlink:href=\"#ma39b55b27c\" y=\"241.277813\"/>\r\n      </g>\r\n     </g>\r\n     <g id=\"text_2\">\r\n      <!-- 5 -->\r\n      <g transform=\"translate(139.670625 257.395938)scale(0.12 -0.12)\">\r\n       <defs>\r\n        <path d=\"M 691 4666 \r\nL 3169 4666 \r\nL 3169 4134 \r\nL 1269 4134 \r\nL 1269 2991 \r\nQ 1406 3038 1543 3061 \r\nQ 1681 3084 1819 3084 \r\nQ 2600 3084 3056 2656 \r\nQ 3513 2228 3513 1497 \r\nQ 3513 744 3044 326 \r\nQ 2575 -91 1722 -91 \r\nQ 1428 -91 1123 -41 \r\nQ 819 9 494 109 \r\nL 494 744 \r\nQ 775 591 1075 516 \r\nQ 1375 441 1709 441 \r\nQ 2250 441 2565 725 \r\nQ 2881 1009 2881 1497 \r\nQ 2881 1984 2565 2268 \r\nQ 2250 2553 1709 2553 \r\nQ 1456 2553 1204 2497 \r\nQ 953 2441 691 2322 \r\nL 691 4666 \r\nz\r\n\" id=\"DejaVuSans-35\" transform=\"scale(0.015625)\"/>\r\n       </defs>\r\n       <use xlink:href=\"#DejaVuSans-35\"/>\r\n      </g>\r\n     </g>\r\n    </g>\r\n    <g id=\"xtick_3\">\r\n     <g id=\"line2d_5\">\r\n      <path clip-path=\"url(#p80b1c952fe)\" d=\"M 213.238125 241.277813 \r\nL 213.238125 23.837812 \r\n\" style=\"fill:none;stroke:#b0b0b0;stroke-linecap:square;stroke-width:0.8;\"/>\r\n     </g>\r\n     <g id=\"line2d_6\">\r\n      <g>\r\n       <use style=\"stroke:#000000;stroke-width:0.8;\" x=\"213.238125\" xlink:href=\"#ma39b55b27c\" y=\"241.277813\"/>\r\n      </g>\r\n     </g>\r\n     <g id=\"text_3\">\r\n      <!-- 10 -->\r\n      <g transform=\"translate(205.603125 257.395938)scale(0.12 -0.12)\">\r\n       <defs>\r\n        <path d=\"M 794 531 \r\nL 1825 531 \r\nL 1825 4091 \r\nL 703 3866 \r\nL 703 4441 \r\nL 1819 4666 \r\nL 2450 4666 \r\nL 2450 531 \r\nL 3481 531 \r\nL 3481 0 \r\nL 794 0 \r\nL 794 531 \r\nz\r\n\" id=\"DejaVuSans-31\" transform=\"scale(0.015625)\"/>\r\n       </defs>\r\n       <use xlink:href=\"#DejaVuSans-31\"/>\r\n       <use x=\"63.623047\" xlink:href=\"#DejaVuSans-30\"/>\r\n      </g>\r\n     </g>\r\n    </g>\r\n    <g id=\"xtick_4\">\r\n     <g id=\"line2d_7\">\r\n      <path clip-path=\"url(#p80b1c952fe)\" d=\"M 282.988125 241.277813 \r\nL 282.988125 23.837812 \r\n\" style=\"fill:none;stroke:#b0b0b0;stroke-linecap:square;stroke-width:0.8;\"/>\r\n     </g>\r\n     <g id=\"line2d_8\">\r\n      <g>\r\n       <use style=\"stroke:#000000;stroke-width:0.8;\" x=\"282.988125\" xlink:href=\"#ma39b55b27c\" y=\"241.277813\"/>\r\n      </g>\r\n     </g>\r\n     <g id=\"text_4\">\r\n      <!-- 15 -->\r\n      <g transform=\"translate(275.353125 257.395938)scale(0.12 -0.12)\">\r\n       <use xlink:href=\"#DejaVuSans-31\"/>\r\n       <use x=\"63.623047\" xlink:href=\"#DejaVuSans-35\"/>\r\n      </g>\r\n     </g>\r\n    </g>\r\n    <g id=\"xtick_5\">\r\n     <g id=\"line2d_9\">\r\n      <path clip-path=\"url(#p80b1c952fe)\" d=\"M 352.738125 241.277813 \r\nL 352.738125 23.837812 \r\n\" style=\"fill:none;stroke:#b0b0b0;stroke-linecap:square;stroke-width:0.8;\"/>\r\n     </g>\r\n     <g id=\"line2d_10\">\r\n      <g>\r\n       <use style=\"stroke:#000000;stroke-width:0.8;\" x=\"352.738125\" xlink:href=\"#ma39b55b27c\" y=\"241.277813\"/>\r\n      </g>\r\n     </g>\r\n     <g id=\"text_5\">\r\n      <!-- 20 -->\r\n      <g transform=\"translate(345.103125 257.395938)scale(0.12 -0.12)\">\r\n       <defs>\r\n        <path d=\"M 1228 531 \r\nL 3431 531 \r\nL 3431 0 \r\nL 469 0 \r\nL 469 531 \r\nQ 828 903 1448 1529 \r\nQ 2069 2156 2228 2338 \r\nQ 2531 2678 2651 2914 \r\nQ 2772 3150 2772 3378 \r\nQ 2772 3750 2511 3984 \r\nQ 2250 4219 1831 4219 \r\nQ 1534 4219 1204 4116 \r\nQ 875 4013 500 3803 \r\nL 500 4441 \r\nQ 881 4594 1212 4672 \r\nQ 1544 4750 1819 4750 \r\nQ 2544 4750 2975 4387 \r\nQ 3406 4025 3406 3419 \r\nQ 3406 3131 3298 2873 \r\nQ 3191 2616 2906 2266 \r\nQ 2828 2175 2409 1742 \r\nQ 1991 1309 1228 531 \r\nz\r\n\" id=\"DejaVuSans-32\" transform=\"scale(0.015625)\"/>\r\n       </defs>\r\n       <use xlink:href=\"#DejaVuSans-32\"/>\r\n       <use x=\"63.623047\" xlink:href=\"#DejaVuSans-30\"/>\r\n      </g>\r\n     </g>\r\n    </g>\r\n    <g id=\"text_6\">\r\n     <!-- Epoch -->\r\n     <g transform=\"translate(219.702813 274.529375)scale(0.14 -0.14)\">\r\n      <defs>\r\n       <path d=\"M 628 4666 \r\nL 3578 4666 \r\nL 3578 4134 \r\nL 1259 4134 \r\nL 1259 2753 \r\nL 3481 2753 \r\nL 3481 2222 \r\nL 1259 2222 \r\nL 1259 531 \r\nL 3634 531 \r\nL 3634 0 \r\nL 628 0 \r\nL 628 4666 \r\nz\r\n\" id=\"DejaVuSans-45\" transform=\"scale(0.015625)\"/>\r\n       <path d=\"M 1159 525 \r\nL 1159 -1331 \r\nL 581 -1331 \r\nL 581 3500 \r\nL 1159 3500 \r\nL 1159 2969 \r\nQ 1341 3281 1617 3432 \r\nQ 1894 3584 2278 3584 \r\nQ 2916 3584 3314 3078 \r\nQ 3713 2572 3713 1747 \r\nQ 3713 922 3314 415 \r\nQ 2916 -91 2278 -91 \r\nQ 1894 -91 1617 61 \r\nQ 1341 213 1159 525 \r\nz\r\nM 3116 1747 \r\nQ 3116 2381 2855 2742 \r\nQ 2594 3103 2138 3103 \r\nQ 1681 3103 1420 2742 \r\nQ 1159 2381 1159 1747 \r\nQ 1159 1113 1420 752 \r\nQ 1681 391 2138 391 \r\nQ 2594 391 2855 752 \r\nQ 3116 1113 3116 1747 \r\nz\r\n\" id=\"DejaVuSans-70\" transform=\"scale(0.015625)\"/>\r\n       <path d=\"M 1959 3097 \r\nQ 1497 3097 1228 2736 \r\nQ 959 2375 959 1747 \r\nQ 959 1119 1226 758 \r\nQ 1494 397 1959 397 \r\nQ 2419 397 2687 759 \r\nQ 2956 1122 2956 1747 \r\nQ 2956 2369 2687 2733 \r\nQ 2419 3097 1959 3097 \r\nz\r\nM 1959 3584 \r\nQ 2709 3584 3137 3096 \r\nQ 3566 2609 3566 1747 \r\nQ 3566 888 3137 398 \r\nQ 2709 -91 1959 -91 \r\nQ 1206 -91 779 398 \r\nQ 353 888 353 1747 \r\nQ 353 2609 779 3096 \r\nQ 1206 3584 1959 3584 \r\nz\r\n\" id=\"DejaVuSans-6f\" transform=\"scale(0.015625)\"/>\r\n       <path d=\"M 3122 3366 \r\nL 3122 2828 \r\nQ 2878 2963 2633 3030 \r\nQ 2388 3097 2138 3097 \r\nQ 1578 3097 1268 2742 \r\nQ 959 2388 959 1747 \r\nQ 959 1106 1268 751 \r\nQ 1578 397 2138 397 \r\nQ 2388 397 2633 464 \r\nQ 2878 531 3122 666 \r\nL 3122 134 \r\nQ 2881 22 2623 -34 \r\nQ 2366 -91 2075 -91 \r\nQ 1284 -91 818 406 \r\nQ 353 903 353 1747 \r\nQ 353 2603 823 3093 \r\nQ 1294 3584 2113 3584 \r\nQ 2378 3584 2631 3529 \r\nQ 2884 3475 3122 3366 \r\nz\r\n\" id=\"DejaVuSans-63\" transform=\"scale(0.015625)\"/>\r\n       <path d=\"M 3513 2113 \r\nL 3513 0 \r\nL 2938 0 \r\nL 2938 2094 \r\nQ 2938 2591 2744 2837 \r\nQ 2550 3084 2163 3084 \r\nQ 1697 3084 1428 2787 \r\nQ 1159 2491 1159 1978 \r\nL 1159 0 \r\nL 581 0 \r\nL 581 4863 \r\nL 1159 4863 \r\nL 1159 2956 \r\nQ 1366 3272 1645 3428 \r\nQ 1925 3584 2291 3584 \r\nQ 2894 3584 3203 3211 \r\nQ 3513 2838 3513 2113 \r\nz\r\n\" id=\"DejaVuSans-68\" transform=\"scale(0.015625)\"/>\r\n      </defs>\r\n      <use xlink:href=\"#DejaVuSans-45\"/>\r\n      <use x=\"63.183594\" xlink:href=\"#DejaVuSans-70\"/>\r\n      <use x=\"126.660156\" xlink:href=\"#DejaVuSans-6f\"/>\r\n      <use x=\"187.841797\" xlink:href=\"#DejaVuSans-63\"/>\r\n      <use x=\"242.822266\" xlink:href=\"#DejaVuSans-68\"/>\r\n     </g>\r\n    </g>\r\n   </g>\r\n   <g id=\"matplotlib.axis_2\">\r\n    <g id=\"ytick_1\">\r\n     <g id=\"line2d_11\">\r\n      <path clip-path=\"url(#p80b1c952fe)\" d=\"M 73.738125 231.394176 \r\nL 408.538125 231.394176 \r\n\" style=\"fill:none;stroke:#b0b0b0;stroke-linecap:square;stroke-width:0.8;\"/>\r\n     </g>\r\n     <g id=\"line2d_12\">\r\n      <defs>\r\n       <path d=\"M 0 0 \r\nL -3.5 0 \r\n\" id=\"madfb7fc520\" style=\"stroke:#0000ff;stroke-width:0.8;\"/>\r\n      </defs>\r\n      <g>\r\n       <use style=\"fill:#0000ff;stroke:#0000ff;stroke-width:0.8;\" x=\"73.738125\" xlink:href=\"#madfb7fc520\" y=\"231.394176\"/>\r\n      </g>\r\n     </g>\r\n     <g id=\"text_7\">\r\n      <!-- 0.0025 -->\r\n      <g style=\"fill:#0000ff;\" transform=\"translate(24.749375 235.953238)scale(0.12 -0.12)\">\r\n       <defs>\r\n        <path d=\"M 684 794 \r\nL 1344 794 \r\nL 1344 0 \r\nL 684 0 \r\nL 684 794 \r\nz\r\n\" id=\"DejaVuSans-2e\" transform=\"scale(0.015625)\"/>\r\n       </defs>\r\n       <use xlink:href=\"#DejaVuSans-30\"/>\r\n       <use x=\"63.623047\" xlink:href=\"#DejaVuSans-2e\"/>\r\n       <use x=\"95.410156\" xlink:href=\"#DejaVuSans-30\"/>\r\n       <use x=\"159.033203\" xlink:href=\"#DejaVuSans-30\"/>\r\n       <use x=\"222.65625\" xlink:href=\"#DejaVuSans-32\"/>\r\n       <use x=\"286.279297\" xlink:href=\"#DejaVuSans-35\"/>\r\n      </g>\r\n     </g>\r\n    </g>\r\n    <g id=\"ytick_2\">\r\n     <g id=\"line2d_13\">\r\n      <path clip-path=\"url(#p80b1c952fe)\" d=\"M 73.738125 203.155214 \r\nL 408.538125 203.155214 \r\n\" style=\"fill:none;stroke:#b0b0b0;stroke-linecap:square;stroke-width:0.8;\"/>\r\n     </g>\r\n     <g id=\"line2d_14\">\r\n      <g>\r\n       <use style=\"fill:#0000ff;stroke:#0000ff;stroke-width:0.8;\" x=\"73.738125\" xlink:href=\"#madfb7fc520\" y=\"203.155214\"/>\r\n      </g>\r\n     </g>\r\n     <g id=\"text_8\">\r\n      <!-- 0.0050 -->\r\n      <g style=\"fill:#0000ff;\" transform=\"translate(24.749375 207.714276)scale(0.12 -0.12)\">\r\n       <use xlink:href=\"#DejaVuSans-30\"/>\r\n       <use x=\"63.623047\" xlink:href=\"#DejaVuSans-2e\"/>\r\n       <use x=\"95.410156\" xlink:href=\"#DejaVuSans-30\"/>\r\n       <use x=\"159.033203\" xlink:href=\"#DejaVuSans-30\"/>\r\n       <use x=\"222.65625\" xlink:href=\"#DejaVuSans-35\"/>\r\n       <use x=\"286.279297\" xlink:href=\"#DejaVuSans-30\"/>\r\n      </g>\r\n     </g>\r\n    </g>\r\n    <g id=\"ytick_3\">\r\n     <g id=\"line2d_15\">\r\n      <path clip-path=\"url(#p80b1c952fe)\" d=\"M 73.738125 174.916252 \r\nL 408.538125 174.916252 \r\n\" style=\"fill:none;stroke:#b0b0b0;stroke-linecap:square;stroke-width:0.8;\"/>\r\n     </g>\r\n     <g id=\"line2d_16\">\r\n      <g>\r\n       <use style=\"fill:#0000ff;stroke:#0000ff;stroke-width:0.8;\" x=\"73.738125\" xlink:href=\"#madfb7fc520\" y=\"174.916252\"/>\r\n      </g>\r\n     </g>\r\n     <g id=\"text_9\">\r\n      <!-- 0.0075 -->\r\n      <g style=\"fill:#0000ff;\" transform=\"translate(24.749375 179.475315)scale(0.12 -0.12)\">\r\n       <defs>\r\n        <path d=\"M 525 4666 \r\nL 3525 4666 \r\nL 3525 4397 \r\nL 1831 0 \r\nL 1172 0 \r\nL 2766 4134 \r\nL 525 4134 \r\nL 525 4666 \r\nz\r\n\" id=\"DejaVuSans-37\" transform=\"scale(0.015625)\"/>\r\n       </defs>\r\n       <use xlink:href=\"#DejaVuSans-30\"/>\r\n       <use x=\"63.623047\" xlink:href=\"#DejaVuSans-2e\"/>\r\n       <use x=\"95.410156\" xlink:href=\"#DejaVuSans-30\"/>\r\n       <use x=\"159.033203\" xlink:href=\"#DejaVuSans-30\"/>\r\n       <use x=\"222.65625\" xlink:href=\"#DejaVuSans-37\"/>\r\n       <use x=\"286.279297\" xlink:href=\"#DejaVuSans-35\"/>\r\n      </g>\r\n     </g>\r\n    </g>\r\n    <g id=\"ytick_4\">\r\n     <g id=\"line2d_17\">\r\n      <path clip-path=\"url(#p80b1c952fe)\" d=\"M 73.738125 146.67729 \r\nL 408.538125 146.67729 \r\n\" style=\"fill:none;stroke:#b0b0b0;stroke-linecap:square;stroke-width:0.8;\"/>\r\n     </g>\r\n     <g id=\"line2d_18\">\r\n      <g>\r\n       <use style=\"fill:#0000ff;stroke:#0000ff;stroke-width:0.8;\" x=\"73.738125\" xlink:href=\"#madfb7fc520\" y=\"146.67729\"/>\r\n      </g>\r\n     </g>\r\n     <g id=\"text_10\">\r\n      <!-- 0.0100 -->\r\n      <g style=\"fill:#0000ff;\" transform=\"translate(24.749375 151.236353)scale(0.12 -0.12)\">\r\n       <use xlink:href=\"#DejaVuSans-30\"/>\r\n       <use x=\"63.623047\" xlink:href=\"#DejaVuSans-2e\"/>\r\n       <use x=\"95.410156\" xlink:href=\"#DejaVuSans-30\"/>\r\n       <use x=\"159.033203\" xlink:href=\"#DejaVuSans-31\"/>\r\n       <use x=\"222.65625\" xlink:href=\"#DejaVuSans-30\"/>\r\n       <use x=\"286.279297\" xlink:href=\"#DejaVuSans-30\"/>\r\n      </g>\r\n     </g>\r\n    </g>\r\n    <g id=\"ytick_5\">\r\n     <g id=\"line2d_19\">\r\n      <path clip-path=\"url(#p80b1c952fe)\" d=\"M 73.738125 118.438329 \r\nL 408.538125 118.438329 \r\n\" style=\"fill:none;stroke:#b0b0b0;stroke-linecap:square;stroke-width:0.8;\"/>\r\n     </g>\r\n     <g id=\"line2d_20\">\r\n      <g>\r\n       <use style=\"fill:#0000ff;stroke:#0000ff;stroke-width:0.8;\" x=\"73.738125\" xlink:href=\"#madfb7fc520\" y=\"118.438329\"/>\r\n      </g>\r\n     </g>\r\n     <g id=\"text_11\">\r\n      <!-- 0.0125 -->\r\n      <g style=\"fill:#0000ff;\" transform=\"translate(24.749375 122.997391)scale(0.12 -0.12)\">\r\n       <use xlink:href=\"#DejaVuSans-30\"/>\r\n       <use x=\"63.623047\" xlink:href=\"#DejaVuSans-2e\"/>\r\n       <use x=\"95.410156\" xlink:href=\"#DejaVuSans-30\"/>\r\n       <use x=\"159.033203\" xlink:href=\"#DejaVuSans-31\"/>\r\n       <use x=\"222.65625\" xlink:href=\"#DejaVuSans-32\"/>\r\n       <use x=\"286.279297\" xlink:href=\"#DejaVuSans-35\"/>\r\n      </g>\r\n     </g>\r\n    </g>\r\n    <g id=\"ytick_6\">\r\n     <g id=\"line2d_21\">\r\n      <path clip-path=\"url(#p80b1c952fe)\" d=\"M 73.738125 90.199367 \r\nL 408.538125 90.199367 \r\n\" style=\"fill:none;stroke:#b0b0b0;stroke-linecap:square;stroke-width:0.8;\"/>\r\n     </g>\r\n     <g id=\"line2d_22\">\r\n      <g>\r\n       <use style=\"fill:#0000ff;stroke:#0000ff;stroke-width:0.8;\" x=\"73.738125\" xlink:href=\"#madfb7fc520\" y=\"90.199367\"/>\r\n      </g>\r\n     </g>\r\n     <g id=\"text_12\">\r\n      <!-- 0.0150 -->\r\n      <g style=\"fill:#0000ff;\" transform=\"translate(24.749375 94.75843)scale(0.12 -0.12)\">\r\n       <use xlink:href=\"#DejaVuSans-30\"/>\r\n       <use x=\"63.623047\" xlink:href=\"#DejaVuSans-2e\"/>\r\n       <use x=\"95.410156\" xlink:href=\"#DejaVuSans-30\"/>\r\n       <use x=\"159.033203\" xlink:href=\"#DejaVuSans-31\"/>\r\n       <use x=\"222.65625\" xlink:href=\"#DejaVuSans-35\"/>\r\n       <use x=\"286.279297\" xlink:href=\"#DejaVuSans-30\"/>\r\n      </g>\r\n     </g>\r\n    </g>\r\n    <g id=\"ytick_7\">\r\n     <g id=\"line2d_23\">\r\n      <path clip-path=\"url(#p80b1c952fe)\" d=\"M 73.738125 61.960405 \r\nL 408.538125 61.960405 \r\n\" style=\"fill:none;stroke:#b0b0b0;stroke-linecap:square;stroke-width:0.8;\"/>\r\n     </g>\r\n     <g id=\"line2d_24\">\r\n      <g>\r\n       <use style=\"fill:#0000ff;stroke:#0000ff;stroke-width:0.8;\" x=\"73.738125\" xlink:href=\"#madfb7fc520\" y=\"61.960405\"/>\r\n      </g>\r\n     </g>\r\n     <g id=\"text_13\">\r\n      <!-- 0.0175 -->\r\n      <g style=\"fill:#0000ff;\" transform=\"translate(24.749375 66.519468)scale(0.12 -0.12)\">\r\n       <use xlink:href=\"#DejaVuSans-30\"/>\r\n       <use x=\"63.623047\" xlink:href=\"#DejaVuSans-2e\"/>\r\n       <use x=\"95.410156\" xlink:href=\"#DejaVuSans-30\"/>\r\n       <use x=\"159.033203\" xlink:href=\"#DejaVuSans-31\"/>\r\n       <use x=\"222.65625\" xlink:href=\"#DejaVuSans-37\"/>\r\n       <use x=\"286.279297\" xlink:href=\"#DejaVuSans-35\"/>\r\n      </g>\r\n     </g>\r\n    </g>\r\n    <g id=\"ytick_8\">\r\n     <g id=\"line2d_25\">\r\n      <path clip-path=\"url(#p80b1c952fe)\" d=\"M 73.738125 33.721444 \r\nL 408.538125 33.721444 \r\n\" style=\"fill:none;stroke:#b0b0b0;stroke-linecap:square;stroke-width:0.8;\"/>\r\n     </g>\r\n     <g id=\"line2d_26\">\r\n      <g>\r\n       <use style=\"fill:#0000ff;stroke:#0000ff;stroke-width:0.8;\" x=\"73.738125\" xlink:href=\"#madfb7fc520\" y=\"33.721444\"/>\r\n      </g>\r\n     </g>\r\n     <g id=\"text_14\">\r\n      <!-- 0.0200 -->\r\n      <g style=\"fill:#0000ff;\" transform=\"translate(24.749375 38.280506)scale(0.12 -0.12)\">\r\n       <use xlink:href=\"#DejaVuSans-30\"/>\r\n       <use x=\"63.623047\" xlink:href=\"#DejaVuSans-2e\"/>\r\n       <use x=\"95.410156\" xlink:href=\"#DejaVuSans-30\"/>\r\n       <use x=\"159.033203\" xlink:href=\"#DejaVuSans-32\"/>\r\n       <use x=\"222.65625\" xlink:href=\"#DejaVuSans-30\"/>\r\n       <use x=\"286.279297\" xlink:href=\"#DejaVuSans-30\"/>\r\n      </g>\r\n     </g>\r\n    </g>\r\n    <g id=\"text_15\">\r\n     <!-- Learning Rate -->\r\n     <g style=\"fill:#0000ff;\" transform=\"translate(17.837812 181.220937)rotate(-90)scale(0.14 -0.14)\">\r\n      <defs>\r\n       <path d=\"M 628 4666 \r\nL 1259 4666 \r\nL 1259 531 \r\nL 3531 531 \r\nL 3531 0 \r\nL 628 0 \r\nL 628 4666 \r\nz\r\n\" id=\"DejaVuSans-4c\" transform=\"scale(0.015625)\"/>\r\n       <path d=\"M 3597 1894 \r\nL 3597 1613 \r\nL 953 1613 \r\nQ 991 1019 1311 708 \r\nQ 1631 397 2203 397 \r\nQ 2534 397 2845 478 \r\nQ 3156 559 3463 722 \r\nL 3463 178 \r\nQ 3153 47 2828 -22 \r\nQ 2503 -91 2169 -91 \r\nQ 1331 -91 842 396 \r\nQ 353 884 353 1716 \r\nQ 353 2575 817 3079 \r\nQ 1281 3584 2069 3584 \r\nQ 2775 3584 3186 3129 \r\nQ 3597 2675 3597 1894 \r\nz\r\nM 3022 2063 \r\nQ 3016 2534 2758 2815 \r\nQ 2500 3097 2075 3097 \r\nQ 1594 3097 1305 2825 \r\nQ 1016 2553 972 2059 \r\nL 3022 2063 \r\nz\r\n\" id=\"DejaVuSans-65\" transform=\"scale(0.015625)\"/>\r\n       <path d=\"M 2194 1759 \r\nQ 1497 1759 1228 1600 \r\nQ 959 1441 959 1056 \r\nQ 959 750 1161 570 \r\nQ 1363 391 1709 391 \r\nQ 2188 391 2477 730 \r\nQ 2766 1069 2766 1631 \r\nL 2766 1759 \r\nL 2194 1759 \r\nz\r\nM 3341 1997 \r\nL 3341 0 \r\nL 2766 0 \r\nL 2766 531 \r\nQ 2569 213 2275 61 \r\nQ 1981 -91 1556 -91 \r\nQ 1019 -91 701 211 \r\nQ 384 513 384 1019 \r\nQ 384 1609 779 1909 \r\nQ 1175 2209 1959 2209 \r\nL 2766 2209 \r\nL 2766 2266 \r\nQ 2766 2663 2505 2880 \r\nQ 2244 3097 1772 3097 \r\nQ 1472 3097 1187 3025 \r\nQ 903 2953 641 2809 \r\nL 641 3341 \r\nQ 956 3463 1253 3523 \r\nQ 1550 3584 1831 3584 \r\nQ 2591 3584 2966 3190 \r\nQ 3341 2797 3341 1997 \r\nz\r\n\" id=\"DejaVuSans-61\" transform=\"scale(0.015625)\"/>\r\n       <path d=\"M 2631 2963 \r\nQ 2534 3019 2420 3045 \r\nQ 2306 3072 2169 3072 \r\nQ 1681 3072 1420 2755 \r\nQ 1159 2438 1159 1844 \r\nL 1159 0 \r\nL 581 0 \r\nL 581 3500 \r\nL 1159 3500 \r\nL 1159 2956 \r\nQ 1341 3275 1631 3429 \r\nQ 1922 3584 2338 3584 \r\nQ 2397 3584 2469 3576 \r\nQ 2541 3569 2628 3553 \r\nL 2631 2963 \r\nz\r\n\" id=\"DejaVuSans-72\" transform=\"scale(0.015625)\"/>\r\n       <path d=\"M 3513 2113 \r\nL 3513 0 \r\nL 2938 0 \r\nL 2938 2094 \r\nQ 2938 2591 2744 2837 \r\nQ 2550 3084 2163 3084 \r\nQ 1697 3084 1428 2787 \r\nQ 1159 2491 1159 1978 \r\nL 1159 0 \r\nL 581 0 \r\nL 581 3500 \r\nL 1159 3500 \r\nL 1159 2956 \r\nQ 1366 3272 1645 3428 \r\nQ 1925 3584 2291 3584 \r\nQ 2894 3584 3203 3211 \r\nQ 3513 2838 3513 2113 \r\nz\r\n\" id=\"DejaVuSans-6e\" transform=\"scale(0.015625)\"/>\r\n       <path d=\"M 603 3500 \r\nL 1178 3500 \r\nL 1178 0 \r\nL 603 0 \r\nL 603 3500 \r\nz\r\nM 603 4863 \r\nL 1178 4863 \r\nL 1178 4134 \r\nL 603 4134 \r\nL 603 4863 \r\nz\r\n\" id=\"DejaVuSans-69\" transform=\"scale(0.015625)\"/>\r\n       <path d=\"M 2906 1791 \r\nQ 2906 2416 2648 2759 \r\nQ 2391 3103 1925 3103 \r\nQ 1463 3103 1205 2759 \r\nQ 947 2416 947 1791 \r\nQ 947 1169 1205 825 \r\nQ 1463 481 1925 481 \r\nQ 2391 481 2648 825 \r\nQ 2906 1169 2906 1791 \r\nz\r\nM 3481 434 \r\nQ 3481 -459 3084 -895 \r\nQ 2688 -1331 1869 -1331 \r\nQ 1566 -1331 1297 -1286 \r\nQ 1028 -1241 775 -1147 \r\nL 775 -588 \r\nQ 1028 -725 1275 -790 \r\nQ 1522 -856 1778 -856 \r\nQ 2344 -856 2625 -561 \r\nQ 2906 -266 2906 331 \r\nL 2906 616 \r\nQ 2728 306 2450 153 \r\nQ 2172 0 1784 0 \r\nQ 1141 0 747 490 \r\nQ 353 981 353 1791 \r\nQ 353 2603 747 3093 \r\nQ 1141 3584 1784 3584 \r\nQ 2172 3584 2450 3431 \r\nQ 2728 3278 2906 2969 \r\nL 2906 3500 \r\nL 3481 3500 \r\nL 3481 434 \r\nz\r\n\" id=\"DejaVuSans-67\" transform=\"scale(0.015625)\"/>\r\n       <path id=\"DejaVuSans-20\" transform=\"scale(0.015625)\"/>\r\n       <path d=\"M 2841 2188 \r\nQ 3044 2119 3236 1894 \r\nQ 3428 1669 3622 1275 \r\nL 4263 0 \r\nL 3584 0 \r\nL 2988 1197 \r\nQ 2756 1666 2539 1819 \r\nQ 2322 1972 1947 1972 \r\nL 1259 1972 \r\nL 1259 0 \r\nL 628 0 \r\nL 628 4666 \r\nL 2053 4666 \r\nQ 2853 4666 3247 4331 \r\nQ 3641 3997 3641 3322 \r\nQ 3641 2881 3436 2590 \r\nQ 3231 2300 2841 2188 \r\nz\r\nM 1259 4147 \r\nL 1259 2491 \r\nL 2053 2491 \r\nQ 2509 2491 2742 2702 \r\nQ 2975 2913 2975 3322 \r\nQ 2975 3731 2742 3939 \r\nQ 2509 4147 2053 4147 \r\nL 1259 4147 \r\nz\r\n\" id=\"DejaVuSans-52\" transform=\"scale(0.015625)\"/>\r\n       <path d=\"M 1172 4494 \r\nL 1172 3500 \r\nL 2356 3500 \r\nL 2356 3053 \r\nL 1172 3053 \r\nL 1172 1153 \r\nQ 1172 725 1289 603 \r\nQ 1406 481 1766 481 \r\nL 2356 481 \r\nL 2356 0 \r\nL 1766 0 \r\nQ 1100 0 847 248 \r\nQ 594 497 594 1153 \r\nL 594 3053 \r\nL 172 3053 \r\nL 172 3500 \r\nL 594 3500 \r\nL 594 4494 \r\nL 1172 4494 \r\nz\r\n\" id=\"DejaVuSans-74\" transform=\"scale(0.015625)\"/>\r\n      </defs>\r\n      <use xlink:href=\"#DejaVuSans-4c\"/>\r\n      <use x=\"53.962891\" xlink:href=\"#DejaVuSans-65\"/>\r\n      <use x=\"115.486328\" xlink:href=\"#DejaVuSans-61\"/>\r\n      <use x=\"176.765625\" xlink:href=\"#DejaVuSans-72\"/>\r\n      <use x=\"216.128906\" xlink:href=\"#DejaVuSans-6e\"/>\r\n      <use x=\"279.507812\" xlink:href=\"#DejaVuSans-69\"/>\r\n      <use x=\"307.291016\" xlink:href=\"#DejaVuSans-6e\"/>\r\n      <use x=\"370.669922\" xlink:href=\"#DejaVuSans-67\"/>\r\n      <use x=\"434.146484\" xlink:href=\"#DejaVuSans-20\"/>\r\n      <use x=\"465.933594\" xlink:href=\"#DejaVuSans-52\"/>\r\n      <use x=\"533.166016\" xlink:href=\"#DejaVuSans-61\"/>\r\n      <use x=\"594.445312\" xlink:href=\"#DejaVuSans-74\"/>\r\n      <use x=\"633.654297\" xlink:href=\"#DejaVuSans-65\"/>\r\n     </g>\r\n    </g>\r\n   </g>\r\n   <g id=\"line2d_27\">\r\n    <path clip-path=\"url(#p80b1c952fe)\" d=\"M 73.738125 33.721449 \r\nL 87.688125 33.721449 \r\nL 101.638125 33.721449 \r\nL 115.588125 33.721449 \r\nL 129.538125 33.721449 \r\nL 143.488125 33.721449 \r\nL 157.438125 33.721449 \r\nL 171.388125 33.721449 \r\nL 185.338125 33.721449 \r\nL 199.288125 33.721449 \r\nL 213.238125 146.677293 \r\nL 227.188125 146.677293 \r\nL 241.138125 146.677293 \r\nL 255.088125 146.677293 \r\nL 269.038125 146.677293 \r\nL 282.988125 146.677293 \r\nL 296.938125 203.155215 \r\nL 310.888125 203.155215 \r\nL 324.838125 203.155215 \r\nL 338.788125 203.155215 \r\nL 352.738125 203.155215 \r\nL 366.688125 231.394176 \r\nL 380.638125 231.394176 \r\nL 394.588125 231.394176 \r\nL 408.538125 231.394176 \r\n\" style=\"fill:none;stroke:#0000ff;stroke-linecap:square;stroke-width:1.5;\"/>\r\n    <defs>\r\n     <path d=\"M 0 3 \r\nC 0.795609 3 1.55874 2.683901 2.12132 2.12132 \r\nC 2.683901 1.55874 3 0.795609 3 0 \r\nC 3 -0.795609 2.683901 -1.55874 2.12132 -2.12132 \r\nC 1.55874 -2.683901 0.795609 -3 0 -3 \r\nC -0.795609 -3 -1.55874 -2.683901 -2.12132 -2.12132 \r\nC -2.683901 -1.55874 -3 -0.795609 -3 0 \r\nC -3 0.795609 -2.683901 1.55874 -2.12132 2.12132 \r\nC -1.55874 2.683901 -0.795609 3 0 3 \r\nz\r\n\" id=\"mb9c567bc37\" style=\"stroke:#0000ff;\"/>\r\n    </defs>\r\n    <g clip-path=\"url(#p80b1c952fe)\">\r\n     <use style=\"fill:#0000ff;stroke:#0000ff;\" x=\"73.738125\" xlink:href=\"#mb9c567bc37\" y=\"33.721449\"/>\r\n     <use style=\"fill:#0000ff;stroke:#0000ff;\" x=\"87.688125\" xlink:href=\"#mb9c567bc37\" y=\"33.721449\"/>\r\n     <use style=\"fill:#0000ff;stroke:#0000ff;\" x=\"101.638125\" xlink:href=\"#mb9c567bc37\" y=\"33.721449\"/>\r\n     <use style=\"fill:#0000ff;stroke:#0000ff;\" x=\"115.588125\" xlink:href=\"#mb9c567bc37\" y=\"33.721449\"/>\r\n     <use style=\"fill:#0000ff;stroke:#0000ff;\" x=\"129.538125\" xlink:href=\"#mb9c567bc37\" y=\"33.721449\"/>\r\n     <use style=\"fill:#0000ff;stroke:#0000ff;\" x=\"143.488125\" xlink:href=\"#mb9c567bc37\" y=\"33.721449\"/>\r\n     <use style=\"fill:#0000ff;stroke:#0000ff;\" x=\"157.438125\" xlink:href=\"#mb9c567bc37\" y=\"33.721449\"/>\r\n     <use style=\"fill:#0000ff;stroke:#0000ff;\" x=\"171.388125\" xlink:href=\"#mb9c567bc37\" y=\"33.721449\"/>\r\n     <use style=\"fill:#0000ff;stroke:#0000ff;\" x=\"185.338125\" xlink:href=\"#mb9c567bc37\" y=\"33.721449\"/>\r\n     <use style=\"fill:#0000ff;stroke:#0000ff;\" x=\"199.288125\" xlink:href=\"#mb9c567bc37\" y=\"33.721449\"/>\r\n     <use style=\"fill:#0000ff;stroke:#0000ff;\" x=\"213.238125\" xlink:href=\"#mb9c567bc37\" y=\"146.677293\"/>\r\n     <use style=\"fill:#0000ff;stroke:#0000ff;\" x=\"227.188125\" xlink:href=\"#mb9c567bc37\" y=\"146.677293\"/>\r\n     <use style=\"fill:#0000ff;stroke:#0000ff;\" x=\"241.138125\" xlink:href=\"#mb9c567bc37\" y=\"146.677293\"/>\r\n     <use style=\"fill:#0000ff;stroke:#0000ff;\" x=\"255.088125\" xlink:href=\"#mb9c567bc37\" y=\"146.677293\"/>\r\n     <use style=\"fill:#0000ff;stroke:#0000ff;\" x=\"269.038125\" xlink:href=\"#mb9c567bc37\" y=\"146.677293\"/>\r\n     <use style=\"fill:#0000ff;stroke:#0000ff;\" x=\"282.988125\" xlink:href=\"#mb9c567bc37\" y=\"146.677293\"/>\r\n     <use style=\"fill:#0000ff;stroke:#0000ff;\" x=\"296.938125\" xlink:href=\"#mb9c567bc37\" y=\"203.155215\"/>\r\n     <use style=\"fill:#0000ff;stroke:#0000ff;\" x=\"310.888125\" xlink:href=\"#mb9c567bc37\" y=\"203.155215\"/>\r\n     <use style=\"fill:#0000ff;stroke:#0000ff;\" x=\"324.838125\" xlink:href=\"#mb9c567bc37\" y=\"203.155215\"/>\r\n     <use style=\"fill:#0000ff;stroke:#0000ff;\" x=\"338.788125\" xlink:href=\"#mb9c567bc37\" y=\"203.155215\"/>\r\n     <use style=\"fill:#0000ff;stroke:#0000ff;\" x=\"352.738125\" xlink:href=\"#mb9c567bc37\" y=\"203.155215\"/>\r\n     <use style=\"fill:#0000ff;stroke:#0000ff;\" x=\"366.688125\" xlink:href=\"#mb9c567bc37\" y=\"231.394176\"/>\r\n     <use style=\"fill:#0000ff;stroke:#0000ff;\" x=\"380.638125\" xlink:href=\"#mb9c567bc37\" y=\"231.394176\"/>\r\n     <use style=\"fill:#0000ff;stroke:#0000ff;\" x=\"394.588125\" xlink:href=\"#mb9c567bc37\" y=\"231.394176\"/>\r\n     <use style=\"fill:#0000ff;stroke:#0000ff;\" x=\"408.538125\" xlink:href=\"#mb9c567bc37\" y=\"231.394176\"/>\r\n    </g>\r\n   </g>\r\n   <g id=\"patch_3\">\r\n    <path d=\"M 73.738125 241.277813 \r\nL 73.738125 23.837812 \r\n\" style=\"fill:none;stroke:#000000;stroke-linecap:square;stroke-linejoin:miter;stroke-width:0.8;\"/>\r\n   </g>\r\n   <g id=\"patch_4\">\r\n    <path d=\"M 408.538125 241.277813 \r\nL 408.538125 23.837812 \r\n\" style=\"fill:none;stroke:#000000;stroke-linecap:square;stroke-linejoin:miter;stroke-width:0.8;\"/>\r\n   </g>\r\n   <g id=\"patch_5\">\r\n    <path d=\"M 73.738125 241.277813 \r\nL 408.538125 241.277813 \r\n\" style=\"fill:none;stroke:#000000;stroke-linecap:square;stroke-linejoin:miter;stroke-width:0.8;\"/>\r\n   </g>\r\n   <g id=\"patch_6\">\r\n    <path d=\"M 73.738125 23.837812 \r\nL 408.538125 23.837812 \r\n\" style=\"fill:none;stroke:#000000;stroke-linecap:square;stroke-linejoin:miter;stroke-width:0.8;\"/>\r\n   </g>\r\n  </g>\r\n  <g id=\"axes_2\">\r\n   <g id=\"matplotlib.axis_3\">\r\n    <g id=\"ytick_9\">\r\n     <g id=\"line2d_28\">\r\n      <defs>\r\n       <path d=\"M 0 0 \r\nL 3.5 0 \r\n\" id=\"md4b536ebfb\" style=\"stroke:#ff0000;stroke-width:0.8;\"/>\r\n      </defs>\r\n      <g>\r\n       <use style=\"fill:#ff0000;stroke:#ff0000;stroke-width:0.8;\" x=\"408.538125\" xlink:href=\"#md4b536ebfb\" y=\"224.495876\"/>\r\n      </g>\r\n     </g>\r\n     <g id=\"text_16\">\r\n      <!-- 0.40 -->\r\n      <g style=\"fill:#ff0000;\" transform=\"translate(415.538125 229.054938)scale(0.12 -0.12)\">\r\n       <defs>\r\n        <path d=\"M 2419 4116 \r\nL 825 1625 \r\nL 2419 1625 \r\nL 2419 4116 \r\nz\r\nM 2253 4666 \r\nL 3047 4666 \r\nL 3047 1625 \r\nL 3713 1625 \r\nL 3713 1100 \r\nL 3047 1100 \r\nL 3047 0 \r\nL 2419 0 \r\nL 2419 1100 \r\nL 313 1100 \r\nL 313 1709 \r\nL 2253 4666 \r\nz\r\n\" id=\"DejaVuSans-34\" transform=\"scale(0.015625)\"/>\r\n       </defs>\r\n       <use xlink:href=\"#DejaVuSans-30\"/>\r\n       <use x=\"63.623047\" xlink:href=\"#DejaVuSans-2e\"/>\r\n       <use x=\"95.410156\" xlink:href=\"#DejaVuSans-34\"/>\r\n       <use x=\"159.033203\" xlink:href=\"#DejaVuSans-30\"/>\r\n      </g>\r\n     </g>\r\n    </g>\r\n    <g id=\"ytick_10\">\r\n     <g id=\"line2d_29\">\r\n      <g>\r\n       <use style=\"fill:#ff0000;stroke:#ff0000;stroke-width:0.8;\" x=\"408.538125\" xlink:href=\"#md4b536ebfb\" y=\"187.757029\"/>\r\n      </g>\r\n     </g>\r\n     <g id=\"text_17\">\r\n      <!-- 0.45 -->\r\n      <g style=\"fill:#ff0000;\" transform=\"translate(415.538125 192.316092)scale(0.12 -0.12)\">\r\n       <use xlink:href=\"#DejaVuSans-30\"/>\r\n       <use x=\"63.623047\" xlink:href=\"#DejaVuSans-2e\"/>\r\n       <use x=\"95.410156\" xlink:href=\"#DejaVuSans-34\"/>\r\n       <use x=\"159.033203\" xlink:href=\"#DejaVuSans-35\"/>\r\n      </g>\r\n     </g>\r\n    </g>\r\n    <g id=\"ytick_11\">\r\n     <g id=\"line2d_30\">\r\n      <g>\r\n       <use style=\"fill:#ff0000;stroke:#ff0000;stroke-width:0.8;\" x=\"408.538125\" xlink:href=\"#md4b536ebfb\" y=\"151.018183\"/>\r\n      </g>\r\n     </g>\r\n     <g id=\"text_18\">\r\n      <!-- 0.50 -->\r\n      <g style=\"fill:#ff0000;\" transform=\"translate(415.538125 155.577245)scale(0.12 -0.12)\">\r\n       <use xlink:href=\"#DejaVuSans-30\"/>\r\n       <use x=\"63.623047\" xlink:href=\"#DejaVuSans-2e\"/>\r\n       <use x=\"95.410156\" xlink:href=\"#DejaVuSans-35\"/>\r\n       <use x=\"159.033203\" xlink:href=\"#DejaVuSans-30\"/>\r\n      </g>\r\n     </g>\r\n    </g>\r\n    <g id=\"ytick_12\">\r\n     <g id=\"line2d_31\">\r\n      <g>\r\n       <use style=\"fill:#ff0000;stroke:#ff0000;stroke-width:0.8;\" x=\"408.538125\" xlink:href=\"#md4b536ebfb\" y=\"114.279336\"/>\r\n      </g>\r\n     </g>\r\n     <g id=\"text_19\">\r\n      <!-- 0.55 -->\r\n      <g style=\"fill:#ff0000;\" transform=\"translate(415.538125 118.838399)scale(0.12 -0.12)\">\r\n       <use xlink:href=\"#DejaVuSans-30\"/>\r\n       <use x=\"63.623047\" xlink:href=\"#DejaVuSans-2e\"/>\r\n       <use x=\"95.410156\" xlink:href=\"#DejaVuSans-35\"/>\r\n       <use x=\"159.033203\" xlink:href=\"#DejaVuSans-35\"/>\r\n      </g>\r\n     </g>\r\n    </g>\r\n    <g id=\"ytick_13\">\r\n     <g id=\"line2d_32\">\r\n      <g>\r\n       <use style=\"fill:#ff0000;stroke:#ff0000;stroke-width:0.8;\" x=\"408.538125\" xlink:href=\"#md4b536ebfb\" y=\"77.54049\"/>\r\n      </g>\r\n     </g>\r\n     <g id=\"text_20\">\r\n      <!-- 0.60 -->\r\n      <g style=\"fill:#ff0000;\" transform=\"translate(415.538125 82.099552)scale(0.12 -0.12)\">\r\n       <defs>\r\n        <path d=\"M 2113 2584 \r\nQ 1688 2584 1439 2293 \r\nQ 1191 2003 1191 1497 \r\nQ 1191 994 1439 701 \r\nQ 1688 409 2113 409 \r\nQ 2538 409 2786 701 \r\nQ 3034 994 3034 1497 \r\nQ 3034 2003 2786 2293 \r\nQ 2538 2584 2113 2584 \r\nz\r\nM 3366 4563 \r\nL 3366 3988 \r\nQ 3128 4100 2886 4159 \r\nQ 2644 4219 2406 4219 \r\nQ 1781 4219 1451 3797 \r\nQ 1122 3375 1075 2522 \r\nQ 1259 2794 1537 2939 \r\nQ 1816 3084 2150 3084 \r\nQ 2853 3084 3261 2657 \r\nQ 3669 2231 3669 1497 \r\nQ 3669 778 3244 343 \r\nQ 2819 -91 2113 -91 \r\nQ 1303 -91 875 529 \r\nQ 447 1150 447 2328 \r\nQ 447 3434 972 4092 \r\nQ 1497 4750 2381 4750 \r\nQ 2619 4750 2861 4703 \r\nQ 3103 4656 3366 4563 \r\nz\r\n\" id=\"DejaVuSans-36\" transform=\"scale(0.015625)\"/>\r\n       </defs>\r\n       <use xlink:href=\"#DejaVuSans-30\"/>\r\n       <use x=\"63.623047\" xlink:href=\"#DejaVuSans-2e\"/>\r\n       <use x=\"95.410156\" xlink:href=\"#DejaVuSans-36\"/>\r\n       <use x=\"159.033203\" xlink:href=\"#DejaVuSans-30\"/>\r\n      </g>\r\n     </g>\r\n    </g>\r\n    <g id=\"ytick_14\">\r\n     <g id=\"line2d_33\">\r\n      <g>\r\n       <use style=\"fill:#ff0000;stroke:#ff0000;stroke-width:0.8;\" x=\"408.538125\" xlink:href=\"#md4b536ebfb\" y=\"40.801643\"/>\r\n      </g>\r\n     </g>\r\n     <g id=\"text_21\">\r\n      <!-- 0.65 -->\r\n      <g style=\"fill:#ff0000;\" transform=\"translate(415.538125 45.360706)scale(0.12 -0.12)\">\r\n       <use xlink:href=\"#DejaVuSans-30\"/>\r\n       <use x=\"63.623047\" xlink:href=\"#DejaVuSans-2e\"/>\r\n       <use x=\"95.410156\" xlink:href=\"#DejaVuSans-36\"/>\r\n       <use x=\"159.033203\" xlink:href=\"#DejaVuSans-35\"/>\r\n      </g>\r\n     </g>\r\n    </g>\r\n    <g id=\"text_22\">\r\n     <!-- Validation Loss -->\r\n     <g style=\"fill:#ff0000;\" transform=\"translate(456.894688 184.703437)rotate(-90)scale(0.14 -0.14)\">\r\n      <defs>\r\n       <path d=\"M 1831 0 \r\nL 50 4666 \r\nL 709 4666 \r\nL 2188 738 \r\nL 3669 4666 \r\nL 4325 4666 \r\nL 2547 0 \r\nL 1831 0 \r\nz\r\n\" id=\"DejaVuSans-56\" transform=\"scale(0.015625)\"/>\r\n       <path d=\"M 603 4863 \r\nL 1178 4863 \r\nL 1178 0 \r\nL 603 0 \r\nL 603 4863 \r\nz\r\n\" id=\"DejaVuSans-6c\" transform=\"scale(0.015625)\"/>\r\n       <path d=\"M 2906 2969 \r\nL 2906 4863 \r\nL 3481 4863 \r\nL 3481 0 \r\nL 2906 0 \r\nL 2906 525 \r\nQ 2725 213 2448 61 \r\nQ 2172 -91 1784 -91 \r\nQ 1150 -91 751 415 \r\nQ 353 922 353 1747 \r\nQ 353 2572 751 3078 \r\nQ 1150 3584 1784 3584 \r\nQ 2172 3584 2448 3432 \r\nQ 2725 3281 2906 2969 \r\nz\r\nM 947 1747 \r\nQ 947 1113 1208 752 \r\nQ 1469 391 1925 391 \r\nQ 2381 391 2643 752 \r\nQ 2906 1113 2906 1747 \r\nQ 2906 2381 2643 2742 \r\nQ 2381 3103 1925 3103 \r\nQ 1469 3103 1208 2742 \r\nQ 947 2381 947 1747 \r\nz\r\n\" id=\"DejaVuSans-64\" transform=\"scale(0.015625)\"/>\r\n       <path d=\"M 2834 3397 \r\nL 2834 2853 \r\nQ 2591 2978 2328 3040 \r\nQ 2066 3103 1784 3103 \r\nQ 1356 3103 1142 2972 \r\nQ 928 2841 928 2578 \r\nQ 928 2378 1081 2264 \r\nQ 1234 2150 1697 2047 \r\nL 1894 2003 \r\nQ 2506 1872 2764 1633 \r\nQ 3022 1394 3022 966 \r\nQ 3022 478 2636 193 \r\nQ 2250 -91 1575 -91 \r\nQ 1294 -91 989 -36 \r\nQ 684 19 347 128 \r\nL 347 722 \r\nQ 666 556 975 473 \r\nQ 1284 391 1588 391 \r\nQ 1994 391 2212 530 \r\nQ 2431 669 2431 922 \r\nQ 2431 1156 2273 1281 \r\nQ 2116 1406 1581 1522 \r\nL 1381 1569 \r\nQ 847 1681 609 1914 \r\nQ 372 2147 372 2553 \r\nQ 372 3047 722 3315 \r\nQ 1072 3584 1716 3584 \r\nQ 2034 3584 2315 3537 \r\nQ 2597 3491 2834 3397 \r\nz\r\n\" id=\"DejaVuSans-73\" transform=\"scale(0.015625)\"/>\r\n      </defs>\r\n      <use xlink:href=\"#DejaVuSans-56\"/>\r\n      <use x=\"60.658203\" xlink:href=\"#DejaVuSans-61\"/>\r\n      <use x=\"121.9375\" xlink:href=\"#DejaVuSans-6c\"/>\r\n      <use x=\"149.720703\" xlink:href=\"#DejaVuSans-69\"/>\r\n      <use x=\"177.503906\" xlink:href=\"#DejaVuSans-64\"/>\r\n      <use x=\"240.980469\" xlink:href=\"#DejaVuSans-61\"/>\r\n      <use x=\"302.259766\" xlink:href=\"#DejaVuSans-74\"/>\r\n      <use x=\"341.46875\" xlink:href=\"#DejaVuSans-69\"/>\r\n      <use x=\"369.251953\" xlink:href=\"#DejaVuSans-6f\"/>\r\n      <use x=\"430.433594\" xlink:href=\"#DejaVuSans-6e\"/>\r\n      <use x=\"493.8125\" xlink:href=\"#DejaVuSans-20\"/>\r\n      <use x=\"525.599609\" xlink:href=\"#DejaVuSans-4c\"/>\r\n      <use x=\"579.5625\" xlink:href=\"#DejaVuSans-6f\"/>\r\n      <use x=\"640.744141\" xlink:href=\"#DejaVuSans-73\"/>\r\n      <use x=\"692.84375\" xlink:href=\"#DejaVuSans-73\"/>\r\n     </g>\r\n    </g>\r\n   </g>\r\n   <g id=\"line2d_34\">\r\n    <path clip-path=\"url(#p80b1c952fe)\" d=\"M 73.738125 163.273453 \r\nL 87.688125 112.087814 \r\nL 101.638125 141.752151 \r\nL 115.588125 146.083893 \r\nL 129.538125 168.354964 \r\nL 143.488125 167.273966 \r\nL 157.438125 128.576964 \r\nL 171.388125 68.50218 \r\nL 185.338125 66.571253 \r\nL 199.288125 33.721449 \r\nL 213.238125 231.394176 \r\nL 227.188125 186.592193 \r\nL 241.138125 181.144218 \r\nL 255.088125 177.811202 \r\nL 269.038125 210.46342 \r\nL 282.988125 171.984983 \r\nL 296.938125 195.368563 \r\nL 310.888125 190.505923 \r\nL 324.838125 175.711989 \r\nL 338.788125 169.528108 \r\nL 352.738125 141.567769 \r\nL 366.688125 152.106779 \r\nL 380.638125 146.509986 \r\nL 394.588125 135.186893 \r\nL 408.538125 128.851916 \r\n\" style=\"fill:none;stroke:#ff0000;stroke-linecap:square;stroke-width:1.5;\"/>\r\n    <defs>\r\n     <path d=\"M 0 -3 \r\nL -3 3 \r\nL 3 3 \r\nz\r\n\" id=\"m4511bdfbf9\" style=\"stroke:#ff0000;stroke-linejoin:miter;\"/>\r\n    </defs>\r\n    <g clip-path=\"url(#p80b1c952fe)\">\r\n     <use style=\"fill:#ff0000;stroke:#ff0000;stroke-linejoin:miter;\" x=\"73.738125\" xlink:href=\"#m4511bdfbf9\" y=\"163.273453\"/>\r\n     <use style=\"fill:#ff0000;stroke:#ff0000;stroke-linejoin:miter;\" x=\"87.688125\" xlink:href=\"#m4511bdfbf9\" y=\"112.087814\"/>\r\n     <use style=\"fill:#ff0000;stroke:#ff0000;stroke-linejoin:miter;\" x=\"101.638125\" xlink:href=\"#m4511bdfbf9\" y=\"141.752151\"/>\r\n     <use style=\"fill:#ff0000;stroke:#ff0000;stroke-linejoin:miter;\" x=\"115.588125\" xlink:href=\"#m4511bdfbf9\" y=\"146.083893\"/>\r\n     <use style=\"fill:#ff0000;stroke:#ff0000;stroke-linejoin:miter;\" x=\"129.538125\" xlink:href=\"#m4511bdfbf9\" y=\"168.354964\"/>\r\n     <use style=\"fill:#ff0000;stroke:#ff0000;stroke-linejoin:miter;\" x=\"143.488125\" xlink:href=\"#m4511bdfbf9\" y=\"167.273966\"/>\r\n     <use style=\"fill:#ff0000;stroke:#ff0000;stroke-linejoin:miter;\" x=\"157.438125\" xlink:href=\"#m4511bdfbf9\" y=\"128.576964\"/>\r\n     <use style=\"fill:#ff0000;stroke:#ff0000;stroke-linejoin:miter;\" x=\"171.388125\" xlink:href=\"#m4511bdfbf9\" y=\"68.50218\"/>\r\n     <use style=\"fill:#ff0000;stroke:#ff0000;stroke-linejoin:miter;\" x=\"185.338125\" xlink:href=\"#m4511bdfbf9\" y=\"66.571253\"/>\r\n     <use style=\"fill:#ff0000;stroke:#ff0000;stroke-linejoin:miter;\" x=\"199.288125\" xlink:href=\"#m4511bdfbf9\" y=\"33.721449\"/>\r\n     <use style=\"fill:#ff0000;stroke:#ff0000;stroke-linejoin:miter;\" x=\"213.238125\" xlink:href=\"#m4511bdfbf9\" y=\"231.394176\"/>\r\n     <use style=\"fill:#ff0000;stroke:#ff0000;stroke-linejoin:miter;\" x=\"227.188125\" xlink:href=\"#m4511bdfbf9\" y=\"186.592193\"/>\r\n     <use style=\"fill:#ff0000;stroke:#ff0000;stroke-linejoin:miter;\" x=\"241.138125\" xlink:href=\"#m4511bdfbf9\" y=\"181.144218\"/>\r\n     <use style=\"fill:#ff0000;stroke:#ff0000;stroke-linejoin:miter;\" x=\"255.088125\" xlink:href=\"#m4511bdfbf9\" y=\"177.811202\"/>\r\n     <use style=\"fill:#ff0000;stroke:#ff0000;stroke-linejoin:miter;\" x=\"269.038125\" xlink:href=\"#m4511bdfbf9\" y=\"210.46342\"/>\r\n     <use style=\"fill:#ff0000;stroke:#ff0000;stroke-linejoin:miter;\" x=\"282.988125\" xlink:href=\"#m4511bdfbf9\" y=\"171.984983\"/>\r\n     <use style=\"fill:#ff0000;stroke:#ff0000;stroke-linejoin:miter;\" x=\"296.938125\" xlink:href=\"#m4511bdfbf9\" y=\"195.368563\"/>\r\n     <use style=\"fill:#ff0000;stroke:#ff0000;stroke-linejoin:miter;\" x=\"310.888125\" xlink:href=\"#m4511bdfbf9\" y=\"190.505923\"/>\r\n     <use style=\"fill:#ff0000;stroke:#ff0000;stroke-linejoin:miter;\" x=\"324.838125\" xlink:href=\"#m4511bdfbf9\" y=\"175.711989\"/>\r\n     <use style=\"fill:#ff0000;stroke:#ff0000;stroke-linejoin:miter;\" x=\"338.788125\" xlink:href=\"#m4511bdfbf9\" y=\"169.528108\"/>\r\n     <use style=\"fill:#ff0000;stroke:#ff0000;stroke-linejoin:miter;\" x=\"352.738125\" xlink:href=\"#m4511bdfbf9\" y=\"141.567769\"/>\r\n     <use style=\"fill:#ff0000;stroke:#ff0000;stroke-linejoin:miter;\" x=\"366.688125\" xlink:href=\"#m4511bdfbf9\" y=\"152.106779\"/>\r\n     <use style=\"fill:#ff0000;stroke:#ff0000;stroke-linejoin:miter;\" x=\"380.638125\" xlink:href=\"#m4511bdfbf9\" y=\"146.509986\"/>\r\n     <use style=\"fill:#ff0000;stroke:#ff0000;stroke-linejoin:miter;\" x=\"394.588125\" xlink:href=\"#m4511bdfbf9\" y=\"135.186893\"/>\r\n     <use style=\"fill:#ff0000;stroke:#ff0000;stroke-linejoin:miter;\" x=\"408.538125\" xlink:href=\"#m4511bdfbf9\" y=\"128.851916\"/>\r\n    </g>\r\n   </g>\r\n   <g id=\"patch_7\">\r\n    <path d=\"M 73.738125 241.277812 \r\nL 73.738125 23.837812 \r\n\" style=\"fill:none;stroke:#000000;stroke-linecap:square;stroke-linejoin:miter;stroke-width:0.8;\"/>\r\n   </g>\r\n   <g id=\"patch_8\">\r\n    <path d=\"M 408.538125 241.277812 \r\nL 408.538125 23.837812 \r\n\" style=\"fill:none;stroke:#000000;stroke-linecap:square;stroke-linejoin:miter;stroke-width:0.8;\"/>\r\n   </g>\r\n   <g id=\"patch_9\">\r\n    <path d=\"M 73.738125 241.277813 \r\nL 408.538125 241.277813 \r\n\" style=\"fill:none;stroke:#000000;stroke-linecap:square;stroke-linejoin:miter;stroke-width:0.8;\"/>\r\n   </g>\r\n   <g id=\"patch_10\">\r\n    <path d=\"M 73.738125 23.837812 \r\nL 408.538125 23.837812 \r\n\" style=\"fill:none;stroke:#000000;stroke-linecap:square;stroke-linejoin:miter;stroke-width:0.8;\"/>\r\n   </g>\r\n   <g id=\"text_23\">\r\n    <!-- Reduce LR on Plateau -->\r\n    <g transform=\"translate(164.855625 17.837812)scale(0.14 -0.14)\">\r\n     <defs>\r\n      <path d=\"M 544 1381 \r\nL 544 3500 \r\nL 1119 3500 \r\nL 1119 1403 \r\nQ 1119 906 1312 657 \r\nQ 1506 409 1894 409 \r\nQ 2359 409 2629 706 \r\nQ 2900 1003 2900 1516 \r\nL 2900 3500 \r\nL 3475 3500 \r\nL 3475 0 \r\nL 2900 0 \r\nL 2900 538 \r\nQ 2691 219 2414 64 \r\nQ 2138 -91 1772 -91 \r\nQ 1169 -91 856 284 \r\nQ 544 659 544 1381 \r\nz\r\nM 1991 3584 \r\nL 1991 3584 \r\nz\r\n\" id=\"DejaVuSans-75\" transform=\"scale(0.015625)\"/>\r\n      <path d=\"M 1259 4147 \r\nL 1259 2394 \r\nL 2053 2394 \r\nQ 2494 2394 2734 2622 \r\nQ 2975 2850 2975 3272 \r\nQ 2975 3691 2734 3919 \r\nQ 2494 4147 2053 4147 \r\nL 1259 4147 \r\nz\r\nM 628 4666 \r\nL 2053 4666 \r\nQ 2838 4666 3239 4311 \r\nQ 3641 3956 3641 3272 \r\nQ 3641 2581 3239 2228 \r\nQ 2838 1875 2053 1875 \r\nL 1259 1875 \r\nL 1259 0 \r\nL 628 0 \r\nL 628 4666 \r\nz\r\n\" id=\"DejaVuSans-50\" transform=\"scale(0.015625)\"/>\r\n     </defs>\r\n     <use xlink:href=\"#DejaVuSans-52\"/>\r\n     <use x=\"64.982422\" xlink:href=\"#DejaVuSans-65\"/>\r\n     <use x=\"126.505859\" xlink:href=\"#DejaVuSans-64\"/>\r\n     <use x=\"189.982422\" xlink:href=\"#DejaVuSans-75\"/>\r\n     <use x=\"253.361328\" xlink:href=\"#DejaVuSans-63\"/>\r\n     <use x=\"308.341797\" xlink:href=\"#DejaVuSans-65\"/>\r\n     <use x=\"369.865234\" xlink:href=\"#DejaVuSans-20\"/>\r\n     <use x=\"401.652344\" xlink:href=\"#DejaVuSans-4c\"/>\r\n     <use x=\"457.365234\" xlink:href=\"#DejaVuSans-52\"/>\r\n     <use x=\"526.847656\" xlink:href=\"#DejaVuSans-20\"/>\r\n     <use x=\"558.634766\" xlink:href=\"#DejaVuSans-6f\"/>\r\n     <use x=\"619.816406\" xlink:href=\"#DejaVuSans-6e\"/>\r\n     <use x=\"683.195312\" xlink:href=\"#DejaVuSans-20\"/>\r\n     <use x=\"714.982422\" xlink:href=\"#DejaVuSans-50\"/>\r\n     <use x=\"775.285156\" xlink:href=\"#DejaVuSans-6c\"/>\r\n     <use x=\"803.068359\" xlink:href=\"#DejaVuSans-61\"/>\r\n     <use x=\"864.347656\" xlink:href=\"#DejaVuSans-74\"/>\r\n     <use x=\"903.556641\" xlink:href=\"#DejaVuSans-65\"/>\r\n     <use x=\"965.080078\" xlink:href=\"#DejaVuSans-61\"/>\r\n     <use x=\"1026.359375\" xlink:href=\"#DejaVuSans-75\"/>\r\n    </g>\r\n   </g>\r\n  </g>\r\n </g>\r\n <defs>\r\n  <clipPath id=\"p80b1c952fe\">\r\n   <rect height=\"217.44\" width=\"334.8\" x=\"73.738125\" y=\"23.837812\"/>\r\n  </clipPath>\r\n </defs>\r\n</svg>\r\n",
      "image/png": "[encoded data removed]"
     },
     "metadata": {
      "needs_background": "light"
     }
    }
   ],
   "metadata": {}
  },
  {
   "cell_type": "markdown",
   "source": [
    "* 사이클 스케줄링"
   ],
   "metadata": {}
  },
  {
   "cell_type": "code",
   "execution_count": 112,
   "source": [
    "#1사이클 스케줄링\r\n",
    "K = keras.backend\r\n",
    "\r\n",
    "class ExponentialLearningRate(keras.callbacks.Callback):\r\n",
    "    def __init__(self, factor):\r\n",
    "        self.factor = factor\r\n",
    "        self.rates = []\r\n",
    "        self.losses = []\r\n",
    "    def on_batch_end(self, batch, logs):\r\n",
    "        self.rates.append(K.get_value(self.model.optimizer.lr))\r\n",
    "        self.losses.append(logs[\"loss\"])\r\n",
    "        K.set_value(self.model.optimizer.lr, self.model.optimizer.lr * self.factor)\r\n",
    "\r\n",
    "def find_learning_rate(model, X, y, epochs=1, batch_size=32, min_rate=10**-5, max_rate=10):\r\n",
    "    init_weights = model.get_weights()\r\n",
    "    iterations = len(X) // batch_size * epochs\r\n",
    "    factor = np.exp(np.log(max_rate / min_rate) / iterations)\r\n",
    "    init_lr = K.get_value(model.optimizer.lr)\r\n",
    "    K.set_value(model.optimizer.lr, min_rate)\r\n",
    "    exp_lr = ExponentialLearningRate(factor)\r\n",
    "    history = model.fit(X, y, epochs=epochs, batch_size=batch_size,\r\n",
    "                        callbacks=[exp_lr])\r\n",
    "    K.set_value(model.optimizer.lr, init_lr)\r\n",
    "    model.set_weights(init_weights)\r\n",
    "    return exp_lr.rates, exp_lr.losses\r\n",
    "\r\n",
    "def plot_lr_vs_loss(rates, losses):\r\n",
    "    plt.plot(rates, losses)\r\n",
    "    plt.gca().set_xscale('log')\r\n",
    "    plt.hlines(min(losses), min(rates), max(rates))\r\n",
    "    plt.axis([min(rates), max(rates), min(losses), (losses[0] + min(losses)) / 2])\r\n",
    "    plt.xlabel(\"Learning rate\")\r\n",
    "    plt.ylabel(\"Loss\")"
   ],
   "outputs": [],
   "metadata": {}
  },
  {
   "cell_type": "code",
   "execution_count": 113,
   "source": [
    "tf.random.set_seed(42)\r\n",
    "np.random.seed(42)\r\n",
    "\r\n",
    "model = keras.models.Sequential([\r\n",
    "    keras.layers.Flatten(input_shape=[28, 28]),\r\n",
    "    keras.layers.Dense(300, activation=\"selu\", kernel_initializer=\"lecun_normal\"),\r\n",
    "    keras.layers.Dense(100, activation=\"selu\", kernel_initializer=\"lecun_normal\"),\r\n",
    "    keras.layers.Dense(10, activation=\"softmax\")\r\n",
    "])\r\n",
    "model.compile(loss=\"sparse_categorical_crossentropy\",\r\n",
    "              optimizer=keras.optimizers.SGD(lr=1e-3),\r\n",
    "              metrics=[\"accuracy\"])"
   ],
   "outputs": [],
   "metadata": {}
  },
  {
   "cell_type": "code",
   "execution_count": 114,
   "source": [
    "batch_size = 128\r\n",
    "rates, losses = find_learning_rate(model, X_train_scaled, y_train, epochs=1, batch_size=batch_size)\r\n",
    "plot_lr_vs_loss(rates, losses)"
   ],
   "outputs": [
    {
     "output_type": "stream",
     "name": "stdout",
     "text": [
      "430/430 [==============================] - 1s 2ms/step - loss: nan - accuracy: 0.3848\n"
     ]
    },
    {
     "output_type": "display_data",
     "data": {
      "text/plain": [
       "<Figure size 432x288 with 1 Axes>"
      ],
      "image/svg+xml": "<?xml version=\"1.0\" encoding=\"utf-8\" standalone=\"no\"?>\r\n<!DOCTYPE svg PUBLIC \"-//W3C//DTD SVG 1.1//EN\"\r\n  \"http://www.w3.org/Graphics/SVG/1.1/DTD/svg11.dtd\">\r\n<svg height=\"268.003125pt\" version=\"1.1\" viewBox=\"0 0 403.392617 268.003125\" width=\"403.392617pt\" xmlns=\"http://www.w3.org/2000/svg\" xmlns:xlink=\"http://www.w3.org/1999/xlink\">\r\n <metadata>\r\n  <rdf:RDF xmlns:cc=\"http://creativecommons.org/ns#\" xmlns:dc=\"http://purl.org/dc/elements/1.1/\" xmlns:rdf=\"http://www.w3.org/1999/02/22-rdf-syntax-ns#\">\r\n   <cc:Work>\r\n    <dc:type rdf:resource=\"http://purl.org/dc/dcmitype/StillImage\"/>\r\n    <dc:date>2021-08-20T02:03:18.434935</dc:date>\r\n    <dc:format>image/svg+xml</dc:format>\r\n    <dc:creator>\r\n     <cc:Agent>\r\n      <dc:title>Matplotlib v3.4.2, https://matplotlib.org/</dc:title>\r\n     </cc:Agent>\r\n    </dc:creator>\r\n   </cc:Work>\r\n  </rdf:RDF>\r\n </metadata>\r\n <defs>\r\n  <style type=\"text/css\">*{stroke-linecap:butt;stroke-linejoin:round;}</style>\r\n </defs>\r\n <g id=\"figure_1\">\r\n  <g id=\"patch_1\">\r\n   <path d=\"M 0 268.003125 \r\nL 403.392617 268.003125 \r\nL 403.392617 0 \r\nL 0 0 \r\nz\r\n\" style=\"fill:none;\"/>\r\n  </g>\r\n  <g id=\"axes_1\">\r\n   <g id=\"patch_2\">\r\n    <path d=\"M 50.833125 224.64 \r\nL 385.633125 224.64 \r\nL 385.633125 7.2 \r\nL 50.833125 7.2 \r\nz\r\n\" style=\"fill:#ffffff;\"/>\r\n   </g>\r\n   <g id=\"matplotlib.axis_1\">\r\n    <g id=\"xtick_1\">\r\n     <g id=\"line2d_1\">\r\n      <defs>\r\n       <path d=\"M 0 0 \r\nL 0 3.5 \r\n\" id=\"m496fcbbc08\" style=\"stroke:#000000;stroke-width:0.8;\"/>\r\n      </defs>\r\n      <g>\r\n       <use style=\"stroke:#000000;stroke-width:0.8;\" x=\"50.833126\" xlink:href=\"#m496fcbbc08\" y=\"224.64\"/>\r\n      </g>\r\n     </g>\r\n     <g id=\"text_1\">\r\n      <!-- $\\mathdefault{10^{-5}}$ -->\r\n      <g transform=\"translate(36.733126 240.758125)scale(0.12 -0.12)\">\r\n       <defs>\r\n        <path d=\"M 794 531 \r\nL 1825 531 \r\nL 1825 4091 \r\nL 703 3866 \r\nL 703 4441 \r\nL 1819 4666 \r\nL 2450 4666 \r\nL 2450 531 \r\nL 3481 531 \r\nL 3481 0 \r\nL 794 0 \r\nL 794 531 \r\nz\r\n\" id=\"DejaVuSans-31\" transform=\"scale(0.015625)\"/>\r\n        <path d=\"M 2034 4250 \r\nQ 1547 4250 1301 3770 \r\nQ 1056 3291 1056 2328 \r\nQ 1056 1369 1301 889 \r\nQ 1547 409 2034 409 \r\nQ 2525 409 2770 889 \r\nQ 3016 1369 3016 2328 \r\nQ 3016 3291 2770 3770 \r\nQ 2525 4250 2034 4250 \r\nz\r\nM 2034 4750 \r\nQ 2819 4750 3233 4129 \r\nQ 3647 3509 3647 2328 \r\nQ 3647 1150 3233 529 \r\nQ 2819 -91 2034 -91 \r\nQ 1250 -91 836 529 \r\nQ 422 1150 422 2328 \r\nQ 422 3509 836 4129 \r\nQ 1250 4750 2034 4750 \r\nz\r\n\" id=\"DejaVuSans-30\" transform=\"scale(0.015625)\"/>\r\n        <path d=\"M 678 2272 \r\nL 4684 2272 \r\nL 4684 1741 \r\nL 678 1741 \r\nL 678 2272 \r\nz\r\n\" id=\"DejaVuSans-2212\" transform=\"scale(0.015625)\"/>\r\n        <path d=\"M 691 4666 \r\nL 3169 4666 \r\nL 3169 4134 \r\nL 1269 4134 \r\nL 1269 2991 \r\nQ 1406 3038 1543 3061 \r\nQ 1681 3084 1819 3084 \r\nQ 2600 3084 3056 2656 \r\nQ 3513 2228 3513 1497 \r\nQ 3513 744 3044 326 \r\nQ 2575 -91 1722 -91 \r\nQ 1428 -91 1123 -41 \r\nQ 819 9 494 109 \r\nL 494 744 \r\nQ 775 591 1075 516 \r\nQ 1375 441 1709 441 \r\nQ 2250 441 2565 725 \r\nQ 2881 1009 2881 1497 \r\nQ 2881 1984 2565 2268 \r\nQ 2250 2553 1709 2553 \r\nQ 1456 2553 1204 2497 \r\nQ 953 2441 691 2322 \r\nL 691 4666 \r\nz\r\n\" id=\"DejaVuSans-35\" transform=\"scale(0.015625)\"/>\r\n       </defs>\r\n       <use transform=\"translate(0 0.684375)\" xlink:href=\"#DejaVuSans-31\"/>\r\n       <use transform=\"translate(63.623047 0.684375)\" xlink:href=\"#DejaVuSans-30\"/>\r\n       <use transform=\"translate(128.203125 38.965625)scale(0.7)\" xlink:href=\"#DejaVuSans-2212\"/>\r\n       <use transform=\"translate(186.855469 38.965625)scale(0.7)\" xlink:href=\"#DejaVuSans-35\"/>\r\n      </g>\r\n     </g>\r\n    </g>\r\n    <g id=\"xtick_2\">\r\n     <g id=\"line2d_2\">\r\n      <g>\r\n       <use style=\"stroke:#000000;stroke-width:0.8;\" x=\"106.633041\" xlink:href=\"#m496fcbbc08\" y=\"224.64\"/>\r\n      </g>\r\n     </g>\r\n     <g id=\"text_2\">\r\n      <!-- $\\mathdefault{10^{-4}}$ -->\r\n      <g transform=\"translate(92.533041 240.758125)scale(0.12 -0.12)\">\r\n       <defs>\r\n        <path d=\"M 2419 4116 \r\nL 825 1625 \r\nL 2419 1625 \r\nL 2419 4116 \r\nz\r\nM 2253 4666 \r\nL 3047 4666 \r\nL 3047 1625 \r\nL 3713 1625 \r\nL 3713 1100 \r\nL 3047 1100 \r\nL 3047 0 \r\nL 2419 0 \r\nL 2419 1100 \r\nL 313 1100 \r\nL 313 1709 \r\nL 2253 4666 \r\nz\r\n\" id=\"DejaVuSans-34\" transform=\"scale(0.015625)\"/>\r\n       </defs>\r\n       <use transform=\"translate(0 0.684375)\" xlink:href=\"#DejaVuSans-31\"/>\r\n       <use transform=\"translate(63.623047 0.684375)\" xlink:href=\"#DejaVuSans-30\"/>\r\n       <use transform=\"translate(128.203125 38.965625)scale(0.7)\" xlink:href=\"#DejaVuSans-2212\"/>\r\n       <use transform=\"translate(186.855469 38.965625)scale(0.7)\" xlink:href=\"#DejaVuSans-34\"/>\r\n      </g>\r\n     </g>\r\n    </g>\r\n    <g id=\"xtick_3\">\r\n     <g id=\"line2d_3\">\r\n      <g>\r\n       <use style=\"stroke:#000000;stroke-width:0.8;\" x=\"162.432956\" xlink:href=\"#m496fcbbc08\" y=\"224.64\"/>\r\n      </g>\r\n     </g>\r\n     <g id=\"text_3\">\r\n      <!-- $\\mathdefault{10^{-3}}$ -->\r\n      <g transform=\"translate(148.332956 240.758125)scale(0.12 -0.12)\">\r\n       <defs>\r\n        <path d=\"M 2597 2516 \r\nQ 3050 2419 3304 2112 \r\nQ 3559 1806 3559 1356 \r\nQ 3559 666 3084 287 \r\nQ 2609 -91 1734 -91 \r\nQ 1441 -91 1130 -33 \r\nQ 819 25 488 141 \r\nL 488 750 \r\nQ 750 597 1062 519 \r\nQ 1375 441 1716 441 \r\nQ 2309 441 2620 675 \r\nQ 2931 909 2931 1356 \r\nQ 2931 1769 2642 2001 \r\nQ 2353 2234 1838 2234 \r\nL 1294 2234 \r\nL 1294 2753 \r\nL 1863 2753 \r\nQ 2328 2753 2575 2939 \r\nQ 2822 3125 2822 3475 \r\nQ 2822 3834 2567 4026 \r\nQ 2313 4219 1838 4219 \r\nQ 1578 4219 1281 4162 \r\nQ 984 4106 628 3988 \r\nL 628 4550 \r\nQ 988 4650 1302 4700 \r\nQ 1616 4750 1894 4750 \r\nQ 2613 4750 3031 4423 \r\nQ 3450 4097 3450 3541 \r\nQ 3450 3153 3228 2886 \r\nQ 3006 2619 2597 2516 \r\nz\r\n\" id=\"DejaVuSans-33\" transform=\"scale(0.015625)\"/>\r\n       </defs>\r\n       <use transform=\"translate(0 0.765625)\" xlink:href=\"#DejaVuSans-31\"/>\r\n       <use transform=\"translate(63.623047 0.765625)\" xlink:href=\"#DejaVuSans-30\"/>\r\n       <use transform=\"translate(128.203125 39.046875)scale(0.7)\" xlink:href=\"#DejaVuSans-2212\"/>\r\n       <use transform=\"translate(186.855469 39.046875)scale(0.7)\" xlink:href=\"#DejaVuSans-33\"/>\r\n      </g>\r\n     </g>\r\n    </g>\r\n    <g id=\"xtick_4\">\r\n     <g id=\"line2d_4\">\r\n      <g>\r\n       <use style=\"stroke:#000000;stroke-width:0.8;\" x=\"218.232871\" xlink:href=\"#m496fcbbc08\" y=\"224.64\"/>\r\n      </g>\r\n     </g>\r\n     <g id=\"text_4\">\r\n      <!-- $\\mathdefault{10^{-2}}$ -->\r\n      <g transform=\"translate(204.132871 240.758125)scale(0.12 -0.12)\">\r\n       <defs>\r\n        <path d=\"M 1228 531 \r\nL 3431 531 \r\nL 3431 0 \r\nL 469 0 \r\nL 469 531 \r\nQ 828 903 1448 1529 \r\nQ 2069 2156 2228 2338 \r\nQ 2531 2678 2651 2914 \r\nQ 2772 3150 2772 3378 \r\nQ 2772 3750 2511 3984 \r\nQ 2250 4219 1831 4219 \r\nQ 1534 4219 1204 4116 \r\nQ 875 4013 500 3803 \r\nL 500 4441 \r\nQ 881 4594 1212 4672 \r\nQ 1544 4750 1819 4750 \r\nQ 2544 4750 2975 4387 \r\nQ 3406 4025 3406 3419 \r\nQ 3406 3131 3298 2873 \r\nQ 3191 2616 2906 2266 \r\nQ 2828 2175 2409 1742 \r\nQ 1991 1309 1228 531 \r\nz\r\n\" id=\"DejaVuSans-32\" transform=\"scale(0.015625)\"/>\r\n       </defs>\r\n       <use transform=\"translate(0 0.765625)\" xlink:href=\"#DejaVuSans-31\"/>\r\n       <use transform=\"translate(63.623047 0.765625)\" xlink:href=\"#DejaVuSans-30\"/>\r\n       <use transform=\"translate(128.203125 39.046875)scale(0.7)\" xlink:href=\"#DejaVuSans-2212\"/>\r\n       <use transform=\"translate(186.855469 39.046875)scale(0.7)\" xlink:href=\"#DejaVuSans-32\"/>\r\n      </g>\r\n     </g>\r\n    </g>\r\n    <g id=\"xtick_5\">\r\n     <g id=\"line2d_5\">\r\n      <g>\r\n       <use style=\"stroke:#000000;stroke-width:0.8;\" x=\"274.032786\" xlink:href=\"#m496fcbbc08\" y=\"224.64\"/>\r\n      </g>\r\n     </g>\r\n     <g id=\"text_5\">\r\n      <!-- $\\mathdefault{10^{-1}}$ -->\r\n      <g transform=\"translate(259.932786 240.758125)scale(0.12 -0.12)\">\r\n       <use transform=\"translate(0 0.684375)\" xlink:href=\"#DejaVuSans-31\"/>\r\n       <use transform=\"translate(63.623047 0.684375)\" xlink:href=\"#DejaVuSans-30\"/>\r\n       <use transform=\"translate(128.203125 38.965625)scale(0.7)\" xlink:href=\"#DejaVuSans-2212\"/>\r\n       <use transform=\"translate(186.855469 38.965625)scale(0.7)\" xlink:href=\"#DejaVuSans-31\"/>\r\n      </g>\r\n     </g>\r\n    </g>\r\n    <g id=\"xtick_6\">\r\n     <g id=\"line2d_6\">\r\n      <g>\r\n       <use style=\"stroke:#000000;stroke-width:0.8;\" x=\"329.832701\" xlink:href=\"#m496fcbbc08\" y=\"224.64\"/>\r\n      </g>\r\n     </g>\r\n     <g id=\"text_6\">\r\n      <!-- $\\mathdefault{10^{0}}$ -->\r\n      <g transform=\"translate(319.272701 240.758125)scale(0.12 -0.12)\">\r\n       <use transform=\"translate(0 0.765625)\" xlink:href=\"#DejaVuSans-31\"/>\r\n       <use transform=\"translate(63.623047 0.765625)\" xlink:href=\"#DejaVuSans-30\"/>\r\n       <use transform=\"translate(128.203125 39.046875)scale(0.7)\" xlink:href=\"#DejaVuSans-30\"/>\r\n      </g>\r\n     </g>\r\n    </g>\r\n    <g id=\"xtick_7\">\r\n     <g id=\"line2d_7\">\r\n      <g>\r\n       <use style=\"stroke:#000000;stroke-width:0.8;\" x=\"385.632617\" xlink:href=\"#m496fcbbc08\" y=\"224.64\"/>\r\n      </g>\r\n     </g>\r\n     <g id=\"text_7\">\r\n      <!-- $\\mathdefault{10^{1}}$ -->\r\n      <g transform=\"translate(375.072617 240.758125)scale(0.12 -0.12)\">\r\n       <use transform=\"translate(0 0.684375)\" xlink:href=\"#DejaVuSans-31\"/>\r\n       <use transform=\"translate(63.623047 0.684375)\" xlink:href=\"#DejaVuSans-30\"/>\r\n       <use transform=\"translate(128.203125 38.965625)scale(0.7)\" xlink:href=\"#DejaVuSans-31\"/>\r\n      </g>\r\n     </g>\r\n    </g>\r\n    <g id=\"xtick_8\">\r\n     <g id=\"line2d_8\">\r\n      <defs>\r\n       <path d=\"M 0 0 \r\nL 0 2 \r\n\" id=\"mb3c2db1136\" style=\"stroke:#000000;stroke-width:0.6;\"/>\r\n      </defs>\r\n      <g>\r\n       <use style=\"stroke:#000000;stroke-width:0.6;\" x=\"67.630574\" xlink:href=\"#mb3c2db1136\" y=\"224.64\"/>\r\n      </g>\r\n     </g>\r\n    </g>\r\n    <g id=\"xtick_9\">\r\n     <g id=\"line2d_9\">\r\n      <g>\r\n       <use style=\"stroke:#000000;stroke-width:0.6;\" x=\"77.456451\" xlink:href=\"#mb3c2db1136\" y=\"224.64\"/>\r\n      </g>\r\n     </g>\r\n    </g>\r\n    <g id=\"xtick_10\">\r\n     <g id=\"line2d_10\">\r\n      <g>\r\n       <use style=\"stroke:#000000;stroke-width:0.6;\" x=\"84.428022\" xlink:href=\"#mb3c2db1136\" y=\"224.64\"/>\r\n      </g>\r\n     </g>\r\n    </g>\r\n    <g id=\"xtick_11\">\r\n     <g id=\"line2d_11\">\r\n      <g>\r\n       <use style=\"stroke:#000000;stroke-width:0.6;\" x=\"89.835593\" xlink:href=\"#mb3c2db1136\" y=\"224.64\"/>\r\n      </g>\r\n     </g>\r\n    </g>\r\n    <g id=\"xtick_12\">\r\n     <g id=\"line2d_12\">\r\n      <g>\r\n       <use style=\"stroke:#000000;stroke-width:0.6;\" x=\"94.253899\" xlink:href=\"#mb3c2db1136\" y=\"224.64\"/>\r\n      </g>\r\n     </g>\r\n    </g>\r\n    <g id=\"xtick_13\">\r\n     <g id=\"line2d_13\">\r\n      <g>\r\n       <use style=\"stroke:#000000;stroke-width:0.6;\" x=\"97.989525\" xlink:href=\"#mb3c2db1136\" y=\"224.64\"/>\r\n      </g>\r\n     </g>\r\n    </g>\r\n    <g id=\"xtick_14\">\r\n     <g id=\"line2d_14\">\r\n      <g>\r\n       <use style=\"stroke:#000000;stroke-width:0.6;\" x=\"101.22547\" xlink:href=\"#mb3c2db1136\" y=\"224.64\"/>\r\n      </g>\r\n     </g>\r\n    </g>\r\n    <g id=\"xtick_15\">\r\n     <g id=\"line2d_15\">\r\n      <g>\r\n       <use style=\"stroke:#000000;stroke-width:0.6;\" x=\"104.079777\" xlink:href=\"#mb3c2db1136\" y=\"224.64\"/>\r\n      </g>\r\n     </g>\r\n    </g>\r\n    <g id=\"xtick_16\">\r\n     <g id=\"line2d_16\">\r\n      <g>\r\n       <use style=\"stroke:#000000;stroke-width:0.6;\" x=\"123.430489\" xlink:href=\"#mb3c2db1136\" y=\"224.64\"/>\r\n      </g>\r\n     </g>\r\n    </g>\r\n    <g id=\"xtick_17\">\r\n     <g id=\"line2d_17\">\r\n      <g>\r\n       <use style=\"stroke:#000000;stroke-width:0.6;\" x=\"133.256366\" xlink:href=\"#mb3c2db1136\" y=\"224.64\"/>\r\n      </g>\r\n     </g>\r\n    </g>\r\n    <g id=\"xtick_18\">\r\n     <g id=\"line2d_18\">\r\n      <g>\r\n       <use style=\"stroke:#000000;stroke-width:0.6;\" x=\"140.227937\" xlink:href=\"#mb3c2db1136\" y=\"224.64\"/>\r\n      </g>\r\n     </g>\r\n    </g>\r\n    <g id=\"xtick_19\">\r\n     <g id=\"line2d_19\">\r\n      <g>\r\n       <use style=\"stroke:#000000;stroke-width:0.6;\" x=\"145.635508\" xlink:href=\"#mb3c2db1136\" y=\"224.64\"/>\r\n      </g>\r\n     </g>\r\n    </g>\r\n    <g id=\"xtick_20\">\r\n     <g id=\"line2d_20\">\r\n      <g>\r\n       <use style=\"stroke:#000000;stroke-width:0.6;\" x=\"150.053815\" xlink:href=\"#mb3c2db1136\" y=\"224.64\"/>\r\n      </g>\r\n     </g>\r\n    </g>\r\n    <g id=\"xtick_21\">\r\n     <g id=\"line2d_21\">\r\n      <g>\r\n       <use style=\"stroke:#000000;stroke-width:0.6;\" x=\"153.78944\" xlink:href=\"#mb3c2db1136\" y=\"224.64\"/>\r\n      </g>\r\n     </g>\r\n    </g>\r\n    <g id=\"xtick_22\">\r\n     <g id=\"line2d_22\">\r\n      <g>\r\n       <use style=\"stroke:#000000;stroke-width:0.6;\" x=\"157.025385\" xlink:href=\"#mb3c2db1136\" y=\"224.64\"/>\r\n      </g>\r\n     </g>\r\n    </g>\r\n    <g id=\"xtick_23\">\r\n     <g id=\"line2d_23\">\r\n      <g>\r\n       <use style=\"stroke:#000000;stroke-width:0.6;\" x=\"159.879692\" xlink:href=\"#mb3c2db1136\" y=\"224.64\"/>\r\n      </g>\r\n     </g>\r\n    </g>\r\n    <g id=\"xtick_24\">\r\n     <g id=\"line2d_24\">\r\n      <g>\r\n       <use style=\"stroke:#000000;stroke-width:0.6;\" x=\"179.230404\" xlink:href=\"#mb3c2db1136\" y=\"224.64\"/>\r\n      </g>\r\n     </g>\r\n    </g>\r\n    <g id=\"xtick_25\">\r\n     <g id=\"line2d_25\">\r\n      <g>\r\n       <use style=\"stroke:#000000;stroke-width:0.6;\" x=\"189.056281\" xlink:href=\"#mb3c2db1136\" y=\"224.64\"/>\r\n      </g>\r\n     </g>\r\n    </g>\r\n    <g id=\"xtick_26\">\r\n     <g id=\"line2d_26\">\r\n      <g>\r\n       <use style=\"stroke:#000000;stroke-width:0.6;\" x=\"196.027852\" xlink:href=\"#mb3c2db1136\" y=\"224.64\"/>\r\n      </g>\r\n     </g>\r\n    </g>\r\n    <g id=\"xtick_27\">\r\n     <g id=\"line2d_27\">\r\n      <g>\r\n       <use style=\"stroke:#000000;stroke-width:0.6;\" x=\"201.435423\" xlink:href=\"#mb3c2db1136\" y=\"224.64\"/>\r\n      </g>\r\n     </g>\r\n    </g>\r\n    <g id=\"xtick_28\">\r\n     <g id=\"line2d_28\">\r\n      <g>\r\n       <use style=\"stroke:#000000;stroke-width:0.6;\" x=\"205.85373\" xlink:href=\"#mb3c2db1136\" y=\"224.64\"/>\r\n      </g>\r\n     </g>\r\n    </g>\r\n    <g id=\"xtick_29\">\r\n     <g id=\"line2d_29\">\r\n      <g>\r\n       <use style=\"stroke:#000000;stroke-width:0.6;\" x=\"209.589355\" xlink:href=\"#mb3c2db1136\" y=\"224.64\"/>\r\n      </g>\r\n     </g>\r\n    </g>\r\n    <g id=\"xtick_30\">\r\n     <g id=\"line2d_30\">\r\n      <g>\r\n       <use style=\"stroke:#000000;stroke-width:0.6;\" x=\"212.825301\" xlink:href=\"#mb3c2db1136\" y=\"224.64\"/>\r\n      </g>\r\n     </g>\r\n    </g>\r\n    <g id=\"xtick_31\">\r\n     <g id=\"line2d_31\">\r\n      <g>\r\n       <use style=\"stroke:#000000;stroke-width:0.6;\" x=\"215.679607\" xlink:href=\"#mb3c2db1136\" y=\"224.64\"/>\r\n      </g>\r\n     </g>\r\n    </g>\r\n    <g id=\"xtick_32\">\r\n     <g id=\"line2d_32\">\r\n      <g>\r\n       <use style=\"stroke:#000000;stroke-width:0.6;\" x=\"235.030319\" xlink:href=\"#mb3c2db1136\" y=\"224.64\"/>\r\n      </g>\r\n     </g>\r\n    </g>\r\n    <g id=\"xtick_33\">\r\n     <g id=\"line2d_33\">\r\n      <g>\r\n       <use style=\"stroke:#000000;stroke-width:0.6;\" x=\"244.856197\" xlink:href=\"#mb3c2db1136\" y=\"224.64\"/>\r\n      </g>\r\n     </g>\r\n    </g>\r\n    <g id=\"xtick_34\">\r\n     <g id=\"line2d_34\">\r\n      <g>\r\n       <use style=\"stroke:#000000;stroke-width:0.6;\" x=\"251.827768\" xlink:href=\"#mb3c2db1136\" y=\"224.64\"/>\r\n      </g>\r\n     </g>\r\n    </g>\r\n    <g id=\"xtick_35\">\r\n     <g id=\"line2d_35\">\r\n      <g>\r\n       <use style=\"stroke:#000000;stroke-width:0.6;\" x=\"257.235338\" xlink:href=\"#mb3c2db1136\" y=\"224.64\"/>\r\n      </g>\r\n     </g>\r\n    </g>\r\n    <g id=\"xtick_36\">\r\n     <g id=\"line2d_36\">\r\n      <g>\r\n       <use style=\"stroke:#000000;stroke-width:0.6;\" x=\"261.653645\" xlink:href=\"#mb3c2db1136\" y=\"224.64\"/>\r\n      </g>\r\n     </g>\r\n    </g>\r\n    <g id=\"xtick_37\">\r\n     <g id=\"line2d_37\">\r\n      <g>\r\n       <use style=\"stroke:#000000;stroke-width:0.6;\" x=\"265.38927\" xlink:href=\"#mb3c2db1136\" y=\"224.64\"/>\r\n      </g>\r\n     </g>\r\n    </g>\r\n    <g id=\"xtick_38\">\r\n     <g id=\"line2d_38\">\r\n      <g>\r\n       <use style=\"stroke:#000000;stroke-width:0.6;\" x=\"268.625216\" xlink:href=\"#mb3c2db1136\" y=\"224.64\"/>\r\n      </g>\r\n     </g>\r\n    </g>\r\n    <g id=\"xtick_39\">\r\n     <g id=\"line2d_39\">\r\n      <g>\r\n       <use style=\"stroke:#000000;stroke-width:0.6;\" x=\"271.479522\" xlink:href=\"#mb3c2db1136\" y=\"224.64\"/>\r\n      </g>\r\n     </g>\r\n    </g>\r\n    <g id=\"xtick_40\">\r\n     <g id=\"line2d_40\">\r\n      <g>\r\n       <use style=\"stroke:#000000;stroke-width:0.6;\" x=\"290.830234\" xlink:href=\"#mb3c2db1136\" y=\"224.64\"/>\r\n      </g>\r\n     </g>\r\n    </g>\r\n    <g id=\"xtick_41\">\r\n     <g id=\"line2d_41\">\r\n      <g>\r\n       <use style=\"stroke:#000000;stroke-width:0.6;\" x=\"300.656112\" xlink:href=\"#mb3c2db1136\" y=\"224.64\"/>\r\n      </g>\r\n     </g>\r\n    </g>\r\n    <g id=\"xtick_42\">\r\n     <g id=\"line2d_42\">\r\n      <g>\r\n       <use style=\"stroke:#000000;stroke-width:0.6;\" x=\"307.627683\" xlink:href=\"#mb3c2db1136\" y=\"224.64\"/>\r\n      </g>\r\n     </g>\r\n    </g>\r\n    <g id=\"xtick_43\">\r\n     <g id=\"line2d_43\">\r\n      <g>\r\n       <use style=\"stroke:#000000;stroke-width:0.6;\" x=\"313.035253\" xlink:href=\"#mb3c2db1136\" y=\"224.64\"/>\r\n      </g>\r\n     </g>\r\n    </g>\r\n    <g id=\"xtick_44\">\r\n     <g id=\"line2d_44\">\r\n      <g>\r\n       <use style=\"stroke:#000000;stroke-width:0.6;\" x=\"317.45356\" xlink:href=\"#mb3c2db1136\" y=\"224.64\"/>\r\n      </g>\r\n     </g>\r\n    </g>\r\n    <g id=\"xtick_45\">\r\n     <g id=\"line2d_45\">\r\n      <g>\r\n       <use style=\"stroke:#000000;stroke-width:0.6;\" x=\"321.189185\" xlink:href=\"#mb3c2db1136\" y=\"224.64\"/>\r\n      </g>\r\n     </g>\r\n    </g>\r\n    <g id=\"xtick_46\">\r\n     <g id=\"line2d_46\">\r\n      <g>\r\n       <use style=\"stroke:#000000;stroke-width:0.6;\" x=\"324.425131\" xlink:href=\"#mb3c2db1136\" y=\"224.64\"/>\r\n      </g>\r\n     </g>\r\n    </g>\r\n    <g id=\"xtick_47\">\r\n     <g id=\"line2d_47\">\r\n      <g>\r\n       <use style=\"stroke:#000000;stroke-width:0.6;\" x=\"327.279437\" xlink:href=\"#mb3c2db1136\" y=\"224.64\"/>\r\n      </g>\r\n     </g>\r\n    </g>\r\n    <g id=\"xtick_48\">\r\n     <g id=\"line2d_48\">\r\n      <g>\r\n       <use style=\"stroke:#000000;stroke-width:0.6;\" x=\"346.63015\" xlink:href=\"#mb3c2db1136\" y=\"224.64\"/>\r\n      </g>\r\n     </g>\r\n    </g>\r\n    <g id=\"xtick_49\">\r\n     <g id=\"line2d_49\">\r\n      <g>\r\n       <use style=\"stroke:#000000;stroke-width:0.6;\" x=\"356.456027\" xlink:href=\"#mb3c2db1136\" y=\"224.64\"/>\r\n      </g>\r\n     </g>\r\n    </g>\r\n    <g id=\"xtick_50\">\r\n     <g id=\"line2d_50\">\r\n      <g>\r\n       <use style=\"stroke:#000000;stroke-width:0.6;\" x=\"363.427598\" xlink:href=\"#mb3c2db1136\" y=\"224.64\"/>\r\n      </g>\r\n     </g>\r\n    </g>\r\n    <g id=\"xtick_51\">\r\n     <g id=\"line2d_51\">\r\n      <g>\r\n       <use style=\"stroke:#000000;stroke-width:0.6;\" x=\"368.835168\" xlink:href=\"#mb3c2db1136\" y=\"224.64\"/>\r\n      </g>\r\n     </g>\r\n    </g>\r\n    <g id=\"xtick_52\">\r\n     <g id=\"line2d_52\">\r\n      <g>\r\n       <use style=\"stroke:#000000;stroke-width:0.6;\" x=\"373.253475\" xlink:href=\"#mb3c2db1136\" y=\"224.64\"/>\r\n      </g>\r\n     </g>\r\n    </g>\r\n    <g id=\"xtick_53\">\r\n     <g id=\"line2d_53\">\r\n      <g>\r\n       <use style=\"stroke:#000000;stroke-width:0.6;\" x=\"376.9891\" xlink:href=\"#mb3c2db1136\" y=\"224.64\"/>\r\n      </g>\r\n     </g>\r\n    </g>\r\n    <g id=\"xtick_54\">\r\n     <g id=\"line2d_54\">\r\n      <g>\r\n       <use style=\"stroke:#000000;stroke-width:0.6;\" x=\"380.225046\" xlink:href=\"#mb3c2db1136\" y=\"224.64\"/>\r\n      </g>\r\n     </g>\r\n    </g>\r\n    <g id=\"xtick_55\">\r\n     <g id=\"line2d_55\">\r\n      <g>\r\n       <use style=\"stroke:#000000;stroke-width:0.6;\" x=\"383.079352\" xlink:href=\"#mb3c2db1136\" y=\"224.64\"/>\r\n      </g>\r\n     </g>\r\n    </g>\r\n    <g id=\"text_8\">\r\n     <!-- Learning rate -->\r\n     <g transform=\"translate(171.39875 257.891562)scale(0.14 -0.14)\">\r\n      <defs>\r\n       <path d=\"M 628 4666 \r\nL 1259 4666 \r\nL 1259 531 \r\nL 3531 531 \r\nL 3531 0 \r\nL 628 0 \r\nL 628 4666 \r\nz\r\n\" id=\"DejaVuSans-4c\" transform=\"scale(0.015625)\"/>\r\n       <path d=\"M 3597 1894 \r\nL 3597 1613 \r\nL 953 1613 \r\nQ 991 1019 1311 708 \r\nQ 1631 397 2203 397 \r\nQ 2534 397 2845 478 \r\nQ 3156 559 3463 722 \r\nL 3463 178 \r\nQ 3153 47 2828 -22 \r\nQ 2503 -91 2169 -91 \r\nQ 1331 -91 842 396 \r\nQ 353 884 353 1716 \r\nQ 353 2575 817 3079 \r\nQ 1281 3584 2069 3584 \r\nQ 2775 3584 3186 3129 \r\nQ 3597 2675 3597 1894 \r\nz\r\nM 3022 2063 \r\nQ 3016 2534 2758 2815 \r\nQ 2500 3097 2075 3097 \r\nQ 1594 3097 1305 2825 \r\nQ 1016 2553 972 2059 \r\nL 3022 2063 \r\nz\r\n\" id=\"DejaVuSans-65\" transform=\"scale(0.015625)\"/>\r\n       <path d=\"M 2194 1759 \r\nQ 1497 1759 1228 1600 \r\nQ 959 1441 959 1056 \r\nQ 959 750 1161 570 \r\nQ 1363 391 1709 391 \r\nQ 2188 391 2477 730 \r\nQ 2766 1069 2766 1631 \r\nL 2766 1759 \r\nL 2194 1759 \r\nz\r\nM 3341 1997 \r\nL 3341 0 \r\nL 2766 0 \r\nL 2766 531 \r\nQ 2569 213 2275 61 \r\nQ 1981 -91 1556 -91 \r\nQ 1019 -91 701 211 \r\nQ 384 513 384 1019 \r\nQ 384 1609 779 1909 \r\nQ 1175 2209 1959 2209 \r\nL 2766 2209 \r\nL 2766 2266 \r\nQ 2766 2663 2505 2880 \r\nQ 2244 3097 1772 3097 \r\nQ 1472 3097 1187 3025 \r\nQ 903 2953 641 2809 \r\nL 641 3341 \r\nQ 956 3463 1253 3523 \r\nQ 1550 3584 1831 3584 \r\nQ 2591 3584 2966 3190 \r\nQ 3341 2797 3341 1997 \r\nz\r\n\" id=\"DejaVuSans-61\" transform=\"scale(0.015625)\"/>\r\n       <path d=\"M 2631 2963 \r\nQ 2534 3019 2420 3045 \r\nQ 2306 3072 2169 3072 \r\nQ 1681 3072 1420 2755 \r\nQ 1159 2438 1159 1844 \r\nL 1159 0 \r\nL 581 0 \r\nL 581 3500 \r\nL 1159 3500 \r\nL 1159 2956 \r\nQ 1341 3275 1631 3429 \r\nQ 1922 3584 2338 3584 \r\nQ 2397 3584 2469 3576 \r\nQ 2541 3569 2628 3553 \r\nL 2631 2963 \r\nz\r\n\" id=\"DejaVuSans-72\" transform=\"scale(0.015625)\"/>\r\n       <path d=\"M 3513 2113 \r\nL 3513 0 \r\nL 2938 0 \r\nL 2938 2094 \r\nQ 2938 2591 2744 2837 \r\nQ 2550 3084 2163 3084 \r\nQ 1697 3084 1428 2787 \r\nQ 1159 2491 1159 1978 \r\nL 1159 0 \r\nL 581 0 \r\nL 581 3500 \r\nL 1159 3500 \r\nL 1159 2956 \r\nQ 1366 3272 1645 3428 \r\nQ 1925 3584 2291 3584 \r\nQ 2894 3584 3203 3211 \r\nQ 3513 2838 3513 2113 \r\nz\r\n\" id=\"DejaVuSans-6e\" transform=\"scale(0.015625)\"/>\r\n       <path d=\"M 603 3500 \r\nL 1178 3500 \r\nL 1178 0 \r\nL 603 0 \r\nL 603 3500 \r\nz\r\nM 603 4863 \r\nL 1178 4863 \r\nL 1178 4134 \r\nL 603 4134 \r\nL 603 4863 \r\nz\r\n\" id=\"DejaVuSans-69\" transform=\"scale(0.015625)\"/>\r\n       <path d=\"M 2906 1791 \r\nQ 2906 2416 2648 2759 \r\nQ 2391 3103 1925 3103 \r\nQ 1463 3103 1205 2759 \r\nQ 947 2416 947 1791 \r\nQ 947 1169 1205 825 \r\nQ 1463 481 1925 481 \r\nQ 2391 481 2648 825 \r\nQ 2906 1169 2906 1791 \r\nz\r\nM 3481 434 \r\nQ 3481 -459 3084 -895 \r\nQ 2688 -1331 1869 -1331 \r\nQ 1566 -1331 1297 -1286 \r\nQ 1028 -1241 775 -1147 \r\nL 775 -588 \r\nQ 1028 -725 1275 -790 \r\nQ 1522 -856 1778 -856 \r\nQ 2344 -856 2625 -561 \r\nQ 2906 -266 2906 331 \r\nL 2906 616 \r\nQ 2728 306 2450 153 \r\nQ 2172 0 1784 0 \r\nQ 1141 0 747 490 \r\nQ 353 981 353 1791 \r\nQ 353 2603 747 3093 \r\nQ 1141 3584 1784 3584 \r\nQ 2172 3584 2450 3431 \r\nQ 2728 3278 2906 2969 \r\nL 2906 3500 \r\nL 3481 3500 \r\nL 3481 434 \r\nz\r\n\" id=\"DejaVuSans-67\" transform=\"scale(0.015625)\"/>\r\n       <path id=\"DejaVuSans-20\" transform=\"scale(0.015625)\"/>\r\n       <path d=\"M 1172 4494 \r\nL 1172 3500 \r\nL 2356 3500 \r\nL 2356 3053 \r\nL 1172 3053 \r\nL 1172 1153 \r\nQ 1172 725 1289 603 \r\nQ 1406 481 1766 481 \r\nL 2356 481 \r\nL 2356 0 \r\nL 1766 0 \r\nQ 1100 0 847 248 \r\nQ 594 497 594 1153 \r\nL 594 3053 \r\nL 172 3053 \r\nL 172 3500 \r\nL 594 3500 \r\nL 594 4494 \r\nL 1172 4494 \r\nz\r\n\" id=\"DejaVuSans-74\" transform=\"scale(0.015625)\"/>\r\n      </defs>\r\n      <use xlink:href=\"#DejaVuSans-4c\"/>\r\n      <use x=\"53.962891\" xlink:href=\"#DejaVuSans-65\"/>\r\n      <use x=\"115.486328\" xlink:href=\"#DejaVuSans-61\"/>\r\n      <use x=\"176.765625\" xlink:href=\"#DejaVuSans-72\"/>\r\n      <use x=\"216.128906\" xlink:href=\"#DejaVuSans-6e\"/>\r\n      <use x=\"279.507812\" xlink:href=\"#DejaVuSans-69\"/>\r\n      <use x=\"307.291016\" xlink:href=\"#DejaVuSans-6e\"/>\r\n      <use x=\"370.669922\" xlink:href=\"#DejaVuSans-67\"/>\r\n      <use x=\"434.146484\" xlink:href=\"#DejaVuSans-20\"/>\r\n      <use x=\"465.933594\" xlink:href=\"#DejaVuSans-72\"/>\r\n      <use x=\"507.046875\" xlink:href=\"#DejaVuSans-61\"/>\r\n      <use x=\"568.326172\" xlink:href=\"#DejaVuSans-74\"/>\r\n      <use x=\"607.535156\" xlink:href=\"#DejaVuSans-65\"/>\r\n     </g>\r\n    </g>\r\n   </g>\r\n   <g id=\"matplotlib.axis_2\">\r\n    <g id=\"ytick_1\">\r\n     <g id=\"line2d_56\">\r\n      <defs>\r\n       <path d=\"M 0 0 \r\nL -3.5 0 \r\n\" id=\"m581267dcd7\" style=\"stroke:#000000;stroke-width:0.8;\"/>\r\n      </defs>\r\n      <g>\r\n       <use style=\"stroke:#000000;stroke-width:0.8;\" x=\"50.833125\" xlink:href=\"#m581267dcd7\" y=\"224.068146\"/>\r\n      </g>\r\n     </g>\r\n     <g id=\"text_9\">\r\n      <!-- 1.6 -->\r\n      <g transform=\"translate(24.749375 228.627209)scale(0.12 -0.12)\">\r\n       <defs>\r\n        <path d=\"M 684 794 \r\nL 1344 794 \r\nL 1344 0 \r\nL 684 0 \r\nL 684 794 \r\nz\r\n\" id=\"DejaVuSans-2e\" transform=\"scale(0.015625)\"/>\r\n        <path d=\"M 2113 2584 \r\nQ 1688 2584 1439 2293 \r\nQ 1191 2003 1191 1497 \r\nQ 1191 994 1439 701 \r\nQ 1688 409 2113 409 \r\nQ 2538 409 2786 701 \r\nQ 3034 994 3034 1497 \r\nQ 3034 2003 2786 2293 \r\nQ 2538 2584 2113 2584 \r\nz\r\nM 3366 4563 \r\nL 3366 3988 \r\nQ 3128 4100 2886 4159 \r\nQ 2644 4219 2406 4219 \r\nQ 1781 4219 1451 3797 \r\nQ 1122 3375 1075 2522 \r\nQ 1259 2794 1537 2939 \r\nQ 1816 3084 2150 3084 \r\nQ 2853 3084 3261 2657 \r\nQ 3669 2231 3669 1497 \r\nQ 3669 778 3244 343 \r\nQ 2819 -91 2113 -91 \r\nQ 1303 -91 875 529 \r\nQ 447 1150 447 2328 \r\nQ 447 3434 972 4092 \r\nQ 1497 4750 2381 4750 \r\nQ 2619 4750 2861 4703 \r\nQ 3103 4656 3366 4563 \r\nz\r\n\" id=\"DejaVuSans-36\" transform=\"scale(0.015625)\"/>\r\n       </defs>\r\n       <use xlink:href=\"#DejaVuSans-31\"/>\r\n       <use x=\"63.623047\" xlink:href=\"#DejaVuSans-2e\"/>\r\n       <use x=\"95.410156\" xlink:href=\"#DejaVuSans-36\"/>\r\n      </g>\r\n     </g>\r\n    </g>\r\n    <g id=\"ytick_2\">\r\n     <g id=\"line2d_57\">\r\n      <g>\r\n       <use style=\"stroke:#000000;stroke-width:0.8;\" x=\"50.833125\" xlink:href=\"#m581267dcd7\" y=\"183.189266\"/>\r\n      </g>\r\n     </g>\r\n     <g id=\"text_10\">\r\n      <!-- 1.7 -->\r\n      <g transform=\"translate(24.749375 187.748328)scale(0.12 -0.12)\">\r\n       <defs>\r\n        <path d=\"M 525 4666 \r\nL 3525 4666 \r\nL 3525 4397 \r\nL 1831 0 \r\nL 1172 0 \r\nL 2766 4134 \r\nL 525 4134 \r\nL 525 4666 \r\nz\r\n\" id=\"DejaVuSans-37\" transform=\"scale(0.015625)\"/>\r\n       </defs>\r\n       <use xlink:href=\"#DejaVuSans-31\"/>\r\n       <use x=\"63.623047\" xlink:href=\"#DejaVuSans-2e\"/>\r\n       <use x=\"95.410156\" xlink:href=\"#DejaVuSans-37\"/>\r\n      </g>\r\n     </g>\r\n    </g>\r\n    <g id=\"ytick_3\">\r\n     <g id=\"line2d_58\">\r\n      <g>\r\n       <use style=\"stroke:#000000;stroke-width:0.8;\" x=\"50.833125\" xlink:href=\"#m581267dcd7\" y=\"142.310385\"/>\r\n      </g>\r\n     </g>\r\n     <g id=\"text_11\">\r\n      <!-- 1.8 -->\r\n      <g transform=\"translate(24.749375 146.869448)scale(0.12 -0.12)\">\r\n       <defs>\r\n        <path d=\"M 2034 2216 \r\nQ 1584 2216 1326 1975 \r\nQ 1069 1734 1069 1313 \r\nQ 1069 891 1326 650 \r\nQ 1584 409 2034 409 \r\nQ 2484 409 2743 651 \r\nQ 3003 894 3003 1313 \r\nQ 3003 1734 2745 1975 \r\nQ 2488 2216 2034 2216 \r\nz\r\nM 1403 2484 \r\nQ 997 2584 770 2862 \r\nQ 544 3141 544 3541 \r\nQ 544 4100 942 4425 \r\nQ 1341 4750 2034 4750 \r\nQ 2731 4750 3128 4425 \r\nQ 3525 4100 3525 3541 \r\nQ 3525 3141 3298 2862 \r\nQ 3072 2584 2669 2484 \r\nQ 3125 2378 3379 2068 \r\nQ 3634 1759 3634 1313 \r\nQ 3634 634 3220 271 \r\nQ 2806 -91 2034 -91 \r\nQ 1263 -91 848 271 \r\nQ 434 634 434 1313 \r\nQ 434 1759 690 2068 \r\nQ 947 2378 1403 2484 \r\nz\r\nM 1172 3481 \r\nQ 1172 3119 1398 2916 \r\nQ 1625 2713 2034 2713 \r\nQ 2441 2713 2670 2916 \r\nQ 2900 3119 2900 3481 \r\nQ 2900 3844 2670 4047 \r\nQ 2441 4250 2034 4250 \r\nQ 1625 4250 1398 4047 \r\nQ 1172 3844 1172 3481 \r\nz\r\n\" id=\"DejaVuSans-38\" transform=\"scale(0.015625)\"/>\r\n       </defs>\r\n       <use xlink:href=\"#DejaVuSans-31\"/>\r\n       <use x=\"63.623047\" xlink:href=\"#DejaVuSans-2e\"/>\r\n       <use x=\"95.410156\" xlink:href=\"#DejaVuSans-38\"/>\r\n      </g>\r\n     </g>\r\n    </g>\r\n    <g id=\"ytick_4\">\r\n     <g id=\"line2d_59\">\r\n      <g>\r\n       <use style=\"stroke:#000000;stroke-width:0.8;\" x=\"50.833125\" xlink:href=\"#m581267dcd7\" y=\"101.431505\"/>\r\n      </g>\r\n     </g>\r\n     <g id=\"text_12\">\r\n      <!-- 1.9 -->\r\n      <g transform=\"translate(24.749375 105.990567)scale(0.12 -0.12)\">\r\n       <defs>\r\n        <path d=\"M 703 97 \r\nL 703 672 \r\nQ 941 559 1184 500 \r\nQ 1428 441 1663 441 \r\nQ 2288 441 2617 861 \r\nQ 2947 1281 2994 2138 \r\nQ 2813 1869 2534 1725 \r\nQ 2256 1581 1919 1581 \r\nQ 1219 1581 811 2004 \r\nQ 403 2428 403 3163 \r\nQ 403 3881 828 4315 \r\nQ 1253 4750 1959 4750 \r\nQ 2769 4750 3195 4129 \r\nQ 3622 3509 3622 2328 \r\nQ 3622 1225 3098 567 \r\nQ 2575 -91 1691 -91 \r\nQ 1453 -91 1209 -44 \r\nQ 966 3 703 97 \r\nz\r\nM 1959 2075 \r\nQ 2384 2075 2632 2365 \r\nQ 2881 2656 2881 3163 \r\nQ 2881 3666 2632 3958 \r\nQ 2384 4250 1959 4250 \r\nQ 1534 4250 1286 3958 \r\nQ 1038 3666 1038 3163 \r\nQ 1038 2656 1286 2365 \r\nQ 1534 2075 1959 2075 \r\nz\r\n\" id=\"DejaVuSans-39\" transform=\"scale(0.015625)\"/>\r\n       </defs>\r\n       <use xlink:href=\"#DejaVuSans-31\"/>\r\n       <use x=\"63.623047\" xlink:href=\"#DejaVuSans-2e\"/>\r\n       <use x=\"95.410156\" xlink:href=\"#DejaVuSans-39\"/>\r\n      </g>\r\n     </g>\r\n    </g>\r\n    <g id=\"ytick_5\">\r\n     <g id=\"line2d_60\">\r\n      <g>\r\n       <use style=\"stroke:#000000;stroke-width:0.8;\" x=\"50.833125\" xlink:href=\"#m581267dcd7\" y=\"60.552624\"/>\r\n      </g>\r\n     </g>\r\n     <g id=\"text_13\">\r\n      <!-- 2.0 -->\r\n      <g transform=\"translate(24.749375 65.111687)scale(0.12 -0.12)\">\r\n       <use xlink:href=\"#DejaVuSans-32\"/>\r\n       <use x=\"63.623047\" xlink:href=\"#DejaVuSans-2e\"/>\r\n       <use x=\"95.410156\" xlink:href=\"#DejaVuSans-30\"/>\r\n      </g>\r\n     </g>\r\n    </g>\r\n    <g id=\"ytick_6\">\r\n     <g id=\"line2d_61\">\r\n      <g>\r\n       <use style=\"stroke:#000000;stroke-width:0.8;\" x=\"50.833125\" xlink:href=\"#m581267dcd7\" y=\"19.673743\"/>\r\n      </g>\r\n     </g>\r\n     <g id=\"text_14\">\r\n      <!-- 2.1 -->\r\n      <g transform=\"translate(24.749375 24.232806)scale(0.12 -0.12)\">\r\n       <use xlink:href=\"#DejaVuSans-32\"/>\r\n       <use x=\"63.623047\" xlink:href=\"#DejaVuSans-2e\"/>\r\n       <use x=\"95.410156\" xlink:href=\"#DejaVuSans-31\"/>\r\n      </g>\r\n     </g>\r\n    </g>\r\n    <g id=\"text_15\">\r\n     <!-- Loss -->\r\n     <g transform=\"translate(17.837813 131.274062)rotate(-90)scale(0.14 -0.14)\">\r\n      <defs>\r\n       <path d=\"M 1959 3097 \r\nQ 1497 3097 1228 2736 \r\nQ 959 2375 959 1747 \r\nQ 959 1119 1226 758 \r\nQ 1494 397 1959 397 \r\nQ 2419 397 2687 759 \r\nQ 2956 1122 2956 1747 \r\nQ 2956 2369 2687 2733 \r\nQ 2419 3097 1959 3097 \r\nz\r\nM 1959 3584 \r\nQ 2709 3584 3137 3096 \r\nQ 3566 2609 3566 1747 \r\nQ 3566 888 3137 398 \r\nQ 2709 -91 1959 -91 \r\nQ 1206 -91 779 398 \r\nQ 353 888 353 1747 \r\nQ 353 2609 779 3096 \r\nQ 1206 3584 1959 3584 \r\nz\r\n\" id=\"DejaVuSans-6f\" transform=\"scale(0.015625)\"/>\r\n       <path d=\"M 2834 3397 \r\nL 2834 2853 \r\nQ 2591 2978 2328 3040 \r\nQ 2066 3103 1784 3103 \r\nQ 1356 3103 1142 2972 \r\nQ 928 2841 928 2578 \r\nQ 928 2378 1081 2264 \r\nQ 1234 2150 1697 2047 \r\nL 1894 2003 \r\nQ 2506 1872 2764 1633 \r\nQ 3022 1394 3022 966 \r\nQ 3022 478 2636 193 \r\nQ 2250 -91 1575 -91 \r\nQ 1294 -91 989 -36 \r\nQ 684 19 347 128 \r\nL 347 722 \r\nQ 666 556 975 473 \r\nQ 1284 391 1588 391 \r\nQ 1994 391 2212 530 \r\nQ 2431 669 2431 922 \r\nQ 2431 1156 2273 1281 \r\nQ 2116 1406 1581 1522 \r\nL 1381 1569 \r\nQ 847 1681 609 1914 \r\nQ 372 2147 372 2553 \r\nQ 372 3047 722 3315 \r\nQ 1072 3584 1716 3584 \r\nQ 2034 3584 2315 3537 \r\nQ 2597 3491 2834 3397 \r\nz\r\n\" id=\"DejaVuSans-73\" transform=\"scale(0.015625)\"/>\r\n      </defs>\r\n      <use xlink:href=\"#DejaVuSans-4c\"/>\r\n      <use x=\"53.962891\" xlink:href=\"#DejaVuSans-6f\"/>\r\n      <use x=\"115.144531\" xlink:href=\"#DejaVuSans-73\"/>\r\n      <use x=\"167.244141\" xlink:href=\"#DejaVuSans-73\"/>\r\n     </g>\r\n    </g>\r\n   </g>\r\n   <g id=\"LineCollection_1\">\r\n    <path clip-path=\"url(#p2a2e268a7c)\" d=\"M 50.833125 224.64 \r\nL 385.633125 224.64 \r\n\" style=\"fill:none;stroke:#1f77b4;stroke-width:1.5;\"/>\r\n   </g>\r\n   <g id=\"line2d_62\">\r\n    <path clip-path=\"url(#p2a2e268a7c)\" d=\"M 198.964613 -1 \r\nL 202.234526 9.978471 \r\nL 203.014944 12.317384 \r\nL 203.795363 15.023635 \r\nL 205.356203 19.628852 \r\nL 212.37998 41.909736 \r\nL 222.525435 72.613213 \r\nL 225.647113 81.286724 \r\nL 227.207952 86.163911 \r\nL 228.768791 90.388048 \r\nL 230.329628 94.578317 \r\nL 238.914246 117.601234 \r\nL 242.035924 125.322338 \r\nL 244.377183 130.991313 \r\nL 245.938022 135.046011 \r\nL 247.498861 138.724211 \r\nL 250.620538 146.217739 \r\nL 252.181377 149.756712 \r\nL 252.961797 151.354421 \r\nL 256.083475 158.882695 \r\nL 263.887673 175.842351 \r\nL 266.22893 181.182535 \r\nL 269.350606 186.662481 \r\nL 270.911445 189.099101 \r\nL 273.252704 193.539508 \r\nL 274.813541 195.400269 \r\nL 275.59396 196.200731 \r\nL 276.374379 196.713191 \r\nL 277.935219 198.882811 \r\nL 278.715639 199.691509 \r\nL 279.496059 200.844787 \r\nL 281.0569 202.089973 \r\nL 281.83732 203.210162 \r\nL 284.178578 207.226118 \r\nL 285.739418 209.536719 \r\nL 287.300257 212.182153 \r\nL 288.861096 213.512228 \r\nL 289.641514 214.225169 \r\nL 290.421934 215.517965 \r\nL 291.982773 217.44807 \r\nL 293.543612 218.093469 \r\nL 294.324032 218.692379 \r\nL 295.884871 220.54237 \r\nL 296.665292 221.830536 \r\nL 299.00655 224.301365 \r\nL 299.786969 224.64 \r\nL 300.567387 224.234457 \r\nL 302.128227 218.418703 \r\nL 302.908646 206.034002 \r\nL 303.689065 187.836567 \r\nL 304.469485 90.04225 \r\nL 304.810317 -1 \r\nL 304.810317 -1 \r\n\" style=\"fill:none;stroke:#1f77b4;stroke-linecap:square;stroke-width:1.5;\"/>\r\n   </g>\r\n   <g id=\"patch_3\">\r\n    <path d=\"M 50.833125 224.64 \r\nL 50.833125 7.2 \r\n\" style=\"fill:none;stroke:#000000;stroke-linecap:square;stroke-linejoin:miter;stroke-width:0.8;\"/>\r\n   </g>\r\n   <g id=\"patch_4\">\r\n    <path d=\"M 385.633125 224.64 \r\nL 385.633125 7.2 \r\n\" style=\"fill:none;stroke:#000000;stroke-linecap:square;stroke-linejoin:miter;stroke-width:0.8;\"/>\r\n   </g>\r\n   <g id=\"patch_5\">\r\n    <path d=\"M 50.833125 224.64 \r\nL 385.633125 224.64 \r\n\" style=\"fill:none;stroke:#000000;stroke-linecap:square;stroke-linejoin:miter;stroke-width:0.8;\"/>\r\n   </g>\r\n   <g id=\"patch_6\">\r\n    <path d=\"M 50.833125 7.2 \r\nL 385.633125 7.2 \r\n\" style=\"fill:none;stroke:#000000;stroke-linecap:square;stroke-linejoin:miter;stroke-width:0.8;\"/>\r\n   </g>\r\n  </g>\r\n </g>\r\n <defs>\r\n  <clipPath id=\"p2a2e268a7c\">\r\n   <rect height=\"217.44\" width=\"334.8\" x=\"50.833125\" y=\"7.2\"/>\r\n  </clipPath>\r\n </defs>\r\n</svg>\r\n",
      "image/png": "[encoded data removed]"
     },
     "metadata": {
      "needs_background": "light"
     }
    }
   ],
   "metadata": {}
  },
  {
   "cell_type": "code",
   "execution_count": 115,
   "source": [
    "class OneCycleScheduler(keras.callbacks.Callback):\r\n",
    "    def __init__(self, iterations, max_rate, start_rate=None,\r\n",
    "                 last_iterations=None, last_rate=None):\r\n",
    "        self.iterations = iterations\r\n",
    "        self.max_rate = max_rate\r\n",
    "        self.start_rate = start_rate or max_rate / 10\r\n",
    "        self.last_iterations = last_iterations or iterations // 10 + 1\r\n",
    "        self.half_iteration = (iterations - self.last_iterations) // 2\r\n",
    "        self.last_rate = last_rate or self.start_rate / 1000\r\n",
    "        self.iteration = 0\r\n",
    "    def _interpolate(self, iter1, iter2, rate1, rate2):\r\n",
    "        return ((rate2 - rate1) * (self.iteration - iter1)\r\n",
    "                / (iter2 - iter1) + rate1)\r\n",
    "    def on_batch_begin(self, batch, logs):\r\n",
    "        if self.iteration < self.half_iteration:\r\n",
    "            rate = self._interpolate(0, self.half_iteration, self.start_rate, self.max_rate)\r\n",
    "        elif self.iteration < 2 * self.half_iteration:\r\n",
    "            rate = self._interpolate(self.half_iteration, 2 * self.half_iteration,\r\n",
    "                                     self.max_rate, self.start_rate)\r\n",
    "        else:\r\n",
    "            rate = self._interpolate(2 * self.half_iteration, self.iterations,\r\n",
    "                                     self.start_rate, self.last_rate)\r\n",
    "            rate = max(rate, self.last_rate)\r\n",
    "        self.iteration += 1\r\n",
    "        K.set_value(self.model.optimizer.lr, rate)"
   ],
   "outputs": [],
   "metadata": {}
  },
  {
   "cell_type": "code",
   "execution_count": 116,
   "source": [
    "n_epochs = 25\r\n",
    "onecycle = OneCycleScheduler(len(X_train) // batch_size * n_epochs, max_rate=0.05)\r\n",
    "history = model.fit(X_train_scaled, y_train, epochs=n_epochs, batch_size=batch_size,\r\n",
    "                    validation_data=(X_valid_scaled, y_valid),\r\n",
    "                    callbacks=[onecycle])"
   ],
   "outputs": [
    {
     "output_type": "stream",
     "name": "stdout",
     "text": [
      "Epoch 1/25\n",
      "430/430 [==============================] - 1s 2ms/step - loss: 0.6572 - accuracy: 0.7740 - val_loss: 0.4872 - val_accuracy: 0.8338\n",
      "Epoch 2/25\n",
      "430/430 [==============================] - 1s 2ms/step - loss: 0.4581 - accuracy: 0.8398 - val_loss: 0.4275 - val_accuracy: 0.8522\n",
      "Epoch 3/25\n",
      "430/430 [==============================] - 1s 2ms/step - loss: 0.4121 - accuracy: 0.8546 - val_loss: 0.4114 - val_accuracy: 0.8582\n",
      "Epoch 4/25\n",
      "430/430 [==============================] - 1s 2ms/step - loss: 0.3837 - accuracy: 0.8643 - val_loss: 0.3868 - val_accuracy: 0.8682\n",
      "Epoch 5/25\n",
      "430/430 [==============================] - 1s 2ms/step - loss: 0.3639 - accuracy: 0.8718 - val_loss: 0.3768 - val_accuracy: 0.8682\n",
      "Epoch 6/25\n",
      "430/430 [==============================] - 1s 2ms/step - loss: 0.3456 - accuracy: 0.8772 - val_loss: 0.3740 - val_accuracy: 0.8710\n",
      "Epoch 7/25\n",
      "430/430 [==============================] - 1s 2ms/step - loss: 0.3329 - accuracy: 0.8811 - val_loss: 0.3634 - val_accuracy: 0.8704\n",
      "Epoch 8/25\n",
      "430/430 [==============================] - 1s 2ms/step - loss: 0.3184 - accuracy: 0.8860 - val_loss: 0.3949 - val_accuracy: 0.8608\n",
      "Epoch 9/25\n",
      "430/430 [==============================] - 1s 2ms/step - loss: 0.3065 - accuracy: 0.8890 - val_loss: 0.3492 - val_accuracy: 0.8768\n",
      "Epoch 10/25\n",
      "430/430 [==============================] - 1s 2ms/step - loss: 0.2944 - accuracy: 0.8924 - val_loss: 0.3397 - val_accuracy: 0.8802\n",
      "Epoch 11/25\n",
      "430/430 [==============================] - 1s 2ms/step - loss: 0.2839 - accuracy: 0.8960 - val_loss: 0.3460 - val_accuracy: 0.8816\n",
      "Epoch 12/25\n",
      "430/430 [==============================] - 1s 2ms/step - loss: 0.2708 - accuracy: 0.9025 - val_loss: 0.3656 - val_accuracy: 0.8678\n",
      "Epoch 13/25\n",
      "430/430 [==============================] - 1s 2ms/step - loss: 0.2536 - accuracy: 0.9080 - val_loss: 0.3358 - val_accuracy: 0.8842\n",
      "Epoch 14/25\n",
      "430/430 [==============================] - 1s 2ms/step - loss: 0.2404 - accuracy: 0.9135 - val_loss: 0.3449 - val_accuracy: 0.8816\n",
      "Epoch 15/25\n",
      "430/430 [==============================] - 1s 2ms/step - loss: 0.2279 - accuracy: 0.9183 - val_loss: 0.3259 - val_accuracy: 0.8862\n",
      "Epoch 16/25\n",
      "430/430 [==============================] - 1s 2ms/step - loss: 0.2160 - accuracy: 0.9232 - val_loss: 0.3285 - val_accuracy: 0.8842\n",
      "Epoch 17/25\n",
      "430/430 [==============================] - 1s 2ms/step - loss: 0.2063 - accuracy: 0.9265 - val_loss: 0.3343 - val_accuracy: 0.8868\n",
      "Epoch 18/25\n",
      "430/430 [==============================] - 1s 2ms/step - loss: 0.1979 - accuracy: 0.9301 - val_loss: 0.3237 - val_accuracy: 0.8910\n",
      "Epoch 19/25\n",
      "430/430 [==============================] - 1s 2ms/step - loss: 0.1893 - accuracy: 0.9337 - val_loss: 0.3227 - val_accuracy: 0.8918\n",
      "Epoch 20/25\n",
      "430/430 [==============================] - 1s 2ms/step - loss: 0.1822 - accuracy: 0.9369 - val_loss: 0.3222 - val_accuracy: 0.8926\n",
      "Epoch 21/25\n",
      "430/430 [==============================] - 1s 2ms/step - loss: 0.1754 - accuracy: 0.9402 - val_loss: 0.3216 - val_accuracy: 0.8910\n",
      "Epoch 22/25\n",
      "430/430 [==============================] - 1s 2ms/step - loss: 0.1702 - accuracy: 0.9417 - val_loss: 0.3179 - val_accuracy: 0.8948\n",
      "Epoch 23/25\n",
      "430/430 [==============================] - 1s 2ms/step - loss: 0.1657 - accuracy: 0.9434 - val_loss: 0.3184 - val_accuracy: 0.8952\n",
      "Epoch 24/25\n",
      "430/430 [==============================] - 1s 2ms/step - loss: 0.1629 - accuracy: 0.9454 - val_loss: 0.3174 - val_accuracy: 0.8942\n",
      "Epoch 25/25\n",
      "430/430 [==============================] - 1s 2ms/step - loss: 0.1612 - accuracy: 0.9459 - val_loss: 0.3166 - val_accuracy: 0.8944\n"
     ]
    }
   ],
   "metadata": {}
  },
  {
   "cell_type": "code",
   "execution_count": 117,
   "source": [
    "#tf.keras 스케줄러\r\n",
    "model = keras.models.Sequential([\r\n",
    "    keras.layers.Flatten(input_shape=[28, 28]),\r\n",
    "    keras.layers.Dense(300, activation=\"selu\", kernel_initializer=\"lecun_normal\"),\r\n",
    "    keras.layers.Dense(100, activation=\"selu\", kernel_initializer=\"lecun_normal\"),\r\n",
    "    keras.layers.Dense(10, activation=\"softmax\")\r\n",
    "])\r\n",
    "s = 20 * len(X_train) // 32 # number of steps in 20 epochs (batch size = 32)\r\n",
    "learning_rate = keras.optimizers.schedules.ExponentialDecay(0.01, s, 0.1)\r\n",
    "optimizer = keras.optimizers.SGD(learning_rate)\r\n",
    "model.compile(loss=\"sparse_categorical_crossentropy\", optimizer=optimizer, metrics=[\"accuracy\"])\r\n",
    "n_epochs = 25\r\n",
    "history = model.fit(X_train_scaled, y_train, epochs=n_epochs,\r\n",
    "                    validation_data=(X_valid_scaled, y_valid))"
   ],
   "outputs": [
    {
     "output_type": "stream",
     "name": "stdout",
     "text": [
      "Epoch 1/25\n",
      "1719/1719 [==============================] - 3s 2ms/step - loss: 0.4895 - accuracy: 0.8274 - val_loss: 0.4093 - val_accuracy: 0.8610\n",
      "Epoch 2/25\n",
      "1719/1719 [==============================] - 3s 2ms/step - loss: 0.3821 - accuracy: 0.8647 - val_loss: 0.3743 - val_accuracy: 0.8692\n",
      "Epoch 3/25\n",
      "1719/1719 [==============================] - 3s 2ms/step - loss: 0.3487 - accuracy: 0.8767 - val_loss: 0.3734 - val_accuracy: 0.8682\n",
      "Epoch 4/25\n",
      "1719/1719 [==============================] - 3s 2ms/step - loss: 0.3264 - accuracy: 0.8837 - val_loss: 0.3498 - val_accuracy: 0.8804\n",
      "Epoch 5/25\n",
      "1719/1719 [==============================] - 3s 2ms/step - loss: 0.3105 - accuracy: 0.8897 - val_loss: 0.3434 - val_accuracy: 0.8800\n",
      "Epoch 6/25\n",
      "1719/1719 [==============================] - 3s 2ms/step - loss: 0.2959 - accuracy: 0.8954 - val_loss: 0.3416 - val_accuracy: 0.8806\n",
      "Epoch 7/25\n",
      "1719/1719 [==============================] - 3s 2ms/step - loss: 0.2855 - accuracy: 0.8989 - val_loss: 0.3355 - val_accuracy: 0.8810\n",
      "Epoch 8/25\n",
      "1719/1719 [==============================] - 3s 2ms/step - loss: 0.2762 - accuracy: 0.9019 - val_loss: 0.3370 - val_accuracy: 0.8814\n",
      "Epoch 9/25\n",
      "1719/1719 [==============================] - 3s 2ms/step - loss: 0.2679 - accuracy: 0.9055 - val_loss: 0.3266 - val_accuracy: 0.8852\n",
      "Epoch 10/25\n",
      "1719/1719 [==============================] - 3s 2ms/step - loss: 0.2610 - accuracy: 0.9070 - val_loss: 0.3242 - val_accuracy: 0.8854\n",
      "Epoch 11/25\n",
      "1719/1719 [==============================] - 3s 2ms/step - loss: 0.2553 - accuracy: 0.9088 - val_loss: 0.3252 - val_accuracy: 0.8864\n",
      "Epoch 12/25\n",
      "1719/1719 [==============================] - 3s 2ms/step - loss: 0.2499 - accuracy: 0.9128 - val_loss: 0.3302 - val_accuracy: 0.8802\n",
      "Epoch 13/25\n",
      "1719/1719 [==============================] - 3s 2ms/step - loss: 0.2451 - accuracy: 0.9141 - val_loss: 0.3220 - val_accuracy: 0.8866\n",
      "Epoch 14/25\n",
      "1719/1719 [==============================] - 3s 2ms/step - loss: 0.2417 - accuracy: 0.9148 - val_loss: 0.3225 - val_accuracy: 0.8860\n",
      "Epoch 15/25\n",
      "1719/1719 [==============================] - 3s 2ms/step - loss: 0.2377 - accuracy: 0.9168 - val_loss: 0.3211 - val_accuracy: 0.8864\n",
      "Epoch 16/25\n",
      "1719/1719 [==============================] - 3s 2ms/step - loss: 0.2345 - accuracy: 0.9175 - val_loss: 0.3186 - val_accuracy: 0.8878\n",
      "Epoch 17/25\n",
      "1719/1719 [==============================] - 3s 2ms/step - loss: 0.2319 - accuracy: 0.9190 - val_loss: 0.3200 - val_accuracy: 0.8892\n",
      "Epoch 18/25\n",
      "1719/1719 [==============================] - 3s 2ms/step - loss: 0.2293 - accuracy: 0.9195 - val_loss: 0.3172 - val_accuracy: 0.8906\n",
      "Epoch 19/25\n",
      "1719/1719 [==============================] - 3s 2ms/step - loss: 0.2272 - accuracy: 0.9208 - val_loss: 0.3200 - val_accuracy: 0.8882\n",
      "Epoch 20/25\n",
      "1719/1719 [==============================] - 3s 2ms/step - loss: 0.2252 - accuracy: 0.9218 - val_loss: 0.3172 - val_accuracy: 0.8904\n",
      "Epoch 21/25\n",
      "1719/1719 [==============================] - 3s 2ms/step - loss: 0.2231 - accuracy: 0.9222 - val_loss: 0.3182 - val_accuracy: 0.8894\n",
      "Epoch 22/25\n",
      "1719/1719 [==============================] - 3s 2ms/step - loss: 0.2218 - accuracy: 0.9221 - val_loss: 0.3166 - val_accuracy: 0.8906\n",
      "Epoch 23/25\n",
      "1719/1719 [==============================] - 3s 2ms/step - loss: 0.2204 - accuracy: 0.9232 - val_loss: 0.3175 - val_accuracy: 0.8894\n",
      "Epoch 24/25\n",
      "1719/1719 [==============================] - 3s 2ms/step - loss: 0.2190 - accuracy: 0.9241 - val_loss: 0.3168 - val_accuracy: 0.8896\n",
      "Epoch 25/25\n",
      "1719/1719 [==============================] - 3s 2ms/step - loss: 0.2182 - accuracy: 0.9241 - val_loss: 0.3168 - val_accuracy: 0.8902\n"
     ]
    }
   ],
   "metadata": {}
  },
  {
   "cell_type": "code",
   "execution_count": 118,
   "source": [
    "learning_rate = keras.optimizers.schedules.PiecewiseConstantDecay(\r\n",
    "    boundaries=[5. * n_steps_per_epoch, 15. * n_steps_per_epoch],\r\n",
    "    values=[0.01, 0.005, 0.001])"
   ],
   "outputs": [],
   "metadata": {}
  },
  {
   "cell_type": "markdown",
   "source": [
    "## 11.4 규제를 사용해 과대적합 피하기"
   ],
   "metadata": {}
  },
  {
   "cell_type": "markdown",
   "source": [
    "### 11.4.1 $ℓ_{1} 과 ℓ_{2}$ 규제"
   ],
   "metadata": {}
  },
  {
   "cell_type": "code",
   "execution_count": 119,
   "source": [
    "#케라스 층의 연결 가중치에 규제 강도 0.01을 사용하여 ℓ_2 규제 적용\r\n",
    "layer = keras.layers.Dense(100, activation=\"elu\",\r\n",
    "                           kernel_initializer=\"he_normal\",\r\n",
    "                           kernel_regularizer=keras.regularizers.l2(0.01))"
   ],
   "outputs": [],
   "metadata": {}
  },
  {
   "cell_type": "code",
   "execution_count": 120,
   "source": [
    "model = keras.models.Sequential([\r\n",
    "    keras.layers.Flatten(input_shape=[28, 28]),\r\n",
    "    keras.layers.Dense(300, activation=\"elu\",\r\n",
    "                       kernel_initializer=\"he_normal\",\r\n",
    "                       kernel_regularizer=keras.regularizers.l2(0.01)),\r\n",
    "    keras.layers.Dense(100, activation=\"elu\",\r\n",
    "                       kernel_initializer=\"he_normal\",\r\n",
    "                       kernel_regularizer=keras.regularizers.l2(0.01)),\r\n",
    "    keras.layers.Dense(10, activation=\"softmax\",\r\n",
    "                       kernel_regularizer=keras.regularizers.l2(0.01))\r\n",
    "])\r\n",
    "model.compile(loss=\"sparse_categorical_crossentropy\", optimizer=\"nadam\", metrics=[\"accuracy\"])\r\n",
    "n_epochs = 2\r\n",
    "history = model.fit(X_train_scaled, y_train, epochs=n_epochs,\r\n",
    "                    validation_data=(X_valid_scaled, y_valid))"
   ],
   "outputs": [
    {
     "output_type": "stream",
     "name": "stdout",
     "text": [
      "Epoch 1/2\n",
      "1719/1719 [==============================] - 9s 5ms/step - loss: 1.5816 - accuracy: 0.8115 - val_loss: 0.7197 - val_accuracy: 0.8302\n",
      "Epoch 2/2\n",
      "1719/1719 [==============================] - 9s 5ms/step - loss: 0.7210 - accuracy: 0.8276 - val_loss: 0.6862 - val_accuracy: 0.8362\n"
     ]
    }
   ],
   "metadata": {}
  },
  {
   "cell_type": "code",
   "execution_count": 121,
   "source": [
    "#반복문을 피하기 위해 코드를 리팩터링\r\n",
    "#파이썬의 functions.partial() 함수를 사용하여 기본 매개변수 값을 함수 호출을 감싸기\r\n",
    "from functools import partial\r\n",
    "\r\n",
    "RegularizedDense = partial(keras.layers.Dense,\r\n",
    "                           activation=\"elu\",\r\n",
    "                           kernel_initializer=\"he_normal\",\r\n",
    "                           kernel_regularizer=keras.regularizers.l2(0.01))\r\n",
    "\r\n",
    "model = keras.models.Sequential([\r\n",
    "    keras.layers.Flatten(input_shape=[28, 28]),\r\n",
    "    RegularizedDense(300),\r\n",
    "    RegularizedDense(100),\r\n",
    "    RegularizedDense(10, activation=\"softmax\")\r\n",
    "])\r\n",
    "model.compile(loss=\"sparse_categorical_crossentropy\", optimizer=\"nadam\", metrics=[\"accuracy\"])\r\n",
    "n_epochs = 2\r\n",
    "history = model.fit(X_train_scaled, y_train, epochs=n_epochs,\r\n",
    "                    validation_data=(X_valid_scaled, y_valid))"
   ],
   "outputs": [
    {
     "output_type": "stream",
     "name": "stdout",
     "text": [
      "Epoch 1/2\n",
      "1719/1719 [==============================] - 9s 5ms/step - loss: 1.6630 - accuracy: 0.8122 - val_loss: 0.7202 - val_accuracy: 0.8308\n",
      "Epoch 2/2\n",
      "1719/1719 [==============================] - 9s 5ms/step - loss: 0.7188 - accuracy: 0.8266 - val_loss: 0.6806 - val_accuracy: 0.8402\n"
     ]
    }
   ],
   "metadata": {}
  },
  {
   "cell_type": "markdown",
   "source": [
    "### 11.4.2 드롭아웃"
   ],
   "metadata": {}
  },
  {
   "cell_type": "code",
   "execution_count": 122,
   "source": [
    "#드롭아웃 비율을 0.2를 사용한 드롭아웃 규제를 모든 Dense층 이전에 적용하는 코드\r\n",
    "model = keras.models.Sequential([\r\n",
    "    keras.layers.Flatten(input_shape=[28, 28]),\r\n",
    "    keras.layers.Dropout(rate=0.2),\r\n",
    "    keras.layers.Dense(300, activation=\"elu\", kernel_initializer=\"he_normal\"),\r\n",
    "    keras.layers.Dropout(rate=0.2),\r\n",
    "    keras.layers.Dense(100, activation=\"elu\", kernel_initializer=\"he_normal\"),\r\n",
    "    keras.layers.Dropout(rate=0.2),\r\n",
    "    keras.layers.Dense(10, activation=\"softmax\")\r\n",
    "])\r\n",
    "model.compile(loss=\"sparse_categorical_crossentropy\", optimizer=\"nadam\", metrics=[\"accuracy\"])\r\n",
    "n_epochs = 2\r\n",
    "history = model.fit(X_train_scaled, y_train, epochs=n_epochs,\r\n",
    "                    validation_data=(X_valid_scaled, y_valid))"
   ],
   "outputs": [
    {
     "output_type": "stream",
     "name": "stdout",
     "text": [
      "Epoch 1/2\n",
      "1719/1719 [==============================] - 8s 4ms/step - loss: 0.5708 - accuracy: 0.8027 - val_loss: 0.3601 - val_accuracy: 0.8734\n",
      "Epoch 2/2\n",
      "1719/1719 [==============================] - 7s 4ms/step - loss: 0.4186 - accuracy: 0.8469 - val_loss: 0.3499 - val_accuracy: 0.8678\n"
     ]
    }
   ],
   "metadata": {}
  },
  {
   "cell_type": "markdown",
   "source": [
    "### 11.4.3 몬테 카를로 드롭아웃"
   ],
   "metadata": {}
  },
  {
   "cell_type": "code",
   "execution_count": 123,
   "source": [
    "#MC드롭아웃\r\n",
    "y_probas = np.stack([model(X_test_scaled, training=True)\r\n",
    "                     for sample in range(100)])\r\n",
    "y_proba = y_probas.mean(axis=0)\r\n",
    "y_std = y_probas.std(axis=0)"
   ],
   "outputs": [],
   "metadata": {}
  },
  {
   "cell_type": "code",
   "execution_count": 124,
   "source": [
    "#드롭아웃을 끈 패션MNIST\r\n",
    "np.round(model.predict(X_test_scaled[:1]), 2)"
   ],
   "outputs": [
    {
     "output_type": "execute_result",
     "data": {
      "text/plain": [
       "array([[0.  , 0.  , 0.  , 0.  , 0.  , 0.02, 0.  , 0.11, 0.  , 0.87]],\n",
       "      dtype=float32)"
      ]
     },
     "metadata": {},
     "execution_count": 124
    }
   ],
   "metadata": {}
  },
  {
   "cell_type": "code",
   "execution_count": 125,
   "source": [
    "#드롭아웃을 활성화\r\n",
    "np.round(y_probas[:, :1], 2)"
   ],
   "outputs": [
    {
     "output_type": "execute_result",
     "data": {
      "text/plain": [
       "array([[[0.  , 0.  , 0.  , 0.  , 0.  , 0.08, 0.  , 0.35, 0.  , 0.57]],\n",
       "\n",
       "       [[0.  , 0.  , 0.  , 0.  , 0.  , 0.01, 0.  , 0.06, 0.  , 0.93]],\n",
       "\n",
       "       [[0.  , 0.  , 0.  , 0.  , 0.  , 0.09, 0.  , 0.03, 0.  , 0.88]],\n",
       "\n",
       "       [[0.  , 0.  , 0.  , 0.  , 0.  , 0.02, 0.  , 0.04, 0.  , 0.94]],\n",
       "\n",
       "       [[0.  , 0.  , 0.  , 0.  , 0.  , 0.04, 0.  , 0.11, 0.  , 0.85]],\n",
       "\n",
       "       [[0.  , 0.  , 0.  , 0.  , 0.  , 0.07, 0.  , 0.03, 0.  , 0.9 ]],\n",
       "\n",
       "       [[0.  , 0.  , 0.  , 0.  , 0.  , 0.07, 0.  , 0.12, 0.  , 0.82]],\n",
       "\n",
       "       [[0.  , 0.  , 0.  , 0.  , 0.  , 0.  , 0.  , 0.09, 0.  , 0.91]],\n",
       "\n",
       "       [[0.  , 0.  , 0.  , 0.  , 0.  , 0.14, 0.  , 0.17, 0.  , 0.69]],\n",
       "\n",
       "       [[0.  , 0.  , 0.  , 0.  , 0.  , 0.08, 0.  , 0.25, 0.  , 0.68]],\n",
       "\n",
       "       [[0.  , 0.  , 0.  , 0.  , 0.  , 0.05, 0.  , 0.07, 0.  , 0.88]],\n",
       "\n",
       "       [[0.  , 0.  , 0.  , 0.  , 0.  , 0.25, 0.  , 0.1 , 0.  , 0.64]],\n",
       "\n",
       "       [[0.  , 0.  , 0.  , 0.  , 0.  , 0.  , 0.  , 0.06, 0.  , 0.94]],\n",
       "\n",
       "       [[0.  , 0.  , 0.  , 0.  , 0.  , 0.02, 0.  , 0.12, 0.  , 0.86]],\n",
       "\n",
       "       [[0.  , 0.  , 0.  , 0.  , 0.  , 0.01, 0.  , 0.06, 0.  , 0.93]],\n",
       "\n",
       "       [[0.  , 0.  , 0.  , 0.  , 0.  , 0.01, 0.  , 0.  , 0.  , 0.99]],\n",
       "\n",
       "       [[0.  , 0.  , 0.  , 0.  , 0.  , 0.03, 0.  , 0.26, 0.  , 0.71]],\n",
       "\n",
       "       [[0.  , 0.  , 0.  , 0.  , 0.  , 0.05, 0.  , 0.2 , 0.  , 0.76]],\n",
       "\n",
       "       [[0.  , 0.  , 0.  , 0.  , 0.  , 0.11, 0.  , 0.35, 0.  , 0.54]],\n",
       "\n",
       "       [[0.  , 0.  , 0.  , 0.  , 0.  , 0.02, 0.  , 0.36, 0.  , 0.62]],\n",
       "\n",
       "       [[0.  , 0.  , 0.  , 0.  , 0.  , 0.14, 0.  , 0.02, 0.  , 0.84]],\n",
       "\n",
       "       [[0.  , 0.  , 0.  , 0.  , 0.  , 0.01, 0.  , 0.06, 0.  , 0.93]],\n",
       "\n",
       "       [[0.  , 0.  , 0.  , 0.  , 0.  , 0.01, 0.  , 0.06, 0.  , 0.93]],\n",
       "\n",
       "       [[0.  , 0.  , 0.  , 0.  , 0.  , 0.01, 0.  , 0.07, 0.  , 0.93]],\n",
       "\n",
       "       [[0.  , 0.  , 0.  , 0.  , 0.  , 0.03, 0.  , 0.67, 0.  , 0.29]],\n",
       "\n",
       "       [[0.  , 0.  , 0.  , 0.  , 0.  , 0.06, 0.  , 0.08, 0.  , 0.87]],\n",
       "\n",
       "       [[0.  , 0.  , 0.  , 0.  , 0.  , 0.03, 0.  , 0.21, 0.  , 0.76]],\n",
       "\n",
       "       [[0.  , 0.  , 0.  , 0.  , 0.  , 0.03, 0.  , 0.01, 0.  , 0.96]],\n",
       "\n",
       "       [[0.  , 0.  , 0.  , 0.  , 0.  , 0.01, 0.  , 0.15, 0.  , 0.84]],\n",
       "\n",
       "       [[0.  , 0.  , 0.  , 0.  , 0.  , 0.02, 0.  , 0.09, 0.  , 0.89]],\n",
       "\n",
       "       [[0.  , 0.  , 0.  , 0.  , 0.  , 0.02, 0.  , 0.42, 0.  , 0.56]],\n",
       "\n",
       "       [[0.  , 0.  , 0.  , 0.  , 0.  , 0.18, 0.  , 0.43, 0.  , 0.39]],\n",
       "\n",
       "       [[0.  , 0.  , 0.  , 0.  , 0.  , 0.01, 0.  , 0.02, 0.  , 0.97]],\n",
       "\n",
       "       [[0.  , 0.  , 0.  , 0.  , 0.  , 0.  , 0.  , 0.01, 0.  , 0.99]],\n",
       "\n",
       "       [[0.  , 0.  , 0.  , 0.  , 0.  , 0.01, 0.  , 0.11, 0.  , 0.88]],\n",
       "\n",
       "       [[0.  , 0.  , 0.  , 0.  , 0.  , 0.02, 0.  , 0.09, 0.  , 0.9 ]],\n",
       "\n",
       "       [[0.  , 0.  , 0.  , 0.  , 0.  , 0.07, 0.  , 0.66, 0.  , 0.28]],\n",
       "\n",
       "       [[0.  , 0.  , 0.  , 0.  , 0.  , 0.02, 0.  , 0.02, 0.  , 0.95]],\n",
       "\n",
       "       [[0.  , 0.  , 0.  , 0.  , 0.  , 0.17, 0.  , 0.16, 0.  , 0.67]],\n",
       "\n",
       "       [[0.  , 0.  , 0.  , 0.  , 0.  , 0.01, 0.  , 0.03, 0.  , 0.96]],\n",
       "\n",
       "       [[0.  , 0.  , 0.  , 0.  , 0.  , 0.  , 0.  , 0.12, 0.  , 0.87]],\n",
       "\n",
       "       [[0.  , 0.  , 0.  , 0.  , 0.  , 0.01, 0.  , 0.11, 0.  , 0.88]],\n",
       "\n",
       "       [[0.  , 0.  , 0.  , 0.  , 0.  , 0.14, 0.  , 0.5 , 0.  , 0.35]],\n",
       "\n",
       "       [[0.  , 0.  , 0.  , 0.  , 0.  , 0.03, 0.  , 0.05, 0.  , 0.92]],\n",
       "\n",
       "       [[0.  , 0.  , 0.  , 0.  , 0.  , 0.03, 0.  , 0.2 , 0.  , 0.77]],\n",
       "\n",
       "       [[0.  , 0.  , 0.  , 0.  , 0.  , 0.14, 0.  , 0.19, 0.  , 0.66]],\n",
       "\n",
       "       [[0.  , 0.  , 0.  , 0.  , 0.  , 0.02, 0.  , 0.57, 0.  , 0.42]],\n",
       "\n",
       "       [[0.  , 0.  , 0.  , 0.  , 0.  , 0.1 , 0.  , 0.13, 0.  , 0.78]],\n",
       "\n",
       "       [[0.  , 0.  , 0.  , 0.  , 0.  , 0.03, 0.  , 0.04, 0.  , 0.94]],\n",
       "\n",
       "       [[0.  , 0.  , 0.  , 0.  , 0.  , 0.03, 0.  , 0.04, 0.  , 0.93]],\n",
       "\n",
       "       [[0.  , 0.  , 0.  , 0.  , 0.  , 0.06, 0.  , 0.24, 0.  , 0.71]],\n",
       "\n",
       "       [[0.  , 0.  , 0.  , 0.  , 0.  , 0.08, 0.  , 0.25, 0.  , 0.67]],\n",
       "\n",
       "       [[0.  , 0.  , 0.  , 0.  , 0.  , 0.09, 0.  , 0.02, 0.  , 0.89]],\n",
       "\n",
       "       [[0.  , 0.  , 0.  , 0.  , 0.  , 0.02, 0.  , 0.21, 0.  , 0.77]],\n",
       "\n",
       "       [[0.  , 0.  , 0.  , 0.  , 0.  , 0.02, 0.  , 0.08, 0.  , 0.91]],\n",
       "\n",
       "       [[0.  , 0.  , 0.  , 0.  , 0.  , 0.06, 0.  , 0.09, 0.  , 0.85]],\n",
       "\n",
       "       [[0.  , 0.  , 0.  , 0.  , 0.  , 0.03, 0.  , 0.47, 0.  , 0.5 ]],\n",
       "\n",
       "       [[0.  , 0.  , 0.  , 0.  , 0.  , 0.04, 0.  , 0.11, 0.  , 0.84]],\n",
       "\n",
       "       [[0.  , 0.  , 0.  , 0.  , 0.  , 0.  , 0.  , 0.05, 0.  , 0.94]],\n",
       "\n",
       "       [[0.  , 0.  , 0.  , 0.  , 0.  , 0.04, 0.  , 0.71, 0.  , 0.24]],\n",
       "\n",
       "       [[0.  , 0.  , 0.  , 0.  , 0.  , 0.02, 0.  , 0.14, 0.  , 0.84]],\n",
       "\n",
       "       [[0.  , 0.  , 0.  , 0.  , 0.  , 0.07, 0.  , 0.06, 0.  , 0.87]],\n",
       "\n",
       "       [[0.  , 0.  , 0.  , 0.  , 0.  , 0.11, 0.  , 0.46, 0.  , 0.43]],\n",
       "\n",
       "       [[0.  , 0.  , 0.  , 0.  , 0.  , 0.02, 0.  , 0.31, 0.  , 0.68]],\n",
       "\n",
       "       [[0.  , 0.  , 0.  , 0.  , 0.  , 0.1 , 0.  , 0.18, 0.  , 0.72]],\n",
       "\n",
       "       [[0.  , 0.  , 0.  , 0.  , 0.  , 0.  , 0.  , 0.1 , 0.  , 0.9 ]],\n",
       "\n",
       "       [[0.  , 0.  , 0.  , 0.  , 0.  , 0.03, 0.  , 0.05, 0.  , 0.91]],\n",
       "\n",
       "       [[0.  , 0.  , 0.  , 0.  , 0.  , 0.09, 0.  , 0.01, 0.  , 0.9 ]],\n",
       "\n",
       "       [[0.  , 0.  , 0.  , 0.  , 0.  , 0.19, 0.  , 0.73, 0.  , 0.08]],\n",
       "\n",
       "       [[0.  , 0.  , 0.  , 0.  , 0.  , 0.01, 0.  , 0.09, 0.  , 0.9 ]],\n",
       "\n",
       "       [[0.  , 0.  , 0.  , 0.  , 0.  , 0.01, 0.  , 0.34, 0.  , 0.64]],\n",
       "\n",
       "       [[0.  , 0.  , 0.  , 0.  , 0.  , 0.12, 0.  , 0.41, 0.  , 0.47]],\n",
       "\n",
       "       [[0.  , 0.  , 0.  , 0.  , 0.  , 0.15, 0.  , 0.43, 0.  , 0.43]],\n",
       "\n",
       "       [[0.  , 0.  , 0.  , 0.  , 0.  , 0.05, 0.  , 0.16, 0.  , 0.79]],\n",
       "\n",
       "       [[0.  , 0.  , 0.  , 0.  , 0.  , 0.  , 0.  , 0.04, 0.  , 0.95]],\n",
       "\n",
       "       [[0.  , 0.  , 0.  , 0.  , 0.  , 0.04, 0.  , 0.04, 0.  , 0.92]],\n",
       "\n",
       "       [[0.  , 0.  , 0.  , 0.  , 0.  , 0.09, 0.  , 0.17, 0.  , 0.74]],\n",
       "\n",
       "       [[0.  , 0.  , 0.  , 0.  , 0.  , 0.03, 0.  , 0.24, 0.  , 0.73]],\n",
       "\n",
       "       [[0.  , 0.  , 0.  , 0.  , 0.  , 0.  , 0.  , 0.13, 0.  , 0.86]],\n",
       "\n",
       "       [[0.  , 0.  , 0.  , 0.  , 0.  , 0.05, 0.  , 0.11, 0.  , 0.84]],\n",
       "\n",
       "       [[0.  , 0.  , 0.  , 0.  , 0.  , 0.28, 0.  , 0.17, 0.  , 0.54]],\n",
       "\n",
       "       [[0.  , 0.  , 0.  , 0.  , 0.  , 0.01, 0.  , 0.23, 0.  , 0.76]],\n",
       "\n",
       "       [[0.  , 0.  , 0.  , 0.  , 0.  , 0.01, 0.  , 0.07, 0.  , 0.92]],\n",
       "\n",
       "       [[0.  , 0.  , 0.  , 0.  , 0.  , 0.  , 0.  , 0.04, 0.  , 0.95]],\n",
       "\n",
       "       [[0.  , 0.  , 0.  , 0.  , 0.  , 0.04, 0.  , 0.15, 0.  , 0.81]],\n",
       "\n",
       "       [[0.  , 0.  , 0.  , 0.  , 0.  , 0.12, 0.  , 0.65, 0.  , 0.23]],\n",
       "\n",
       "       [[0.  , 0.  , 0.  , 0.  , 0.  , 0.26, 0.  , 0.05, 0.  , 0.69]],\n",
       "\n",
       "       [[0.  , 0.  , 0.  , 0.  , 0.  , 0.07, 0.  , 0.34, 0.  , 0.59]],\n",
       "\n",
       "       [[0.  , 0.  , 0.  , 0.  , 0.  , 0.02, 0.  , 0.15, 0.  , 0.83]],\n",
       "\n",
       "       [[0.  , 0.  , 0.  , 0.  , 0.  , 0.04, 0.  , 0.33, 0.  , 0.64]],\n",
       "\n",
       "       [[0.  , 0.  , 0.  , 0.  , 0.  , 0.01, 0.  , 0.01, 0.  , 0.98]],\n",
       "\n",
       "       [[0.  , 0.  , 0.  , 0.  , 0.  , 0.01, 0.  , 0.05, 0.  , 0.95]],\n",
       "\n",
       "       [[0.  , 0.  , 0.  , 0.  , 0.  , 0.23, 0.  , 0.48, 0.  , 0.28]],\n",
       "\n",
       "       [[0.  , 0.  , 0.  , 0.  , 0.  , 0.01, 0.  , 0.61, 0.  , 0.38]],\n",
       "\n",
       "       [[0.  , 0.  , 0.  , 0.  , 0.  , 0.04, 0.  , 0.68, 0.  , 0.28]],\n",
       "\n",
       "       [[0.  , 0.  , 0.  , 0.  , 0.  , 0.02, 0.  , 0.  , 0.  , 0.98]],\n",
       "\n",
       "       [[0.  , 0.  , 0.  , 0.  , 0.  , 0.25, 0.  , 0.04, 0.  , 0.71]],\n",
       "\n",
       "       [[0.  , 0.  , 0.  , 0.  , 0.  , 0.01, 0.  , 0.04, 0.  , 0.95]],\n",
       "\n",
       "       [[0.  , 0.  , 0.  , 0.  , 0.  , 0.  , 0.  , 0.22, 0.  , 0.77]],\n",
       "\n",
       "       [[0.  , 0.  , 0.  , 0.  , 0.  , 0.06, 0.  , 0.18, 0.  , 0.75]]],\n",
       "      dtype=float32)"
      ]
     },
     "metadata": {},
     "execution_count": 125
    }
   ],
   "metadata": {}
  },
  {
   "cell_type": "code",
   "execution_count": 126,
   "source": [
    "#드롭아웃 예측 확률\r\n",
    "np.round(y_proba[:1], 2)"
   ],
   "outputs": [
    {
     "output_type": "execute_result",
     "data": {
      "text/plain": [
       "array([[0.  , 0.  , 0.  , 0.  , 0.  , 0.06, 0.  , 0.19, 0.  , 0.75]],\n",
       "      dtype=float32)"
      ]
     },
     "metadata": {},
     "execution_count": 126
    }
   ],
   "metadata": {}
  },
  {
   "cell_type": "code",
   "execution_count": 127,
   "source": [
    "y_std = y_probas.std(axis=0)\r\n",
    "np.round(y_std[:1], 2)"
   ],
   "outputs": [
    {
     "output_type": "execute_result",
     "data": {
      "text/plain": [
       "array([[0.  , 0.  , 0.  , 0.  , 0.  , 0.06, 0.  , 0.19, 0.  , 0.21]],\n",
       "      dtype=float32)"
      ]
     },
     "metadata": {},
     "execution_count": 127
    }
   ],
   "metadata": {}
  },
  {
   "cell_type": "code",
   "execution_count": 128,
   "source": [
    "y_pred = np.argmax(y_proba, axis=1)"
   ],
   "outputs": [],
   "metadata": {}
  },
  {
   "cell_type": "code",
   "execution_count": 129,
   "source": [
    "accuracy = np.sum(y_pred == y_test) / len(y_test)\r\n",
    "accuracy"
   ],
   "outputs": [
    {
     "output_type": "execute_result",
     "data": {
      "text/plain": [
       "0.8579"
      ]
     },
     "metadata": {},
     "execution_count": 129
    }
   ],
   "metadata": {}
  },
  {
   "cell_type": "code",
   "execution_count": 130,
   "source": [
    "#모델이 훈련하는 동안 다르게 작동하는 층을 가지고 있을 때 MC 드롭아웃 코드\r\n",
    "class MCDropout(keras.layers.Dropout):\r\n",
    "    def call(self, inputs):\r\n",
    "        return super().call(inputs, training=True)\r\n",
    "\r\n",
    "class MCAlphaDropout(keras.layers.AlphaDropout):\r\n",
    "    def call(self, inputs):\r\n",
    "        return super().call(inputs, training=True)"
   ],
   "outputs": [],
   "metadata": {}
  },
  {
   "cell_type": "code",
   "execution_count": 131,
   "source": [
    "mc_model = keras.models.Sequential([\r\n",
    "    MCAlphaDropout(layer.rate) if isinstance(layer, keras.layers.AlphaDropout) else layer\r\n",
    "    for layer in model.layers\r\n",
    "])"
   ],
   "outputs": [],
   "metadata": {}
  },
  {
   "cell_type": "code",
   "execution_count": 132,
   "source": [
    "mc_model.summary()"
   ],
   "outputs": [
    {
     "output_type": "stream",
     "name": "stdout",
     "text": [
      "Model: \"sequential_29\"\n",
      "_________________________________________________________________\n",
      "Layer (type)                 Output Shape              Param #   \n",
      "=================================================================\n",
      "flatten_26 (Flatten)         (None, 784)               0         \n",
      "_________________________________________________________________\n",
      "dropout (Dropout)            (None, 784)               0         \n",
      "_________________________________________________________________\n",
      "dense_294 (Dense)            (None, 300)               235500    \n",
      "_________________________________________________________________\n",
      "dropout_1 (Dropout)          (None, 300)               0         \n",
      "_________________________________________________________________\n",
      "dense_295 (Dense)            (None, 100)               30100     \n",
      "_________________________________________________________________\n",
      "dropout_2 (Dropout)          (None, 100)               0         \n",
      "_________________________________________________________________\n",
      "dense_296 (Dense)            (None, 10)                1010      \n",
      "=================================================================\n",
      "Total params: 266,610\n",
      "Trainable params: 266,610\n",
      "Non-trainable params: 0\n",
      "_________________________________________________________________\n"
     ]
    }
   ],
   "metadata": {}
  },
  {
   "cell_type": "code",
   "execution_count": 133,
   "source": [
    "optimizer = keras.optimizers.SGD(lr=0.01, momentum=0.9, nesterov=True)\r\n",
    "mc_model.compile(loss=\"sparse_categorical_crossentropy\", optimizer=optimizer, metrics=[\"accuracy\"])"
   ],
   "outputs": [],
   "metadata": {}
  },
  {
   "cell_type": "code",
   "execution_count": 134,
   "source": [
    "mc_model.set_weights(model.get_weights())"
   ],
   "outputs": [],
   "metadata": {}
  },
  {
   "cell_type": "code",
   "execution_count": 135,
   "source": [
    "np.round(np.mean([mc_model.predict(X_test_scaled[:1]) for sample in range(100)], axis=0), 2)"
   ],
   "outputs": [
    {
     "output_type": "execute_result",
     "data": {
      "text/plain": [
       "array([[0.  , 0.  , 0.  , 0.  , 0.  , 0.02, 0.  , 0.11, 0.  , 0.87]],\n",
       "      dtype=float32)"
      ]
     },
     "metadata": {},
     "execution_count": 135
    }
   ],
   "metadata": {}
  },
  {
   "cell_type": "markdown",
   "source": [
    "### 11.4.4 맥스-노름 규제"
   ],
   "metadata": {}
  },
  {
   "cell_type": "code",
   "execution_count": 136,
   "source": [
    "\r\n",
    "layer = keras.layers.Dense(100, activation=\"selu\", kernel_initializer=\"lecun_normal\",\r\n",
    "                           kernel_constraint=keras.constraints.max_norm(1.))"
   ],
   "outputs": [],
   "metadata": {}
  },
  {
   "cell_type": "code",
   "execution_count": 137,
   "source": [
    "MaxNormDense = partial(keras.layers.Dense,\r\n",
    "                       activation=\"selu\", kernel_initializer=\"lecun_normal\",\r\n",
    "                       kernel_constraint=keras.constraints.max_norm(1.))\r\n",
    "\r\n",
    "model = keras.models.Sequential([\r\n",
    "    keras.layers.Flatten(input_shape=[28, 28]),\r\n",
    "    MaxNormDense(300),\r\n",
    "    MaxNormDense(100),\r\n",
    "    keras.layers.Dense(10, activation=\"softmax\")\r\n",
    "])\r\n",
    "model.compile(loss=\"sparse_categorical_crossentropy\", optimizer=\"nadam\", metrics=[\"accuracy\"])\r\n",
    "n_epochs = 2\r\n",
    "history = model.fit(X_train_scaled, y_train, epochs=n_epochs,\r\n",
    "                    validation_data=(X_valid_scaled, y_valid))"
   ],
   "outputs": [
    {
     "output_type": "stream",
     "name": "stdout",
     "text": [
      "Epoch 1/2\n",
      "1719/1719 [==============================] - 8s 5ms/step - loss: 0.4812 - accuracy: 0.8318 - val_loss: 0.3842 - val_accuracy: 0.8636\n",
      "Epoch 2/2\n",
      "1719/1719 [==============================] - 7s 4ms/step - loss: 0.3566 - accuracy: 0.8709 - val_loss: 0.3775 - val_accuracy: 0.8676\n"
     ]
    }
   ],
   "metadata": {}
  },
  {
   "cell_type": "markdown",
   "source": [],
   "metadata": {}
  }
 ],
 "metadata": {
  "kernelspec": {
   "name": "python3",
   "display_name": "Python 3.8.11 64-bit ('CHB_MIT': conda)"
  },
  "language_info": {
   "codemirror_mode": {
    "name": "ipython",
    "version": 3
   },
   "file_extension": ".py",
   "mimetype": "text/x-python",
   "name": "python",
   "nbconvert_exporter": "python",
   "pygments_lexer": "ipython3",
   "version": "3.8.11"
  },
  "interpreter": {
   "hash": "16e2b9dec55c5932b8b28e0616e045e95e405f540f63ad26212d5f15854ff0ce"
  }
 },
 "nbformat": 4,
 "nbformat_minor": 5
}