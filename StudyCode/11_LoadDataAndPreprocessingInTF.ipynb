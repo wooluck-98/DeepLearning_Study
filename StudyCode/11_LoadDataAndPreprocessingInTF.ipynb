{
 "cells": [
  {
   "cell_type": "code",
   "execution_count": 1,
   "id": "2f9264d0",
   "metadata": {},
   "outputs": [],
   "source": [
    "import warnings\r\n",
    "warnings.filterwarnings(action='ignore')"
   ]
  },
  {
   "cell_type": "code",
   "execution_count": 2,
   "id": "06770598",
   "metadata": {},
   "outputs": [],
   "source": [
    "import sklearn\r\n",
    "assert sklearn.__version__ >= \"0.20\"\r\n",
    "\r\n",
    "try:\r\n",
    "    # %tensorflow_version은 코랩 명령입니다.\r\n",
    "    %tensorflow_version 2.x\r\n",
    "    !pip install -q -U tfx\r\n",
    "    print(\"패키지 호환 에러는 무시해도 괜찮습니다.\")\r\n",
    "except Exception:\r\n",
    "    pass\r\n",
    "\r\n",
    "# 텐서플로 ≥2.0 필수\r\n",
    "import tensorflow as tf\r\n",
    "from tensorflow import keras\r\n",
    "assert tf.__version__ >= \"2.0\"\r\n",
    "\r\n",
    "# 공통 모듈 임포트\r\n",
    "import numpy as np\r\n",
    "import os\r\n",
    "\r\n",
    "# 노트북 실행 결과를 동일하게 유지하기 위해\r\n",
    "np.random.seed(42)\r\n",
    "\r\n",
    "# 깔끔한 그래프 출력을 위해\r\n",
    "%matplotlib inline\r\n",
    "import matplotlib as mpl\r\n",
    "import matplotlib.pyplot as plt\r\n",
    "mpl.rc('axes', labelsize=14)\r\n",
    "mpl.rc('xtick', labelsize=12)\r\n",
    "mpl.rc('ytick', labelsize=12)\r\n",
    "\r\n",
    "# 그림을 저장할 위치\r\n",
    "PROJECT_ROOT_DIR = \".\"\r\n",
    "CHAPTER_ID = \"data\"\r\n",
    "IMAGES_PATH = os.path.join(PROJECT_ROOT_DIR, \"images\", CHAPTER_ID)\r\n",
    "os.makedirs(IMAGES_PATH, exist_ok=True)"
   ]
  },
  {
   "cell_type": "markdown",
   "id": "6b6ff42f",
   "metadata": {},
   "source": [
    "# Chapter 13. 텐서플로에서 데이터 적재와 전처리 하기"
   ]
  },
  {
   "cell_type": "markdown",
   "id": "f4941925",
   "metadata": {},
   "source": [
    "## 13.1 데이터 API"
   ]
  },
  {
   "cell_type": "code",
   "execution_count": 3,
   "id": "26e8eff2",
   "metadata": {},
   "outputs": [
    {
     "data": {
      "text/plain": [
       "<TensorSliceDataset shapes: (), types: tf.int32>"
      ]
     },
     "execution_count": 3,
     "metadata": {},
     "output_type": "execute_result"
    }
   ],
   "source": [
    "#간단히 메모리에서 전체 데이터셋 생성하기\r\n",
    "X = tf.range(10)\r\n",
    "dataset = tf.data.Dataset.from_tensor_slices(X)\r\n",
    "dataset"
   ]
  },
  {
   "cell_type": "code",
   "execution_count": 4,
   "id": "c7c88a46",
   "metadata": {},
   "outputs": [
    {
     "data": {
      "text/plain": [
       "<RangeDataset shapes: (), types: tf.int64>"
      ]
     },
     "execution_count": 4,
     "metadata": {},
     "output_type": "execute_result"
    }
   ],
   "source": [
    "#위와 동일\r\n",
    "dataset = tf.data.Dataset.range(10)\r\n",
    "dataset"
   ]
  },
  {
   "cell_type": "code",
   "execution_count": 5,
   "id": "6f0f5432",
   "metadata": {},
   "outputs": [
    {
     "name": "stdout",
     "output_type": "stream",
     "text": [
      "tf.Tensor(0, shape=(), dtype=int64)\n",
      "tf.Tensor(1, shape=(), dtype=int64)\n",
      "tf.Tensor(2, shape=(), dtype=int64)\n",
      "tf.Tensor(3, shape=(), dtype=int64)\n",
      "tf.Tensor(4, shape=(), dtype=int64)\n",
      "tf.Tensor(5, shape=(), dtype=int64)\n",
      "tf.Tensor(6, shape=(), dtype=int64)\n",
      "tf.Tensor(7, shape=(), dtype=int64)\n",
      "tf.Tensor(8, shape=(), dtype=int64)\n",
      "tf.Tensor(9, shape=(), dtype=int64)\n"
     ]
    }
   ],
   "source": [
    "for i in dataset:\r\n",
    "    print(i)"
   ]
  },
  {
   "cell_type": "markdown",
   "id": "2933c4e1",
   "metadata": {},
   "source": [
    "### 13.1.1 연쇄 변환"
   ]
  },
  {
   "cell_type": "code",
   "execution_count": 6,
   "id": "fba5b0ca",
   "metadata": {},
   "outputs": [
    {
     "name": "stdout",
     "output_type": "stream",
     "text": [
      "tf.Tensor([0 1 2 3 4 5 6], shape=(7,), dtype=int64)\n",
      "tf.Tensor([7 8 9 0 1 2 3], shape=(7,), dtype=int64)\n",
      "tf.Tensor([4 5 6 7 8 9 0], shape=(7,), dtype=int64)\n",
      "tf.Tensor([1 2 3 4 5 6 7], shape=(7,), dtype=int64)\n",
      "tf.Tensor([8 9], shape=(2,), dtype=int64)\n"
     ]
    }
   ],
   "source": [
    "dataset = dataset.repeat(3).batch(7)\r\n",
    "for item in dataset:\r\n",
    "    print(item)"
   ]
  },
  {
   "cell_type": "code",
   "execution_count": 7,
   "id": "3cfee411",
   "metadata": {},
   "outputs": [
    {
     "data": {
      "text/plain": [
       "<MapDataset shapes: (None,), types: tf.int64>"
      ]
     },
     "execution_count": 7,
     "metadata": {},
     "output_type": "execute_result"
    }
   ],
   "source": [
    "dataset = dataset.map(lambda x : x*2)\r\n",
    "dataset "
   ]
  },
  {
   "cell_type": "code",
   "execution_count": 8,
   "id": "0b144ce3",
   "metadata": {},
   "outputs": [
    {
     "name": "stdout",
     "output_type": "stream",
     "text": [
      "tf.Tensor([ 0  2  4  6  8 10 12], shape=(7,), dtype=int64)\n",
      "tf.Tensor([14 16 18  0  2  4  6], shape=(7,), dtype=int64)\n",
      "tf.Tensor([ 8 10 12 14 16 18  0], shape=(7,), dtype=int64)\n",
      "tf.Tensor([ 2  4  6  8 10 12 14], shape=(7,), dtype=int64)\n",
      "tf.Tensor([16 18], shape=(2,), dtype=int64)\n"
     ]
    }
   ],
   "source": [
    "for item in dataset:\r\n",
    "    print(item)"
   ]
  },
  {
   "cell_type": "code",
   "execution_count": 9,
   "id": "caa40ce5",
   "metadata": {},
   "outputs": [],
   "source": [
    "dataset = dataset.unbatch()"
   ]
  },
  {
   "cell_type": "code",
   "execution_count": 10,
   "id": "3926d925",
   "metadata": {},
   "outputs": [],
   "source": [
    "dataset = dataset.filter(lambda x: x < 10)"
   ]
  },
  {
   "cell_type": "code",
   "execution_count": 11,
   "id": "b1d9a2d5",
   "metadata": {},
   "outputs": [
    {
     "name": "stdout",
     "output_type": "stream",
     "text": [
      "tf.Tensor(0, shape=(), dtype=int64)\n",
      "tf.Tensor(2, shape=(), dtype=int64)\n",
      "tf.Tensor(4, shape=(), dtype=int64)\n"
     ]
    }
   ],
   "source": [
    "for item in dataset.take(3):\r\n",
    "    print(item)"
   ]
  },
  {
   "cell_type": "markdown",
   "id": "f21d5424",
   "metadata": {},
   "source": [
    "### 13.1.2 데이터 셔플링"
   ]
  },
  {
   "cell_type": "code",
   "execution_count": 12,
   "id": "e1da3dba",
   "metadata": {},
   "outputs": [
    {
     "name": "stdout",
     "output_type": "stream",
     "text": [
      "tf.Tensor([0 2 3 6 7 9 4], shape=(7,), dtype=int64)\n",
      "tf.Tensor([5 0 1 1 8 6 5], shape=(7,), dtype=int64)\n",
      "tf.Tensor([4 8 7 1 2 3 0], shape=(7,), dtype=int64)\n",
      "tf.Tensor([5 4 2 7 8 9 9], shape=(7,), dtype=int64)\n",
      "tf.Tensor([3 6], shape=(2,), dtype=int64)\n"
     ]
    }
   ],
   "source": [
    "dataset = tf.data.Dataset.range(10).repeat(3)\r\n",
    "dataset = dataset.shuffle(buffer_size=5, seed=42).batch(7)\r\n",
    "for item in dataset:\r\n",
    "    print(item)"
   ]
  },
  {
   "cell_type": "markdown",
   "id": "460215ce",
   "metadata": {},
   "source": [
    "여러 파일에서 한 줄씩 번갈아 읽기"
   ]
  },
  {
   "cell_type": "code",
   "execution_count": 13,
   "id": "9c136ab4",
   "metadata": {},
   "outputs": [],
   "source": [
    "#캘리포니아 주택 데이터셋 적재하기\r\n",
    "from sklearn.datasets import fetch_california_housing\r\n",
    "from sklearn.model_selection import train_test_split\r\n",
    "from sklearn.preprocessing import StandardScaler\r\n",
    "\r\n",
    "housing = fetch_california_housing()\r\n",
    "X_train_full, X_test, y_train_full, y_test = train_test_split(\r\n",
    "    housing.data, housing.target.reshape(-1, 1), random_state=42)\r\n",
    "X_train, X_valid, y_train, y_valid = train_test_split(\r\n",
    "    X_train_full, y_train_full, random_state=42)\r\n",
    "\r\n",
    "scaler = StandardScaler()\r\n",
    "scaler.fit(X_train)\r\n",
    "X_mean = scaler.mean_\r\n",
    "X_std = scaler.scale_"
   ]
  },
  {
   "cell_type": "code",
   "execution_count": 14,
   "id": "7ead0281",
   "metadata": {},
   "outputs": [],
   "source": [
    "#주택 데이터셋을 20개의 CSV파일로 나누기\r\n",
    "def save_to_multiple_csv_files(data, name_prefix, header=None, n_parts=10):\r\n",
    "    housing_dir = os.path.join(\"images\", \"data\")\r\n",
    "    os.makedirs(housing_dir, exist_ok=True)\r\n",
    "    path_format = os.path.join(housing_dir, \"my_{}_{:02d}.csv\")\r\n",
    "\r\n",
    "    filepaths = []\r\n",
    "    m = len(data)\r\n",
    "    for file_idx, row_indices in enumerate(np.array_split(np.arange(m), n_parts)):\r\n",
    "        part_csv = path_format.format(name_prefix, file_idx)\r\n",
    "        filepaths.append(part_csv)\r\n",
    "        with open(part_csv, \"wt\", encoding=\"utf-8\") as f:\r\n",
    "            if header is not None:\r\n",
    "                f.write(header)\r\n",
    "                f.write(\"\\n\")\r\n",
    "            for row_idx in row_indices:\r\n",
    "                f.write(\",\".join([repr(col) for col in data[row_idx]]))\r\n",
    "                f.write(\"\\n\")\r\n",
    "    return filepaths"
   ]
  },
  {
   "cell_type": "code",
   "execution_count": 15,
   "id": "0df77d27",
   "metadata": {},
   "outputs": [],
   "source": [
    "train_data = np.c_[X_train, y_train]\r\n",
    "valid_data = np.c_[X_valid, y_valid]\r\n",
    "test_data = np.c_[X_test, y_test]\r\n",
    "header_cols = housing.feature_names + [\"MedianHouseValue\"]\r\n",
    "header = \",\".join(header_cols)\r\n",
    "\r\n",
    "train_filepaths = save_to_multiple_csv_files(train_data, \"train\", header, n_parts=20)\r\n",
    "valid_filepaths = save_to_multiple_csv_files(valid_data, \"valid\", header, n_parts=10)\r\n",
    "test_filepaths = save_to_multiple_csv_files(test_data, \"test\", header, n_parts=10)"
   ]
  },
  {
   "cell_type": "code",
   "execution_count": 16,
   "id": "4c8397a0",
   "metadata": {},
   "outputs": [
    {
     "data": {
      "text/html": [
       "<div>\n",
       "<style scoped>\n",
       "    .dataframe tbody tr th:only-of-type {\n",
       "        vertical-align: middle;\n",
       "    }\n",
       "\n",
       "    .dataframe tbody tr th {\n",
       "        vertical-align: top;\n",
       "    }\n",
       "\n",
       "    .dataframe thead th {\n",
       "        text-align: right;\n",
       "    }\n",
       "</style>\n",
       "<table border=\"1\" class=\"dataframe\">\n",
       "  <thead>\n",
       "    <tr style=\"text-align: right;\">\n",
       "      <th></th>\n",
       "      <th>MedInc</th>\n",
       "      <th>HouseAge</th>\n",
       "      <th>AveRooms</th>\n",
       "      <th>AveBedrms</th>\n",
       "      <th>Population</th>\n",
       "      <th>AveOccup</th>\n",
       "      <th>Latitude</th>\n",
       "      <th>Longitude</th>\n",
       "      <th>MedianHouseValue</th>\n",
       "    </tr>\n",
       "  </thead>\n",
       "  <tbody>\n",
       "    <tr>\n",
       "      <th>0</th>\n",
       "      <td>3.5214</td>\n",
       "      <td>15.0</td>\n",
       "      <td>3.049945</td>\n",
       "      <td>1.106548</td>\n",
       "      <td>1447.0</td>\n",
       "      <td>1.605993</td>\n",
       "      <td>37.63</td>\n",
       "      <td>-122.43</td>\n",
       "      <td>1.442</td>\n",
       "    </tr>\n",
       "    <tr>\n",
       "      <th>1</th>\n",
       "      <td>5.3275</td>\n",
       "      <td>5.0</td>\n",
       "      <td>6.490060</td>\n",
       "      <td>0.991054</td>\n",
       "      <td>3464.0</td>\n",
       "      <td>3.443340</td>\n",
       "      <td>33.69</td>\n",
       "      <td>-117.39</td>\n",
       "      <td>1.687</td>\n",
       "    </tr>\n",
       "    <tr>\n",
       "      <th>2</th>\n",
       "      <td>3.1000</td>\n",
       "      <td>29.0</td>\n",
       "      <td>7.542373</td>\n",
       "      <td>1.591525</td>\n",
       "      <td>1328.0</td>\n",
       "      <td>2.250847</td>\n",
       "      <td>38.44</td>\n",
       "      <td>-122.98</td>\n",
       "      <td>1.621</td>\n",
       "    </tr>\n",
       "    <tr>\n",
       "      <th>3</th>\n",
       "      <td>7.1736</td>\n",
       "      <td>12.0</td>\n",
       "      <td>6.289003</td>\n",
       "      <td>0.997442</td>\n",
       "      <td>1054.0</td>\n",
       "      <td>2.695652</td>\n",
       "      <td>33.55</td>\n",
       "      <td>-117.70</td>\n",
       "      <td>2.621</td>\n",
       "    </tr>\n",
       "    <tr>\n",
       "      <th>4</th>\n",
       "      <td>2.0549</td>\n",
       "      <td>13.0</td>\n",
       "      <td>5.312457</td>\n",
       "      <td>1.085092</td>\n",
       "      <td>3297.0</td>\n",
       "      <td>2.244384</td>\n",
       "      <td>33.93</td>\n",
       "      <td>-116.93</td>\n",
       "      <td>0.956</td>\n",
       "    </tr>\n",
       "  </tbody>\n",
       "</table>\n",
       "</div>"
      ],
      "text/plain": [
       "   MedInc  HouseAge  AveRooms  AveBedrms  Population  AveOccup  Latitude  \\\n",
       "0  3.5214      15.0  3.049945   1.106548      1447.0  1.605993     37.63   \n",
       "1  5.3275       5.0  6.490060   0.991054      3464.0  3.443340     33.69   \n",
       "2  3.1000      29.0  7.542373   1.591525      1328.0  2.250847     38.44   \n",
       "3  7.1736      12.0  6.289003   0.997442      1054.0  2.695652     33.55   \n",
       "4  2.0549      13.0  5.312457   1.085092      3297.0  2.244384     33.93   \n",
       "\n",
       "   Longitude  MedianHouseValue  \n",
       "0    -122.43             1.442  \n",
       "1    -117.39             1.687  \n",
       "2    -122.98             1.621  \n",
       "3    -117.70             2.621  \n",
       "4    -116.93             0.956  "
      ]
     },
     "execution_count": 16,
     "metadata": {},
     "output_type": "execute_result"
    }
   ],
   "source": [
    "import pandas as pd\r\n",
    "\r\n",
    "pd.read_csv(train_filepaths[0]).head()"
   ]
  },
  {
   "cell_type": "code",
   "execution_count": 17,
   "id": "5cb695b0",
   "metadata": {},
   "outputs": [
    {
     "data": {
      "text/plain": [
       "['images\\\\data\\\\my_train_00.csv',\n",
       " 'images\\\\data\\\\my_train_01.csv',\n",
       " 'images\\\\data\\\\my_train_02.csv',\n",
       " 'images\\\\data\\\\my_train_03.csv',\n",
       " 'images\\\\data\\\\my_train_04.csv',\n",
       " 'images\\\\data\\\\my_train_05.csv',\n",
       " 'images\\\\data\\\\my_train_06.csv',\n",
       " 'images\\\\data\\\\my_train_07.csv',\n",
       " 'images\\\\data\\\\my_train_08.csv',\n",
       " 'images\\\\data\\\\my_train_09.csv',\n",
       " 'images\\\\data\\\\my_train_10.csv',\n",
       " 'images\\\\data\\\\my_train_11.csv',\n",
       " 'images\\\\data\\\\my_train_12.csv',\n",
       " 'images\\\\data\\\\my_train_13.csv',\n",
       " 'images\\\\data\\\\my_train_14.csv',\n",
       " 'images\\\\data\\\\my_train_15.csv',\n",
       " 'images\\\\data\\\\my_train_16.csv',\n",
       " 'images\\\\data\\\\my_train_17.csv',\n",
       " 'images\\\\data\\\\my_train_18.csv',\n",
       " 'images\\\\data\\\\my_train_19.csv']"
      ]
     },
     "execution_count": 17,
     "metadata": {},
     "output_type": "execute_result"
    }
   ],
   "source": [
    "train_filepaths"
   ]
  },
  {
   "cell_type": "code",
   "execution_count": 18,
   "id": "e2c90a78",
   "metadata": {},
   "outputs": [],
   "source": [
    "#입력 파이프라인 만들기\r\n",
    "#기본적으로 shuffle이 설정 / shuffle = False 가능\r\n",
    "filepath_dataset = tf.data.Dataset.list_files(train_filepaths, seed=42)"
   ]
  },
  {
   "cell_type": "code",
   "execution_count": 19,
   "id": "d17765d8",
   "metadata": {},
   "outputs": [
    {
     "name": "stdout",
     "output_type": "stream",
     "text": [
      "tf.Tensor(b'images\\\\data\\\\my_train_05.csv', shape=(), dtype=string)\n",
      "tf.Tensor(b'images\\\\data\\\\my_train_16.csv', shape=(), dtype=string)\n",
      "tf.Tensor(b'images\\\\data\\\\my_train_01.csv', shape=(), dtype=string)\n",
      "tf.Tensor(b'images\\\\data\\\\my_train_17.csv', shape=(), dtype=string)\n",
      "tf.Tensor(b'images\\\\data\\\\my_train_00.csv', shape=(), dtype=string)\n",
      "tf.Tensor(b'images\\\\data\\\\my_train_14.csv', shape=(), dtype=string)\n",
      "tf.Tensor(b'images\\\\data\\\\my_train_10.csv', shape=(), dtype=string)\n",
      "tf.Tensor(b'images\\\\data\\\\my_train_02.csv', shape=(), dtype=string)\n",
      "tf.Tensor(b'images\\\\data\\\\my_train_12.csv', shape=(), dtype=string)\n",
      "tf.Tensor(b'images\\\\data\\\\my_train_19.csv', shape=(), dtype=string)\n",
      "tf.Tensor(b'images\\\\data\\\\my_train_07.csv', shape=(), dtype=string)\n",
      "tf.Tensor(b'images\\\\data\\\\my_train_09.csv', shape=(), dtype=string)\n",
      "tf.Tensor(b'images\\\\data\\\\my_train_13.csv', shape=(), dtype=string)\n",
      "tf.Tensor(b'images\\\\data\\\\my_train_15.csv', shape=(), dtype=string)\n",
      "tf.Tensor(b'images\\\\data\\\\my_train_11.csv', shape=(), dtype=string)\n",
      "tf.Tensor(b'images\\\\data\\\\my_train_18.csv', shape=(), dtype=string)\n",
      "tf.Tensor(b'images\\\\data\\\\my_train_04.csv', shape=(), dtype=string)\n",
      "tf.Tensor(b'images\\\\data\\\\my_train_06.csv', shape=(), dtype=string)\n",
      "tf.Tensor(b'images\\\\data\\\\my_train_03.csv', shape=(), dtype=string)\n",
      "tf.Tensor(b'images\\\\data\\\\my_train_08.csv', shape=(), dtype=string)\n"
     ]
    }
   ],
   "source": [
    "for filepath in filepath_dataset:\r\n",
    "    print(filepath)"
   ]
  },
  {
   "cell_type": "code",
   "execution_count": 20,
   "id": "e49698f3",
   "metadata": {},
   "outputs": [],
   "source": [
    "n_readers = 5\r\n",
    "dataset = filepath_dataset.interleave(\r\n",
    "    lambda filepath: tf.data.TextLineDataset(filepath).skip(1),\r\n",
    "    cycle_length=n_readers)"
   ]
  },
  {
   "cell_type": "code",
   "execution_count": 21,
   "id": "52dcaef9",
   "metadata": {},
   "outputs": [
    {
     "name": "stdout",
     "output_type": "stream",
     "text": [
      "b'4.5909,16.0,5.475877192982456,1.0964912280701755,1357.0,2.9758771929824563,33.63,-117.71,2.418'\n",
      "b'2.4792,24.0,3.4547038327526134,1.1341463414634145,2251.0,3.921602787456446,34.18,-118.38,2.0'\n",
      "b'4.2708,45.0,5.121387283236994,0.953757225433526,492.0,2.8439306358381504,37.48,-122.19,2.67'\n",
      "b'2.1856,41.0,3.7189873417721517,1.0658227848101265,803.0,2.0329113924050635,32.76,-117.12,1.205'\n",
      "b'4.1812,52.0,5.701388888888889,0.9965277777777778,692.0,2.4027777777777777,33.73,-118.31,3.215'\n"
     ]
    }
   ],
   "source": [
    "for line in dataset.take(5):\r\n",
    "    print(line.numpy())"
   ]
  },
  {
   "cell_type": "markdown",
   "id": "c71f5233",
   "metadata": {},
   "source": [
    "### 13.1.3 데이터 전처리"
   ]
  },
  {
   "cell_type": "code",
   "execution_count": 22,
   "id": "4d004cae",
   "metadata": {},
   "outputs": [],
   "source": [
    "n_inputs = 8\r\n",
    "\r\n",
    "def preprocess(line):\r\n",
    "    defs = [0.] * n_inputs + [tf.constant([], dtype=tf.float32)]\r\n",
    "    fields = tf.io.decode_csv(line, record_defaults = defs)\r\n",
    "    x = tf.stack(fields[:-1])\r\n",
    "    y = tf.stack(fields[-1:])\r\n",
    "    return (x - X_mean) / X_std, y"
   ]
  },
  {
   "cell_type": "code",
   "execution_count": 23,
   "id": "9e8fb235",
   "metadata": {},
   "outputs": [
    {
     "data": {
      "text/plain": [
       "(<tf.Tensor: shape=(8,), dtype=float32, numpy=\n",
       " array([ 0.16579159,  1.216324  , -0.05204564, -0.39215982, -0.5277444 ,\n",
       "        -0.2633488 ,  0.8543046 , -1.3072058 ], dtype=float32)>,\n",
       " <tf.Tensor: shape=(1,), dtype=float32, numpy=array([2.782], dtype=float32)>)"
      ]
     },
     "execution_count": 23,
     "metadata": {},
     "output_type": "execute_result"
    }
   ],
   "source": [
    " preprocess(b'4.2083,44.0,5.3232,0.9171,846.0,2.3370,37.47,-122.2,2.782')"
   ]
  },
  {
   "cell_type": "markdown",
   "id": "baadcb15",
   "metadata": {},
   "source": [
    "### 13.1.4 데이터 적재와 전처리 합치기"
   ]
  },
  {
   "cell_type": "code",
   "execution_count": 24,
   "id": "17408337",
   "metadata": {},
   "outputs": [],
   "source": [
    "def csv_reader_dataset(filepaths, repeat=1, n_readers=5,\r\n",
    "                       n_read_threads=None, shuffle_buffer_size=10000,\r\n",
    "                       n_parse_threads=5, batch_size=32):\r\n",
    "    dataset = tf.data.Dataset.list_files(filepaths).repeat(repeat)\r\n",
    "    dataset = dataset.interleave(\r\n",
    "        lambda filepath: tf.data.TextLineDataset(filepath).skip(1),\r\n",
    "        cycle_length=n_readers, num_parallel_calls=n_read_threads)\r\n",
    "    dataset = dataset.shuffle(shuffle_buffer_size)\r\n",
    "    dataset = dataset.map(preprocess, num_parallel_calls=n_parse_threads)\r\n",
    "    dataset = dataset.batch(batch_size)\r\n",
    "    return dataset.prefetch(1)"
   ]
  },
  {
   "cell_type": "code",
   "execution_count": 25,
   "id": "00f3cab7",
   "metadata": {},
   "outputs": [
    {
     "name": "stdout",
     "output_type": "stream",
     "text": [
      "X = tf.Tensor(\n",
      "[[ 0.5804519  -0.20762321  0.05616303 -0.15191229  0.01343246  0.00604472\n",
      "   1.2525111  -1.3671792 ]\n",
      " [ 5.818099    1.8491895   1.1784915   0.28173092 -1.2496178  -0.3571987\n",
      "   0.7231292  -1.0023477 ]\n",
      " [-0.9253566   0.5834586  -0.7807257  -0.28213993 -0.36530012  0.27389365\n",
      "  -0.76194876  0.72684526]], shape=(3, 8), dtype=float32)\n",
      "y = tf.Tensor(\n",
      "[[1.752]\n",
      " [1.313]\n",
      " [1.535]], shape=(3, 1), dtype=float32)\n",
      "\n",
      "X = tf.Tensor(\n",
      "[[-0.8324941   0.6625668  -0.20741376 -0.18699841 -0.14536144  0.09635526\n",
      "   0.9807942  -0.67250353]\n",
      " [-0.62183803  0.5834586  -0.19862501 -0.3500319  -1.1437552  -0.3363751\n",
      "   1.107282   -0.8674123 ]\n",
      " [ 0.8683102   0.02970133  0.3427381  -0.29872298  0.7124906   0.28026953\n",
      "  -0.72915536  0.86178064]], shape=(3, 8), dtype=float32)\n",
      "y = tf.Tensor(\n",
      "[[0.919]\n",
      " [1.028]\n",
      " [2.182]], shape=(3, 1), dtype=float32)\n",
      "\n"
     ]
    }
   ],
   "source": [
    "tf.random.set_seed(42)\r\n",
    "\r\n",
    "train_set = csv_reader_dataset(train_filepaths, batch_size=3)\r\n",
    "for X_batch, y_batch in train_set.take(2):\r\n",
    "    print(\"X =\", X_batch)\r\n",
    "    print(\"y =\", y_batch)\r\n",
    "    print()"
   ]
  },
  {
   "cell_type": "markdown",
   "id": "ab11eaa9",
   "metadata": {},
   "source": [
    "### ﻿13.1.6 tf.keras와 데이터셋 사용하기"
   ]
  },
  {
   "cell_type": "code",
   "execution_count": 26,
   "id": "7dc308ad",
   "metadata": {},
   "outputs": [],
   "source": [
    "train_set = csv_reader_dataset(train_filepaths, repeat=None)\r\n",
    "valid_set = csv_reader_dataset(valid_filepaths)\r\n",
    "test_set = csv_reader_dataset(test_filepaths)"
   ]
  },
  {
   "cell_type": "code",
   "execution_count": 27,
   "id": "54e627cc",
   "metadata": {},
   "outputs": [],
   "source": [
    "model = keras.models.Sequential([\r\n",
    "    keras.layers.Dense(30, activation=\"relu\", input_shape=X_train.shape[1:]),\r\n",
    "    keras.layers.Dense(1),\r\n",
    "])\r\n",
    "\r\n",
    "model.compile(loss=\"mse\", optimizer=keras.optimizers.SGD(lr=1e-3))"
   ]
  },
  {
   "cell_type": "code",
   "execution_count": 28,
   "id": "ccf6bbf3",
   "metadata": {},
   "outputs": [
    {
     "name": "stdout",
     "output_type": "stream",
     "text": [
      "Epoch 1/10\n",
      "362/362 [==============================] - 3s 4ms/step - loss: 2.0509 - val_loss: 4.6661\n",
      "Epoch 2/10\n",
      "362/362 [==============================] - 1s 2ms/step - loss: 0.7463 - val_loss: 0.6668\n",
      "Epoch 3/10\n",
      "362/362 [==============================] - 1s 2ms/step - loss: 0.6308 - val_loss: 0.6373\n",
      "Epoch 4/10\n",
      "362/362 [==============================] - 1s 2ms/step - loss: 0.5898 - val_loss: 0.5755\n",
      "Epoch 5/10\n",
      "362/362 [==============================] - 1s 2ms/step - loss: 0.5506 - val_loss: 0.5536\n",
      "Epoch 6/10\n",
      "362/362 [==============================] - 1s 2ms/step - loss: 0.5554 - val_loss: 0.5247\n",
      "Epoch 7/10\n",
      "362/362 [==============================] - 1s 2ms/step - loss: 0.5082 - val_loss: 0.5690\n",
      "Epoch 8/10\n",
      "362/362 [==============================] - 1s 2ms/step - loss: 0.5023 - val_loss: 0.4819\n",
      "Epoch 9/10\n",
      "362/362 [==============================] - 1s 2ms/step - loss: 0.4904 - val_loss: 0.4820\n",
      "Epoch 10/10\n",
      "362/362 [==============================] - 1s 2ms/step - loss: 0.4933 - val_loss: 0.4559\n"
     ]
    },
    {
     "data": {
      "text/plain": [
       "<keras.callbacks.History at 0x220a1bd2820>"
      ]
     },
     "execution_count": 28,
     "metadata": {},
     "output_type": "execute_result"
    }
   ],
   "source": [
    "batch_size = 32\r\n",
    "model.fit(train_set, steps_per_epoch=len(X_train) // batch_size, epochs=10,\r\n",
    "          validation_data=valid_set)"
   ]
  },
  {
   "cell_type": "code",
   "execution_count": 29,
   "id": "d56b2d44",
   "metadata": {},
   "outputs": [
    {
     "name": "stdout",
     "output_type": "stream",
     "text": [
      "162/162 [==============================] - 0s 1ms/step - loss: 0.4650\n"
     ]
    },
    {
     "data": {
      "text/plain": [
       "array([[1.5373778 ],\n",
       "       [2.245604  ],\n",
       "       [1.2146337 ],\n",
       "       [0.7849804 ],\n",
       "       [2.5896437 ],\n",
       "       [1.6654958 ],\n",
       "       [3.0370097 ],\n",
       "       [2.8726768 ],\n",
       "       [1.8216592 ],\n",
       "       [3.3688517 ],\n",
       "       [1.2742114 ],\n",
       "       [2.4023974 ],\n",
       "       [4.799819  ],\n",
       "       [2.5170314 ],\n",
       "       [1.2387539 ],\n",
       "       [2.0408323 ],\n",
       "       [3.703874  ],\n",
       "       [2.0443187 ],\n",
       "       [1.6600385 ],\n",
       "       [2.828312  ],\n",
       "       [2.2850378 ],\n",
       "       [1.1857016 ],\n",
       "       [2.5993147 ],\n",
       "       [1.5195739 ],\n",
       "       [1.5811853 ],\n",
       "       [1.4111373 ],\n",
       "       [2.242405  ],\n",
       "       [0.61229336],\n",
       "       [3.191039  ],\n",
       "       [4.7415295 ],\n",
       "       [2.0807662 ],\n",
       "       [2.0238433 ],\n",
       "       [0.5928164 ],\n",
       "       [1.3441669 ],\n",
       "       [1.8065283 ],\n",
       "       [1.708262  ],\n",
       "       [1.7817837 ],\n",
       "       [2.1928806 ],\n",
       "       [1.781751  ],\n",
       "       [1.7852211 ],\n",
       "       [2.755226  ],\n",
       "       [3.0960617 ],\n",
       "       [1.356637  ],\n",
       "       [1.653501  ],\n",
       "       [1.286441  ],\n",
       "       [2.0684133 ],\n",
       "       [1.5921841 ],\n",
       "       [2.5918803 ],\n",
       "       [4.490439  ],\n",
       "       [2.0120716 ],\n",
       "       [2.3043933 ],\n",
       "       [0.90600216],\n",
       "       [1.4458668 ],\n",
       "       [2.4405913 ],\n",
       "       [1.0704596 ],\n",
       "       [2.586614  ],\n",
       "       [0.8024783 ],\n",
       "       [2.2748923 ],\n",
       "       [1.165209  ],\n",
       "       [1.4193571 ],\n",
       "       [1.1591613 ],\n",
       "       [1.401586  ],\n",
       "       [1.5675148 ],\n",
       "       [2.592801  ],\n",
       "       [2.7062287 ],\n",
       "       [3.3099084 ],\n",
       "       [1.1066083 ],\n",
       "       [2.5984511 ],\n",
       "       [0.9180665 ],\n",
       "       [2.5754588 ],\n",
       "       [1.7762392 ],\n",
       "       [2.191861  ],\n",
       "       [1.0585759 ],\n",
       "       [1.7675364 ],\n",
       "       [2.625488  ],\n",
       "       [1.0084311 ],\n",
       "       [0.7291809 ],\n",
       "       [0.75131404],\n",
       "       [1.995646  ],\n",
       "       [2.2386503 ],\n",
       "       [0.84502804],\n",
       "       [0.9340648 ],\n",
       "       [2.4955177 ],\n",
       "       [2.8035378 ],\n",
       "       [1.9013275 ],\n",
       "       [1.8982639 ],\n",
       "       [3.2058878 ],\n",
       "       [3.0107327 ],\n",
       "       [0.61428666],\n",
       "       [1.1643205 ],\n",
       "       [1.8820993 ],\n",
       "       [1.0464542 ],\n",
       "       [1.9891784 ],\n",
       "       [2.3146133 ],\n",
       "       [1.6996391 ],\n",
       "       [1.9005299 ]], dtype=float32)"
      ]
     },
     "execution_count": 29,
     "metadata": {},
     "output_type": "execute_result"
    }
   ],
   "source": [
    "model.evaluate(test_set)\r\n",
    "new_set = test_set.take(3).map(lambda X, y : X)\r\n",
    "model.predict(new_set)"
   ]
  },
  {
   "cell_type": "code",
   "execution_count": 30,
   "id": "44f989c5",
   "metadata": {},
   "outputs": [
    {
     "name": "stdout",
     "output_type": "stream",
     "text": [
      "Global step 1810/1810"
     ]
    }
   ],
   "source": [
    "#자신만의 훈련 반복\r\n",
    "optimizer = keras.optimizers.Nadam(lr=0.01)\r\n",
    "loss_fn = keras.losses.mean_squared_error\r\n",
    "\r\n",
    "n_epochs = 5\r\n",
    "batch_size = 32\r\n",
    "n_steps_per_epoch = len(X_train) // batch_size\r\n",
    "total_steps = n_epochs * n_steps_per_epoch\r\n",
    "global_step = 0\r\n",
    "for X_batch, y_batch in train_set.take(total_steps):\r\n",
    "    global_step += 1\r\n",
    "    print(\"\\rGlobal step {}/{}\".format(global_step, total_steps), end=\"\")\r\n",
    "    with tf.GradientTape() as tape:\r\n",
    "        y_pred = model(X_batch)\r\n",
    "        main_loss = tf.reduce_mean(loss_fn(y_batch, y_pred))\r\n",
    "        loss = tf.add_n([main_loss] + model.losses)\r\n",
    "    gradients = tape.gradient(loss, model.trainable_variables)\r\n",
    "    optimizer.apply_gradients(zip(gradients, model.trainable_variables))"
   ]
  },
  {
   "cell_type": "code",
   "execution_count": 31,
   "id": "7fa14275",
   "metadata": {},
   "outputs": [],
   "source": [
    "#전체 훈련 반복을 수행하는 텐서플로 함수\r\n",
    "optimizer = keras.optimizers.Nadam(lr=0.01)\r\n",
    "loss_fn = keras.losses.mean_squared_error\r\n",
    "\r\n",
    "@tf.function\r\n",
    "def train(model, n_epochs, batch_size=32,\r\n",
    "          n_readers=5, n_read_threads=5, shuffle_buffer_size=10000, n_parse_threads=5):\r\n",
    "    train_set = csv_reader_dataset(train_filepaths, repeat=n_epochs, n_readers=n_readers,\r\n",
    "                       n_read_threads=n_read_threads, shuffle_buffer_size=shuffle_buffer_size,\r\n",
    "                       n_parse_threads=n_parse_threads, batch_size=batch_size)\r\n",
    "    for X_batch, y_batch in train_set:\r\n",
    "        with tf.GradientTape() as tape:\r\n",
    "            y_pred = model(X_batch)\r\n",
    "            main_loss = tf.reduce_mean(loss_fn(y_batch, y_pred))\r\n",
    "            loss = tf.add_n([main_loss] + model.losses)\r\n",
    "        gradients = tape.gradient(loss, model.trainable_variables)\r\n",
    "        optimizer.apply_gradients(zip(gradients, model.trainable_variables))\r\n",
    "\r\n",
    "train(model, 5)"
   ]
  },
  {
   "cell_type": "code",
   "execution_count": 32,
   "id": "b6511d87",
   "metadata": {},
   "outputs": [
    {
     "name": "stdout",
     "output_type": "stream",
     "text": [
      "● apply()              Applies a transformation function to this dataset.\n",
      "● as_numpy_iterator()  Returns an iterator which converts all elements of the dataset to numpy.\n",
      "● batch()              Combines consecutive elements of this dataset into batches.\n",
      "● bucket_by_sequence_length()A transformation that buckets elements in a `Dataset` by length.\n",
      "● cache()              Caches the elements in this dataset.\n",
      "● cardinality()        Returns the cardinality of the dataset, if known.\n",
      "● concatenate()        Creates a `Dataset` by concatenating the given dataset with this dataset.\n",
      "● element_spec()       The type specification of an element of this dataset.\n",
      "● enumerate()          Enumerates the elements of this dataset.\n",
      "● filter()             Filters this dataset according to `predicate`.\n",
      "● flat_map()           Maps `map_func` across this dataset and flattens the result.\n",
      "● from_generator()     Creates a `Dataset` whose elements are generated by `generator`. (deprecated arguments)\n",
      "● from_tensor_slices() Creates a `Dataset` whose elements are slices of the given tensors.\n",
      "● from_tensors()       Creates a `Dataset` with a single element, comprising the given tensors.\n",
      "● get_single_element() Returns the single element of the `dataset` as a nested structure of tensors.\n",
      "● group_by_window()    Groups windows of elements by key and reduces them.\n",
      "● interleave()         Maps `map_func` across this dataset, and interleaves the results.\n",
      "● list_files()         A dataset of all files matching one or more glob patterns.\n",
      "● map()                Maps `map_func` across the elements of this dataset.\n",
      "● options()            Returns the options for this dataset and its inputs.\n",
      "● padded_batch()       Combines consecutive elements of this dataset into padded batches.\n",
      "● prefetch()           Creates a `Dataset` that prefetches elements from this dataset.\n",
      "● random()             Creates a `Dataset` of pseudorandom values.\n",
      "● range()              Creates a `Dataset` of a step-separated range of values.\n",
      "● reduce()             Reduces the input dataset to a single element.\n",
      "● rejection_resample() A transformation that resamples a dataset to achieve a target distribution.\n",
      "● repeat()             Repeats this dataset so each original value is seen `count` times.\n",
      "● scan()               A transformation that scans a function across an input dataset.\n",
      "● shard()              Creates a `Dataset` that includes only 1/`num_shards` of this dataset.\n",
      "● shuffle()            Randomly shuffles the elements of this dataset.\n",
      "● skip()               Creates a `Dataset` that skips `count` elements from this dataset.\n",
      "● snapshot()           API to persist the output of the input dataset.\n",
      "● take()               Creates a `Dataset` with at most `count` elements from this dataset.\n",
      "● take_while()         A transformation that stops dataset iteration based on a `predicate`.\n",
      "● unbatch()            Splits elements of a dataset into multiple elements.\n",
      "● unique()             A transformation that discards duplicate elements of a `Dataset`.\n",
      "● window()             Returns a dataset of \"windows\".\n",
      "● with_options()       Returns a new `tf.data.Dataset` with the given options set.\n",
      "● zip()                Creates a `Dataset` by zipping together the given datasets.\n"
     ]
    }
   ],
   "source": [
    "#Dataset 클래스에 있는 메서드의 간략한 설명\r\n",
    "for m in dir(tf.data.Dataset):\r\n",
    "    if not (m.startswith(\"_\") or m.endswith(\"_\")):\r\n",
    "        func = getattr(tf.data.Dataset, m)\r\n",
    "        if hasattr(func, \"__doc__\"):\r\n",
    "            print(\"● {:21s}{}\".format(m + \"()\", func.__doc__.split(\"\\n\")[0]))"
   ]
  },
  {
   "cell_type": "markdown",
   "id": "c5ea6b29",
   "metadata": {},
   "source": [
    "## 13.2 TFRecord 포맷"
   ]
  },
  {
   "cell_type": "code",
   "execution_count": 33,
   "id": "a7bc536b",
   "metadata": {},
   "outputs": [],
   "source": [
    "#tf.io.TFRecordWriter클래스 사용해 TFRecord 만들기\r\n",
    "with tf.io.TFRecordWriter(\"my_data.tfrecord\") as f:\r\n",
    "    f.write(b\"This is the first record\")\r\n",
    "    f.write(b\"And this is the second record\")"
   ]
  },
  {
   "cell_type": "code",
   "execution_count": 34,
   "id": "ad7f08b9",
   "metadata": {},
   "outputs": [
    {
     "name": "stdout",
     "output_type": "stream",
     "text": [
      "tf.Tensor(b'This is the first record', shape=(), dtype=string)\n",
      "tf.Tensor(b'And this is the second record', shape=(), dtype=string)\n"
     ]
    }
   ],
   "source": [
    "#tf.data.TFRecordDataset을 사용해 하나 이상의 TFRecord를 읽기\r\n",
    "filepaths = [\"my_data.tfrecord\"]\r\n",
    "dataset = tf.data.TFRecordDataset(filepaths)\r\n",
    "for item in dataset:\r\n",
    "    print(item)"
   ]
  },
  {
   "cell_type": "code",
   "execution_count": 35,
   "id": "165daf6f",
   "metadata": {},
   "outputs": [
    {
     "name": "stdout",
     "output_type": "stream",
     "text": [
      "tf.Tensor(b'File 0 record 0', shape=(), dtype=string)\n",
      "tf.Tensor(b'File 1 record 0', shape=(), dtype=string)\n",
      "tf.Tensor(b'File 2 record 0', shape=(), dtype=string)\n",
      "tf.Tensor(b'File 0 record 1', shape=(), dtype=string)\n",
      "tf.Tensor(b'File 1 record 1', shape=(), dtype=string)\n",
      "tf.Tensor(b'File 2 record 1', shape=(), dtype=string)\n",
      "tf.Tensor(b'File 0 record 2', shape=(), dtype=string)\n",
      "tf.Tensor(b'File 1 record 2', shape=(), dtype=string)\n",
      "tf.Tensor(b'File 2 record 2', shape=(), dtype=string)\n",
      "tf.Tensor(b'File 3 record 0', shape=(), dtype=string)\n",
      "tf.Tensor(b'File 4 record 0', shape=(), dtype=string)\n",
      "tf.Tensor(b'File 3 record 1', shape=(), dtype=string)\n",
      "tf.Tensor(b'File 4 record 1', shape=(), dtype=string)\n",
      "tf.Tensor(b'File 3 record 2', shape=(), dtype=string)\n",
      "tf.Tensor(b'File 4 record 2', shape=(), dtype=string)\n"
     ]
    }
   ],
   "source": [
    "filepaths = [\"my_test_{}.tfrecord\".format(i) for i in range(5)]\r\n",
    "for i, filepath in enumerate(filepaths):\r\n",
    "    with tf.io.TFRecordWriter(filepath) as f:\r\n",
    "        for j in range(3):\r\n",
    "            f.write(\"File {} record {}\".format(i, j).encode(\"utf-8\"))\r\n",
    "\r\n",
    "dataset = tf.data.TFRecordDataset(filepaths, num_parallel_reads=3)\r\n",
    "for item in dataset:\r\n",
    "    print(item)"
   ]
  },
  {
   "cell_type": "markdown",
   "id": "8c3d38d5",
   "metadata": {},
   "source": [
    "### 13.2.1 압축된 TFRecord파일"
   ]
  },
  {
   "cell_type": "code",
   "execution_count": 36,
   "id": "9110d27b",
   "metadata": {},
   "outputs": [],
   "source": [
    "#options 매개변수를 사용하여 압축된 TFRecord 파일 만들기\r\n",
    "options = tf.io.TFRecordOptions(compression_type = \"GZIP\")\r\n",
    "with tf.io.TFRecordWriter(\"my_compressed.tfrecord\", options)as f:\r\n",
    "    f.write(b\"This is the first record\")\r\n",
    "    f.write(b\"And this is the second record\")"
   ]
  },
  {
   "cell_type": "code",
   "execution_count": 37,
   "id": "89956b82",
   "metadata": {},
   "outputs": [
    {
     "name": "stdout",
     "output_type": "stream",
     "text": [
      "tf.Tensor(b'This is the first record', shape=(), dtype=string)\n",
      "tf.Tensor(b'And this is the second record', shape=(), dtype=string)\n"
     ]
    }
   ],
   "source": [
    "#압축된 TFRecord 파일을 읽으려면 압축 형식을 지정해야함\r\n",
    "dataset = tf.data.TFRecordDataset([\"my_compressed.tfrecord\"],\r\n",
    "                                  compression_type=\"GZIP\")\r\n",
    "for item in dataset:\r\n",
    "    print(item)"
   ]
  },
  {
   "cell_type": "markdown",
   "id": "7266f1ff",
   "metadata": {},
   "source": [
    "### 13.2.2 프로토콜 버퍼 개요"
   ]
  },
  {
   "cell_type": "code",
   "execution_count": 38,
   "id": "2f77b877",
   "metadata": {},
   "outputs": [
    {
     "name": "stdout",
     "output_type": "stream",
     "text": [
      "Writing person.proto\n"
     ]
    }
   ],
   "source": [
    "%%writefile person.proto\r\n",
    "syntax = \"proto3\";\r\n",
    "message Person {\r\n",
    "  string name = 1;\r\n",
    "  int32 id = 2;\r\n",
    "  repeated string email = 3;\r\n",
    "}"
   ]
  },
  {
   "cell_type": "code",
   "execution_count": 39,
   "id": "29470fd2",
   "metadata": {},
   "outputs": [],
   "source": [
    "!protoc person.proto --python_out=. --descriptor_set_out=person.desc --include_imports"
   ]
  },
  {
   "cell_type": "code",
   "execution_count": 40,
   "id": "8e3fe322",
   "metadata": {},
   "outputs": [
    {
     "name": "stdout",
     "output_type": "stream",
     "text": [
      " C ����̺��� �������� �̸��� �����ϴ�.\n",
      " ���� �Ϸ� ��ȣ: A07F-2CE7\n",
      "\n",
      " c:\\Users\\user\\Desktop\\DeepLearning_Study\\StudyCode ���͸�\n",
      "\n",
      "2021-08-27  ���� 04:00                92 person.desc\n",
      "2021-08-27  ���� 04:00               108 person.proto\n",
      "2021-08-27  ���� 04:00             2,732 person_pb2.py\n",
      "               3�� ����               2,932 ����Ʈ\n",
      "               0�� ���͸�  545,922,158,592 ����Ʈ ����\n"
     ]
    }
   ],
   "source": [
    "!dir person*"
   ]
  },
  {
   "cell_type": "code",
   "execution_count": 41,
   "id": "3e78df38",
   "metadata": {},
   "outputs": [
    {
     "name": "stdout",
     "output_type": "stream",
     "text": [
      "name: \"Al\"\n",
      "id: 123\n",
      "email: \"a@b.com\"\n",
      "\n"
     ]
    }
   ],
   "source": [
    "#Person 프로토콜 버퍼로 생성된 클래스 사용하기\r\n",
    "from person_pb2 import Person\r\n",
    "\r\n",
    "person = Person(name=\"Al\", id=123, email=[\"a@b.com\"])  # Person 생성\r\n",
    "print(person)  # Person 출력"
   ]
  },
  {
   "cell_type": "code",
   "execution_count": 42,
   "id": "880c86b1",
   "metadata": {},
   "outputs": [
    {
     "name": "stdout",
     "output_type": "stream",
     "text": [
      "Al\n",
      "a@b.com\n",
      "b'\\n\\x05Alice\\x10{\\x1a\\x07a@b.com\\x1a\\x07c@d.com'\n"
     ]
    }
   ],
   "source": [
    "#필드 읽기\r\n",
    "print(person.name)\r\n",
    "\r\n",
    "#필드 수정\r\n",
    "person.name = \"Alice\"\r\n",
    "\r\n",
    "#배열처럼 사용할 수 있는 반복 필드\r\n",
    "print(person.email[0])\r\n",
    "#이메일 추가\r\n",
    "person.email.append(\"c@d.com\")\r\n",
    "\r\n",
    "#바이트 문자열로 직렬화\r\n",
    "s = person.SerializeToString()\r\n",
    "print(s)"
   ]
  },
  {
   "cell_type": "code",
   "execution_count": 43,
   "id": "edb054e0",
   "metadata": {},
   "outputs": [
    {
     "data": {
      "text/plain": [
       "27"
      ]
     },
     "execution_count": 43,
     "metadata": {},
     "output_type": "execute_result"
    }
   ],
   "source": [
    "#새로운 Person 생성\r\n",
    "person2 = Person()\r\n",
    "person2.ParseFromString(s)"
   ]
  },
  {
   "cell_type": "code",
   "execution_count": 44,
   "id": "3ac6ca2c",
   "metadata": {},
   "outputs": [
    {
     "data": {
      "text/plain": [
       "True"
      ]
     },
     "execution_count": 44,
     "metadata": {},
     "output_type": "execute_result"
    }
   ],
   "source": [
    "person == person2"
   ]
  },
  {
   "cell_type": "code",
   "execution_count": 45,
   "id": "7f950579",
   "metadata": {},
   "outputs": [
    {
     "data": {
      "text/plain": [
       "[<tf.Tensor: shape=(1,), dtype=string, numpy=array([b'Alice'], dtype=object)>,\n",
       " <tf.Tensor: shape=(1,), dtype=int32, numpy=array([123])>,\n",
       " <tf.Tensor: shape=(2,), dtype=string, numpy=array([b'a@b.com', b'c@d.com'], dtype=object)>]"
      ]
     },
     "execution_count": 45,
     "metadata": {},
     "output_type": "execute_result"
    }
   ],
   "source": [
    "person_tf = tf.io.decode_proto(\r\n",
    "    bytes=s,\r\n",
    "    message_type=\"Person\",\r\n",
    "    field_names=[\"name\", \"id\", \"email\"],\r\n",
    "    output_types=[tf.string, tf.int32, tf.string],\r\n",
    "    descriptor_source=\"person.desc\")\r\n",
    "\r\n",
    "person_tf.values"
   ]
  },
  {
   "cell_type": "markdown",
   "id": "1640b76e",
   "metadata": {},
   "source": [
    "### ﻿13.2.3 텐서플로 프로토콜 버퍼"
   ]
  },
  {
   "cell_type": "code",
   "execution_count": 46,
   "id": "ea309710",
   "metadata": {},
   "outputs": [
    {
     "ename": "SyntaxError",
     "evalue": "invalid syntax (<ipython-input-46-e29d527d264e>, line 3)",
     "output_type": "error",
     "traceback": [
      "\u001b[1;36m  File \u001b[1;32m\"<ipython-input-46-e29d527d264e>\"\u001b[1;36m, line \u001b[1;32m3\u001b[0m\n\u001b[1;33m    message BytesList { repeated bytes value = 1; }\u001b[0m\n\u001b[1;37m            ^\u001b[0m\n\u001b[1;31mSyntaxError\u001b[0m\u001b[1;31m:\u001b[0m invalid syntax\n"
     ]
    }
   ],
   "source": [
    "syntax = \"proto3\";\r\n",
    "\r\n",
    "message BytesList { repeated bytes value = 1; }\r\n",
    "message FloatList { repeated float value = 1 [packed = true]; }\r\n",
    "message Int64List { repeated int64 value = 1 [packed = true]; }\r\n",
    "message Feature {\r\n",
    "    oneof kind {\r\n",
    "        BytesList bytes_list = 1;\r\n",
    "        FloatList float_list = 2;\r\n",
    "        Int64List int64_list = 3;\r\n",
    "    }\r\n",
    "};\r\n",
    "message Features { map<string, Feature> feature = 1; };\r\n",
    "message Example { Features features = 1; };"
   ]
  },
  {
   "cell_type": "code",
   "execution_count": 47,
   "id": "7cea4022",
   "metadata": {},
   "outputs": [],
   "source": [
    "from tensorflow.train import BytesList, FloatList, Int64List\r\n",
    "from tensorflow.train import Feature, Features, Example\r\n",
    "\r\n",
    "person_example = Example(\r\n",
    "    features=Features(\r\n",
    "        feature={\r\n",
    "            \"name\": Feature(bytes_list=BytesList(value=[b\"Alice\"])),\r\n",
    "            \"id\": Feature(int64_list=Int64List(value=[123])),\r\n",
    "            \"emails\": Feature(bytes_list=BytesList(value=[b\"a@b.com\", b\"c@d.com\"]))\r\n",
    "        }))\r\n",
    "\r\n",
    "with tf.io.TFRecordWriter(\"my_contacts.tfrecord\") as f:\r\n",
    "    f.write(person_example.SerializeToString())"
   ]
  },
  {
   "cell_type": "code",
   "execution_count": 48,
   "id": "5d65aeb5",
   "metadata": {},
   "outputs": [],
   "source": [
    "with tf.io.TFRecordWriter(\"my_contacts.tfrecord\") as f:\r\n",
    "    f.write(person_example.SerializeToString())"
   ]
  },
  {
   "cell_type": "markdown",
   "id": "e629e8a6",
   "metadata": {},
   "source": [
    "### 13.2.3 Example 프로토콜 버퍼를 읽고 파싱하기"
   ]
  },
  {
   "cell_type": "code",
   "execution_count": 49,
   "id": "7a7a762b",
   "metadata": {},
   "outputs": [],
   "source": [
    "feature_description = {\r\n",
    "    \"name\": tf.io.FixedLenFeature([], tf.string, default_value=\"\"),\r\n",
    "    \"id\": tf.io.FixedLenFeature([], tf.int64, default_value=0),\r\n",
    "    \"emails\": tf.io.VarLenFeature(tf.string),\r\n",
    "}\r\n",
    "for serialized_example in tf.data.TFRecordDataset([\"my_contacts.tfrecord\"]):\r\n",
    "    parsed_example = tf.io.parse_single_example(serialized_example,\r\n",
    "                                                feature_description)"
   ]
  },
  {
   "cell_type": "code",
   "execution_count": 50,
   "id": "cf204ee8",
   "metadata": {},
   "outputs": [
    {
     "data": {
      "text/plain": [
       "{'emails': <tensorflow.python.framework.sparse_tensor.SparseTensor at 0x220b9d4d190>,\n",
       " 'id': <tf.Tensor: shape=(), dtype=int64, numpy=123>,\n",
       " 'name': <tf.Tensor: shape=(), dtype=string, numpy=b'Alice'>}"
      ]
     },
     "execution_count": 50,
     "metadata": {},
     "output_type": "execute_result"
    }
   ],
   "source": [
    "parsed_example"
   ]
  },
  {
   "cell_type": "code",
   "execution_count": 51,
   "id": "ac5e838a",
   "metadata": {},
   "outputs": [
    {
     "data": {
      "text/plain": [
       "<tf.Tensor: shape=(2,), dtype=string, numpy=array([b'a@b.com', b'c@d.com'], dtype=object)>"
      ]
     },
     "execution_count": 51,
     "metadata": {},
     "output_type": "execute_result"
    }
   ],
   "source": [
    "tf.sparse.to_dense(parsed_example[\"emails\"], default_value=b\"\")"
   ]
  },
  {
   "cell_type": "code",
   "execution_count": 52,
   "id": "fb06a9dd",
   "metadata": {},
   "outputs": [
    {
     "data": {
      "image/png": "[encoded data removed]",
      "image/svg+xml": [
       "<?xml version=\"1.0\" encoding=\"utf-8\" standalone=\"no\"?>\r\n",
       "<!DOCTYPE svg PUBLIC \"-//W3C//DTD SVG 1.1//EN\"\r\n",
       "  \"http://www.w3.org/Graphics/SVG/1.1/DTD/svg11.dtd\">\r\n",
       "<svg height=\"246.958125pt\" version=\"1.1\" viewBox=\"0 0 340.305386 246.958125\" width=\"340.305386pt\" xmlns=\"http://www.w3.org/2000/svg\" xmlns:xlink=\"http://www.w3.org/1999/xlink\">\r\n",
       " <metadata>\r\n",
       "  <rdf:RDF xmlns:cc=\"http://creativecommons.org/ns#\" xmlns:dc=\"http://purl.org/dc/elements/1.1/\" xmlns:rdf=\"http://www.w3.org/1999/02/22-rdf-syntax-ns#\">\r\n",
       "   <cc:Work>\r\n",
       "    <dc:type rdf:resource=\"http://purl.org/dc/dcmitype/StillImage\"/>\r\n",
       "    <dc:date>2021-08-27T16:01:49.249804</dc:date>\r\n",
       "    <dc:format>image/svg+xml</dc:format>\r\n",
       "    <dc:creator>\r\n",
       "     <cc:Agent>\r\n",
       "      <dc:title>Matplotlib v3.4.2, https://matplotlib.org/</dc:title>\r\n",
       "     </cc:Agent>\r\n",
       "    </dc:creator>\r\n",
       "   </cc:Work>\r\n",
       "  </rdf:RDF>\r\n",
       " </metadata>\r\n",
       " <defs>\r\n",
       "  <style type=\"text/css\">*{stroke-linecap:butt;stroke-linejoin:round;}</style>\r\n",
       " </defs>\r\n",
       " <g id=\"figure_1\">\r\n",
       "  <g id=\"patch_1\">\r\n",
       "   <path d=\"M 0 246.958125 \r\n",
       "L 340.305386 246.958125 \r\n",
       "L 340.305386 0 \r\n",
       "L 0 0 \r\n",
       "z\r\n",
       "\" style=\"fill:none;\"/>\r\n",
       "  </g>\r\n",
       "  <g id=\"axes_1\">\r\n",
       "   <g clip-path=\"url(#p76dc3f3fcc)\">\r\n",
       "    <image height=\"218\" id=\"image27b7d084eb\" transform=\"scale(1 -1)translate(0 -218)\" width=\"326\" x=\"7.2\" xlink:href=\"data:image/png;base64,\r\n",
       "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\" y=\"-21.758125\"/>\r\n",
       "   </g>\r\n",
       "   <g id=\"text_1\">\r\n",
       "    <!-- Original Image -->\r\n",
       "    <g transform=\"translate(125.974881 16.318125)scale(0.12 -0.12)\">\r\n",
       "     <defs>\r\n",
       "      <path d=\"M 2522 4238 \r\n",
       "Q 1834 4238 1429 3725 \r\n",
       "Q 1025 3213 1025 2328 \r\n",
       "Q 1025 1447 1429 934 \r\n",
       "Q 1834 422 2522 422 \r\n",
       "Q 3209 422 3611 934 \r\n",
       "Q 4013 1447 4013 2328 \r\n",
       "Q 4013 3213 3611 3725 \r\n",
       "Q 3209 4238 2522 4238 \r\n",
       "z\r\n",
       "M 2522 4750 \r\n",
       "Q 3503 4750 4090 4092 \r\n",
       "Q 4678 3434 4678 2328 \r\n",
       "Q 4678 1225 4090 567 \r\n",
       "Q 3503 -91 2522 -91 \r\n",
       "Q 1538 -91 948 565 \r\n",
       "Q 359 1222 359 2328 \r\n",
       "Q 359 3434 948 4092 \r\n",
       "Q 1538 4750 2522 4750 \r\n",
       "z\r\n",
       "\" id=\"DejaVuSans-4f\" transform=\"scale(0.015625)\"/>\r\n",
       "      <path d=\"M 2631 2963 \r\n",
       "Q 2534 3019 2420 3045 \r\n",
       "Q 2306 3072 2169 3072 \r\n",
       "Q 1681 3072 1420 2755 \r\n",
       "Q 1159 2438 1159 1844 \r\n",
       "L 1159 0 \r\n",
       "L 581 0 \r\n",
       "L 581 3500 \r\n",
       "L 1159 3500 \r\n",
       "L 1159 2956 \r\n",
       "Q 1341 3275 1631 3429 \r\n",
       "Q 1922 3584 2338 3584 \r\n",
       "Q 2397 3584 2469 3576 \r\n",
       "Q 2541 3569 2628 3553 \r\n",
       "L 2631 2963 \r\n",
       "z\r\n",
       "\" id=\"DejaVuSans-72\" transform=\"scale(0.015625)\"/>\r\n",
       "      <path d=\"M 603 3500 \r\n",
       "L 1178 3500 \r\n",
       "L 1178 0 \r\n",
       "L 603 0 \r\n",
       "L 603 3500 \r\n",
       "z\r\n",
       "M 603 4863 \r\n",
       "L 1178 4863 \r\n",
       "L 1178 4134 \r\n",
       "L 603 4134 \r\n",
       "L 603 4863 \r\n",
       "z\r\n",
       "\" id=\"DejaVuSans-69\" transform=\"scale(0.015625)\"/>\r\n",
       "      <path d=\"M 2906 1791 \r\n",
       "Q 2906 2416 2648 2759 \r\n",
       "Q 2391 3103 1925 3103 \r\n",
       "Q 1463 3103 1205 2759 \r\n",
       "Q 947 2416 947 1791 \r\n",
       "Q 947 1169 1205 825 \r\n",
       "Q 1463 481 1925 481 \r\n",
       "Q 2391 481 2648 825 \r\n",
       "Q 2906 1169 2906 1791 \r\n",
       "z\r\n",
       "M 3481 434 \r\n",
       "Q 3481 -459 3084 -895 \r\n",
       "Q 2688 -1331 1869 -1331 \r\n",
       "Q 1566 -1331 1297 -1286 \r\n",
       "Q 1028 -1241 775 -1147 \r\n",
       "L 775 -588 \r\n",
       "Q 1028 -725 1275 -790 \r\n",
       "Q 1522 -856 1778 -856 \r\n",
       "Q 2344 -856 2625 -561 \r\n",
       "Q 2906 -266 2906 331 \r\n",
       "L 2906 616 \r\n",
       "Q 2728 306 2450 153 \r\n",
       "Q 2172 0 1784 0 \r\n",
       "Q 1141 0 747 490 \r\n",
       "Q 353 981 353 1791 \r\n",
       "Q 353 2603 747 3093 \r\n",
       "Q 1141 3584 1784 3584 \r\n",
       "Q 2172 3584 2450 3431 \r\n",
       "Q 2728 3278 2906 2969 \r\n",
       "L 2906 3500 \r\n",
       "L 3481 3500 \r\n",
       "L 3481 434 \r\n",
       "z\r\n",
       "\" id=\"DejaVuSans-67\" transform=\"scale(0.015625)\"/>\r\n",
       "      <path d=\"M 3513 2113 \r\n",
       "L 3513 0 \r\n",
       "L 2938 0 \r\n",
       "L 2938 2094 \r\n",
       "Q 2938 2591 2744 2837 \r\n",
       "Q 2550 3084 2163 3084 \r\n",
       "Q 1697 3084 1428 2787 \r\n",
       "Q 1159 2491 1159 1978 \r\n",
       "L 1159 0 \r\n",
       "L 581 0 \r\n",
       "L 581 3500 \r\n",
       "L 1159 3500 \r\n",
       "L 1159 2956 \r\n",
       "Q 1366 3272 1645 3428 \r\n",
       "Q 1925 3584 2291 3584 \r\n",
       "Q 2894 3584 3203 3211 \r\n",
       "Q 3513 2838 3513 2113 \r\n",
       "z\r\n",
       "\" id=\"DejaVuSans-6e\" transform=\"scale(0.015625)\"/>\r\n",
       "      <path d=\"M 2194 1759 \r\n",
       "Q 1497 1759 1228 1600 \r\n",
       "Q 959 1441 959 1056 \r\n",
       "Q 959 750 1161 570 \r\n",
       "Q 1363 391 1709 391 \r\n",
       "Q 2188 391 2477 730 \r\n",
       "Q 2766 1069 2766 1631 \r\n",
       "L 2766 1759 \r\n",
       "L 2194 1759 \r\n",
       "z\r\n",
       "M 3341 1997 \r\n",
       "L 3341 0 \r\n",
       "L 2766 0 \r\n",
       "L 2766 531 \r\n",
       "Q 2569 213 2275 61 \r\n",
       "Q 1981 -91 1556 -91 \r\n",
       "Q 1019 -91 701 211 \r\n",
       "Q 384 513 384 1019 \r\n",
       "Q 384 1609 779 1909 \r\n",
       "Q 1175 2209 1959 2209 \r\n",
       "L 2766 2209 \r\n",
       "L 2766 2266 \r\n",
       "Q 2766 2663 2505 2880 \r\n",
       "Q 2244 3097 1772 3097 \r\n",
       "Q 1472 3097 1187 3025 \r\n",
       "Q 903 2953 641 2809 \r\n",
       "L 641 3341 \r\n",
       "Q 956 3463 1253 3523 \r\n",
       "Q 1550 3584 1831 3584 \r\n",
       "Q 2591 3584 2966 3190 \r\n",
       "Q 3341 2797 3341 1997 \r\n",
       "z\r\n",
       "\" id=\"DejaVuSans-61\" transform=\"scale(0.015625)\"/>\r\n",
       "      <path d=\"M 603 4863 \r\n",
       "L 1178 4863 \r\n",
       "L 1178 0 \r\n",
       "L 603 0 \r\n",
       "L 603 4863 \r\n",
       "z\r\n",
       "\" id=\"DejaVuSans-6c\" transform=\"scale(0.015625)\"/>\r\n",
       "      <path id=\"DejaVuSans-20\" transform=\"scale(0.015625)\"/>\r\n",
       "      <path d=\"M 628 4666 \r\n",
       "L 1259 4666 \r\n",
       "L 1259 0 \r\n",
       "L 628 0 \r\n",
       "L 628 4666 \r\n",
       "z\r\n",
       "\" id=\"DejaVuSans-49\" transform=\"scale(0.015625)\"/>\r\n",
       "      <path d=\"M 3328 2828 \r\n",
       "Q 3544 3216 3844 3400 \r\n",
       "Q 4144 3584 4550 3584 \r\n",
       "Q 5097 3584 5394 3201 \r\n",
       "Q 5691 2819 5691 2113 \r\n",
       "L 5691 0 \r\n",
       "L 5113 0 \r\n",
       "L 5113 2094 \r\n",
       "Q 5113 2597 4934 2840 \r\n",
       "Q 4756 3084 4391 3084 \r\n",
       "Q 3944 3084 3684 2787 \r\n",
       "Q 3425 2491 3425 1978 \r\n",
       "L 3425 0 \r\n",
       "L 2847 0 \r\n",
       "L 2847 2094 \r\n",
       "Q 2847 2600 2669 2842 \r\n",
       "Q 2491 3084 2119 3084 \r\n",
       "Q 1678 3084 1418 2786 \r\n",
       "Q 1159 2488 1159 1978 \r\n",
       "L 1159 0 \r\n",
       "L 581 0 \r\n",
       "L 581 3500 \r\n",
       "L 1159 3500 \r\n",
       "L 1159 2956 \r\n",
       "Q 1356 3278 1631 3431 \r\n",
       "Q 1906 3584 2284 3584 \r\n",
       "Q 2666 3584 2933 3390 \r\n",
       "Q 3200 3197 3328 2828 \r\n",
       "z\r\n",
       "\" id=\"DejaVuSans-6d\" transform=\"scale(0.015625)\"/>\r\n",
       "      <path d=\"M 3597 1894 \r\n",
       "L 3597 1613 \r\n",
       "L 953 1613 \r\n",
       "Q 991 1019 1311 708 \r\n",
       "Q 1631 397 2203 397 \r\n",
       "Q 2534 397 2845 478 \r\n",
       "Q 3156 559 3463 722 \r\n",
       "L 3463 178 \r\n",
       "Q 3153 47 2828 -22 \r\n",
       "Q 2503 -91 2169 -91 \r\n",
       "Q 1331 -91 842 396 \r\n",
       "Q 353 884 353 1716 \r\n",
       "Q 353 2575 817 3079 \r\n",
       "Q 1281 3584 2069 3584 \r\n",
       "Q 2775 3584 3186 3129 \r\n",
       "Q 3597 2675 3597 1894 \r\n",
       "z\r\n",
       "M 3022 2063 \r\n",
       "Q 3016 2534 2758 2815 \r\n",
       "Q 2500 3097 2075 3097 \r\n",
       "Q 1594 3097 1305 2825 \r\n",
       "Q 1016 2553 972 2059 \r\n",
       "L 3022 2063 \r\n",
       "z\r\n",
       "\" id=\"DejaVuSans-65\" transform=\"scale(0.015625)\"/>\r\n",
       "     </defs>\r\n",
       "     <use xlink:href=\"#DejaVuSans-4f\"/>\r\n",
       "     <use x=\"78.710938\" xlink:href=\"#DejaVuSans-72\"/>\r\n",
       "     <use x=\"119.824219\" xlink:href=\"#DejaVuSans-69\"/>\r\n",
       "     <use x=\"147.607422\" xlink:href=\"#DejaVuSans-67\"/>\r\n",
       "     <use x=\"211.083984\" xlink:href=\"#DejaVuSans-69\"/>\r\n",
       "     <use x=\"238.867188\" xlink:href=\"#DejaVuSans-6e\"/>\r\n",
       "     <use x=\"302.246094\" xlink:href=\"#DejaVuSans-61\"/>\r\n",
       "     <use x=\"363.525391\" xlink:href=\"#DejaVuSans-6c\"/>\r\n",
       "     <use x=\"391.308594\" xlink:href=\"#DejaVuSans-20\"/>\r\n",
       "     <use x=\"423.095703\" xlink:href=\"#DejaVuSans-49\"/>\r\n",
       "     <use x=\"452.587891\" xlink:href=\"#DejaVuSans-6d\"/>\r\n",
       "     <use x=\"550\" xlink:href=\"#DejaVuSans-61\"/>\r\n",
       "     <use x=\"611.279297\" xlink:href=\"#DejaVuSans-67\"/>\r\n",
       "     <use x=\"674.755859\" xlink:href=\"#DejaVuSans-65\"/>\r\n",
       "    </g>\r\n",
       "   </g>\r\n",
       "  </g>\r\n",
       " </g>\r\n",
       " <defs>\r\n",
       "  <clipPath id=\"p76dc3f3fcc\">\r\n",
       "   <rect height=\"217.44\" width=\"325.905386\" x=\"7.2\" y=\"22.318125\"/>\r\n",
       "  </clipPath>\r\n",
       " </defs>\r\n",
       "</svg>\r\n"
      ],
      "text/plain": [
       "<Figure size 432x288 with 1 Axes>"
      ]
     },
     "metadata": {
      "needs_background": "light"
     },
     "output_type": "display_data"
    }
   ],
   "source": [
    "from sklearn.datasets import load_sample_images\r\n",
    "\r\n",
    "img = load_sample_images()[\"images\"][0]\r\n",
    "plt.imshow(img)\r\n",
    "plt.axis(\"off\")\r\n",
    "plt.title(\"Original Image\")\r\n",
    "plt.show()"
   ]
  },
  {
   "cell_type": "code",
   "execution_count": 53,
   "id": "dc2e46cf",
   "metadata": {},
   "outputs": [],
   "source": [
    "data = tf.io.encode_jpeg(img)\r\n",
    "example_with_image = Example(features=Features(feature={\r\n",
    "    \"image\": Feature(bytes_list=BytesList(value=[data.numpy()]))}))\r\n",
    "serialized_example = example_with_image.SerializeToString()\r\n",
    "# then save to TFRecord"
   ]
  },
  {
   "cell_type": "code",
   "execution_count": 54,
   "id": "d12568bd",
   "metadata": {},
   "outputs": [],
   "source": [
    "feature_description = { \"image\": tf.io.VarLenFeature(tf.string) }\r\n",
    "example_with_image = tf.io.parse_single_example(serialized_example, feature_description)\r\n",
    "decoded_img = tf.io.decode_jpeg(example_with_image[\"image\"].values[0])"
   ]
  },
  {
   "cell_type": "code",
   "execution_count": 55,
   "id": "e11a5905",
   "metadata": {},
   "outputs": [],
   "source": [
    "#tf.io.parse_example()를 사용하여 배치 단위로 파싱하기\r\n",
    "dataset = tf.data.TFRecordDataset([\"my_contacts.tfrecord\"]).batch(10)\r\n",
    "for serialized_examples in dataset:\r\n",
    "    parsed_examples = tf.io.parse_example(serialized_examples,\r\n",
    "                                          feature_description)"
   ]
  },
  {
   "cell_type": "markdown",
   "id": "8ec1dbc5",
   "metadata": {},
   "source": [
    "### ﻿13.2.4 SequenceExample 프로토콜 버퍼를 사용해 리스트의 리스트 다루기"
   ]
  },
  {
   "cell_type": "code",
   "execution_count": 56,
   "id": "c4477b07",
   "metadata": {},
   "outputs": [
    {
     "ename": "SyntaxError",
     "evalue": "invalid syntax (<ipython-input-56-0391f63efdf6>, line 3)",
     "output_type": "error",
     "traceback": [
      "\u001b[1;36m  File \u001b[1;32m\"<ipython-input-56-0391f63efdf6>\"\u001b[1;36m, line \u001b[1;32m3\u001b[0m\n\u001b[1;33m    message FeatureList { repeated Feature feature = 1; };\u001b[0m\n\u001b[1;37m            ^\u001b[0m\n\u001b[1;31mSyntaxError\u001b[0m\u001b[1;31m:\u001b[0m invalid syntax\n"
     ]
    }
   ],
   "source": [
    "syntax = \"proto3\";\r\n",
    "\r\n",
    "message FeatureList { repeated Feature feature = 1; };\r\n",
    "message FeatureLists { map<string, FeatureList> feature_list = 1; };\r\n",
    "message SequenceExample {\r\n",
    "  Features context = 1;\r\n",
    "  FeatureLists feature_lists = 2;\r\n",
    "};"
   ]
  },
  {
   "cell_type": "code",
   "execution_count": 57,
   "id": "0ef6d5d7",
   "metadata": {},
   "outputs": [],
   "source": [
    "from tensorflow.train import FeatureList, FeatureLists, SequenceExample\r\n",
    "\r\n",
    "context = Features(feature={\r\n",
    "    \"author_id\": Feature(int64_list=Int64List(value=[123])),\r\n",
    "    \"title\": Feature(bytes_list=BytesList(value=[b\"A\", b\"desert\", b\"place\", b\".\"])),\r\n",
    "    \"pub_date\": Feature(int64_list=Int64List(value=[1623, 12, 25]))\r\n",
    "})\r\n",
    "\r\n",
    "content = [[\"When\", \"shall\", \"we\", \"three\", \"meet\", \"again\", \"?\"],\r\n",
    "           [\"In\", \"thunder\", \",\", \"lightning\", \",\", \"or\", \"in\", \"rain\", \"?\"]]\r\n",
    "comments = [[\"When\", \"the\", \"hurlyburly\", \"'s\", \"done\", \".\"],\r\n",
    "            [\"When\", \"the\", \"battle\", \"'s\", \"lost\", \"and\", \"won\", \".\"]]\r\n",
    "\r\n",
    "def words_to_feature(words):\r\n",
    "    return Feature(bytes_list=BytesList(value=[word.encode(\"utf-8\")\r\n",
    "                                               for word in words]))\r\n",
    "\r\n",
    "content_features = [words_to_feature(sentence) for sentence in content]\r\n",
    "comments_features = [words_to_feature(comment) for comment in comments]\r\n",
    "            \r\n",
    "sequence_example = SequenceExample(\r\n",
    "    context=context,\r\n",
    "    feature_lists=FeatureLists(feature_list={\r\n",
    "        \"content\": FeatureList(feature=content_features),\r\n",
    "        \"comments\": FeatureList(feature=comments_features)\r\n",
    "    }))"
   ]
  },
  {
   "cell_type": "code",
   "execution_count": 58,
   "id": "b44a8af6",
   "metadata": {},
   "outputs": [],
   "source": [
    "serialized_sequence_example = sequence_example.SerializeToString()"
   ]
  },
  {
   "cell_type": "code",
   "execution_count": 59,
   "id": "c1657096",
   "metadata": {},
   "outputs": [],
   "source": [
    "context_feature_descriptions = {\r\n",
    "    \"author_id\": tf.io.FixedLenFeature([], tf.int64, default_value=0),\r\n",
    "    \"title\": tf.io.VarLenFeature(tf.string),\r\n",
    "    \"pub_date\": tf.io.FixedLenFeature([3], tf.int64, default_value=[0, 0, 0]),\r\n",
    "}\r\n",
    "sequence_feature_descriptions = {\r\n",
    "    \"content\": tf.io.VarLenFeature(tf.string),\r\n",
    "    \"comments\": tf.io.VarLenFeature(tf.string),\r\n",
    "}\r\n",
    "parsed_context, parsed_feature_lists = tf.io.parse_single_sequence_example(\r\n",
    "    serialized_sequence_example, context_feature_descriptions,\r\n",
    "    sequence_feature_descriptions)"
   ]
  },
  {
   "cell_type": "code",
   "execution_count": 60,
   "id": "df2a2fee",
   "metadata": {},
   "outputs": [
    {
     "name": "stdout",
     "output_type": "stream",
     "text": [
      "<tf.RaggedTensor [[b'When', b'shall', b'we', b'three', b'meet', b'again', b'?'], [b'In', b'thunder', b',', b'lightning', b',', b'or', b'in', b'rain', b'?']]>\n"
     ]
    }
   ],
   "source": [
    "print(tf.RaggedTensor.from_sparse(parsed_feature_lists[\"content\"]))"
   ]
  },
  {
   "cell_type": "markdown",
   "id": "cc5da69a",
   "metadata": {},
   "source": [
    "## 13.3 입력 특성 전처리"
   ]
  },
  {
   "cell_type": "markdown",
   "id": "d3c32378",
   "metadata": {},
   "source": [
    "Lambda 층을 사용해 표준화를 수행하는 층"
   ]
  },
  {
   "cell_type": "code",
   "execution_count": 61,
   "id": "1737d971",
   "metadata": {},
   "outputs": [
    {
     "ename": "SyntaxError",
     "evalue": "invalid syntax (<ipython-input-61-df85fa825365>, line 7)",
     "output_type": "error",
     "traceback": [
      "\u001b[1;36m  File \u001b[1;32m\"<ipython-input-61-df85fa825365>\"\u001b[1;36m, line \u001b[1;32m7\u001b[0m\n\u001b[1;33m    ...\u001b[0m\n\u001b[1;37m    ^\u001b[0m\n\u001b[1;31mSyntaxError\u001b[0m\u001b[1;31m:\u001b[0m invalid syntax\n"
     ]
    }
   ],
   "source": [
    "#Lambda 층을 사용해 표준화를 수행하는 층을 구현\r\n",
    "mean = np.maen(X_train, axis = 0, keepdims = True)\r\n",
    "stds = np.std(X_train, axis = 0, keepdims = True)\r\n",
    "eps = keras.backend.epsilon()\r\n",
    "model = keras.models.Sequential([\r\n",
    "    keras.layers.Lambda(lambda inputs: (inputs - means) / (stds + eps))\r\n",
    "    ...\r\n",
    "])"
   ]
  },
  {
   "cell_type": "code",
   "execution_count": 62,
   "id": "d73077b9",
   "metadata": {},
   "outputs": [],
   "source": [
    "#전역변수를 다루기보다 StandardScaler처럼 완전한 사용자 정의 층 정의\r\n",
    "class Standardization(keras.layers.Layer):\r\n",
    "    def adapt(self, data_sample):\r\n",
    "        self.means_ = np.mean(data_sample, aixs=0, keepdims=True)\r\n",
    "        self.stds_ = np.std(data_sample, axis=0, keepdims=True)\r\n",
    "    def call(self, inputs):\r\n",
    "        return (inputs - self.means_) / (self.stds_ + keras.backend.epsilon())"
   ]
  },
  {
   "cell_type": "code",
   "execution_count": 63,
   "id": "6eb9255a",
   "metadata": {},
   "outputs": [
    {
     "ename": "NameError",
     "evalue": "name 'data_sample' is not defined",
     "output_type": "error",
     "traceback": [
      "\u001b[1;31m---------------------------------------------------------------------------\u001b[0m",
      "\u001b[1;31mNameError\u001b[0m                                 Traceback (most recent call last)",
      "\u001b[1;32m<ipython-input-63-0ae8044c3c97>\u001b[0m in \u001b[0;36m<module>\u001b[1;34m\u001b[0m\n\u001b[0;32m      1\u001b[0m \u001b[1;31m#Standardization층을 모델에 추가하기 전에 데이터 샘플과 함께 adapt()메서드를 호출\u001b[0m\u001b[1;33m\u001b[0m\u001b[1;33m\u001b[0m\u001b[1;33m\u001b[0m\u001b[0m\n\u001b[0;32m      2\u001b[0m \u001b[0mstd_layer\u001b[0m \u001b[1;33m=\u001b[0m \u001b[0mStandardization\u001b[0m\u001b[1;33m(\u001b[0m\u001b[1;33m)\u001b[0m\u001b[1;33m\u001b[0m\u001b[1;33m\u001b[0m\u001b[0m\n\u001b[1;32m----> 3\u001b[1;33m \u001b[0mstd_layer\u001b[0m\u001b[1;33m.\u001b[0m\u001b[0madapt\u001b[0m\u001b[1;33m(\u001b[0m\u001b[0mdata_sample\u001b[0m\u001b[1;33m)\u001b[0m\u001b[1;33m\u001b[0m\u001b[1;33m\u001b[0m\u001b[0m\n\u001b[0m",
      "\u001b[1;31mNameError\u001b[0m: name 'data_sample' is not defined"
     ]
    }
   ],
   "source": [
    "#Standardization층을 모델에 추가하기 전에 데이터 샘플과 함께 adapt()메서드를 호출\r\n",
    "std_layer = Standardization()\r\n",
    "std_layer.adapt(data_sample)"
   ]
  },
  {
   "cell_type": "markdown",
   "id": "7816f085",
   "metadata": {},
   "source": [
    "### 13.3.1 원-핫 벡터를 사용해 범주형 특성 인코딩하기"
   ]
  },
  {
   "cell_type": "code",
   "execution_count": 64,
   "id": "4a22795a",
   "metadata": {},
   "outputs": [],
   "source": [
    "vocab = ['<1H OCEAN', 'INLAND', 'ISLAND', 'NEAR BAY', 'NEAR OCEAN']\r\n",
    "indices = tf.range(len(vocab), dtype=tf.int64)\r\n",
    "table_init = tf.lookup.KeyValueTensorInitializer(vocab, indices)\r\n",
    "num_oov_buckets = 2\r\n",
    "table = tf.lookup.StaticVocabularyTable(table_init, num_oov_buckets)"
   ]
  },
  {
   "cell_type": "code",
   "execution_count": 65,
   "id": "877aeaad",
   "metadata": {},
   "outputs": [
    {
     "data": {
      "text/plain": [
       "<tf.Tensor: shape=(4,), dtype=int64, numpy=array([3, 5, 1, 1], dtype=int64)>"
      ]
     },
     "execution_count": 65,
     "metadata": {},
     "output_type": "execute_result"
    }
   ],
   "source": [
    "categories = tf.constant(['NEAR BAY', 'DESERT', 'INLAND', 'INLAND'])\r\n",
    "cat_indices = table.lookup(categories)\r\n",
    "cat_indices"
   ]
  },
  {
   "cell_type": "code",
   "execution_count": 66,
   "id": "422bf099",
   "metadata": {},
   "outputs": [
    {
     "data": {
      "text/plain": [
       "<tf.Tensor: shape=(4, 7), dtype=float32, numpy=\n",
       "array([[0., 0., 0., 1., 0., 0., 0.],\n",
       "       [0., 0., 0., 0., 0., 1., 0.],\n",
       "       [0., 1., 0., 0., 0., 0., 0.],\n",
       "       [0., 1., 0., 0., 0., 0., 0.]], dtype=float32)>"
      ]
     },
     "execution_count": 66,
     "metadata": {},
     "output_type": "execute_result"
    }
   ],
   "source": [
    "cat_one_hot = tf.one_hot(cat_indices, depth =len(vocab) + num_oov_buckets)\r\n",
    "cat_one_hot"
   ]
  },
  {
   "cell_type": "markdown",
   "id": "754e0612",
   "metadata": {},
   "source": [
    "### ﻿13.3.2 임베딩을 사용해 범주형 특성 인코딩하기"
   ]
  },
  {
   "cell_type": "code",
   "execution_count": 67,
   "id": "31e07724",
   "metadata": {},
   "outputs": [
    {
     "data": {
      "text/plain": [
       "<tf.Variable 'Variable:0' shape=(7, 2) dtype=float32, numpy=\n",
       "array([[0.5749372 , 0.19900596],\n",
       "       [0.7038239 , 0.05541027],\n",
       "       [0.5884645 , 0.5430788 ],\n",
       "       [0.9185413 , 0.37144518],\n",
       "       [0.84554374, 0.9902985 ],\n",
       "       [0.27800095, 0.5500362 ],\n",
       "       [0.43682623, 0.68426645]], dtype=float32)>"
      ]
     },
     "execution_count": 67,
     "metadata": {},
     "output_type": "execute_result"
    }
   ],
   "source": [
    "# 임베딩 헹렬(Embedding Matrix)을 만들어 초기화\r\n",
    "embedding_dim = 2\r\n",
    "embed_init = tf.random.uniform([len(vocab) + num_oov_buckets, embedding_dim])\r\n",
    "embedding_matrix = tf.Variable(embed_init)\r\n",
    "embedding_matrix"
   ]
  },
  {
   "cell_type": "code",
   "execution_count": 68,
   "id": "9aa18706",
   "metadata": {},
   "outputs": [
    {
     "data": {
      "text/plain": [
       "<tf.Tensor: shape=(4,), dtype=int64, numpy=array([3, 5, 1, 1], dtype=int64)>"
      ]
     },
     "execution_count": 68,
     "metadata": {},
     "output_type": "execute_result"
    }
   ],
   "source": [
    "#동일한 범주 특성을 인코딩\r\n",
    "categorise = tf.constant([\"NEAR BAY\", \"DESERT\", \"INLAND\", \"INLAND\"])\r\n",
    "cat_indices = table.lookup(categories)\r\n",
    "cat_indices"
   ]
  },
  {
   "cell_type": "code",
   "execution_count": 69,
   "id": "976053aa",
   "metadata": {},
   "outputs": [
    {
     "data": {
      "text/plain": [
       "<tf.Tensor: shape=(4, 2), dtype=float32, numpy=\n",
       "array([[0.9185413 , 0.37144518],\n",
       "       [0.27800095, 0.5500362 ],\n",
       "       [0.7038239 , 0.05541027],\n",
       "       [0.7038239 , 0.05541027]], dtype=float32)>"
      ]
     },
     "execution_count": 69,
     "metadata": {},
     "output_type": "execute_result"
    }
   ],
   "source": [
    "tf.nn.embedding_lookup(embedding_matrix, cat_indices)"
   ]
  },
  {
   "cell_type": "code",
   "execution_count": 70,
   "id": "ecd13067",
   "metadata": {},
   "outputs": [
    {
     "data": {
      "text/plain": [
       "<tf.Tensor: shape=(4, 2), dtype=float32, numpy=\n",
       "array([[ 0.02671492, -0.04445466],\n",
       "       [-0.03736038, -0.04224973],\n",
       "       [-0.00847339, -0.04170716],\n",
       "       [-0.00847339, -0.04170716]], dtype=float32)>"
      ]
     },
     "execution_count": 70,
     "metadata": {},
     "output_type": "execute_result"
    }
   ],
   "source": [
    "embedding = keras.layers.Embedding(input_dim = len(vocab) + num_oov_buckets, \\\r\n",
    "                                   output_dim = embedding_dim)\r\n",
    "embedding(cat_indices)"
   ]
  },
  {
   "cell_type": "code",
   "execution_count": 71,
   "id": "dd9ba482",
   "metadata": {},
   "outputs": [],
   "source": [
    "#모두 연결하면 범주형 특성을 처리하고 각 범주마다 임베딩을 학습하느 케라스 모델\r\n",
    "regular_inputs = keras.layers.Input(shape=[8])\r\n",
    "categories = keras.layers.Input(shape=[], dtype=tf.string)\r\n",
    "cat_indices = keras.layers.Lambda(lambda cats: table.lookup(cats))(categories)\r\n",
    "cat_embed = keras.layers.Embedding(input_dim = 6, output_dim=2)(cat_indices)\r\n",
    "encoded_inputs = keras.layers.concatenate([regular_inputs, cat_embed])\r\n",
    "outputs = keras.layers.Dense(1)(encoded_inputs)\r\n",
    "model = keras.models.Model(inputs=[regular_inputs, categories], outputs=[outputs])"
   ]
  },
  {
   "cell_type": "markdown",
   "id": "28ee5d4f",
   "metadata": {},
   "source": [
    "### 13.3.3 케라스 전처리 층"
   ]
  },
  {
   "cell_type": "code",
   "execution_count": 73,
   "id": "27813e91",
   "metadata": {},
   "outputs": [
    {
     "ename": "AttributeError",
     "evalue": "module 'keras.api._v2.keras.layers' has no attribute 'PreprocessingStage'",
     "output_type": "error",
     "traceback": [
      "\u001b[1;31m---------------------------------------------------------------------------\u001b[0m",
      "\u001b[1;31mAttributeError\u001b[0m                            Traceback (most recent call last)",
      "\u001b[1;32m<ipython-input-73-edb30fbef195>\u001b[0m in \u001b[0;36m<module>\u001b[1;34m\u001b[0m\n\u001b[0;32m      1\u001b[0m \u001b[0mnormalization\u001b[0m \u001b[1;33m=\u001b[0m \u001b[0mkeras\u001b[0m\u001b[1;33m.\u001b[0m\u001b[0mlayers\u001b[0m\u001b[1;33m.\u001b[0m\u001b[0mNormalization\u001b[0m\u001b[1;33m(\u001b[0m\u001b[1;33m)\u001b[0m\u001b[1;33m\u001b[0m\u001b[1;33m\u001b[0m\u001b[0m\n\u001b[0;32m      2\u001b[0m \u001b[0mdiscretization\u001b[0m \u001b[1;33m=\u001b[0m \u001b[0mkeras\u001b[0m\u001b[1;33m.\u001b[0m\u001b[0mlayers\u001b[0m\u001b[1;33m.\u001b[0m\u001b[0mDiscretization\u001b[0m\u001b[1;33m(\u001b[0m\u001b[1;33m)\u001b[0m\u001b[1;33m\u001b[0m\u001b[1;33m\u001b[0m\u001b[0m\n\u001b[1;32m----> 3\u001b[1;33m \u001b[0mpipeline\u001b[0m \u001b[1;33m=\u001b[0m \u001b[0mkeras\u001b[0m\u001b[1;33m.\u001b[0m\u001b[0mlayers\u001b[0m\u001b[1;33m.\u001b[0m\u001b[0mPreprocessingStage\u001b[0m\u001b[1;33m(\u001b[0m\u001b[1;33m[\u001b[0m\u001b[0mnormalization\u001b[0m\u001b[1;33m,\u001b[0m \u001b[0mdiscretization\u001b[0m\u001b[1;33m]\u001b[0m\u001b[1;33m)\u001b[0m\u001b[1;33m\u001b[0m\u001b[1;33m\u001b[0m\u001b[0m\n\u001b[0m\u001b[0;32m      4\u001b[0m \u001b[0mpipeline\u001b[0m\u001b[1;33m.\u001b[0m\u001b[0madapt\u001b[0m\u001b[1;33m(\u001b[0m\u001b[0mdata_sample\u001b[0m\u001b[1;33m)\u001b[0m\u001b[1;33m\u001b[0m\u001b[1;33m\u001b[0m\u001b[0m\n",
      "\u001b[1;31mAttributeError\u001b[0m: module 'keras.api._v2.keras.layers' has no attribute 'PreprocessingStage'"
     ]
    }
   ],
   "source": [
    "normalization = keras.layers.Normalization()\r\n",
    "discretization = keras.layers.Discretization()\r\n",
    "pipeline = keras.layers.PreprocessingStage([normalization, discretization])\r\n",
    "pipeline.adapt(data_sample)"
   ]
  },
  {
   "cell_type": "markdown",
   "id": "76d676c6",
   "metadata": {},
   "source": [
    "## 13.4 TF 변환"
   ]
  },
  {
   "cell_type": "code",
   "execution_count": 74,
   "id": "8663003c",
   "metadata": {},
   "outputs": [
    {
     "name": "stdout",
     "output_type": "stream",
     "text": [
      "TF Transform is not installed. Try running: pip3 install -U tensorflow-transform\n"
     ]
    }
   ],
   "source": [
    "try:\r\n",
    "    import tensorflow_transform as tft\r\n",
    "\r\n",
    "    def preprocess(inputs):  # inputs is a batch of input features\r\n",
    "        median_age = inputs[\"housing_median_age\"]\r\n",
    "        ocean_proximity = inputs[\"ocean_proximity\"]\r\n",
    "        standardized_age = tft.scale_to_z_score(median_age - tft.mean(median_age))\r\n",
    "        ocean_proximity_id = tft.compute_and_apply_vocabulary(ocean_proximity)\r\n",
    "        return {\r\n",
    "            \"standardized_median_age\": standardized_age,\r\n",
    "            \"ocean_proximity_id\": ocean_proximity_id\r\n",
    "        }\r\n",
    "except ImportError:\r\n",
    "    print(\"TF Transform is not installed. Try running: pip3 install -U tensorflow-transform\")"
   ]
  },
  {
   "cell_type": "markdown",
   "id": "8ffa6bec",
   "metadata": {},
   "source": [
    "## 13.5 텐서플로 데이터셋(TFDS) 프로젝트"
   ]
  },
  {
   "cell_type": "code",
   "execution_count": 81,
   "id": "b7b5aa1b",
   "metadata": {},
   "outputs": [],
   "source": [
    "import tensorflow_datasets as tfds\r\n",
    "\r\n",
    "datasets = tfds.load(name=\"mnist\")\r\n",
    "mnist_train, mnist_test = datasets[\"train\"], datasets[\"test\"]"
   ]
  },
  {
   "cell_type": "code",
   "execution_count": 82,
   "id": "d1d989c8",
   "metadata": {},
   "outputs": [
    {
     "name": "stdout",
     "output_type": "stream",
     "text": [
      "['abstract_reasoning', 'accentdb', 'aeslc', 'aflw2k3d', 'ag_news_subset', 'ai2_arc', 'ai2_arc_with_ir', 'amazon_us_reviews', 'anli', 'arc', 'bair_robot_pushing_small', 'bccd', 'beans', 'big_patent', 'bigearthnet', 'billsum', 'binarized_mnist', 'binary_alpha_digits', 'blimp', 'bool_q', 'c4', 'caltech101', 'caltech_birds2010', 'caltech_birds2011', 'cars196', 'cassava', 'cats_vs_dogs', 'celeb_a', 'celeb_a_hq', 'cfq', 'cherry_blossoms', 'chexpert', 'cifar10', 'cifar100', 'cifar10_1', 'cifar10_corrupted', 'citrus_leaves', 'cityscapes', 'civil_comments', 'clevr', 'clic', 'clinc_oos', 'cmaterdb', 'cnn_dailymail', 'coco', 'coco_captions', 'coil100', 'colorectal_histology', 'colorectal_histology_large', 'common_voice', 'coqa', 'cos_e', 'cosmos_qa', 'covid19', 'covid19sum', 'crema_d', 'curated_breast_imaging_ddsm', 'cycle_gan', 'd4rl_adroit_door', 'd4rl_adroit_hammer', 'd4rl_adroit_pen', 'd4rl_adroit_relocate', 'd4rl_mujoco_ant', 'd4rl_mujoco_halfcheetah', 'd4rl_mujoco_hopper', 'd4rl_mujoco_walker2d', 'dart', 'davis', 'deep_weeds', 'definite_pronoun_resolution', 'dementiabank', 'diabetic_retinopathy_detection', 'div2k', 'dmlab', 'doc_nli', 'dolphin_number_word', 'downsampled_imagenet', 'drop', 'dsprites', 'dtd', 'duke_ultrasound', 'e2e_cleaned', 'efron_morris75', 'emnist', 'eraser_multi_rc', 'esnli', 'eurosat', 'fashion_mnist', 'flic', 'flores', 'food101', 'forest_fires', 'fuss', 'gap', 'geirhos_conflict_stimuli', 'gem', 'genomics_ood', 'german_credit_numeric', 'gigaword', 'glue', 'goemotions', 'gpt3', 'gref', 'groove', 'gtzan', 'gtzan_music_speech', 'hellaswag', 'higgs', 'horses_or_humans', 'howell', 'i_naturalist2017', 'imagenet2012', 'imagenet2012_corrupted', 'imagenet2012_multilabel', 'imagenet2012_real', 'imagenet2012_subset', 'imagenet_a', 'imagenet_r', 'imagenet_resized', 'imagenet_v2', 'imagenette', 'imagewang', 'imdb_reviews', 'irc_disentanglement', 'iris', 'kddcup99', 'kitti', 'kmnist', 'lambada', 'lfw', 'librispeech', 'librispeech_lm', 'libritts', 'ljspeech', 'lm1b', 'lost_and_found', 'lsun', 'lvis', 'malaria', 'math_dataset', 'mctaco', 'mlqa', 'mnist', 'mnist_corrupted', 'movie_lens', 'movie_rationales', 'movielens', 'moving_mnist', 'multi_news', 'multi_nli', 'multi_nli_mismatch', 'natural_questions', 'natural_questions_open', 'newsroom', 'nsynth', 'nyu_depth_v2', 'ogbg_molpcba', 'omniglot', 'open_images_challenge2019_detection', 'open_images_v4', 'openbookqa', 'opinion_abstracts', 'opinosis', 'opus', 'oxford_flowers102', 'oxford_iiit_pet', 'para_crawl', 'patch_camelyon', 'paws_wiki', 'paws_x_wiki', 'pet_finder', 'pg19', 'piqa', 'places365_small', 'plant_leaves', 'plant_village', 'plantae_k', 'protein_net', 'qa4mre', 'qasc', 'quac', 'quickdraw_bitmap', 'race', 'radon', 'reddit', 'reddit_disentanglement', 'reddit_tifu', 'ref_coco', 'resisc45', 'rlu_atari', 'rlu_dmlab_explore_object_rewards_few', 'rlu_dmlab_explore_object_rewards_many', 'rlu_dmlab_rooms_select_nonmatching_object', 'rlu_dmlab_rooms_watermaze', 'rlu_dmlab_seekavoid_arena01', 'robonet', 'rock_paper_scissors', 'rock_you', 's3o4d', 'salient_span_wikipedia', 'samsum', 'savee', 'scan', 'scene_parse150', 'schema_guided_dialogue', 'scicite', 'scientific_papers', 'sentiment140', 'shapes3d', 'siscore', 'smallnorb', 'snli', 'so2sat', 'speech_commands', 'spoken_digit', 'squad', 'stanford_dogs', 'stanford_online_products', 'star_cfq', 'starcraft_video', 'stl10', 'story_cloze', 'summscreen', 'sun397', 'super_glue', 'svhn_cropped', 'symmetric_solids', 'tao', 'ted_hrlr_translate', 'ted_multi_translate', 'tedlium', 'tf_flowers', 'the300w_lp', 'tiny_shakespeare', 'titanic', 'trec', 'trivia_qa', 'tydi_qa', 'uc_merced', 'ucf101', 'vctk', 'visual_domain_decathlon', 'voc', 'voxceleb', 'voxforge', 'waymo_open_dataset', 'web_nlg', 'web_questions', 'wider_face', 'wiki40b', 'wiki_bio', 'wiki_table_questions', 'wiki_table_text', 'wikiann', 'wikihow', 'wikipedia', 'wikipedia_toxicity_subtypes', 'wine_quality', 'winogrande', 'wmt13_translate', 'wmt14_translate', 'wmt15_translate', 'wmt16_translate', 'wmt17_translate', 'wmt18_translate', 'wmt19_translate', 'wmt_t2t_translate', 'wmt_translate', 'wordnet', 'wsc273', 'xnli', 'xquad', 'xsum', 'xtreme_pawsx', 'xtreme_xnli', 'yelp_polarity_reviews', 'yes_no', 'youtube_vis']\n"
     ]
    }
   ],
   "source": [
    "print(tfds.list_builders())"
   ]
  },
  {
   "cell_type": "code",
   "execution_count": 83,
   "id": "a4c0abc4",
   "metadata": {},
   "outputs": [
    {
     "data": {
      "image/png": "[encoded data removed]",
      "image/svg+xml": [
       "<?xml version=\"1.0\" encoding=\"utf-8\" standalone=\"no\"?>\r\n",
       "<!DOCTYPE svg PUBLIC \"-//W3C//DTD SVG 1.1//EN\"\r\n",
       "  \"http://www.w3.org/Graphics/SVG/1.1/DTD/svg11.dtd\">\r\n",
       "<svg height=\"87.242263pt\" version=\"1.1\" viewBox=\"0 0 349.2 87.242263\" width=\"349.2pt\" xmlns=\"http://www.w3.org/2000/svg\" xmlns:xlink=\"http://www.w3.org/1999/xlink\">\r\n",
       " <metadata>\r\n",
       "  <rdf:RDF xmlns:cc=\"http://creativecommons.org/ns#\" xmlns:dc=\"http://purl.org/dc/elements/1.1/\" xmlns:rdf=\"http://www.w3.org/1999/02/22-rdf-syntax-ns#\">\r\n",
       "   <cc:Work>\r\n",
       "    <dc:type rdf:resource=\"http://purl.org/dc/dcmitype/StillImage\"/>\r\n",
       "    <dc:date>2021-08-27T16:34:23.403031</dc:date>\r\n",
       "    <dc:format>image/svg+xml</dc:format>\r\n",
       "    <dc:creator>\r\n",
       "     <cc:Agent>\r\n",
       "      <dc:title>Matplotlib v3.4.2, https://matplotlib.org/</dc:title>\r\n",
       "     </cc:Agent>\r\n",
       "    </dc:creator>\r\n",
       "   </cc:Work>\r\n",
       "  </rdf:RDF>\r\n",
       " </metadata>\r\n",
       " <defs>\r\n",
       "  <style type=\"text/css\">*{stroke-linecap:butt;stroke-linejoin:round;}</style>\r\n",
       " </defs>\r\n",
       " <g id=\"figure_1\">\r\n",
       "  <g id=\"patch_1\">\r\n",
       "   <path d=\"M 0 87.242263 \r\n",
       "L 349.2 87.242263 \r\n",
       "L 349.2 0 \r\n",
       "L 0 0 \r\n",
       "z\r\n",
       "\" style=\"fill:none;\"/>\r\n",
       "  </g>\r\n",
       "  <g id=\"axes_1\">\r\n",
       "   <g clip-path=\"url(#pc8b90cfe06)\">\r\n",
       "    <image height=\"58\" id=\"imaged6ffb4389a\" transform=\"scale(1 -1)translate(0 -58)\" width=\"58\" x=\"7.2\" xlink:href=\"data:image/png;base64,\r\n",
       "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\" y=\"-22.042263\"/>\r\n",
       "   </g>\r\n",
       "   <g id=\"text_1\">\r\n",
       "    <!-- 4 -->\r\n",
       "    <g transform=\"translate(32.244569 16.318125)scale(0.12 -0.12)\">\r\n",
       "     <defs>\r\n",
       "      <path d=\"M 2419 4116 \r\n",
       "L 825 1625 \r\n",
       "L 2419 1625 \r\n",
       "L 2419 4116 \r\n",
       "z\r\n",
       "M 2253 4666 \r\n",
       "L 3047 4666 \r\n",
       "L 3047 1625 \r\n",
       "L 3713 1625 \r\n",
       "L 3713 1100 \r\n",
       "L 3047 1100 \r\n",
       "L 3047 0 \r\n",
       "L 2419 0 \r\n",
       "L 2419 1100 \r\n",
       "L 313 1100 \r\n",
       "L 313 1709 \r\n",
       "L 2253 4666 \r\n",
       "z\r\n",
       "\" id=\"DejaVuSans-34\" transform=\"scale(0.015625)\"/>\r\n",
       "     </defs>\r\n",
       "     <use xlink:href=\"#DejaVuSans-34\"/>\r\n",
       "    </g>\r\n",
       "   </g>\r\n",
       "  </g>\r\n",
       "  <g id=\"axes_2\">\r\n",
       "   <g clip-path=\"url(#p0be25242ee)\">\r\n",
       "    <image height=\"58\" id=\"image5b14c8ec45\" transform=\"scale(1 -1)translate(0 -58)\" width=\"58\" x=\"76.468966\" xlink:href=\"data:image/png;base64,\r\n",
       "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\" y=\"-22.042263\"/>\r\n",
       "   </g>\r\n",
       "   <g id=\"text_2\">\r\n",
       "    <!-- 1 -->\r\n",
       "    <g transform=\"translate(101.513534 16.318125)scale(0.12 -0.12)\">\r\n",
       "     <defs>\r\n",
       "      <path d=\"M 794 531 \r\n",
       "L 1825 531 \r\n",
       "L 1825 4091 \r\n",
       "L 703 3866 \r\n",
       "L 703 4441 \r\n",
       "L 1819 4666 \r\n",
       "L 2450 4666 \r\n",
       "L 2450 531 \r\n",
       "L 3481 531 \r\n",
       "L 3481 0 \r\n",
       "L 794 0 \r\n",
       "L 794 531 \r\n",
       "z\r\n",
       "\" id=\"DejaVuSans-31\" transform=\"scale(0.015625)\"/>\r\n",
       "     </defs>\r\n",
       "     <use xlink:href=\"#DejaVuSans-31\"/>\r\n",
       "    </g>\r\n",
       "   </g>\r\n",
       "  </g>\r\n",
       "  <g id=\"axes_3\">\r\n",
       "   <g clip-path=\"url(#p3e4b493a79)\">\r\n",
       "    <image height=\"58\" id=\"image81e4eb5006\" transform=\"scale(1 -1)translate(0 -58)\" width=\"58\" x=\"145.737931\" xlink:href=\"data:image/png;base64,\r\n",
       "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\" y=\"-22.042263\"/>\r\n",
       "   </g>\r\n",
       "   <g id=\"text_3\">\r\n",
       "    <!-- 0 -->\r\n",
       "    <g transform=\"translate(170.7825 16.318125)scale(0.12 -0.12)\">\r\n",
       "     <defs>\r\n",
       "      <path d=\"M 2034 4250 \r\n",
       "Q 1547 4250 1301 3770 \r\n",
       "Q 1056 3291 1056 2328 \r\n",
       "Q 1056 1369 1301 889 \r\n",
       "Q 1547 409 2034 409 \r\n",
       "Q 2525 409 2770 889 \r\n",
       "Q 3016 1369 3016 2328 \r\n",
       "Q 3016 3291 2770 3770 \r\n",
       "Q 2525 4250 2034 4250 \r\n",
       "z\r\n",
       "M 2034 4750 \r\n",
       "Q 2819 4750 3233 4129 \r\n",
       "Q 3647 3509 3647 2328 \r\n",
       "Q 3647 1150 3233 529 \r\n",
       "Q 2819 -91 2034 -91 \r\n",
       "Q 1250 -91 836 529 \r\n",
       "Q 422 1150 422 2328 \r\n",
       "Q 422 3509 836 4129 \r\n",
       "Q 1250 4750 2034 4750 \r\n",
       "z\r\n",
       "\" id=\"DejaVuSans-30\" transform=\"scale(0.015625)\"/>\r\n",
       "     </defs>\r\n",
       "     <use xlink:href=\"#DejaVuSans-30\"/>\r\n",
       "    </g>\r\n",
       "   </g>\r\n",
       "  </g>\r\n",
       "  <g id=\"axes_4\">\r\n",
       "   <g clip-path=\"url(#p72144670d1)\">\r\n",
       "    <image height=\"58\" id=\"image3097eb86f5\" transform=\"scale(1 -1)translate(0 -58)\" width=\"58\" x=\"215.006897\" xlink:href=\"data:image/png;base64,\r\n",
       "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\" y=\"-22.042263\"/>\r\n",
       "   </g>\r\n",
       "   <g id=\"text_4\">\r\n",
       "    <!-- 7 -->\r\n",
       "    <g transform=\"translate(240.051466 16.318125)scale(0.12 -0.12)\">\r\n",
       "     <defs>\r\n",
       "      <path d=\"M 525 4666 \r\n",
       "L 3525 4666 \r\n",
       "L 3525 4397 \r\n",
       "L 1831 0 \r\n",
       "L 1172 0 \r\n",
       "L 2766 4134 \r\n",
       "L 525 4134 \r\n",
       "L 525 4666 \r\n",
       "z\r\n",
       "\" id=\"DejaVuSans-37\" transform=\"scale(0.015625)\"/>\r\n",
       "     </defs>\r\n",
       "     <use xlink:href=\"#DejaVuSans-37\"/>\r\n",
       "    </g>\r\n",
       "   </g>\r\n",
       "  </g>\r\n",
       "  <g id=\"axes_5\">\r\n",
       "   <g clip-path=\"url(#p990e836929)\">\r\n",
       "    <image height=\"58\" id=\"imagef2885ec77c\" transform=\"scale(1 -1)translate(0 -58)\" width=\"58\" x=\"284.275862\" xlink:href=\"data:image/png;base64,\r\n",
       "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\" y=\"-22.042263\"/>\r\n",
       "   </g>\r\n",
       "   <g id=\"text_5\">\r\n",
       "    <!-- 8 -->\r\n",
       "    <g transform=\"translate(309.320431 16.318125)scale(0.12 -0.12)\">\r\n",
       "     <defs>\r\n",
       "      <path d=\"M 2034 2216 \r\n",
       "Q 1584 2216 1326 1975 \r\n",
       "Q 1069 1734 1069 1313 \r\n",
       "Q 1069 891 1326 650 \r\n",
       "Q 1584 409 2034 409 \r\n",
       "Q 2484 409 2743 651 \r\n",
       "Q 3003 894 3003 1313 \r\n",
       "Q 3003 1734 2745 1975 \r\n",
       "Q 2488 2216 2034 2216 \r\n",
       "z\r\n",
       "M 1403 2484 \r\n",
       "Q 997 2584 770 2862 \r\n",
       "Q 544 3141 544 3541 \r\n",
       "Q 544 4100 942 4425 \r\n",
       "Q 1341 4750 2034 4750 \r\n",
       "Q 2731 4750 3128 4425 \r\n",
       "Q 3525 4100 3525 3541 \r\n",
       "Q 3525 3141 3298 2862 \r\n",
       "Q 3072 2584 2669 2484 \r\n",
       "Q 3125 2378 3379 2068 \r\n",
       "Q 3634 1759 3634 1313 \r\n",
       "Q 3634 634 3220 271 \r\n",
       "Q 2806 -91 2034 -91 \r\n",
       "Q 1263 -91 848 271 \r\n",
       "Q 434 634 434 1313 \r\n",
       "Q 434 1759 690 2068 \r\n",
       "Q 947 2378 1403 2484 \r\n",
       "z\r\n",
       "M 1172 3481 \r\n",
       "Q 1172 3119 1398 2916 \r\n",
       "Q 1625 2713 2034 2713 \r\n",
       "Q 2441 2713 2670 2916 \r\n",
       "Q 2900 3119 2900 3481 \r\n",
       "Q 2900 3844 2670 4047 \r\n",
       "Q 2441 4250 2034 4250 \r\n",
       "Q 1625 4250 1398 4047 \r\n",
       "Q 1172 3844 1172 3481 \r\n",
       "z\r\n",
       "\" id=\"DejaVuSans-38\" transform=\"scale(0.015625)\"/>\r\n",
       "     </defs>\r\n",
       "     <use xlink:href=\"#DejaVuSans-38\"/>\r\n",
       "    </g>\r\n",
       "   </g>\r\n",
       "  </g>\r\n",
       " </g>\r\n",
       " <defs>\r\n",
       "  <clipPath id=\"pc8b90cfe06\">\r\n",
       "   <rect height=\"57.724138\" width=\"57.724138\" x=\"7.2\" y=\"22.318125\"/>\r\n",
       "  </clipPath>\r\n",
       "  <clipPath id=\"p0be25242ee\">\r\n",
       "   <rect height=\"57.724138\" width=\"57.724138\" x=\"76.468966\" y=\"22.318125\"/>\r\n",
       "  </clipPath>\r\n",
       "  <clipPath id=\"p3e4b493a79\">\r\n",
       "   <rect height=\"57.724138\" width=\"57.724138\" x=\"145.737931\" y=\"22.318125\"/>\r\n",
       "  </clipPath>\r\n",
       "  <clipPath id=\"p72144670d1\">\r\n",
       "   <rect height=\"57.724138\" width=\"57.724138\" x=\"215.006897\" y=\"22.318125\"/>\r\n",
       "  </clipPath>\r\n",
       "  <clipPath id=\"p990e836929\">\r\n",
       "   <rect height=\"57.724138\" width=\"57.724138\" x=\"284.275862\" y=\"22.318125\"/>\r\n",
       "  </clipPath>\r\n",
       " </defs>\r\n",
       "</svg>\r\n"
      ],
      "text/plain": [
       "<Figure size 432x216 with 5 Axes>"
      ]
     },
     "metadata": {
      "needs_background": "light"
     },
     "output_type": "display_data"
    }
   ],
   "source": [
    "plt.figure(figsize=(6,3))\r\n",
    "mnist_train = mnist_train.repeat(5).batch(32).prefetch(1)\r\n",
    "for item in mnist_train:\r\n",
    "    images = item[\"image\"]\r\n",
    "    labels = item[\"label\"]\r\n",
    "    for index in range(5):\r\n",
    "        plt.subplot(1, 5, index + 1)\r\n",
    "        image = images[index, ..., 0]\r\n",
    "        label = labels[index].numpy()\r\n",
    "        plt.imshow(image, cmap=\"binary\")\r\n",
    "        plt.title(label)\r\n",
    "        plt.axis(\"off\")\r\n",
    "    break # just showing part of the first batch"
   ]
  },
  {
   "cell_type": "code",
   "execution_count": 84,
   "id": "7d80c9a6",
   "metadata": {},
   "outputs": [
    {
     "name": "stdout",
     "output_type": "stream",
     "text": [
      "(32, 28, 28, 1)\n",
      "[4 1 0 7 8 1 2 7 1 6 6 4 7 7 3 3 7 9 9 1 0 6 6 9 9 4 8 9 4 7 3 3]\n"
     ]
    }
   ],
   "source": [
    "datasets = tfds.load(name=\"mnist\")\r\n",
    "mnist_train, mnist_test = datasets[\"train\"], datasets[\"test\"]\r\n",
    "mnist_train = mnist_train.repeat(5).batch(32)\r\n",
    "mnist_train = mnist_train.map(lambda items: (items[\"image\"], items[\"label\"]))\r\n",
    "mnist_train = mnist_train.prefetch(1)\r\n",
    "for images, labels in mnist_train.take(1):\r\n",
    "    print(images.shape)\r\n",
    "    print(labels.numpy())"
   ]
  },
  {
   "cell_type": "code",
   "execution_count": 85,
   "id": "fab31935",
   "metadata": {},
   "outputs": [
    {
     "name": "stdout",
     "output_type": "stream",
     "text": [
      "Epoch 1/5\n",
      "1875/1875 [==============================] - 3s 1ms/step - loss: 32.2904 - accuracy: 0.8425\n",
      "Epoch 2/5\n",
      "1875/1875 [==============================] - 3s 1ms/step - loss: 25.4440 - accuracy: 0.8704\n",
      "Epoch 3/5\n",
      "1875/1875 [==============================] - 3s 2ms/step - loss: 25.0263 - accuracy: 0.8721\n",
      "Epoch 4/5\n",
      "1875/1875 [==============================] - 3s 1ms/step - loss: 24.2081 - accuracy: 0.8763\n",
      "Epoch 5/5\n",
      "1875/1875 [==============================] - 3s 1ms/step - loss: 23.8043 - accuracy: 0.8794\n"
     ]
    },
    {
     "data": {
      "text/plain": [
       "<keras.callbacks.History at 0x220c79d8d30>"
      ]
     },
     "execution_count": 85,
     "metadata": {},
     "output_type": "execute_result"
    }
   ],
   "source": [
    "datasets = tfds.load(name=\"mnist\", batch_size=32, as_supervised=True)\r\n",
    "mnist_train = datasets[\"train\"].repeat().prefetch(1)\r\n",
    "model = keras.models.Sequential([\r\n",
    "    keras.layers.Flatten(input_shape=[28, 28, 1]),\r\n",
    "    keras.layers.Lambda(lambda images: tf.cast(images, tf.float32)),\r\n",
    "    keras.layers.Dense(10, activation=\"softmax\")])\r\n",
    "model.compile(loss=\"sparse_categorical_crossentropy\",\r\n",
    "              optimizer=keras.optimizers.SGD(lr=1e-3),\r\n",
    "              metrics=[\"accuracy\"])\r\n",
    "model.fit(mnist_train, steps_per_epoch=60000 // 32, epochs=5)"
   ]
  },
  {
   "cell_type": "code",
   "execution_count": 86,
   "id": "e0c9f87d",
   "metadata": {},
   "outputs": [
    {
     "name": "stdout",
     "output_type": "stream",
     "text": [
      "Model: \"sequential_2\"\n",
      "_________________________________________________________________\n",
      "Layer (type)                 Output Shape              Param #   \n",
      "=================================================================\n",
      "keras_layer (KerasLayer)     (None, 50)                48190600  \n",
      "_________________________________________________________________\n",
      "dense_4 (Dense)              (None, 16)                816       \n",
      "_________________________________________________________________\n",
      "dense_5 (Dense)              (None, 1)                 17        \n",
      "=================================================================\n",
      "Total params: 48,191,433\n",
      "Trainable params: 833\n",
      "Non-trainable params: 48,190,600\n",
      "_________________________________________________________________\n"
     ]
    }
   ],
   "source": [
    "#텐서플로 허브\r\n",
    "import tensorflow_hub as hub\r\n",
    "\r\n",
    "hub_layer = hub.KerasLayer(\"https://tfhub.dev/google/tf2-preview/nnlm-en-dim50/1\",\r\n",
    "                           output_shape=[50], input_shape=[], dtype=tf.string)\r\n",
    "\r\n",
    "model = keras.Sequential()\r\n",
    "model.add(hub_layer)\r\n",
    "model.add(keras.layers.Dense(16, activation='relu'))\r\n",
    "model.add(keras.layers.Dense(1, activation='sigmoid'))\r\n",
    "\r\n",
    "model.summary()"
   ]
  },
  {
   "cell_type": "code",
   "execution_count": 87,
   "id": "dc1403f8",
   "metadata": {},
   "outputs": [],
   "source": [
    "sentences = tf.constant([\"It was a great movie\", \"The actors were amazing\"])\r\n",
    "embeddings = hub_layer(sentences)"
   ]
  },
  {
   "cell_type": "code",
   "execution_count": 88,
   "id": "b47e4da8",
   "metadata": {},
   "outputs": [
    {
     "data": {
      "text/plain": [
       "<tf.Tensor: shape=(2, 50), dtype=float32, numpy=\n",
       "array([[ 7.45939985e-02,  2.76720114e-02,  9.38646123e-02,\n",
       "         1.25124469e-01,  5.40293928e-04, -1.09435350e-01,\n",
       "         1.34755149e-01, -9.57818255e-02, -1.85177118e-01,\n",
       "        -1.69703495e-02,  1.75612606e-02, -9.06603858e-02,\n",
       "         1.12110220e-01,  1.04646273e-01,  3.87700424e-02,\n",
       "        -7.71859884e-02, -3.12189370e-01,  6.99466765e-02,\n",
       "        -4.88970093e-02, -2.99049795e-01,  1.31183028e-01,\n",
       "        -2.12630898e-01,  6.96169436e-02,  1.63592950e-01,\n",
       "         1.05169769e-02,  7.79720694e-02, -2.55230188e-01,\n",
       "        -1.80790052e-01,  2.93739915e-01,  1.62875261e-02,\n",
       "        -2.80566931e-01,  1.60284728e-01,  9.87277832e-03,\n",
       "         8.44555616e-04,  8.39456245e-02,  3.24002892e-01,\n",
       "         1.53253034e-01, -3.01048346e-02,  8.94618109e-02,\n",
       "        -2.39153411e-02, -1.50188789e-01, -1.81733668e-02,\n",
       "        -1.20483577e-01,  1.32937476e-01, -3.35325629e-01,\n",
       "        -1.46504581e-01, -1.25251599e-02, -1.64428815e-01,\n",
       "        -7.00765476e-02,  3.60923223e-02],\n",
       "       [-1.56998575e-01,  4.24599349e-02, -5.57703003e-02,\n",
       "        -8.08446854e-03,  1.23733155e-01,  3.89427543e-02,\n",
       "        -4.37901802e-02, -1.86987907e-01, -2.29341656e-01,\n",
       "        -1.27766818e-01,  3.83025259e-02, -1.07057482e-01,\n",
       "        -6.11584112e-02,  2.49654502e-01, -1.39712945e-01,\n",
       "        -3.91289443e-02, -1.35873526e-01, -3.58613044e-01,\n",
       "         2.53462754e-02, -1.58370987e-01, -1.38350084e-01,\n",
       "        -3.90771806e-01, -6.63642734e-02, -3.24838236e-02,\n",
       "        -2.20453963e-02, -1.68282315e-01, -7.40613639e-02,\n",
       "        -2.49074101e-02,  2.46460736e-01,  9.87201929e-05,\n",
       "        -1.85390845e-01, -4.92824614e-02,  1.09015472e-01,\n",
       "        -9.54203904e-02, -1.60352528e-01, -2.59811729e-02,\n",
       "         1.13778859e-01, -2.09578887e-01,  2.18261331e-01,\n",
       "        -3.11211571e-02, -6.12562597e-02, -8.66057724e-02,\n",
       "        -1.10762455e-01, -5.73977083e-03, -1.08923554e-01,\n",
       "        -1.72919363e-01,  1.00515485e-01, -5.64153939e-02,\n",
       "        -4.97694984e-02, -1.07776590e-01]], dtype=float32)>"
      ]
     },
     "execution_count": 88,
     "metadata": {},
     "output_type": "execute_result"
    }
   ],
   "source": [
    "embeddings"
   ]
  },
  {
   "cell_type": "code",
   "execution_count": null,
   "id": "034a0884",
   "metadata": {},
   "outputs": [],
   "source": []
  }
 ],
 "metadata": {
  "interpreter": {
   "hash": "16e2b9dec55c5932b8b28e0616e045e95e405f540f63ad26212d5f15854ff0ce"
  },
  "kernelspec": {
   "display_name": "Python 3",
   "language": "python",
   "name": "python3"
  },
  "language_info": {
   "codemirror_mode": {
    "name": "ipython",
    "version": 3
   },
   "file_extension": ".py",
   "mimetype": "text/x-python",
   "name": "python",
   "nbconvert_exporter": "python",
   "pygments_lexer": "ipython3",
   "version": "3.8.11"
  }
 },
 "nbformat": 4,
 "nbformat_minor": 5
}
