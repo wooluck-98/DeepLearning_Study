{
 "cells": [
  {
   "cell_type": "code",
   "execution_count": 5,
   "metadata": {},
   "outputs": [
    {
     "data": {
      "text/plain": [
       "-1"
      ]
     },
     "execution_count": 5,
     "metadata": {},
     "output_type": "execute_result"
    }
   ],
   "source": [
    "import cv2\n",
    "import numpy as np\n",
    "\n",
    "net = cv2.dnn.readNetFromTorch('models/eccv16/starry_night.t7')\n",
    "\n",
    "img = cv2.imread('imgs/01.jpg')\n",
    "h, w, c = img.shape\n",
    "\n",
    "img = cv2.resize(img, dsize=(500, int(h / w * 500)))\n",
    "\n",
    "MEAN_VALUE = [103.939, 116.779, 123.680]\n",
    "blob = cv2.dnn.blobFromImage(img, mean=MEAN_VALUE)\n",
    "\n",
    "net.setInput(blob)\n",
    "output = net.forward()\n",
    "\n",
    "output = output.squeeze().transpose((1, 2, 0))\n",
    "output += MEAN_VALUE\n",
    "\n",
    "output = np.clip(output, 0, 255)\n",
    "output = output.astype('uint8')\n",
    "\n",
    "cv2.imshow('img', output)\n",
    "cv2.waitKey(0)\n"
   ]
  },
  {
   "cell_type": "code",
   "execution_count": 7,
   "metadata": {},
   "outputs": [
    {
     "data": {
      "text/plain": [
       "-1"
      ]
     },
     "execution_count": 7,
     "metadata": {},
     "output_type": "execute_result"
    }
   ],
   "source": [
    "import cv2\n",
    "import numpy as np\n",
    "\n",
    "net = cv2.dnn.readNetFromTorch('models/eccv16/la_muse.t7')\n",
    "\n",
    "img = cv2.imread('imgs/02.jpg')\n",
    "h, w, c = img.shape\n",
    "img = cv2.resize(img, dsize=(500, int(h / w * 500)))\n",
    "img = img[162:513, 185:428]\n",
    "\n",
    "MEAN_VALUE = [103.939, 116.779, 123.680]\n",
    "blob = cv2.dnn.blobFromImage(img, mean=MEAN_VALUE)\n",
    "\n",
    "net.setInput(blob)\n",
    "output = net.forward()\n",
    "\n",
    "output = output.squeeze().transpose((1, 2, 0))\n",
    "\n",
    "output += MEAN_VALUE\n",
    "output = np.clip(output, 0, 255)\n",
    "output = output.astype('uint8')\n",
    "\n",
    "cv2.imshow('img', img)\n",
    "cv2.imshow('result', output)\n",
    "cv2.waitKey(0)"
   ]
  },
  {
   "cell_type": "code",
   "execution_count": 12,
   "metadata": {},
   "outputs": [
    {
     "data": {
      "text/plain": [
       "-1"
      ]
     },
     "execution_count": 12,
     "metadata": {},
     "output_type": "execute_result"
    }
   ],
   "source": [
    "# 반반 적용하기\n",
    "import cv2\n",
    "import numpy as np\n",
    "\n",
    "net = cv2.dnn.readNetFromTorch('models/instance_norm/mosaic.t7')\n",
    "net2 = cv2.dnn.readNetFromTorch('models/instance_norm/the_scream.t7')\n",
    "\n",
    "img = cv2.imread('imgs/03.jpg')\n",
    "\n",
    "# 전처리\n",
    "h, w, c = img.shape\n",
    "img = cv2.resize(img, dsize=(500, int(h / w * 500)))\n",
    "MEAN_VALUE = [103.939, 116.779, 123.680]\n",
    "blob = cv2.dnn.blobFromImage(img, mean=MEAN_VALUE)\n",
    "\n",
    "# 첫번째 모델 적용\n",
    "net.setInput(blob)\n",
    "output = net.forward()\n",
    "\n",
    "output = output.squeeze().transpose((1, 2, 0))\n",
    "\n",
    "output += MEAN_VALUE\n",
    "output = np.clip(output, 0, 255)\n",
    "output = output.astype('uint8')\n",
    "\n",
    "# 두번째 모델 적용\n",
    "net2.setInput(blob)\n",
    "output2 = net2.forward()\n",
    "\n",
    "output2 = output2.squeeze().transpose((1, 2, 0))\n",
    "output2 = output2 + MEAN_VALUE\n",
    "\n",
    "output2 = np.clip(output2, 0, 255)\n",
    "output2 = output2.astype('uint8')\n",
    "\n",
    "# 두개의 결과 잘리 이어 붙이기\n",
    "output3 = np.concatenate([output[:, :250], output2[:, 250:]], axis=1)\n",
    "\n",
    "cv2.imshow('output3', output3)\n",
    "cv2.imshow('img', img)\n",
    "cv2.waitKey(0)"
   ]
  }
 ],
 "metadata": {
  "kernelspec": {
   "display_name": "Python 3",
   "language": "python",
   "name": "python3"
  },
  "language_info": {
   "codemirror_mode": {
    "name": "ipython",
    "version": 3
   },
   "file_extension": ".py",
   "mimetype": "text/x-python",
   "name": "python",
   "nbconvert_exporter": "python",
   "pygments_lexer": "ipython3",
   "version": "3.8.5"
  }
 },
 "nbformat": 4,
 "nbformat_minor": 4
}
