{
 "cells": [
  {
   "cell_type": "code",
   "execution_count": 1,
   "metadata": {},
   "outputs": [
    {
     "name": "stdout",
     "output_type": "stream",
     "text": [
      "4.5.2\n"
     ]
    }
   ],
   "source": [
    "import cv2\n",
    "print(cv2.__version__)"
   ]
  },
  {
   "cell_type": "code",
   "execution_count": 5,
   "metadata": {},
   "outputs": [
    {
     "name": "stdout",
     "output_type": "stream",
     "text": [
      "2.5.0\n"
     ]
    }
   ],
   "source": [
    "import tensorflow\n",
    "print(tensorflow.__version__)"
   ]
  },
  {
   "cell_type": "code",
   "execution_count": 6,
   "metadata": {},
   "outputs": [
    {
     "name": "stdout",
     "output_type": "stream",
     "text": [
      "[[[ 40  54  77]\n",
      "  [ 36  50  73]\n",
      "  [ 38  52  75]\n",
      "  ...\n",
      "  [ 60  73  99]\n",
      "  [ 73  86 112]\n",
      "  [ 64  77 103]]\n",
      "\n",
      " [[ 31  45  68]\n",
      "  [ 37  51  74]\n",
      "  [ 49  63  86]\n",
      "  ...\n",
      "  [ 72  85 111]\n",
      "  [ 72  85 111]\n",
      "  [ 66  79 105]]\n",
      "\n",
      " [[ 37  51  74]\n",
      "  [ 43  57  80]\n",
      "  [ 51  65  88]\n",
      "  ...\n",
      "  [ 57  69  93]\n",
      "  [ 52  64  88]\n",
      "  [ 56  68  92]]\n",
      "\n",
      " ...\n",
      "\n",
      " [[  7  19  43]\n",
      "  [  8  20  44]\n",
      "  [  9  21  45]\n",
      "  ...\n",
      "  [ 17  36  63]\n",
      "  [ 16  36  61]\n",
      "  [ 18  38  63]]\n",
      "\n",
      " [[  8  20  44]\n",
      "  [  8  20  44]\n",
      "  [  9  21  45]\n",
      "  ...\n",
      "  [ 22  41  68]\n",
      "  [ 22  42  67]\n",
      "  [ 23  43  68]]\n",
      "\n",
      " [[  8  20  44]\n",
      "  [  8  20  44]\n",
      "  [  8  20  44]\n",
      "  ...\n",
      "  [ 23  42  69]\n",
      "  [ 23  43  68]\n",
      "  [ 23  43  68]]]\n"
     ]
    }
   ],
   "source": [
    "img = cv2.imread('01.jpg')\n",
    "print(img)"
   ]
  },
  {
   "cell_type": "markdown",
   "metadata": {},
   "source": [
    "![nn](lecture_1.PNG)"
   ]
  },
  {
   "cell_type": "code",
   "execution_count": 7,
   "metadata": {},
   "outputs": [
    {
     "name": "stdout",
     "output_type": "stream",
     "text": [
      "(404, 640, 3)\n"
     ]
    }
   ],
   "source": [
    "print(img.shape)"
   ]
  },
  {
   "cell_type": "code",
   "execution_count": 10,
   "metadata": {},
   "outputs": [
    {
     "data": {
      "text/plain": [
       "-1"
      ]
     },
     "execution_count": 10,
     "metadata": {},
     "output_type": "execute_result"
    }
   ],
   "source": [
    "# 이미지 창 띄우기\n",
    "img = cv2.imread('01.jpg')\n",
    "cv2.imshow('result', img)\n",
    "cv2.waitKey(0)"
   ]
  },
  {
   "cell_type": "code",
   "execution_count": 13,
   "metadata": {},
   "outputs": [
    {
     "data": {
      "text/plain": [
       "-1"
      ]
     },
     "execution_count": 13,
     "metadata": {},
     "output_type": "execute_result"
    }
   ],
   "source": [
    "# 이미지에 사각형 그리기\n",
    "img = cv2.imread('01.jpg')\n",
    "cv2.rectangle(img, pt1=(259, 89), pt2=(380, 348), color=(255, 0, 0))\n",
    "cv2.imshow('result', img)\n",
    "cv2.waitKey(0)"
   ]
  },
  {
   "cell_type": "code",
   "execution_count": 14,
   "metadata": {},
   "outputs": [
    {
     "data": {
      "text/plain": [
       "-1"
      ]
     },
     "execution_count": 14,
     "metadata": {},
     "output_type": "execute_result"
    }
   ],
   "source": [
    "# 이미지에 원 그리기\n",
    "img = cv2.imread('01.jpg')\n",
    "cv2.circle(img, center=(320, 220), radius=100, color=(0, 0, 255))\n",
    "cv2.imshow('result', img)\n",
    "cv2.waitKey(0)"
   ]
  },
  {
   "cell_type": "code",
   "execution_count": 16,
   "metadata": {},
   "outputs": [
    {
     "data": {
      "text/plain": [
       "-1"
      ]
     },
     "execution_count": 16,
     "metadata": {},
     "output_type": "execute_result"
    }
   ],
   "source": [
    "# 이미지 자르기\n",
    "img = cv2.imread('01.jpg')\n",
    "cropped_img = img[89:348, 259:380]\n",
    "cv2.imshow('cropped', cropped_img)\n",
    "cv2.waitKey(0)"
   ]
  },
  {
   "cell_type": "code",
   "execution_count": 17,
   "metadata": {},
   "outputs": [
    {
     "data": {
      "text/plain": [
       "-1"
      ]
     },
     "execution_count": 17,
     "metadata": {},
     "output_type": "execute_result"
    }
   ],
   "source": [
    "# 이미지 크기 변경\n",
    "img = cv2.imread('01.jpg')\n",
    "img_resized = cv2.resize(img, (512, 256))\n",
    "cv2.imshow('resized', img_resized)\n",
    "cv2.waitKey(0)"
   ]
  },
  {
   "cell_type": "code",
   "execution_count": 18,
   "metadata": {},
   "outputs": [
    {
     "data": {
      "text/plain": [
       "-1"
      ]
     },
     "execution_count": 18,
     "metadata": {},
     "output_type": "execute_result"
    }
   ],
   "source": [
    "# 이미지 컬러 시스템 변경\n",
    "img = cv2.imread('01.jpg')\n",
    "img_rgb = cv2.cvtColor(img, cv2.COLOR_BGR2RGB)\n",
    "cv2.imshow('result', img_rgb)\n",
    "cv2.waitKey(0)"
   ]
  },
  {
   "cell_type": "code",
   "execution_count": 20,
   "metadata": {},
   "outputs": [
    {
     "data": {
      "text/plain": [
       "-1"
      ]
     },
     "execution_count": 20,
     "metadata": {},
     "output_type": "execute_result"
    }
   ],
   "source": [
    "# 이미지 컬러 시스템 변경\n",
    "img = cv2.imread('01.jpg')\n",
    "img_rgb = cv2.cvtColor(img, cv2.COLOR_BGR2GRAY)\n",
    "cv2.imshow('result', img_rgb)\n",
    "cv2.waitKey(0)"
   ]
  },
  {
   "cell_type": "code",
   "execution_count": 24,
   "metadata": {},
   "outputs": [
    {
     "data": {
      "text/plain": [
       "-1"
      ]
     },
     "execution_count": 24,
     "metadata": {},
     "output_type": "execute_result"
    }
   ],
   "source": [
    "# 이미지 오버레이 후 합성하기\n",
    "import cv2\n",
    "\n",
    "img = cv2.imread('01.jpg')\n",
    "overlay_img = cv2.imread('dices.png', cv2.IMREAD_UNCHANGED)\n",
    "\n",
    "overlay_img = cv2.resize(overlay_img, dsize=(150, 150))\n",
    "\n",
    "overlay_alpha = overlay_img[:, :, 3:] / 255.0\n",
    "background_alpha = 1.0 - overlay_alpha\n",
    "\n",
    "\n",
    "x1 = 100\n",
    "y1 = 100\n",
    "x2 = x1 + 150\n",
    "y2 = y1 + 150\n",
    "\n",
    "img[y1:y2, x1:x2] = overlay_alpha * overlay_img[:, :, :3] + background_alpha * img[y1:y2, x1:x2]\n",
    "\n",
    "cv2.imshow('img', img)\n",
    "cv2.waitKey(0)"
   ]
  },
  {
   "cell_type": "code",
   "execution_count": 3,
   "metadata": {},
   "outputs": [],
   "source": [
    "# 동영상 처리\n",
    "import cv2\n",
    "\n",
    "cap = cv2.VideoCapture('04.mp4')\n",
    "while True:\n",
    "    ret, img = cap.read()\n",
    "    if ret == False:\n",
    "        break\n",
    "    cv2.imshow('result', img)\n",
    "    \n",
    "    if cv2.waitKey(1) == ord('q'):\n",
    "        break"
   ]
  },
  {
   "cell_type": "code",
   "execution_count": null,
   "metadata": {},
   "outputs": [],
   "source": [
    "# 동영상 가지고 놀기\n",
    "# 영상에 도형 출력\n",
    "cv2.rectangle(img, pt1=(721, 183), pt2=(878, 465), color=(255, 0, 0), thickness=2)\n",
    "#영상 그레이스케일로 만들기\n",
    "img_gray = cv2.cvtColor(img, cv2.COLOR_BGR2GRAY)\n",
    "# 영상 크기 변환하기\n",
    "img = cv2.resize(img, dsize=(640, 360))\n",
    "# 영상 자르기\n",
    "img = cv2.resize(img, dsize=(640, 360))"
   ]
  },
  {
   "cell_type": "code",
   "execution_count": 1,
   "metadata": {},
   "outputs": [],
   "source": [
    "# 캠 영상을 화면에 띄우기\n",
    "import cv2\n",
    "\n",
    "cap = cv2.VideoCapture(0)\n",
    "while True:\n",
    "    ret, img = cap.read()\n",
    "    if ret == False:\n",
    "        break\n",
    "    cv2.imshow('result', img)\n",
    "    \n",
    "    if cv2.waitKey(1) == ord('q'):\n",
    "        break"
   ]
  },
  {
   "cell_type": "code",
   "execution_count": null,
   "metadata": {},
   "outputs": [],
   "source": []
  }
 ],
 "metadata": {
  "kernelspec": {
   "display_name": "Python 3",
   "language": "python",
   "name": "python3"
  },
  "language_info": {
   "codemirror_mode": {
    "name": "ipython",
    "version": 3
   },
   "file_extension": ".py",
   "mimetype": "text/x-python",
   "name": "python",
   "nbconvert_exporter": "python",
   "pygments_lexer": "ipython3",
   "version": "3.8.5"
  }
 },
 "nbformat": 4,
 "nbformat_minor": 4
}
